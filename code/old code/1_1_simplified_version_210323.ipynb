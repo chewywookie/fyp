{
 "cells": [
  {
   "cell_type": "code",
   "execution_count": 1,
   "id": "c913ceaa",
   "metadata": {},
   "outputs": [],
   "source": [
    "import numpy as np\n",
    "import matplotlib.pyplot as plt\n",
    "from IPython.display import display\n",
    "import sympy as sp \n",
    "from sympy import *\n",
    "import random\n",
    "from scipy.linalg import expm\n",
    "from sympy.physics.quantum import TensorProduct\n",
    "import numpy as np \n",
    "from mpl_toolkits import mplot3d\n",
    "import matplotlib.pyplot as plt\n",
    "sp.init_printing()"
   ]
  },
  {
   "cell_type": "code",
   "execution_count": 2,
   "id": "2af6cc0e",
   "metadata": {},
   "outputs": [],
   "source": [
    "#nomenculture like E01 ground energy of qubit 1 \n",
    "E11,E01,P1, E_11, E_01, J11 = sp.symbols(\"E_{11} E_{01} P_{1} E_{11c} E_{01c} J_{11}\")\n",
    "I2 = sp.eye(2)\n",
    "a_dag = sp.Matrix([[0,0],\n",
    "                   [1,0]])\n",
    "sigmap = sp.Matrix([[0,0],[1,0]])\n",
    "sigmam=sigmap.T\n",
    "#state of our reservior system \n",
    "qr1 = sp.Matrix([[E01,P1.conjugate()],\n",
    "                 [P1,E11]])\n",
    "#hamil of res, if more tensor of all\n",
    "qrh = qr1\n",
    "c1 = sp.Matrix([[E_01,0],[0,E_11]])\n",
    "#hamilt of comp sys\n",
    "ch = c1\n",
    "#hamil of total system is thus\n",
    "Hh = TensorProduct(ch,I2) + TensorProduct(I2,qrh)\n",
    "#can edit values here if need be\n",
    "E01,E_11c, E_01c = (0,0,0)\n",
    "\n",
    "ch = ch.subs({\"E_{11c}\":E_11c, \"E_{01c}\":E_01c})\n",
    "qrh = qrh.subs({\"E_{11}\":E11,\"E_{01}\":E01,\"P_{1}\":P1})\n",
    "#just rewritting hamil with zero potential+gnd state\n",
    "H = TensorProduct(ch,I2) + TensorProduct(I2,qrh)\n",
    "#now to introduce coupling \n",
    "def MTP(A,B):\n",
    "    return TensorProduct(A,B)\n",
    "H = H + J11.conjugate()*(MTP(sigmap,a_dag.T)) + J11 * (MTP(sigmam, a_dag))\n"
   ]
  },
  {
   "cell_type": "code",
   "execution_count": 3,
   "id": "2a6b3a04",
   "metadata": {},
   "outputs": [],
   "source": [
    "#basis vector representation & defining initial computational and reservoir qubits\n",
    "#assuming QN in vacuum state\n",
    "\n",
    "gnd_state = np.array([[1],[0]]) #the |0> state\n",
    "\n",
    "phi_initial_g = np.array([[1],[0]]) #the |0> state for computational qubit\n",
    "vac = np.array([[1],[0]]) #the |0> state for reservoir qubit\n",
    "phi_initial_e = np.array([[0],[1]]) #the |1> state for computational qubit\n",
    "\n",
    "exc_state = np.array([[0],[1]]) #the |1> state"
   ]
  },
  {
   "cell_type": "code",
   "execution_count": 5,
   "id": "a3831a0f",
   "metadata": {},
   "outputs": [
    {
     "data": {
      "text/latex": [
       "$\\displaystyle \\left[\\begin{matrix}0 & \\overline{P_{1}} & 0 & 0\\\\P_{1} & E_{11} & J_{11} & 0\\\\0 & \\overline{J_{11}} & 0 & \\overline{P_{1}}\\\\0 & 0 & P_{1} & E_{11}\\end{matrix}\\right]$"
      ],
      "text/plain": [
       "⎡       _____                 ⎤\n",
       "⎢  0    P_{1}     0       0   ⎥\n",
       "⎢                             ⎥\n",
       "⎢P_{1}  E_{11}  J_{11}    0   ⎥\n",
       "⎢                             ⎥\n",
       "⎢       ______          _____ ⎥\n",
       "⎢  0    J_{11}    0     P_{1} ⎥\n",
       "⎢                             ⎥\n",
       "⎣  0      0     P_{1}   E_{11}⎦"
      ]
     },
     "execution_count": 5,
     "metadata": {},
     "output_type": "execute_result"
    }
   ],
   "source": [
    "H"
   ]
  },
  {
   "cell_type": "markdown",
   "id": "f99ce9c7",
   "metadata": {},
   "source": [
    "# CASE 1: KEEPING z1,z2 CONSTANT AND CHANGING P,J VALUES"
   ]
  },
  {
   "cell_type": "code",
   "execution_count": 18,
   "id": "7563eb61",
   "metadata": {
    "scrolled": true
   },
   "outputs": [
    {
     "data": {
      "image/png": "[encoded data removed]",
      "text/plain": [
       "<Figure size 432x288 with 2 Axes>"
      ]
     },
     "metadata": {
      "needs_background": "light"
     },
     "output_type": "display_data"
    },
    {
     "name": "stdout",
     "output_type": "stream",
     "text": [
      "\n",
      "P =  [  0.  25.  50.  75. 100.] \n",
      "J = [0.   1.25 2.5  3.75 5.  ] \n",
      "E =  3 \n",
      "(z1,z2) =\n",
      "((-0.29114518893406527+0.9854204297212057j),(0.6951042709223331+0.32465118388232306j))\n"
     ]
    }
   ],
   "source": [
    "########################### DEFINING H AND U OPERATOR ################################\n",
    "\n",
    "Hcopy = H\n",
    "E0 = 1\n",
    "div = 5\n",
    "P_array = np.linspace(0,100,div) / E0\n",
    "J_array = np.linspace(0,5,div) / E0\n",
    "E = 3#3*np.pi/2\n",
    "\n",
    "hbar = 1\n",
    "t = 3*E0/hbar\n",
    "\n",
    "Ham={}\n",
    "k=0\n",
    "for i in range(len(P_array)):\n",
    "    for j in range(len(J_array)):\n",
    "        Ham[k] = np.array(Hcopy.subs({\"E_{11}\":E,\"P_{1}\":P_array[i],\n",
    "                    \"J_{11}\":J_array[j]})).astype('complex128') * 1/E0\n",
    "        k+=1\n",
    "# for each P value; J value iterated through and stored\n",
    "# so Ham[0] is when is P[0] and J[0] but Ham[3] is when\n",
    "# P[0] and J[3]\n",
    "\n",
    "U = {}\n",
    "for i in range(len(Ham)):\n",
    "    U[i] = expm(-1j* Ham[i] * t)\n",
    "# U[0] is when Ham[0] and that is when P[0] and J[0]\n",
    "# U[5] is Ham[5] which is P[1] and J[0]\n",
    "\n",
    "################################ INITIAL STATE ######################################\n",
    "\n",
    "# z = x+iy\n",
    "# x and y bewteen -1 and 1 exclusive\n",
    "x1 = np.random.rand(1)*np.power(-1,np.random.randint(1,3))\n",
    "y1 = np.random.rand(1)*np.power(-1,np.random.randint(1,3))\n",
    "z1 = complex(x1,y1)\n",
    "i = 1\n",
    "test0 = 0*j\n",
    "while i > 0:\n",
    "    x2 = np.random.rand(1)*np.power(-1,np.random.randint(1,3))\n",
    "    y2 = np.random.rand(1)*np.power(-1,np.random.randint(1,3))\n",
    "    z2 = complex(x2,y2)\n",
    "    if z2 == test0:\n",
    "        if z2==z1:\n",
    "            continue\n",
    "    else: \n",
    "        break\n",
    "\n",
    "phi_initial = z1*phi_initial_g + z2*phi_initial_e\n",
    "\n",
    "######### sample 2000 sets of phi's ####################\n",
    "\n",
    "#\n",
    "# n = 2000\n",
    "# phi_initial={}\n",
    "# for i in range(n):\n",
    "#     x1 = np.random.rand(1)*np.power(-1,np.random.randint(1,3))\n",
    "#     y1 = np.random.rand(1)*np.power(-1,np.random.randint(1,3))\n",
    "#     z1 = complex(x1,y1)\n",
    "#     k = 1\n",
    "#     test0 = 0*j\n",
    "#     while k > 0:\n",
    "#         x2 = np.random.rand(1)*np.power(-1,np.random.randint(1,3))\n",
    "#         y2 = np.random.rand(1)*np.power(-1,np.random.randint(1,3))\n",
    "#         z2 = complex(x2,y2)\n",
    "#         if z2 == test0:\n",
    "#             if z2==z1:\n",
    "#                 continue\n",
    "#         else: \n",
    "#             break\n",
    "\n",
    "#     phi_initial[i] = z1*phi_initial_g + z2*phi_initial_e\n",
    "# psi_initial = {}\n",
    "# for i in range(n):\n",
    "#     psi_initial[i] = 1/np.sqrt(np.abs(z1)**2+np.abs(z2)**2) * (\n",
    "#                 MTP(phi_initial[i],vac) )\n",
    "\n",
    "#################################################\n",
    "\n",
    "#the |phi_initial> (x)  |vac>_QN state = 1/N |psi_initial>\n",
    "psi_initial = 1/np.sqrt(np.abs(z1)**2+np.abs(z2)**2) *(\n",
    "                MTP(phi_initial, vac) )\n",
    "\n",
    "################################ FINAL STATE ######################################\n",
    "\n",
    "# |psi_out> = U|psi_initial>\n",
    "psi_out = {}\n",
    "for i in range(len(U)):\n",
    "    psi_out[i] = U[i]@psi_initial \n",
    "\n",
    "################################ PHO MATRIX ######################################\n",
    "\n",
    "# pho = |psi><psi|\n",
    "pho = {} \n",
    "for i in range(len(psi_out)):\n",
    "    pho[i] = MTP(psi_out[i],psi_out[i].conjugate().T)\n",
    "\n",
    "############################# REDUCED PHO MATRIX ######################################\n",
    "\n",
    "pho_c = {}\n",
    "Id = np.eye(2) \n",
    "for i in range(len(pho)):\n",
    "    pho_c[i] = MTP(Id, gnd_state.T)@pho[i]@MTP(Id, gnd_state) + ( \n",
    "    MTP(Id, exc_state.T)@pho[i]@MTP(Id, exc_state) )\n",
    "    \n",
    "################################ IDEAL STATES ######################################\n",
    "\n",
    "X_gate = np.array([[0,1],[1,0]])\n",
    "phi_ideal = X_gate @ phi_initial\n",
    "\n",
    "################################# FIDELITY ######################################\n",
    "F = np.zeros(len(pho_c))\n",
    "F_norm = np.zeros(len(pho_c))\n",
    "Ftemp={}\n",
    "k=0\n",
    "for i in range(len(pho_c)):\n",
    "    Ftemp[i] = (phi_ideal.conjugate().T @ pho_c[i] @ phi_ideal).real\n",
    "    F[i] = Ftemp[i][0][0]\n",
    "norm = np.linalg.norm(F)\n",
    "F_norm = F/norm\n",
    "\n",
    "F_array = np.zeros((len(P_array),len(J_array)))\n",
    "k=0\n",
    "for i in range(len(P_array)):\n",
    "    for j in range(len(J_array)):\n",
    "        F_array[i][j] = F_norm[k]\n",
    "        k+=1\n",
    "def forceAspect(ax,aspect=1):\n",
    "    im = ax.get_images()\n",
    "    extent =  im[0].get_extent()\n",
    "    ax.set_aspect(abs((extent[1]-extent[0])/(extent[3]-extent[2]))/aspect)\n",
    "fig, ax = plt.subplots()\n",
    "X,Y = np.meshgrid(P_array,J_array)\n",
    "#ax.set_aspect('auto')\n",
    "#norm_F_array = (F_array - np.min(F_array)) / (np.max(F_array) - np.min(F_array))\n",
    "pos=ax.imshow(F_array, cmap='viridis', interpolation='bicubic', extent=[P_array[0],P_array[-1],J_array[-1],J_array[0]], vmin=0,vmax=1)\n",
    "ax.invert_yaxis()\n",
    "forceAspect(ax,aspect=1)\n",
    "ax.set_title('OMG I GOT SOMETHING LOOK AT ME GO WOOHOOO')\n",
    "ax.set_xlabel('P * 1/E0 - Excitation Values')\n",
    "ax.set_ylabel(\"J * 1/E0 - Coupling Strength\")\n",
    "cbar = plt.colorbar(pos)\n",
    "cbar.set_label(r'F')\n",
    "plt.show()\n",
    "print('\\nP = ', P_array, '\\nJ =',J_array,'\\nE = ',E, f'\\n(z1,z2) =\\n({z1},{z2})')"
   ]
  },
  {
   "cell_type": "code",
   "execution_count": 19,
   "id": "e8ed33ec",
   "metadata": {},
   "outputs": [],
   "source": [
    "def f(pmin=0,pmax=100,jmin=0,jmax=5,div=5,E0=1,E=3):\n",
    "    ##################################################################\n",
    "    #nomenculture like E01 ground energy of qubit 1 \n",
    "    E11,E01,P1, E_11, E_01, J11 = sp.symbols(\"E_{11} E_{01} P_{1} E_{11c} E_{01c} J_{11}\")\n",
    "    I2 = sp.eye(2)\n",
    "    a_dag = sp.Matrix([[0,0],\n",
    "                       [1,0]])\n",
    "    sigmap = sp.Matrix([[0,0],[1,0]])\n",
    "    sigmam=sigmap.T\n",
    "    #state of our reservior system \n",
    "    qr1 = sp.Matrix([[E01,P1.conjugate()],\n",
    "                     [P1,E11]])\n",
    "    #hamil of res, if more tensor of all\n",
    "    qrh = qr1\n",
    "    c1 = sp.Matrix([[E_01,0],[0,E_11]])\n",
    "    #hamilt of comp sys\n",
    "    ch = c1\n",
    "    #hamil of total system is thus\n",
    "    Hh = TensorProduct(ch,I2) + TensorProduct(I2,qrh)\n",
    "    #can edit values here if need be\n",
    "    E01,E_11c, E_01c = (0,0,0)\n",
    "\n",
    "    ch = ch.subs({\"E_{11c}\":E_11c, \"E_{01c}\":E_01c})\n",
    "    qrh = qrh.subs({\"E_{11}\":E11,\"E_{01}\":E01,\"P_{1}\":P1})\n",
    "    #just rewritting hamil with zero potential+gnd state\n",
    "    H = TensorProduct(ch,I2) + TensorProduct(I2,qrh)\n",
    "    #now to introduce coupling \n",
    "    def MTP(A,B):\n",
    "        return TensorProduct(A,B)\n",
    "    H = H + J11.conjugate()*(MTP(sigmap,a_dag.T)) + J11 * (MTP(sigmam, a_dag))\n",
    "\n",
    "    #basis vector representation & defining initial computational and reservoir qubits\n",
    "    #assuming QN in vacuum state\n",
    "\n",
    "    gnd_state = np.array([[1],[0]]) #the |0> state\n",
    "\n",
    "    phi_initial_g = np.array([[1],[0]]) #the |0> state for computational qubit\n",
    "    vac = np.array([[1],[0]]) #the |0> state for reservoir qubit\n",
    "    phi_initial_e = np.array([[0],[1]]) #the |1> state for computational qubit\n",
    "\n",
    "    exc_state = np.array([[0],[1]]) #the |1> state\n",
    "    ##################################################################\n",
    "    \n",
    "    Hcopy = H\n",
    "    #E0 = 1\n",
    "    #div = 5\n",
    "    P_array = np.linspace(pmin,pmax,div) / E0\n",
    "    J_array = np.linspace(jmin,jmax,div) / E0\n",
    "    #E = 3#3*np.pi/2\n",
    "\n",
    "    hbar = 1\n",
    "    t = 3*E0/hbar\n",
    "\n",
    "    Ham={}\n",
    "    k=0\n",
    "    for i in range(len(P_array)):\n",
    "        for j in range(len(J_array)):\n",
    "            Ham[k] = np.array(Hcopy.subs({\"E_{11}\":E,\"P_{1}\":P_array[i],\n",
    "                        \"J_{11}\":J_array[j]})).astype('complex128') * 1/E0\n",
    "            k+=1\n",
    "    # for each P value; J value iterated through and stored\n",
    "    # so Ham[0] is when is P[0] and J[0] but Ham[3] is when\n",
    "    # P[0] and J[3]\n",
    "\n",
    "    U = {}\n",
    "    for i in range(len(Ham)):\n",
    "        U[i] = expm(-1j* Ham[i] * t)\n",
    "    # U[0] is when Ham[0] and that is when P[0] and J[0]\n",
    "    # U[5] is Ham[5] which is P[1] and J[0]\n",
    "\n",
    "    # z = x+iy\n",
    "    # x and y bewteen -1 and 1 exclusive\n",
    "    x1 = np.random.rand(1)*np.power(-1,np.random.randint(1,3))\n",
    "    y1 = np.random.rand(1)*np.power(-1,np.random.randint(1,3))\n",
    "    z1 = complex(x1,y1)\n",
    "    i = 1\n",
    "    test0 = 0*j\n",
    "    while i > 0:\n",
    "        x2 = np.random.rand(1)*np.power(-1,np.random.randint(1,3))\n",
    "        y2 = np.random.rand(1)*np.power(-1,np.random.randint(1,3))\n",
    "        z2 = complex(x2,y2)\n",
    "        if z2 == test0:\n",
    "            if z2==z1:\n",
    "                continue\n",
    "        else: \n",
    "            break\n",
    "            \n",
    "      #constant z1, z2 values instead of changing with different\n",
    "#     #iteration of function, perhaps f(..,a), a = (x,y,x1,y1)\n",
    "#     x1=0.25\n",
    "#     y1=0.75\n",
    "#     x2=0.24\n",
    "#     y2=0.42\n",
    "#     z1=complex(x1,y1)\n",
    "#     z2=complex(x2,y2)\n",
    "\n",
    "    phi_initial = z1*phi_initial_g + z2*phi_initial_e\n",
    "\n",
    "\n",
    "    #the |phi_initial> (x)  |vac>_QN state = 1/N |psi_initial>\n",
    "    psi_initial = 1/np.sqrt(np.abs(z1)**2+np.abs(z2)**2) *(\n",
    "                    MTP(phi_initial, vac) )\n",
    "\n",
    "\n",
    "    # |psi_out> = U|psi_initial>\n",
    "    psi_out = {}\n",
    "    for i in range(len(U)):\n",
    "        psi_out[i] = U[i]@psi_initial \n",
    "\n",
    "\n",
    "    # pho = |psi><psi|\n",
    "    pho = {} \n",
    "    for i in range(len(psi_out)):\n",
    "        pho[i] = MTP(psi_out[i],psi_out[i].conjugate().T)\n",
    "\n",
    "\n",
    "    pho_c = {}\n",
    "    Id = np.eye(2) \n",
    "    for i in range(len(pho)):\n",
    "        pho_c[i] = MTP(Id, gnd_state.T)@pho[i]@MTP(Id, gnd_state) + ( \n",
    "        MTP(Id, exc_state.T)@pho[i]@MTP(Id, exc_state) )\n",
    "\n",
    "\n",
    "    X_gate = np.array([[0,1],[1,0]])\n",
    "    phi_ideal = X_gate @ phi_initial\n",
    "\n",
    "    F = np.zeros(len(pho_c))\n",
    "    F_norm = np.zeros(len(pho_c))\n",
    "    Ftemp={}\n",
    "    k=0\n",
    "    for i in range(len(pho_c)):\n",
    "        Ftemp[i] = (phi_ideal.conjugate().T @ pho_c[i] @ phi_ideal).real\n",
    "        F[i] = Ftemp[i][0][0]\n",
    "    norm = np.linalg.norm(F)\n",
    "    F_norm = F/norm\n",
    "\n",
    "    F_array = np.zeros((len(P_array),len(J_array)))\n",
    "    k=0\n",
    "    for i in range(len(P_array)):\n",
    "        for j in range(len(J_array)):\n",
    "            F_array[i][j] = F_norm[k]\n",
    "            k+=1\n",
    "    def forceAspect(ax,aspect=1):\n",
    "        im = ax.get_images()\n",
    "        extent =  im[0].get_extent()\n",
    "        ax.set_aspect(abs((extent[1]-extent[0])/(extent[3]-extent[2]))/aspect)\n",
    "    fig, ax = plt.subplots()\n",
    "    X,Y = np.meshgrid(P_array,J_array)\n",
    "    #ax.set_aspect('auto')\n",
    "    #norm_F_array = (F_array - np.min(F_array)) / (np.max(F_array) - np.min(F_array))\n",
    "    pos=ax.imshow(F_array, cmap='viridis', interpolation='bicubic', extent=[P_array[0],P_array[-1],J_array[-1],J_array[0]], vmin=0,vmax=1)\n",
    "    ax.invert_yaxis()\n",
    "    forceAspect(ax,aspect=1)\n",
    "    ax.set_title('OMG I GOT SOMETHING LOOK AT ME GO WOOHOOO')\n",
    "    ax.set_xlabel('P * 1/E0 - Excitation Values')\n",
    "    ax.set_ylabel(\"J * 1/E0 - Coupling Strength\")\n",
    "    cbar = plt.colorbar(pos)\n",
    "    cbar.set_label(r'F')\n",
    "    plt.show()\n",
    "    print('\\nP = ', P_array, '\\nJ =',J_array,'\\nE = ',E, f'\\n(z1,z2) =\\n({z1},{z2})')\n",
    "    return None #fig"
   ]
  },
  {
   "cell_type": "code",
   "execution_count": 36,
   "id": "5081decb",
   "metadata": {
    "scrolled": true
   },
   "outputs": [
    {
     "data": {
      "image/png": "[encoded data removed]",
      "text/plain": [
       "<Figure size 432x288 with 2 Axes>"
      ]
     },
     "metadata": {
      "needs_background": "light"
     },
     "output_type": "display_data"
    },
    {
     "name": "stdout",
     "output_type": "stream",
     "text": [
      "\n",
      "P =  [  0. 100.] \n",
      "J = [0. 5.] \n",
      "E =  3 \n",
      "(z1,z2) =\n",
      "((-0.23382076021965836+0.45917102518580266j),(0.17079880425677607+0.859945559791794j))\n"
     ]
    }
   ],
   "source": [
    "# f(pmin=0,pmax=100,jmin=0,jmax=5,div=5,E0=1,E=3):\n",
    "f(div=2)"
   ]
  },
  {
   "cell_type": "code",
   "execution_count": 347,
   "id": "224c4c8d",
   "metadata": {},
   "outputs": [],
   "source": [
    "from matplotlib.animation import PillowWriter"
   ]
  },
  {
   "cell_type": "code",
   "execution_count": 360,
   "id": "c4487850",
   "metadata": {},
   "outputs": [],
   "source": [
    "E_array = np.array([10,20,30,40,50,60])"
   ]
  },
  {
   "cell_type": "code",
   "execution_count": 353,
   "id": "3d5edc96",
   "metadata": {
    "collapsed": true
   },
   "outputs": [
    {
     "data": {
      "image/png": "[encoded data removed]",
      "text/plain": [
       "<Figure size 432x288 with 2 Axes>"
      ]
     },
     "metadata": {
      "needs_background": "light"
     },
     "output_type": "display_data"
    },
    {
     "name": "stdout",
     "output_type": "stream",
     "text": [
      "\n",
      "P =  [  0.  25.  50.  75. 100.] \n",
      "J = [0.   1.25 2.5  3.75 5.  ] \n",
      "E =  10 \n",
      "(z1,z2) =\n",
      "((0.30606273844663345+0.2932317059753059j),(0.22270306733627498+0.5466358337590985j))\n"
     ]
    },
    {
     "data": {
      "image/png": "[encoded data removed]",
      "text/plain": [
       "<Figure size 432x288 with 2 Axes>"
      ]
     },
     "metadata": {
      "needs_background": "light"
     },
     "output_type": "display_data"
    },
    {
     "name": "stdout",
     "output_type": "stream",
     "text": [
      "\n",
      "P =  [  0.  25.  50.  75. 100.] \n",
      "J = [0.   1.25 2.5  3.75 5.  ] \n",
      "E =  20 \n",
      "(z1,z2) =\n",
      "((0.07183027875141867-0.3308062858679539j),(-0.39080906388308134-0.3370213842107719j))\n"
     ]
    },
    {
     "data": {
      "image/png": "[encoded data removed]",
      "text/plain": [
       "<Figure size 432x288 with 2 Axes>"
      ]
     },
     "metadata": {
      "needs_background": "light"
     },
     "output_type": "display_data"
    },
    {
     "name": "stdout",
     "output_type": "stream",
     "text": [
      "\n",
      "P =  [  0.  25.  50.  75. 100.] \n",
      "J = [0.   1.25 2.5  3.75 5.  ] \n",
      "E =  30 \n",
      "(z1,z2) =\n",
      "((0.7323887256197336+0.2967899728332877j),(0.3260431036428294-0.00435153672514732j))\n"
     ]
    },
    {
     "data": {
      "image/png": "[encoded data removed]",
      "text/plain": [
       "<Figure size 432x288 with 2 Axes>"
      ]
     },
     "metadata": {
      "needs_background": "light"
     },
     "output_type": "display_data"
    },
    {
     "name": "stdout",
     "output_type": "stream",
     "text": [
      "\n",
      "P =  [  0.  25.  50.  75. 100.] \n",
      "J = [0.   1.25 2.5  3.75 5.  ] \n",
      "E =  40 \n",
      "(z1,z2) =\n",
      "((-0.9503517728828207-0.9165801719933764j),(0.14217773341518192+0.8469755870161724j))\n"
     ]
    },
    {
     "data": {
      "image/png": "[encoded data removed]",
      "text/plain": [
       "<Figure size 432x288 with 2 Axes>"
      ]
     },
     "metadata": {
      "needs_background": "light"
     },
     "output_type": "display_data"
    },
    {
     "name": "stdout",
     "output_type": "stream",
     "text": [
      "\n",
      "P =  [  0.  25.  50.  75. 100.] \n",
      "J = [0.   1.25 2.5  3.75 5.  ] \n",
      "E =  50 \n",
      "(z1,z2) =\n",
      "((0.3390927274276422-0.7606615080512533j),(0.40465297826424673+0.5017916040461161j))\n"
     ]
    },
    {
     "data": {
      "image/png": "[encoded data removed]",
      "text/plain": [
       "<Figure size 432x288 with 2 Axes>"
      ]
     },
     "metadata": {
      "needs_background": "light"
     },
     "output_type": "display_data"
    },
    {
     "name": "stdout",
     "output_type": "stream",
     "text": [
      "\n",
      "P =  [  0.  25.  50.  75. 100.] \n",
      "J = [0.   1.25 2.5  3.75 5.  ] \n",
      "E =  60 \n",
      "(z1,z2) =\n",
      "((-0.28599053747503567+0.7962661058926244j),(-0.802102595880167+0.7145382046778995j))\n"
     ]
    }
   ],
   "source": [
    "metadata=dict(title='movie',artist='me')\n",
    "writer=PillowWriter(fps=15,metadata=metadata)\n",
    "\n",
    "with writer.saving(fig, 'kek.gif',100):\n",
    "    for val in E_array:\n",
    "        f(E=val)\n",
    "        writer.grab_frame()\n",
    "        "
   ]
  },
  {
   "cell_type": "markdown",
   "id": "a587b586",
   "metadata": {},
   "source": [
    "# CASE 2: KEEPING P,J,E CONSTANT AND SAMPLING 2k STATES"
   ]
  },
  {
   "cell_type": "code",
   "execution_count": 250,
   "id": "74b94d8e",
   "metadata": {},
   "outputs": [],
   "source": [
    "#def f1(P=20,J=2,E0=1,E=3):\n",
    "##################################################################\n",
    "gnd_state = np.array([[1],[0]]) #the |0> state\n",
    "\n",
    "phi_initial_g = np.array([[1],[0]]) #the |0> state for computational qubit\n",
    "vac = np.array([[1],[0]]) #the |0> state for reservoir qubit\n",
    "phi_initial_e = np.array([[0],[1]]) #the |1> state for computational qubit\n",
    "\n",
    "exc_state = np.array([[0],[1]]) #the |1> state\n",
    "##################################################################\n",
    "Hcopy = H\n",
    "E0 = 1\n",
    "#div = 5\n",
    "P = 20 \n",
    "J = 2\n",
    "E = 3#3*np.pi/2\n",
    "hbar=1\n",
    "dt = 0.001 * E0/hbar\n",
    "nsteps = 3000 # think like total time your simulation run for\n",
    "T = nsteps  * dt #total time\n",
    "t = np.arange(0, T+dt, dt)\n",
    "Ham=np.array(Hcopy.subs({\"E_{11}\":E,\"P_{1}\":P,\n",
    "                \"J_{11}\":J})).astype('complex128') * 1/E0\n",
    "U = expm(-1j* Ham * dt)\n",
    "\n",
    "\n",
    "n = 2000\n",
    "phi_initial={}\n",
    "# z1array=np.zeros(n,dtype='complex128')\n",
    "# z2array=np.zeros(n,dtype='complex128')\n",
    "for i in range(n):\n",
    "    x1 = np.random.rand(1)*np.power(-1,np.random.randint(1,3))\n",
    "    y1 = np.random.rand(1)*np.power(-1,np.random.randint(1,3))\n",
    "    z1 = complex(x1,y1)\n",
    "    x2 = np.random.rand(1)*np.power(-1,np.random.randint(1,3))\n",
    "    y2 = np.random.rand(1)*np.power(-1,np.random.randint(1,3))\n",
    "    z2 = complex(x2,y2)\n",
    "    if z1==0: \n",
    "        tmp =0j\n",
    "        if z1==z2:\n",
    "            tmp = z2\n",
    "            while tmp==z2:\n",
    "                x2 = np.random.rand(1)*np.power(-1,np.random.randint(1,3))\n",
    "                y2 = np.random.rand(1)*np.power(-1,np.random.randint(1,3))\n",
    "                z2 = complex(x2,y2)\n",
    "    #z1array[i]=z1\n",
    "    #z2array[i]=z2\n",
    "    phi_initial[i] = z1*phi_initial_g + z2*phi_initial_e\n",
    "\n",
    "#the |phi_initial> (x)  |vac>_QN state = |psi_initial>    \n",
    "psi_initial = {}\n",
    "for i in range(n):\n",
    "    psi_initial[i] = 1/np.sqrt(np.abs(z1)**2+np.abs(z2)**2) * (\n",
    "            MTP(phi_initial[i],vac) )\n",
    "\n",
    "#defining my collection of complex coefficients\n",
    "#of series of evolved states\n",
    "a = np.zeros(n*len(t),dtype=np.complex128)\n",
    "a_array_tmp = np.zeros(n*len(t),dtype=np.complex128)\n",
    "b = np.zeros(n*len(t),dtype=np.complex128)\n",
    "b_array_tmp = np.zeros(n*len(t),dtype=np.complex128)\n",
    "c = np.zeros(n*len(t),dtype=np.complex128)\n",
    "c_array_tmp = np.zeros(n*len(t),dtype=np.complex128)\n",
    "d = np.zeros(n*len(t),dtype=np.complex128)\n",
    "d_array_tmp = np.zeros(n*len(t),dtype=np.complex128)\n",
    "\n",
    "psi_out = {}\n",
    "k=0\n",
    "for length in range(len(psi_initial)):\n",
    "    for i in range(len(t)):\n",
    "        a_array_tmp[k] = psi_initial[length][0][0] #accessing 0th posn of vector 0\n",
    "        b_array_tmp[k] = psi_initial[length][1][0]\n",
    "        c_array_tmp[k] = psi_initial[length][2][0]\n",
    "        d_array_tmp[k] = psi_initial[length][3][0]#accessing 3th posn of vector 0\n",
    "        psi_initial[length] = U @ psi_initial[length] # U[0] with E[0] value\n",
    "        k+=1\n",
    "    a = np.mean(a_array_tmp)\n",
    "    b = np.mean(b_array_tmp)\n",
    "    c = np.mean(c_array_tmp)\n",
    "    d = np.mean(d_array_tmp)\n",
    "    psi_out[length] = np.array([[a],[b],\n",
    "                                  [c],[d]])\n",
    "        \n",
    "pho = {} \n",
    "for i in range(len(psi_out)):\n",
    "    pho[i] = MTP(psi_out[i],psi_out[i].conjugate().T)\n",
    "\n",
    "pho_c = {}\n",
    "Id = np.eye(2) \n",
    "for i in range(len(pho)):\n",
    "    pho_c[i] = MTP(Id, gnd_state.T)@pho[i]@MTP(Id, gnd_state) + ( \n",
    "    MTP(Id, exc_state.T)@pho[i]@MTP(Id, exc_state) )\n",
    "\n",
    "\n",
    "X_gate = np.array([[0,1],[1,0]])\n",
    "phi_ideal={}\n",
    "for i in range(len(phi_initial)):\n",
    "    phi_ideal[i] = X_gate @ phi_initial[i]\n",
    "\n",
    "F = np.zeros(len(pho_c))\n",
    "F_norm = np.zeros(len(pho_c))\n",
    "Ftemp={}\n",
    "k=0\n",
    "for i in range(len(pho_c)):\n",
    "    Ftemp[i] = (phi_ideal[i].conjugate().T @ pho_c[i] @ phi_ideal[i]).real\n",
    "    F[i] = Ftemp[i][0][0]\n",
    "norm = np.linalg.norm(F)\n",
    "F_norm = F/norm\n",
    "\n",
    "#     F_array = np.zeros((len(P_array),len(J_array)))\n",
    "#     k=0\n",
    "#     for i in range(len(P_array)):\n",
    "#         for j in range(len(J_array)):\n",
    "#             F_array[i][j] = F_norm[k]\n",
    "#             k+=1\n",
    "#     def forceAspect(ax,aspect=1):\n",
    "#         im = ax.get_images()\n",
    "#         extent =  im[0].get_extent()\n",
    "#         ax.set_aspect(abs((extent[1]-extent[0])/(extent[3]-extent[2]))/aspect)\n",
    "#     fig, ax = plt.subplots()\n",
    "#     X,Y = np.meshgrid(P_array,J_array)\n",
    "#     #ax.set_aspect('auto')\n",
    "#     #norm_F_array = (F_array - np.min(F_array)) / (np.max(F_array) - np.min(F_array))\n",
    "#     pos=ax.imshow(F_array, cmap='viridis', interpolation='bicubic', extent=[P_array[0],P_array[-1],J_array[-1],J_array[0]], vmin=0,vmax=1)\n",
    "#     ax.invert_yaxis()\n",
    "#     forceAspect(ax,aspect=1)\n",
    "#     ax.set_title('OMG I GOT SOMETHING LOOK AT ME GO WOOHOOO')\n",
    "#     ax.set_xlabel('P * 1/E0 - Excitation Values')\n",
    "#     ax.set_ylabel(\"J * 1/E0 - Coupling Strength\")\n",
    "#    | cbar = plt.colorbar(pos)\n",
    "#     cbar.set_label(r'F')\n",
    "#     plt.show()\n",
    "#     print('\\nP = ', P_array, '\\nJ =',J_array,'\\nE = ',E, f'\\n(z1,z2) =\\n({z1},{z2})')\n",
    "#     return None #fig"
   ]
  },
  {
   "cell_type": "code",
   "execution_count": 159,
   "id": "1c35b899",
   "metadata": {
    "scrolled": false
   },
   "outputs": [
    {
     "data": {
      "image/png": "[encoded data removed]",
      "text/latex": [
       "$\\displaystyle 2000$"
      ],
      "text/plain": [
       "2000"
      ]
     },
     "execution_count": 159,
     "metadata": {},
     "output_type": "execute_result"
    }
   ],
   "source": [
    "len(F_norm)"
   ]
  },
  {
   "cell_type": "code",
   "execution_count": 204,
   "id": "6b0cc5d3",
   "metadata": {
    "collapsed": true
   },
   "outputs": [
    {
     "data": {
      "text/plain": [
       "(array([118.39176978,  66.51693073,  50.20145715,  41.41620215,\n",
       "         46.85469334,  40.99785667,  30.95756524,  25.10072858,\n",
       "         22.17231024,  28.44749239,  22.59065572,  20.49892834,\n",
       "         16.31547357,  23.00900119,  21.33561929,  19.24389191,\n",
       "         16.73381905,  13.38705524,  14.22374619,  13.80540072,\n",
       "         13.38705524,  12.13201881,  11.29532786,  13.38705524,\n",
       "          7.94856405,   9.20360048,   8.785255  ,   6.27518214,\n",
       "          7.53021857,   6.27518214,   8.785255  ,   5.43849119,\n",
       "          6.27518214,   4.60180024,   2.92841833,   2.51007286,\n",
       "          5.02014572,   3.34676381,   4.60180024,   2.09172738,\n",
       "          2.51007286,   2.09172738,   2.51007286,   1.67338191,\n",
       "          2.51007286,   2.51007286,   4.18345476,   1.25503643,\n",
       "          1.25503643,   2.09172738,   1.25503643,   2.09172738,\n",
       "          1.25503643,   0.41834548,   0.        ,   0.83669095,\n",
       "          0.83669095,   0.41834548,   0.83669095,   0.41834548,\n",
       "          0.41834548,   0.83669095,   0.83669095,   0.41834548,\n",
       "          1.67338191,   1.25503643,   0.        ,   0.41834548,\n",
       "          0.41834548,   0.41834548,   0.41834548,   0.41834548,\n",
       "          0.41834548,   0.83669095,   0.        ,   0.        ,\n",
       "          0.        ,   0.        ,   0.        ,   0.        ,\n",
       "          0.        ,   0.83669095,   0.        ,   0.41834548,\n",
       "          0.        ,   0.41834548,   0.        ,   0.        ,\n",
       "          0.        ,   0.        ,   0.        ,   0.41834548,\n",
       "          0.        ,   0.        ,   0.        ,   0.41834548,\n",
       "          0.        ,   0.        ,   0.        ,   0.41834548]),\n",
       " array([1.70932730e-06, 1.19689376e-03, 2.39207819e-03, 3.58726262e-03,\n",
       "        4.78244705e-03, 5.97763148e-03, 7.17281591e-03, 8.36800034e-03,\n",
       "        9.56318477e-03, 1.07583692e-02, 1.19535536e-02, 1.31487381e-02,\n",
       "        1.43439225e-02, 1.55391069e-02, 1.67342914e-02, 1.79294758e-02,\n",
       "        1.91246602e-02, 2.03198447e-02, 2.15150291e-02, 2.27102135e-02,\n",
       "        2.39053979e-02, 2.51005824e-02, 2.62957668e-02, 2.74909512e-02,\n",
       "        2.86861357e-02, 2.98813201e-02, 3.10765045e-02, 3.22716890e-02,\n",
       "        3.34668734e-02, 3.46620578e-02, 3.58572423e-02, 3.70524267e-02,\n",
       "        3.82476111e-02, 3.94427955e-02, 4.06379800e-02, 4.18331644e-02,\n",
       "        4.30283488e-02, 4.42235333e-02, 4.54187177e-02, 4.66139021e-02,\n",
       "        4.78090866e-02, 4.90042710e-02, 5.01994554e-02, 5.13946399e-02,\n",
       "        5.25898243e-02, 5.37850087e-02, 5.49801932e-02, 5.61753776e-02,\n",
       "        5.73705620e-02, 5.85657464e-02, 5.97609309e-02, 6.09561153e-02,\n",
       "        6.21512997e-02, 6.33464842e-02, 6.45416686e-02, 6.57368530e-02,\n",
       "        6.69320375e-02, 6.81272219e-02, 6.93224063e-02, 7.05175908e-02,\n",
       "        7.17127752e-02, 7.29079596e-02, 7.41031440e-02, 7.52983285e-02,\n",
       "        7.64935129e-02, 7.76886973e-02, 7.88838818e-02, 8.00790662e-02,\n",
       "        8.12742506e-02, 8.24694351e-02, 8.36646195e-02, 8.48598039e-02,\n",
       "        8.60549884e-02, 8.72501728e-02, 8.84453572e-02, 8.96405416e-02,\n",
       "        9.08357261e-02, 9.20309105e-02, 9.32260949e-02, 9.44212794e-02,\n",
       "        9.56164638e-02, 9.68116482e-02, 9.80068327e-02, 9.92020171e-02,\n",
       "        1.00397202e-01, 1.01592386e-01, 1.02787570e-01, 1.03982755e-01,\n",
       "        1.05177939e-01, 1.06373124e-01, 1.07568308e-01, 1.08763493e-01,\n",
       "        1.09958677e-01, 1.11153861e-01, 1.12349046e-01, 1.13544230e-01,\n",
       "        1.14739415e-01, 1.15934599e-01, 1.17129784e-01, 1.18324968e-01,\n",
       "        1.19520152e-01]))"
      ]
     },
     "execution_count": 204,
     "metadata": {},
     "output_type": "execute_result"
    }
   ],
   "source": [
    "np.histogram(F_norm, bins=100)"
   ]
  },
  {
   "cell_type": "code",
   "execution_count": 248,
   "id": "28136209",
   "metadata": {
    "collapsed": true
   },
   "outputs": [
    {
     "data": {
      "image/png": "[encoded data removed]",
      "text/plain": [
       "<Figure size 432x288 with 1 Axes>"
      ]
     },
     "metadata": {
      "needs_background": "light"
     },
     "output_type": "display_data"
    },
    {
     "data": {
      "image/png": "[encoded data removed]",
      "text/plain": [
       "<Figure size 432x288 with 1 Axes>"
      ]
     },
     "metadata": {
      "needs_background": "light"
     },
     "output_type": "display_data"
    }
   ],
   "source": [
    "# y,u,i = plt.hist(F_norm,bins='auto',density=False,histtype='bar')\n",
    "# plt.show()\n",
    "# y=y/len(F_norm)\n",
    "# y=np.append(y,0)\n",
    "# mu=np.mean(y)\n",
    "# sigma=np.std(y)\n",
    "# plt.bar(u,y,width=(u[len(u)-1]-u[0])/(len(u)-1))\n",
    "# #y1=(1/(sigma*np.sqrt(2*np.pi))*np.exp(-(u-mu)**2/(2*sigma**2)))*0.3\n",
    "# #y2 = ((1 / (np.sqrt(2 * np.pi) * sigma)) *\n",
    "#      #np.exp(-0.5 * (1 / sigma * (u - mu))**2))\n",
    "# #plt.plot(u,y2,'r--')\n",
    "# plt.ylim([0,0.5])\n",
    "# plt.xlim([0,1])\n",
    "# plt.show()"
   ]
  },
  {
   "cell_type": "code",
   "execution_count": 251,
   "id": "e5c27b78",
   "metadata": {
    "scrolled": false
   },
   "outputs": [
    {
     "data": {
      "image/png": "[encoded data removed]",
      "text/plain": [
       "<Figure size 360x360 with 1 Axes>"
      ]
     },
     "metadata": {
      "needs_background": "light"
     },
     "output_type": "display_data"
    },
    {
     "data": {
      "image/png": "[encoded data removed]",
      "text/plain": [
       "<Figure size 432x288 with 1 Axes>"
      ]
     },
     "metadata": {
      "needs_background": "light"
     },
     "output_type": "display_data"
    }
   ],
   "source": [
    "fig=plt.figure(figsize=(5,5))\n",
    "r,bins,patch=plt.hist(F_norm,bins='auto',density=False,color='g',histtype='bar')\n",
    "plt.show()\n",
    "r=r/len(F_norm)\n",
    "r=np.append(r,0)\n",
    "plt.bar(bins,r,width=(bins[len(bins)-1]-bins[0])/(len(bins)-1))\n",
    "#plt.xlim([0,1])\n",
    "plt.ylabel('Probability')\n",
    "plt.xlabel('Fidelity')\n",
    "plt.title(f'Fidelity for X gate flip with P={P}, J={J}, E={E} and n={n} samples')\n",
    "plt.show()\n",
    "#np.histogram(F_norm)"
   ]
  },
  {
   "cell_type": "code",
   "execution_count": null,
   "id": "4cf4b0f5",
   "metadata": {},
   "outputs": [],
   "source": []
  },
  {
   "cell_type": "code",
   "execution_count": 121,
   "id": "38ebde47",
   "metadata": {},
   "outputs": [
    {
     "data": {
      "text/plain": [
       "(8.77374293130966e-05-6.913911541685944e-05j)"
      ]
     },
     "execution_count": 121,
     "metadata": {},
     "output_type": "execute_result"
    }
   ],
   "source": [
    "a_array"
   ]
  },
  {
   "cell_type": "code",
   "execution_count": null,
   "id": "13947630",
   "metadata": {},
   "outputs": [],
   "source": []
  },
  {
   "cell_type": "markdown",
   "id": "76781256",
   "metadata": {},
   "source": [
    "# I'm going through a phase, a relative phase"
   ]
  },
  {
   "cell_type": "code",
   "execution_count": 252,
   "id": "3e7eee00",
   "metadata": {},
   "outputs": [],
   "source": [
    "Hcopy = H\n",
    "E0 = 1 #variance of uniform distrib of energies E0\n",
    "P = 20 / E0\n",
    "J = 2 / E0\n",
    "E = 20 * E0\n",
    "# for i in range(n):\n",
    "#     E = float(-E0/2 +(np.random.rand(1)*E0)) #onsite V for reservoir qubits\n",
    "#     E_array[i] =  E #check decimals => possible errors?\n",
    "    # fix value of E\n",
    "Hamil = np.array(Hcopy.subs({\"E_{11}\":E,\"P_{1}\":P,\n",
    "        \"J_{11}\":J})).astype('complex128') * 1/E0\n",
    "hbar = 1\n",
    "dt = 0.001 * E0/hbar\n",
    "nsteps = 3000 # think like total time your simulation run for\n",
    "T = nsteps  * dt #total time\n",
    "t = np.arange(0, T+dt, dt) #creates array from 0 to T +dt in steps of dt\n",
    "\n",
    "U = expm(-1j* Hamil * dt)\n",
    "\n",
    "n = 2000\n",
    "phi_initial={}\n",
    "for i in range(n):\n",
    "    x1 = np.random.rand(1)*np.power(-1,np.random.randint(1,3))\n",
    "    y1 = np.random.rand(1)*np.power(-1,np.random.randint(1,3))\n",
    "    z1 = complex(x1,y1)\n",
    "    k = 1\n",
    "    test0 = 0*j\n",
    "    while k > 0:\n",
    "        x2 = np.random.rand(1)*np.power(-1,np.random.randint(1,3))\n",
    "        y2 = np.random.rand(1)*np.power(-1,np.random.randint(1,3))\n",
    "        z2 = complex(x2,y2)\n",
    "        if z2 == test0:\n",
    "            if z2==z1:\n",
    "                continue\n",
    "        else: \n",
    "            break\n",
    "\n",
    "    phi_initial[i] = z1*phi_initial_g + z2*phi_initial_e\n",
    "\n",
    "#the |phi_initial> (x)  |vac>_QN state = |psi_initial>    \n",
    "psi_initial = {}\n",
    "for i in range(n):\n",
    "    psi_initial[i] = 1/np.sqrt(np.abs(z1)**2+np.abs(z2)**2) * (\n",
    "                MTP(phi_initial[i],vac) )\n",
    "a_array = np.zeros(n*len(t),dtype=np.complex128)\n",
    "b_array = np.zeros(n*len(t),dtype=np.complex128)\n",
    "c_array = np.zeros(n*len(t),dtype=np.complex128)\n",
    "d_array = np.zeros(n*len(t),dtype=np.complex128)\n",
    "a_complex_real = np.zeros(n*len(t))\n",
    "a_complex_imag = np.zeros(n*len(t),dtype=np.complex128)\n",
    "b_complex_real = np.zeros(n*len(t))\n",
    "b_complex_imag = np.zeros(n*len(t),dtype=np.complex128)\n",
    "c_complex_real = np.zeros(n*len(t))\n",
    "c_complex_imag = np.zeros(n*len(t),dtype=np.complex128)\n",
    "d_complex_real = np.zeros(n*len(t))\n",
    "d_complex_imag = np.zeros(n*len(t),dtype=np.complex128)\n",
    "a_array_avg = np.zeros(n)\n",
    "k=0\n",
    "for length in range(len(psi_initial)):\n",
    "    for i in range(len(t)):\n",
    "        a_array[k] = np.abs(psi_initial[length][0][0])**2 #accessing 0th posn of vector 0\n",
    "        b_array[k] = np.abs(psi_initial[length][1][0])**2\n",
    "        c_array[k] = np.abs(psi_initial[length][2][0])**2\n",
    "        d_array[k] = np.abs(psi_initial[length][3][0])**2 #accessing 3th posn of vector 0\n",
    "        a_complex_real[k], a_complex_imag[k] =  psi_initial[length][0][0].real, psi_initial[length][0][0].imag\n",
    "        b_complex_real[k], b_complex_imag[k] =  psi_initial[length][1][0].real, psi_initial[length][1][0].imag\n",
    "        c_complex_real[k], c_complex_imag[k] =  psi_initial[length][2][0].real, psi_initial[length][2][0].imag\n",
    "        d_complex_real[k], d_complex_imag[k] =  psi_initial[length][3][0].real, psi_initial[length][3][0].imag\n",
    "        \n",
    "        psi_initial[length] = U @ psi_initial[length] # U[0] with E[0] value\n",
    "        k+=1\n",
    "\n",
    "        "
   ]
  },
  {
   "cell_type": "code",
   "execution_count": 380,
   "id": "7c8e7381",
   "metadata": {},
   "outputs": [
    {
     "name": "stdout",
     "output_type": "stream",
     "text": [
      "5.833333333333333\n"
     ]
    }
   ],
   "source": [
    "arr = np.array([2, 7, 5, 8, 9,4])\n",
    "\n",
    "arr1 = np.mean(arr)\n",
    "print(arr1)"
   ]
  },
  {
   "cell_type": "code",
   "execution_count": 377,
   "id": "6237231e",
   "metadata": {
    "scrolled": true
   },
   "outputs": [
    {
     "data": {
      "image/png": "[encoded data removed]",
      "text/latex": [
       "$\\displaystyle 6002000$"
      ],
      "text/plain": [
       "6002000"
      ]
     },
     "execution_count": 377,
     "metadata": {},
     "output_type": "execute_result"
    }
   ],
   "source": [
    "len(a_array)"
   ]
  },
  {
   "cell_type": "code",
   "execution_count": 378,
   "id": "e38255cd",
   "metadata": {},
   "outputs": [
    {
     "data": {
      "image/png": "[encoded data removed]",
      "text/latex": [
       "$\\displaystyle 3001$"
      ],
      "text/plain": [
       "3001"
      ]
     },
     "execution_count": 378,
     "metadata": {},
     "output_type": "execute_result"
    }
   ],
   "source": [
    "len(t)"
   ]
  },
  {
   "cell_type": "code",
   "execution_count": null,
   "id": "4f1d9d15",
   "metadata": {},
   "outputs": [],
   "source": [
    "Hcopy = H\n",
    "E0 = 1 #variance of uniform distrib of energies E0\n",
    "P = 20 / E0\n",
    "J = 2 / E0\n",
    "E = 20 * E0\n",
    "# for i in range(n):\n",
    "#     E = float(-E0/2 +(np.random.rand(1)*E0)) #onsite V for reservoir qubits\n",
    "#     E_array[i] =  E #check decimals => possible errors?\n",
    "    # fix value of E\n",
    "Hamil = np.array(Hcopy.subs({\"E_{11}\":E,\"P_{1}\":P,\n",
    "        \"J_{11}\":J})).astype('complex128') * 1/E0\n",
    "hbar = 1\n",
    "dt = 0.001 * E0/hbar\n",
    "nsteps = 3000 # think like total time your simulation run for\n",
    "T = nsteps  * dt #total time\n",
    "t = np.arange(0, T+dt, dt) #creates array from 0 to T +dt in steps of dt\n",
    "\n",
    "U = expm(-1j* Hamil * dt)\n",
    "\n",
    "n = 2000\n",
    "phi_initial={}\n",
    "for i in range(n):\n",
    "    x1 = np.random.rand(1)*np.power(-1,np.random.randint(1,3))\n",
    "    y1 = np.random.rand(1)*np.power(-1,np.random.randint(1,3))\n",
    "    z1 = complex(x1,y1)\n",
    "    k = 1\n",
    "    test0 = 0*j\n",
    "    while k > 0:\n",
    "        x2 = np.random.rand(1)*np.power(-1,np.random.randint(1,3))\n",
    "        y2 = np.random.rand(1)*np.power(-1,np.random.randint(1,3))\n",
    "        z2 = complex(x2,y2)\n",
    "        if z2 == test0:\n",
    "            if z2==z1:\n",
    "                continue\n",
    "        else: \n",
    "            break\n",
    "\n",
    "    phi_initial[i] = z1*phi_initial_g + z2*phi_initial_e\n",
    "\n",
    "#the |phi_initial> (x)  |vac>_QN state = |psi_initial>    \n",
    "psi_initial = {}\n",
    "for i in range(n):\n",
    "    psi_initial[i] = 1/np.sqrt(np.abs(z1)**2+np.abs(z2)**2) * (\n",
    "                MTP(phi_initial[i],vac) )\n",
    "\n",
    "#################################################\n",
    "\n",
    "# defining complex coefficients and real/imag variables for evolved state\n",
    "a_array = np.zeros(n,dtype=np.complex128)\n",
    "b_array = np.zeros(n,dtype=np.complex128)\n",
    "c_array = np.zeros(n,dtype=np.complex128)\n",
    "d_array = np.zeros(n,dtype=np.complex128)\n",
    "a_complex_real = np.zeros(n)\n",
    "a_complex_imag = np.zeros(n,dtype=np.complex128)\n",
    "b_complex_real = np.zeros(n)\n",
    "b_complex_imag = np.zeros(n,dtype=np.complex128)\n",
    "c_complex_real = np.zeros(n)\n",
    "c_complex_imag = np.zeros(n,dtype=np.complex128)\n",
    "d_complex_real = np.zeros(n)\n",
    "d_complex_imag = np.zeros(n,dtype=np.complex128)\n",
    "k=0\n",
    "for length in range(len(psi_initial)):\n",
    "    for i in range(len(t)):\n",
    "        a_array[k] = np.abs(psi_initial[length][0][0])**2 #accessing 0th posn of vector 0\n",
    "        b_array[k] = np.abs(psi_initial[length][1][0])**2\n",
    "        c_array[k] = np.abs(psi_initial[length][2][0])**2\n",
    "        d_array[k] = np.abs(psi_initial[length][3][0])**2 #accessing 3th posn of vector 0\n",
    "        psi_initial[length] = U @ psi_initial[length] # U[0] with E[0] value\n",
    "        a_complex_real[k], a_complex_imag[k] =  psi_initial[length][0][0].real, psi_initial[length][0][0].imag\n",
    "        b_complex_real[k], b_complex_imag[k] =  psi_initial[length][1][0].real, psi_initial[length][1][0].imag\n",
    "        c_complex_real[k], c_complex_imag[k] =  psi_initial[length][2][0].real, psi_initial[length][2][0].imag\n",
    "        d_complex_real[k], d_complex_imag[k] =  psi_initial[length][3][0].real, psi_initial[length][3][0].imag\n",
    "        k+=1\n",
    "\n",
    "        \n",
    "#so my a_array and such going to contain values for both initial states\n",
    "#0 and 1\n",
    "\n",
    "#a_array[0:nsteps+1], a_array[nsteps+1:] = (first vector, second vector) \n",
    "\n",
    "\n",
    "###########################################################################\n",
    "#div, len(a_array), \n",
    "#a_array[0:nsteps+1], a_array[nsteps+1:] = (first vector, second vector) \n",
    "###########################################################################\n",
    "\n",
    "# plt.plot(t,a_array[0:nsteps+1],'b',label='|00>')\n",
    "# plt.plot(t,b_array[0:nsteps+1],'g',label='|01>')\n",
    "# plt.plot(t,c_array[0:nsteps+1],'r',label='|10>')\n",
    "# plt.plot(t,d_array[0:nsteps+1],'k',label='|11>')\n",
    "# plt.legend()\n",
    "# plt.show()\n",
    "\n",
    "\n",
    "fig, axs = plt.subplots(2,2)\n",
    "axs[0,0].plot(t,a_array[0:nsteps+1],'b',label='|00>')\n",
    "axs[0,0].legend()\n",
    "#axs[0,0].set_title('prob distribution of state |00>')\n",
    "axs[0,1].plot(t, b_array[0:nsteps+1],'g',label='|01>')\n",
    "axs[0,1].legend()\n",
    "axs[1,0].plot(t, c_array[0:nsteps+1],'r',label='|10>')\n",
    "axs[1,0].legend()\n",
    "axs[1,1].plot(t, d_array[0:nsteps+1],'k',label='|11>')\n",
    "axs[1,1].legend()\n",
    "\n",
    "for ax in axs.flat:\n",
    "    ax.set(xlabel='time', ylabel='complex # squared')\n",
    "\n",
    "# Hide x labels and tick labels for top plots and y ticks for right plots.\n",
    "for ax in axs.flat:\n",
    "    ax.label_outer()\n",
    "print('\\nP = ', P, '\\tJ = ', J, '\\tE = ', E_array[0],'\\nInitial State = ',\n",
    "     psi_initial[0])\n",
    "# ##########################################################################################\n",
    "\n",
    "# E = -0.0829806823365895\n",
    "# E =  -0.23904176709730762 \n",
    "# E =  0.4528425029534273 \n",
    "# E =  -0.40402154911946553 \n",
    "# E =  0.45078074750701513 "
   ]
  }
 ],
 "metadata": {
  "kernelspec": {
   "display_name": "Python 3 (ipykernel)",
   "language": "python",
   "name": "python3"
  },
  "language_info": {
   "codemirror_mode": {
    "name": "ipython",
    "version": 3
   },
   "file_extension": ".py",
   "mimetype": "text/x-python",
   "name": "python",
   "nbconvert_exporter": "python",
   "pygments_lexer": "ipython3",
   "version": "3.9.7"
  }
 },
 "nbformat": 4,
 "nbformat_minor": 5
}
