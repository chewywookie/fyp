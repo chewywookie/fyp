{
 "cells": [
  {
   "cell_type": "code",
   "execution_count": 37,
   "id": "a3486786",
   "metadata": {},
   "outputs": [
    {
     "name": "stdout",
     "output_type": "stream",
     "text": [
      "key =  COLOUR\n",
      "value =  ('BLACK', 'YELLOW', 'GREEN')\n",
      "key =  WHEELS\n",
      "value =  (2, 4, 6)\n",
      "key =  GENDER\n",
      "value =  ('M', 'F')\n",
      "colour of car:'BLACK'\n",
      "# wheels:4\n",
      "gender: 'M'\n"
     ]
    },
    {
     "data": {
      "text/plain": [
       "(\"'BLACK'\", '4', \"'M'\")"
      ]
     },
     "execution_count": 37,
     "metadata": {},
     "output_type": "execute_result"
    }
   ],
   "source": [
    "import numpy as np\n",
    "\n",
    "n = 20\n",
    "erray = np.zeros(n)\n",
    "#print(a)\n",
    "orray=np.zeros(n)\n",
    "\n",
    "for i in range(n):\n",
    "    erray[i] = 2 * i\n",
    "    orray[i] = 2*i + 1\n",
    "\n",
    "a_dict = {\n",
    "    'even':erray,\n",
    "    'odd':orray\n",
    "}\n",
    "dick = {'COLOUR':('BLACK', 'YELLOW', 'GREEN') , 'WHEELS':(2,4,6) , 'GENDER':('M','F')}\n",
    "\n",
    "\n",
    "def dic():\n",
    "    c = input('colour of car:')\n",
    "    w = input('# wheels:')\n",
    "    g = input('gender: ')\n",
    "    return c,w,g\n",
    "dic()\n",
    "\n",
    "for key in dick:\n",
    "    x,y,z = dick[key]\n",
    "    if x == c and \n",
    "        \n",
    "    print(key, )\n",
    "    print('value = ', value)\n",
    "    "
   ]
  },
  {
   "cell_type": "code",
   "execution_count": null,
   "id": "2d52b39f",
   "metadata": {},
   "outputs": [],
   "source": []
  },
  {
   "cell_type": "code",
   "execution_count": null,
   "id": "82684989",
   "metadata": {},
   "outputs": [],
   "source": []
  }
 ],
 "metadata": {
  "kernelspec": {
   "display_name": "Python 3 (ipykernel)",
   "language": "python",
   "name": "python3"
  },
  "language_info": {
   "codemirror_mode": {
    "name": "ipython",
    "version": 3
   },
   "file_extension": ".py",
   "mimetype": "text/x-python",
   "name": "python",
   "nbconvert_exporter": "python",
   "pygments_lexer": "ipython3",
   "version": "3.9.7"
  }
 },
 "nbformat": 4,
 "nbformat_minor": 5
}
