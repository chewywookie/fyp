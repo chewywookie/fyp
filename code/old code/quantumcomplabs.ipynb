{
 "cells": [
  {
   "cell_type": "code",
   "execution_count": null,
   "id": "7309e809",
   "metadata": {},
   "outputs": [],
   "source": [
    "#LAB 1 Quantum Circuits \n"
   ]
  },
  {
   "cell_type": "code",
   "execution_count": 1,
   "id": "f60df214",
   "metadata": {},
   "outputs": [],
   "source": [
    "from qiskit import *\n",
    "#from pylatexenc import MatplotlibDrawer\n",
    "from qiskit.visualization import plot_histogram \n",
    "import numpy as np"
   ]
  },
  {
   "cell_type": "code",
   "execution_count": 2,
   "id": "fe47b549",
   "metadata": {},
   "outputs": [],
   "source": [
    "#goal to create qc that compute xor, and, nand, or gates using\n",
    "#not gate, cnot and and gate\n"
   ]
  },
  {
   "cell_type": "code",
   "execution_count": 7,
   "id": "74abebf7",
   "metadata": {},
   "outputs": [],
   "source": [
    "#eg not\n",
    "def NOT(n):\n",
    "    qc = QuantumCircuit(1,1)\n",
    "    qc.reset(0)\n",
    "    if n=='1':\n",
    "        qc.x(0)\n",
    "    qc.barrier()\n",
    "    qc.x(0)\n",
    "    qc.barrier()\n",
    "    qc.measure(0,0)\n",
    "    #qc.draw('mpl')\n",
    "    \n",
    "    sim = Aer.get_backend('aer_simulator')\n",
    "        # Since the output will be deterministic\n",
    "        #,we can use just a single shot to get it\n",
    "    job = sim.run(qc, shots = 1, memory = True)\n",
    "    output = job.result().get_memory()[0]\n",
    "\n",
    "    return qc, output\n",
    "    "
   ]
  },
  {
   "cell_type": "code",
   "execution_count": 8,
   "id": "e461918b",
   "metadata": {
    "collapsed": true
   },
   "outputs": [
    {
     "name": "stdout",
     "output_type": "stream",
     "text": [
      "NOT with input 0 gives output 1\n"
     ]
    },
    {
     "data": {
      "text/html": [
       "<pre style=\"word-wrap: normal;white-space: pre;background: #fff0;line-height: 1.1;font-family: &quot;Courier New&quot;,Courier,monospace\">           ░ ┌───┐ ░ ┌─┐\n",
       "  q: ─|0>──░─┤ X ├─░─┤M├\n",
       "           ░ └───┘ ░ └╥┘\n",
       "c: 1/═════════════════╩═\n",
       "                      0 </pre>"
      ],
      "text/plain": [
       "           ░ ┌───┐ ░ ┌─┐\n",
       "  q: ─|0>──░─┤ X ├─░─┤M├\n",
       "           ░ └───┘ ░ └╥┘\n",
       "c: 1/═════════════════╩═\n",
       "                      0 "
      ]
     },
     "metadata": {},
     "output_type": "display_data"
    },
    {
     "name": "stdout",
     "output_type": "stream",
     "text": [
      "\n",
      "\n",
      "NOT with input 1 gives output 0\n"
     ]
    },
    {
     "data": {
      "text/html": [
       "<pre style=\"word-wrap: normal;white-space: pre;background: #fff0;line-height: 1.1;font-family: &quot;Courier New&quot;,Courier,monospace\">          ┌───┐ ░ ┌───┐ ░ ┌─┐\n",
       "  q: ─|0>─┤ X ├─░─┤ X ├─░─┤M├\n",
       "          └───┘ ░ └───┘ ░ └╥┘\n",
       "c: 1/══════════════════════╩═\n",
       "                           0 </pre>"
      ],
      "text/plain": [
       "          ┌───┐ ░ ┌───┐ ░ ┌─┐\n",
       "  q: ─|0>─┤ X ├─░─┤ X ├─░─┤M├\n",
       "          └───┘ ░ └───┘ ░ └╥┘\n",
       "c: 1/══════════════════════╩═\n",
       "                           0 "
      ]
     },
     "metadata": {},
     "output_type": "display_data"
    },
    {
     "name": "stdout",
     "output_type": "stream",
     "text": [
      "\n",
      "\n"
     ]
    }
   ],
   "source": [
    "for n in ['0', '1']:\n",
    "    qc, out = NOT(n)\n",
    "    print('NOT with input',n,'gives output',out)\n",
    "    display(qc.draw())\n",
    "    print('\\n')"
   ]
  },
  {
   "cell_type": "code",
   "execution_count": null,
   "id": "67386ba7",
   "metadata": {},
   "outputs": [],
   "source": [
    "#pip install pylatexenc"
   ]
  },
  {
   "cell_type": "code",
   "execution_count": 10,
   "id": "89f6a360",
   "metadata": {},
   "outputs": [],
   "source": [
    "def XOR(a,b):\n",
    "    qc = QuantumCircuit(2,1)\n",
    "    qc.reset(range(2))\n",
    "    if a=='1':\n",
    "        qc.x(0)\n",
    "    if b=='1':\n",
    "        qc.x(1)\n",
    "    qc.barrier()\n",
    "    qc.cx(0,1)\n",
    "    qc.barrier()\n",
    "    qc.measure(1,0)\n",
    "    sim = Aer.get_backend('aer_simulator')\n",
    "    result = sim.run(qc, shots=1, memory = True)\n",
    "    op = result.result().get_memory()[0]\n",
    "    \n",
    "    return qc, op"
   ]
  },
  {
   "cell_type": "code",
   "execution_count": 12,
   "id": "910eff68",
   "metadata": {
    "collapsed": true
   },
   "outputs": [
    {
     "name": "stdout",
     "output_type": "stream",
     "text": [
      "XOR with inputs 0 0 gives output 0\n"
     ]
    },
    {
     "data": {
      "text/html": [
       "<pre style=\"word-wrap: normal;white-space: pre;background: #fff0;line-height: 1.1;font-family: &quot;Courier New&quot;,Courier,monospace\">           ░       ░    \n",
       "q_0: ─|0>──░───■───░────\n",
       "           ░ ┌─┴─┐ ░ ┌─┐\n",
       "q_1: ─|0>──░─┤ X ├─░─┤M├\n",
       "           ░ └───┘ ░ └╥┘\n",
       "c: 1/═════════════════╩═\n",
       "                      0 </pre>"
      ],
      "text/plain": [
       "           ░       ░    \n",
       "q_0: ─|0>──░───■───░────\n",
       "           ░ ┌─┴─┐ ░ ┌─┐\n",
       "q_1: ─|0>──░─┤ X ├─░─┤M├\n",
       "           ░ └───┘ ░ └╥┘\n",
       "c: 1/═════════════════╩═\n",
       "                      0 "
      ]
     },
     "metadata": {},
     "output_type": "display_data"
    },
    {
     "name": "stdout",
     "output_type": "stream",
     "text": [
      "\n",
      "\n",
      "XOR with inputs 0 1 gives output 1\n"
     ]
    },
    {
     "data": {
      "text/html": [
       "<pre style=\"word-wrap: normal;white-space: pre;background: #fff0;line-height: 1.1;font-family: &quot;Courier New&quot;,Courier,monospace\">                ░       ░    \n",
       "q_0: ─|0>───────░───■───░────\n",
       "          ┌───┐ ░ ┌─┴─┐ ░ ┌─┐\n",
       "q_1: ─|0>─┤ X ├─░─┤ X ├─░─┤M├\n",
       "          └───┘ ░ └───┘ ░ └╥┘\n",
       "c: 1/══════════════════════╩═\n",
       "                           0 </pre>"
      ],
      "text/plain": [
       "                ░       ░    \n",
       "q_0: ─|0>───────░───■───░────\n",
       "          ┌───┐ ░ ┌─┴─┐ ░ ┌─┐\n",
       "q_1: ─|0>─┤ X ├─░─┤ X ├─░─┤M├\n",
       "          └───┘ ░ └───┘ ░ └╥┘\n",
       "c: 1/══════════════════════╩═\n",
       "                           0 "
      ]
     },
     "metadata": {},
     "output_type": "display_data"
    },
    {
     "name": "stdout",
     "output_type": "stream",
     "text": [
      "\n",
      "\n",
      "XOR with inputs 1 0 gives output 1\n"
     ]
    },
    {
     "data": {
      "text/html": [
       "<pre style=\"word-wrap: normal;white-space: pre;background: #fff0;line-height: 1.1;font-family: &quot;Courier New&quot;,Courier,monospace\">          ┌───┐ ░       ░    \n",
       "q_0: ─|0>─┤ X ├─░───■───░────\n",
       "          └───┘ ░ ┌─┴─┐ ░ ┌─┐\n",
       "q_1: ─|0>───────░─┤ X ├─░─┤M├\n",
       "                ░ └───┘ ░ └╥┘\n",
       "c: 1/══════════════════════╩═\n",
       "                           0 </pre>"
      ],
      "text/plain": [
       "          ┌───┐ ░       ░    \n",
       "q_0: ─|0>─┤ X ├─░───■───░────\n",
       "          └───┘ ░ ┌─┴─┐ ░ ┌─┐\n",
       "q_1: ─|0>───────░─┤ X ├─░─┤M├\n",
       "                ░ └───┘ ░ └╥┘\n",
       "c: 1/══════════════════════╩═\n",
       "                           0 "
      ]
     },
     "metadata": {},
     "output_type": "display_data"
    },
    {
     "name": "stdout",
     "output_type": "stream",
     "text": [
      "\n",
      "\n",
      "XOR with inputs 1 1 gives output 0\n"
     ]
    },
    {
     "data": {
      "text/html": [
       "<pre style=\"word-wrap: normal;white-space: pre;background: #fff0;line-height: 1.1;font-family: &quot;Courier New&quot;,Courier,monospace\">          ┌───┐ ░       ░    \n",
       "q_0: ─|0>─┤ X ├─░───■───░────\n",
       "          ├───┤ ░ ┌─┴─┐ ░ ┌─┐\n",
       "q_1: ─|0>─┤ X ├─░─┤ X ├─░─┤M├\n",
       "          └───┘ ░ └───┘ ░ └╥┘\n",
       "c: 1/══════════════════════╩═\n",
       "                           0 </pre>"
      ],
      "text/plain": [
       "          ┌───┐ ░       ░    \n",
       "q_0: ─|0>─┤ X ├─░───■───░────\n",
       "          ├───┤ ░ ┌─┴─┐ ░ ┌─┐\n",
       "q_1: ─|0>─┤ X ├─░─┤ X ├─░─┤M├\n",
       "          └───┘ ░ └───┘ ░ └╥┘\n",
       "c: 1/══════════════════════╩═\n",
       "                           0 "
      ]
     },
     "metadata": {},
     "output_type": "display_data"
    },
    {
     "name": "stdout",
     "output_type": "stream",
     "text": [
      "\n",
      "\n"
     ]
    }
   ],
   "source": [
    "for a in ['0','1']:\n",
    "    for b in ['0','1']:\n",
    "        qc, op = XOR(a,b)\n",
    "        print('XOR with inputs',a,b,'gives output',op)\n",
    "        display(qc.draw())\n",
    "        print('\\n')"
   ]
  },
  {
   "cell_type": "code",
   "execution_count": 15,
   "id": "b6aae93e",
   "metadata": {},
   "outputs": [],
   "source": [
    "def AND(a,b):\n",
    "    qc=QuantumCircuit(3,1)\n",
    "    qc.reset(range(2))\n",
    "    \n",
    "    if a=='1':\n",
    "        qc.x(0)\n",
    "    if b=='1':\n",
    "        qc.x(1)\n",
    "    qc.barrier()\n",
    "    qc.ccx(0,1,2)\n",
    "    qc.barrier(0)\n",
    "    qc.measure(2,0)\n",
    "    sim = Aer.get_backend('aer_simulator')\n",
    "    res = sim.run(qc, shots=1, memory=True)\n",
    "    op = res.result().get_memory()[0]\n",
    "    \n",
    "    return qc, op\n",
    "    \n",
    "    "
   ]
  },
  {
   "cell_type": "code",
   "execution_count": 16,
   "id": "40ab10cf",
   "metadata": {
    "collapsed": true
   },
   "outputs": [
    {
     "name": "stdout",
     "output_type": "stream",
     "text": [
      "And with inputs 0 0 gives outputs 0\n"
     ]
    },
    {
     "data": {
      "text/html": [
       "<pre style=\"word-wrap: normal;white-space: pre;background: #fff0;line-height: 1.1;font-family: &quot;Courier New&quot;,Courier,monospace\">           ░       ░ \n",
       "q_0: ─|0>──░───■───░─\n",
       "           ░   │   ░ \n",
       "q_1: ─|0>──░───■─────\n",
       "           ░ ┌─┴─┐┌─┐\n",
       "q_2: ──────░─┤ X ├┤M├\n",
       "           ░ └───┘└╥┘\n",
       "c: 1/══════════════╩═\n",
       "                   0 </pre>"
      ],
      "text/plain": [
       "           ░       ░ \n",
       "q_0: ─|0>──░───■───░─\n",
       "           ░   │   ░ \n",
       "q_1: ─|0>──░───■─────\n",
       "           ░ ┌─┴─┐┌─┐\n",
       "q_2: ──────░─┤ X ├┤M├\n",
       "           ░ └───┘└╥┘\n",
       "c: 1/══════════════╩═\n",
       "                   0 "
      ]
     },
     "metadata": {},
     "output_type": "display_data"
    },
    {
     "name": "stdout",
     "output_type": "stream",
     "text": [
      "\n",
      "\n",
      "And with inputs 0 1 gives outputs 0\n"
     ]
    },
    {
     "data": {
      "text/html": [
       "<pre style=\"word-wrap: normal;white-space: pre;background: #fff0;line-height: 1.1;font-family: &quot;Courier New&quot;,Courier,monospace\">                ░       ░ \n",
       "q_0: ─|0>───────░───■───░─\n",
       "          ┌───┐ ░   │   ░ \n",
       "q_1: ─|0>─┤ X ├─░───■─────\n",
       "          └───┘ ░ ┌─┴─┐┌─┐\n",
       "q_2: ───────────░─┤ X ├┤M├\n",
       "                ░ └───┘└╥┘\n",
       "c: 1/═══════════════════╩═\n",
       "                        0 </pre>"
      ],
      "text/plain": [
       "                ░       ░ \n",
       "q_0: ─|0>───────░───■───░─\n",
       "          ┌───┐ ░   │   ░ \n",
       "q_1: ─|0>─┤ X ├─░───■─────\n",
       "          └───┘ ░ ┌─┴─┐┌─┐\n",
       "q_2: ───────────░─┤ X ├┤M├\n",
       "                ░ └───┘└╥┘\n",
       "c: 1/═══════════════════╩═\n",
       "                        0 "
      ]
     },
     "metadata": {},
     "output_type": "display_data"
    },
    {
     "name": "stdout",
     "output_type": "stream",
     "text": [
      "\n",
      "\n",
      "And with inputs 1 0 gives outputs 0\n"
     ]
    },
    {
     "data": {
      "text/html": [
       "<pre style=\"word-wrap: normal;white-space: pre;background: #fff0;line-height: 1.1;font-family: &quot;Courier New&quot;,Courier,monospace\">          ┌───┐ ░       ░ \n",
       "q_0: ─|0>─┤ X ├─░───■───░─\n",
       "          └───┘ ░   │   ░ \n",
       "q_1: ─|0>───────░───■─────\n",
       "                ░ ┌─┴─┐┌─┐\n",
       "q_2: ───────────░─┤ X ├┤M├\n",
       "                ░ └───┘└╥┘\n",
       "c: 1/═══════════════════╩═\n",
       "                        0 </pre>"
      ],
      "text/plain": [
       "          ┌───┐ ░       ░ \n",
       "q_0: ─|0>─┤ X ├─░───■───░─\n",
       "          └───┘ ░   │   ░ \n",
       "q_1: ─|0>───────░───■─────\n",
       "                ░ ┌─┴─┐┌─┐\n",
       "q_2: ───────────░─┤ X ├┤M├\n",
       "                ░ └───┘└╥┘\n",
       "c: 1/═══════════════════╩═\n",
       "                        0 "
      ]
     },
     "metadata": {},
     "output_type": "display_data"
    },
    {
     "name": "stdout",
     "output_type": "stream",
     "text": [
      "\n",
      "\n",
      "And with inputs 1 1 gives outputs 1\n"
     ]
    },
    {
     "data": {
      "text/html": [
       "<pre style=\"word-wrap: normal;white-space: pre;background: #fff0;line-height: 1.1;font-family: &quot;Courier New&quot;,Courier,monospace\">          ┌───┐ ░       ░ \n",
       "q_0: ─|0>─┤ X ├─░───■───░─\n",
       "          ├───┤ ░   │   ░ \n",
       "q_1: ─|0>─┤ X ├─░───■─────\n",
       "          └───┘ ░ ┌─┴─┐┌─┐\n",
       "q_2: ───────────░─┤ X ├┤M├\n",
       "                ░ └───┘└╥┘\n",
       "c: 1/═══════════════════╩═\n",
       "                        0 </pre>"
      ],
      "text/plain": [
       "          ┌───┐ ░       ░ \n",
       "q_0: ─|0>─┤ X ├─░───■───░─\n",
       "          ├───┤ ░   │   ░ \n",
       "q_1: ─|0>─┤ X ├─░───■─────\n",
       "          └───┘ ░ ┌─┴─┐┌─┐\n",
       "q_2: ───────────░─┤ X ├┤M├\n",
       "                ░ └───┘└╥┘\n",
       "c: 1/═══════════════════╩═\n",
       "                        0 "
      ]
     },
     "metadata": {},
     "output_type": "display_data"
    },
    {
     "name": "stdout",
     "output_type": "stream",
     "text": [
      "\n",
      "\n"
     ]
    }
   ],
   "source": [
    "for a in ['0','1']:\n",
    "    for b in ['0', '1']:\n",
    "        qc, op = AND(a,b)\n",
    "        print('And with inputs', a,b, 'gives outputs', op)\n",
    "        display(qc.draw())\n",
    "        print('\\n')"
   ]
  },
  {
   "cell_type": "code",
   "execution_count": 26,
   "id": "a0339174",
   "metadata": {},
   "outputs": [],
   "source": [
    "def NAND(a,b):\n",
    "    qc = QuantumCircuit(3,1)\n",
    "    qc.reset(range(3))\n",
    "    \n",
    "    if a=='1':\n",
    "        qc.x(0)\n",
    "    if b=='1':\n",
    "        qc.x(1)\n",
    "    qc.barrier()\n",
    "    \n",
    "    qc.ccx(0,1,2)\n",
    "    qc.x(2)\n",
    "    qc.barrier()\n",
    "    qc.measure(2,0)\n",
    "    qc.barrier()\n",
    "    \n",
    "    sim = Aer.get_backend('aer_simulator')\n",
    "    res = sim.run(qc, shots=1, memory=True)\n",
    "    op = res.result().get_memory()[0]\n",
    "    \n",
    "    return qc, op\n",
    "    \n"
   ]
  },
  {
   "cell_type": "code",
   "execution_count": 27,
   "id": "1c5a37b4",
   "metadata": {
    "collapsed": true
   },
   "outputs": [
    {
     "name": "stdout",
     "output_type": "stream",
     "text": [
      "NAND inputs 0 0 with outputs 1\n"
     ]
    },
    {
     "data": {
      "text/html": [
       "<pre style=\"word-wrap: normal;white-space: pre;background: #fff0;line-height: 1.1;font-family: &quot;Courier New&quot;,Courier,monospace\">           ░            ░     ░ \n",
       "q_0: ─|0>──░───■────────░─────░─\n",
       "           ░   │        ░     ░ \n",
       "q_1: ─|0>──░───■────────░─────░─\n",
       "           ░ ┌─┴─┐┌───┐ ░ ┌─┐ ░ \n",
       "q_2: ─|0>──░─┤ X ├┤ X ├─░─┤M├─░─\n",
       "           ░ └───┘└───┘ ░ └╥┘ ░ \n",
       "c: 1/══════════════════════╩════\n",
       "                           0    </pre>"
      ],
      "text/plain": [
       "           ░            ░     ░ \n",
       "q_0: ─|0>──░───■────────░─────░─\n",
       "           ░   │        ░     ░ \n",
       "q_1: ─|0>──░───■────────░─────░─\n",
       "           ░ ┌─┴─┐┌───┐ ░ ┌─┐ ░ \n",
       "q_2: ─|0>──░─┤ X ├┤ X ├─░─┤M├─░─\n",
       "           ░ └───┘└───┘ ░ └╥┘ ░ \n",
       "c: 1/══════════════════════╩════\n",
       "                           0    "
      ]
     },
     "metadata": {},
     "output_type": "display_data"
    },
    {
     "name": "stdout",
     "output_type": "stream",
     "text": [
      "\n",
      "\n",
      "NAND inputs 0 1 with outputs 1\n"
     ]
    },
    {
     "data": {
      "text/html": [
       "<pre style=\"word-wrap: normal;white-space: pre;background: #fff0;line-height: 1.1;font-family: &quot;Courier New&quot;,Courier,monospace\">                ░            ░     ░ \n",
       "q_0: ─|0>───────░───■────────░─────░─\n",
       "          ┌───┐ ░   │        ░     ░ \n",
       "q_1: ─|0>─┤ X ├─░───■────────░─────░─\n",
       "          └───┘ ░ ┌─┴─┐┌───┐ ░ ┌─┐ ░ \n",
       "q_2: ─|0>───────░─┤ X ├┤ X ├─░─┤M├─░─\n",
       "                ░ └───┘└───┘ ░ └╥┘ ░ \n",
       "c: 1/═══════════════════════════╩════\n",
       "                                0    </pre>"
      ],
      "text/plain": [
       "                ░            ░     ░ \n",
       "q_0: ─|0>───────░───■────────░─────░─\n",
       "          ┌───┐ ░   │        ░     ░ \n",
       "q_1: ─|0>─┤ X ├─░───■────────░─────░─\n",
       "          └───┘ ░ ┌─┴─┐┌───┐ ░ ┌─┐ ░ \n",
       "q_2: ─|0>───────░─┤ X ├┤ X ├─░─┤M├─░─\n",
       "                ░ └───┘└───┘ ░ └╥┘ ░ \n",
       "c: 1/═══════════════════════════╩════\n",
       "                                0    "
      ]
     },
     "metadata": {},
     "output_type": "display_data"
    },
    {
     "name": "stdout",
     "output_type": "stream",
     "text": [
      "\n",
      "\n",
      "NAND inputs 1 0 with outputs 1\n"
     ]
    },
    {
     "data": {
      "text/html": [
       "<pre style=\"word-wrap: normal;white-space: pre;background: #fff0;line-height: 1.1;font-family: &quot;Courier New&quot;,Courier,monospace\">          ┌───┐ ░            ░     ░ \n",
       "q_0: ─|0>─┤ X ├─░───■────────░─────░─\n",
       "          └───┘ ░   │        ░     ░ \n",
       "q_1: ─|0>───────░───■────────░─────░─\n",
       "                ░ ┌─┴─┐┌───┐ ░ ┌─┐ ░ \n",
       "q_2: ─|0>───────░─┤ X ├┤ X ├─░─┤M├─░─\n",
       "                ░ └───┘└───┘ ░ └╥┘ ░ \n",
       "c: 1/═══════════════════════════╩════\n",
       "                                0    </pre>"
      ],
      "text/plain": [
       "          ┌───┐ ░            ░     ░ \n",
       "q_0: ─|0>─┤ X ├─░───■────────░─────░─\n",
       "          └───┘ ░   │        ░     ░ \n",
       "q_1: ─|0>───────░───■────────░─────░─\n",
       "                ░ ┌─┴─┐┌───┐ ░ ┌─┐ ░ \n",
       "q_2: ─|0>───────░─┤ X ├┤ X ├─░─┤M├─░─\n",
       "                ░ └───┘└───┘ ░ └╥┘ ░ \n",
       "c: 1/═══════════════════════════╩════\n",
       "                                0    "
      ]
     },
     "metadata": {},
     "output_type": "display_data"
    },
    {
     "name": "stdout",
     "output_type": "stream",
     "text": [
      "\n",
      "\n",
      "NAND inputs 1 1 with outputs 0\n"
     ]
    },
    {
     "data": {
      "text/html": [
       "<pre style=\"word-wrap: normal;white-space: pre;background: #fff0;line-height: 1.1;font-family: &quot;Courier New&quot;,Courier,monospace\">          ┌───┐ ░            ░     ░ \n",
       "q_0: ─|0>─┤ X ├─░───■────────░─────░─\n",
       "          ├───┤ ░   │        ░     ░ \n",
       "q_1: ─|0>─┤ X ├─░───■────────░─────░─\n",
       "          └───┘ ░ ┌─┴─┐┌───┐ ░ ┌─┐ ░ \n",
       "q_2: ─|0>───────░─┤ X ├┤ X ├─░─┤M├─░─\n",
       "                ░ └───┘└───┘ ░ └╥┘ ░ \n",
       "c: 1/═══════════════════════════╩════\n",
       "                                0    </pre>"
      ],
      "text/plain": [
       "          ┌───┐ ░            ░     ░ \n",
       "q_0: ─|0>─┤ X ├─░───■────────░─────░─\n",
       "          ├───┤ ░   │        ░     ░ \n",
       "q_1: ─|0>─┤ X ├─░───■────────░─────░─\n",
       "          └───┘ ░ ┌─┴─┐┌───┐ ░ ┌─┐ ░ \n",
       "q_2: ─|0>───────░─┤ X ├┤ X ├─░─┤M├─░─\n",
       "                ░ └───┘└───┘ ░ └╥┘ ░ \n",
       "c: 1/═══════════════════════════╩════\n",
       "                                0    "
      ]
     },
     "metadata": {},
     "output_type": "display_data"
    },
    {
     "name": "stdout",
     "output_type": "stream",
     "text": [
      "\n",
      "\n"
     ]
    }
   ],
   "source": [
    "for a in ['0','1']:\n",
    "    for b in ['0', '1']:\n",
    "        qc, op = NAND(a,b)\n",
    "        print('NAND inputs',a,b,'with outputs',op)\n",
    "        display(qc.draw())\n",
    "        print('\\n')\n",
    "        "
   ]
  },
  {
   "cell_type": "code",
   "execution_count": 32,
   "id": "d7e2bea9",
   "metadata": {},
   "outputs": [],
   "source": [
    "def OR(a,b):\n",
    "    qc = QuantumCircuit(3, 1)\n",
    "    qc.reset(range(3))\n",
    "    \n",
    "    if a=='1':\n",
    "        qc.x(0)\n",
    "    if b=='1':\n",
    "        qc.x(1)\n",
    "    qc.barrier()\n",
    "    \n",
    "    qc.ccx(0,1,2)\n",
    "    qc.barrier()\n",
    "    if a == '1' and b == '0':\n",
    "        qc.x(2)\n",
    "    if a == '0' and b == '1':\n",
    "        qc.x(2)\n",
    "    \n",
    "    \n",
    "    qc.barrier()\n",
    "    qc.measure(2,0)\n",
    "    qc.barrier()\n",
    "    \n",
    "    sim = Aer.get_backend('aer_simulator')\n",
    "    res = sim.run(qc, shots=1, memory=True)\n",
    "    op = res.result().get_memory()[0]\n",
    "    \n",
    "    return qc, op"
   ]
  },
  {
   "cell_type": "code",
   "execution_count": 33,
   "id": "a4403337",
   "metadata": {
    "collapsed": true
   },
   "outputs": [
    {
     "name": "stdout",
     "output_type": "stream",
     "text": [
      "OR with inputs 0 0 with output 0\n"
     ]
    },
    {
     "data": {
      "text/html": [
       "<pre style=\"word-wrap: normal;white-space: pre;background: #fff0;line-height: 1.1;font-family: &quot;Courier New&quot;,Courier,monospace\">           ░       ░  ░     ░ \n",
       "q_0: ─|0>──░───■───░──░─────░─\n",
       "           ░   │   ░  ░     ░ \n",
       "q_1: ─|0>──░───■───░──░─────░─\n",
       "           ░ ┌─┴─┐ ░  ░ ┌─┐ ░ \n",
       "q_2: ─|0>──░─┤ X ├─░──░─┤M├─░─\n",
       "           ░ └───┘ ░  ░ └╥┘ ░ \n",
       "c: 1/════════════════════╩════\n",
       "                         0    </pre>"
      ],
      "text/plain": [
       "           ░       ░  ░     ░ \n",
       "q_0: ─|0>──░───■───░──░─────░─\n",
       "           ░   │   ░  ░     ░ \n",
       "q_1: ─|0>──░───■───░──░─────░─\n",
       "           ░ ┌─┴─┐ ░  ░ ┌─┐ ░ \n",
       "q_2: ─|0>──░─┤ X ├─░──░─┤M├─░─\n",
       "           ░ └───┘ ░  ░ └╥┘ ░ \n",
       "c: 1/════════════════════╩════\n",
       "                         0    "
      ]
     },
     "metadata": {},
     "output_type": "display_data"
    },
    {
     "name": "stdout",
     "output_type": "stream",
     "text": [
      "\n",
      "\n",
      "OR with inputs 0 1 with output 1\n"
     ]
    },
    {
     "data": {
      "text/html": [
       "<pre style=\"word-wrap: normal;white-space: pre;background: #fff0;line-height: 1.1;font-family: &quot;Courier New&quot;,Courier,monospace\">                ░       ░       ░     ░ \n",
       "q_0: ─|0>───────░───■───░───────░─────░─\n",
       "          ┌───┐ ░   │   ░       ░     ░ \n",
       "q_1: ─|0>─┤ X ├─░───■───░───────░─────░─\n",
       "          └───┘ ░ ┌─┴─┐ ░ ┌───┐ ░ ┌─┐ ░ \n",
       "q_2: ─|0>───────░─┤ X ├─░─┤ X ├─░─┤M├─░─\n",
       "                ░ └───┘ ░ └───┘ ░ └╥┘ ░ \n",
       "c: 1/══════════════════════════════╩════\n",
       "                                   0    </pre>"
      ],
      "text/plain": [
       "                ░       ░       ░     ░ \n",
       "q_0: ─|0>───────░───■───░───────░─────░─\n",
       "          ┌───┐ ░   │   ░       ░     ░ \n",
       "q_1: ─|0>─┤ X ├─░───■───░───────░─────░─\n",
       "          └───┘ ░ ┌─┴─┐ ░ ┌───┐ ░ ┌─┐ ░ \n",
       "q_2: ─|0>───────░─┤ X ├─░─┤ X ├─░─┤M├─░─\n",
       "                ░ └───┘ ░ └───┘ ░ └╥┘ ░ \n",
       "c: 1/══════════════════════════════╩════\n",
       "                                   0    "
      ]
     },
     "metadata": {},
     "output_type": "display_data"
    },
    {
     "name": "stdout",
     "output_type": "stream",
     "text": [
      "\n",
      "\n",
      "OR with inputs 1 0 with output 1\n"
     ]
    },
    {
     "data": {
      "text/html": [
       "<pre style=\"word-wrap: normal;white-space: pre;background: #fff0;line-height: 1.1;font-family: &quot;Courier New&quot;,Courier,monospace\">          ┌───┐ ░       ░       ░     ░ \n",
       "q_0: ─|0>─┤ X ├─░───■───░───────░─────░─\n",
       "          └───┘ ░   │   ░       ░     ░ \n",
       "q_1: ─|0>───────░───■───░───────░─────░─\n",
       "                ░ ┌─┴─┐ ░ ┌───┐ ░ ┌─┐ ░ \n",
       "q_2: ─|0>───────░─┤ X ├─░─┤ X ├─░─┤M├─░─\n",
       "                ░ └───┘ ░ └───┘ ░ └╥┘ ░ \n",
       "c: 1/══════════════════════════════╩════\n",
       "                                   0    </pre>"
      ],
      "text/plain": [
       "          ┌───┐ ░       ░       ░     ░ \n",
       "q_0: ─|0>─┤ X ├─░───■───░───────░─────░─\n",
       "          └───┘ ░   │   ░       ░     ░ \n",
       "q_1: ─|0>───────░───■───░───────░─────░─\n",
       "                ░ ┌─┴─┐ ░ ┌───┐ ░ ┌─┐ ░ \n",
       "q_2: ─|0>───────░─┤ X ├─░─┤ X ├─░─┤M├─░─\n",
       "                ░ └───┘ ░ └───┘ ░ └╥┘ ░ \n",
       "c: 1/══════════════════════════════╩════\n",
       "                                   0    "
      ]
     },
     "metadata": {},
     "output_type": "display_data"
    },
    {
     "name": "stdout",
     "output_type": "stream",
     "text": [
      "\n",
      "\n",
      "OR with inputs 1 1 with output 1\n"
     ]
    },
    {
     "data": {
      "text/html": [
       "<pre style=\"word-wrap: normal;white-space: pre;background: #fff0;line-height: 1.1;font-family: &quot;Courier New&quot;,Courier,monospace\">          ┌───┐ ░       ░  ░     ░ \n",
       "q_0: ─|0>─┤ X ├─░───■───░──░─────░─\n",
       "          ├───┤ ░   │   ░  ░     ░ \n",
       "q_1: ─|0>─┤ X ├─░───■───░──░─────░─\n",
       "          └───┘ ░ ┌─┴─┐ ░  ░ ┌─┐ ░ \n",
       "q_2: ─|0>───────░─┤ X ├─░──░─┤M├─░─\n",
       "                ░ └───┘ ░  ░ └╥┘ ░ \n",
       "c: 1/═════════════════════════╩════\n",
       "                              0    </pre>"
      ],
      "text/plain": [
       "          ┌───┐ ░       ░  ░     ░ \n",
       "q_0: ─|0>─┤ X ├─░───■───░──░─────░─\n",
       "          ├───┤ ░   │   ░  ░     ░ \n",
       "q_1: ─|0>─┤ X ├─░───■───░──░─────░─\n",
       "          └───┘ ░ ┌─┴─┐ ░  ░ ┌─┐ ░ \n",
       "q_2: ─|0>───────░─┤ X ├─░──░─┤M├─░─\n",
       "                ░ └───┘ ░  ░ └╥┘ ░ \n",
       "c: 1/═════════════════════════╩════\n",
       "                              0    "
      ]
     },
     "metadata": {},
     "output_type": "display_data"
    },
    {
     "name": "stdout",
     "output_type": "stream",
     "text": [
      "\n",
      "\n"
     ]
    }
   ],
   "source": [
    "for a in ['0','1']:\n",
    "    for b in ['0','1']:\n",
    "        qc, op = OR(a,b)\n",
    "        print('OR with inputs', a,b,'with output',op)\n",
    "        display(qc.draw())\n",
    "        print('\\n')"
   ]
  },
  {
   "cell_type": "code",
   "execution_count": null,
   "id": "6f259bf9",
   "metadata": {},
   "outputs": [],
   "source": []
  },
  {
   "cell_type": "code",
   "execution_count": 36,
   "id": "6090e254",
   "metadata": {},
   "outputs": [
    {
     "ename": "NameError",
     "evalue": "name 'a8fcfd95d1be38e191a667771aa490b27e77efe80ab7242db7080e344d5c1168f25a6b86d53a17df4c96a9a357fe0a450ce501915c60cf3b1edeee699df86842' is not defined",
     "output_type": "error",
     "traceback": [
      "\u001b[1;31m---------------------------------------------------------------------------\u001b[0m",
      "\u001b[1;31mNameError\u001b[0m                                 Traceback (most recent call last)",
      "\u001b[1;32m~\\AppData\\Local\\Temp/ipykernel_11944/2962930490.py\u001b[0m in \u001b[0;36m<module>\u001b[1;34m\u001b[0m\n\u001b[0;32m      1\u001b[0m \u001b[1;32mfrom\u001b[0m \u001b[0mqiskit\u001b[0m \u001b[1;32mimport\u001b[0m \u001b[0mIBMQ\u001b[0m\u001b[1;33m\u001b[0m\u001b[1;33m\u001b[0m\u001b[0m\n\u001b[1;32m----> 2\u001b[1;33m \u001b[0mIBMQ\u001b[0m\u001b[1;33m.\u001b[0m\u001b[0mload_account\u001b[0m\u001b[1;33m(\u001b[0m\u001b[0ma8fcfd95d1be38e191a667771aa490b27e77efe80ab7242db7080e344d5c1168f25a6b86d53a17df4c96a9a357fe0a450ce501915c60cf3b1edeee699df86842\u001b[0m\u001b[1;33m)\u001b[0m\u001b[1;33m\u001b[0m\u001b[1;33m\u001b[0m\u001b[0m\n\u001b[0m",
      "\u001b[1;31mNameError\u001b[0m: name 'a8fcfd95d1be38e191a667771aa490b27e77efe80ab7242db7080e344d5c1168f25a6b86d53a17df4c96a9a357fe0a450ce501915c60cf3b1edeee699df86842' is not defined"
     ]
    }
   ],
   "source": [
    "from qiskit import IBMQ\n",
    "IBMQ.load_account(a8fcfd95d1be38e191a667771aa490b27e77efe80ab7242db7080e344d5c1168f25a6b86d53a17df4c96a9a357fe0a450ce501915c60cf3b1edeee699df86842)"
   ]
  },
  {
   "cell_type": "code",
   "execution_count": null,
   "id": "0891a9cb",
   "metadata": {},
   "outputs": [],
   "source": []
  }
 ],
 "metadata": {
  "kernelspec": {
   "display_name": "Python 3 (ipykernel)",
   "language": "python",
   "name": "python3"
  },
  "language_info": {
   "codemirror_mode": {
    "name": "ipython",
    "version": 3
   },
   "file_extension": ".py",
   "mimetype": "text/x-python",
   "name": "python",
   "nbconvert_exporter": "python",
   "pygments_lexer": "ipython3",
   "version": "3.9.7"
  }
 },
 "nbformat": 4,
 "nbformat_minor": 5
}
