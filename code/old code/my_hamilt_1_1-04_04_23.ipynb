{
 "cells": [
  {
   "cell_type": "code",
   "execution_count": 35,
   "id": "fc7dac8c",
   "metadata": {},
   "outputs": [],
   "source": [
    "%matplotlib inline \n",
    "#outputs figures one cell below when called\n",
    "import numpy as np\n",
    "import matplotlib.pyplot as plt\n",
    "from IPython.display import display\n",
    "import sympy as sp \n",
    "from sympy import *\n",
    "from sympy.physics.quantum import TensorProduct\n",
    "sp.init_printing()\n"
   ]
  },
  {
   "cell_type": "markdown",
   "id": "66c3cf94",
   "metadata": {},
   "source": [
    "# The Hamiltonian Matrix of a 1+1 system\n",
    "A system, composed of two subsystems, the Quantum Network (QN) and the Computational Layer (CL), contains 1 reservoir qubits, coupled with eachother, interacting with 1 computational qubits, through quantum tunneling. The general Hamiltonian of the QN of $l$ sites, is given as:\n",
    "$$\n",
    "\\begin{equation}\n",
    "\\hat{H}_{QN} = \\sum_lE_l\\hat{a}_l^\\dagger\\hat{a}_l + \\sum_{ll'}K_{ll'}(\\hat{a}_l^\\dagger\\hat{a}_{l'}+ \\hat{a}_{l'}^\\dagger\\hat{a}_l) + \\sum_l(P_l^*\\hat{a}_l + P_l\\hat{a}_l^\\dagger)\n",
    "%|\\psi_{qb}\\rangle $\\eqref{eq:hqn}$\n",
    "\\label{eq:hqn} \\tag{1}\n",
    "\\end{equation}\n",
    "$$\n"
   ]
  },
  {
   "cell_type": "markdown",
   "id": "c0f9d1da",
   "metadata": {},
   "source": [
    "Where $E$ is the onsite energies of the states of the QN qubits. The $K$ terms define the so called hopping terms, which translates the state at one site to the other. Finally, the classical field excitation, $P$, is induced into the QN, which simulates a quantum operation. From $\\eqref{eq:hqn}$, we see $H_{QN}$ is hermitian."
   ]
  },
  {
   "cell_type": "markdown",
   "id": "947f0a87",
   "metadata": {},
   "source": [
    "For the CL subsystem, the general hermertian Hamiltonian, for the $k^{th}$ qubit acting on $l^{th}$ site, is represented as follows: \n",
    "$$\n",
    "\\begin{equation}\n",
    "\\hat{H}_{CL} = \\sum_{kl}(J_{kl}^*\\hat{\\sigma}_k^+\\hat{a}_l + J_{kl}\\hat{a}_l^\\dagger\\hat{\\sigma}_k^-) \n",
    "%|\\psi_{qb}\\rangle $\\eqref{eq:hqn}$\n",
    "\\label{eq:hcn} \\tag{2}\n",
    "\\end{equation}\n",
    "$$"
   ]
  },
  {
   "cell_type": "markdown",
   "id": "97f9c0df",
   "metadata": {},
   "source": [
    "Where the $J$ terms indicate the computational qubits (represented by $k$) entanglement between the QN qubits (represented by $l$). The pauli matrices are given as follows: \n",
    "\n",
    "$$\n",
    "\\begin{equation}\n",
    "\\sigma_k^{\\pm} = \\frac{1}{2}(\\sigma_k^x \\mp i\\sigma_k^y)\\newline\n",
    "\\sigma_k^{\\pm} = \\frac{1}{2}\\left(\\left(\\begin{array}{cc}\n",
    "0 & 1\\\\\n",
    "1 & 0\n",
    "\\end{array}\\right) \\mp i\\left(\\begin{array}{cc}\n",
    "0 & -i\\\\\n",
    "i & 0\n",
    "\\end{array}\\right)\\right)\\newline\n",
    "\\end{equation}\n",
    "$$\n",
    "where\n",
    "$$\n",
    "\\begin{equation}\n",
    "\\sigma_k^{-} = \\left(\\begin{array}{cc}\n",
    "0 & 1\\\\\n",
    "0 & 0\n",
    "\\end{array}\\right)\\newline\n",
    "\\&\\newline\n",
    "\\sigma_k^{+} = \\left(\\begin{array}{cc}\n",
    "0 & 0\\\\\n",
    "1 & 0\n",
    "\\end{array}\\right)\n",
    "%|\\psi_{qb}\\rangle $\\eqref{eq:hqn}$\n",
    "\\label{eq:pauli} \\tag{3}\n",
    "\\end{equation}\n",
    "$$\n"
   ]
  },
  {
   "cell_type": "markdown",
   "id": "0386eb31",
   "metadata": {},
   "source": [
    "where, the basis is taken as:\n",
    "$$\n",
    "\\begin{equation}\n",
    "\\newline\n",
    "|g\\rangle = \\left(\\begin{array}{cc}\n",
    "1\\\\\n",
    "0\n",
    "\\end{array}\\right)\n",
    "\\&\\\n",
    "|e\\rangle = \\left(\\begin{array}{cc}\n",
    "0\\\\\n",
    "1\n",
    "\\end{array}\\right)\n",
    "\\label{eq:adag} \\tag{4}\n",
    "\\end{equation}\n",
    "$$"
   ]
  },
  {
   "cell_type": "markdown",
   "id": "668059fc",
   "metadata": {},
   "source": [
    "and the full wavefunction (total hamiltonian follows same property) of an N+N system is:\n",
    "$$\n",
    "\\begin{equation}\n",
    "\\newline\n",
    "|\\psi\\rangle = |Q_{c1}\\rangle \\otimes |Q_{c2}\\rangle \\otimes |Q_{c3}\\rangle \\otimes...|Q_{r1}\\rangle \\otimes |Q_{r2}\\rangle \\otimes |Q_{r3}\\rangle \\otimes ...|Q_{rN}\\rangle \n",
    "\\label{eq:wavefn} \\tag{5}\n",
    "\\end{equation}\n",
    "$$"
   ]
  },
  {
   "cell_type": "markdown",
   "id": "1ad81ffc",
   "metadata": {},
   "source": [
    "The total Hamiltonian of our system is then:\n",
    "$\n",
    "\\begin{equation}\n",
    "\\hat{H} = \\sum_lE_l\\hat{a}_l^\\dagger\\hat{a}_l + \\sum_{ll'}K_{ll'}(\\hat{a}_l^\\dagger\\hat{a}_{l'}+ \\hat{a}_{l'}^\\dagger\\hat{a}_l) + \\sum_l(P_l^*\\hat{a}_l + P_l\\hat{a}_l^\\dagger) + \\sum_{kl}(J_{kl}^*\\sigma_k^{+}\\hat{a}_l + J_{kl}\\hat{a}_l^\\dagger\\sigma_k^{-})\n",
    "\\label{eq:h}\n",
    "\\end{equation}\n",
    "$"
   ]
  },
  {
   "cell_type": "code",
   "execution_count": 2,
   "id": "1c60db31",
   "metadata": {},
   "outputs": [],
   "source": [
    "#nomenculture like E01 ground energy of qubit 1 \n",
    "E11,E01,P1, E_11, E_01, J11 = sp.symbols(\"E_{11} E_{01} P_{1} E_{11c} E_{01c} J_{11}\")\n",
    "I2 = sp.eye(2)\n",
    "a_dag = sp.Matrix([[0,0],\n",
    "                   [1,0]])\n",
    "sigmap = sp.Matrix([[0,0],[1,0]])\n",
    "sigmam = sigmap.T"
   ]
  },
  {
   "cell_type": "code",
   "execution_count": 3,
   "id": "dcd9c8de",
   "metadata": {
    "scrolled": true
   },
   "outputs": [
    {
     "name": "stderr",
     "output_type": "stream",
     "text": [
      "D:\\User\\Rojar\\Documents\\Anaconda\\lib\\site-packages\\IPython\\lib\\latextools.py:126: MatplotlibDeprecationWarning: \n",
      "The to_png function was deprecated in Matplotlib 3.4 and will be removed two minor releases later. Use mathtext.math_to_image instead.\n",
      "  mt.to_png(f, s, fontsize=12, dpi=dpi, color=color)\n",
      "D:\\User\\Rojar\\Documents\\Anaconda\\lib\\site-packages\\IPython\\lib\\latextools.py:126: MatplotlibDeprecationWarning: \n",
      "The to_rgba function was deprecated in Matplotlib 3.4 and will be removed two minor releases later. Use mathtext.math_to_image instead.\n",
      "  mt.to_png(f, s, fontsize=12, dpi=dpi, color=color)\n",
      "D:\\User\\Rojar\\Documents\\Anaconda\\lib\\site-packages\\IPython\\lib\\latextools.py:126: MatplotlibDeprecationWarning: \n",
      "The to_mask function was deprecated in Matplotlib 3.4 and will be removed two minor releases later. Use mathtext.math_to_image instead.\n",
      "  mt.to_png(f, s, fontsize=12, dpi=dpi, color=color)\n",
      "D:\\User\\Rojar\\Documents\\Anaconda\\lib\\site-packages\\IPython\\lib\\latextools.py:126: MatplotlibDeprecationWarning: \n",
      "The MathtextBackendBitmap class was deprecated in Matplotlib 3.4 and will be removed two minor releases later. Use mathtext.math_to_image instead.\n",
      "  mt.to_png(f, s, fontsize=12, dpi=dpi, color=color)\n"
     ]
    },
    {
     "data": {
      "text/latex": [
       "$\\displaystyle \\left[\\begin{matrix}E_{01} & \\overline{P_{1}}\\\\P_{1} & E_{11}\\end{matrix}\\right]$"
      ],
      "text/plain": [
       "⎡        _____ ⎤\n",
       "⎢E_{01}  P_{1} ⎥\n",
       "⎢              ⎥\n",
       "⎣P_{1}   E_{11}⎦"
      ]
     },
     "execution_count": 3,
     "metadata": {},
     "output_type": "execute_result"
    }
   ],
   "source": [
    "#state of our reservior system \n",
    "qr1 = sp.Matrix([[E01,P1.conjugate()],\n",
    "                 [P1,E11]])\n",
    "qr1"
   ]
  },
  {
   "cell_type": "code",
   "execution_count": 4,
   "id": "0070ce4d",
   "metadata": {},
   "outputs": [],
   "source": [
    "#hamil of res, if more tensor of all\n",
    "qrh = qr1"
   ]
  },
  {
   "cell_type": "code",
   "execution_count": 5,
   "id": "426aef14",
   "metadata": {},
   "outputs": [
    {
     "data": {
      "text/latex": [
       "$\\displaystyle \\left[\\begin{matrix}E_{01c} & 0\\\\0 & E_{11c}\\end{matrix}\\right]$"
      ],
      "text/plain": [
       "⎡E_{01c}     0   ⎤\n",
       "⎢                ⎥\n",
       "⎣   0     E_{11c}⎦"
      ]
     },
     "execution_count": 5,
     "metadata": {},
     "output_type": "execute_result"
    }
   ],
   "source": [
    "c1 = sp.Matrix([[E_01,0],[0,E_11]])\n",
    "c1"
   ]
  },
  {
   "cell_type": "code",
   "execution_count": 6,
   "id": "a45053ce",
   "metadata": {},
   "outputs": [],
   "source": [
    "#hamilt of comp sys\n",
    "ch = c1"
   ]
  },
  {
   "cell_type": "code",
   "execution_count": 7,
   "id": "8f6d2bc4",
   "metadata": {},
   "outputs": [
    {
     "data": {
      "text/latex": [
       "$\\displaystyle \\left[\\begin{matrix}E_{01c} + E_{01} & \\overline{P_{1}} & 0 & 0\\\\P_{1} & E_{01c} + E_{11} & 0 & 0\\\\0 & 0 & E_{01} + E_{11c} & \\overline{P_{1}}\\\\0 & 0 & P_{1} & E_{11c} + E_{11}\\end{matrix}\\right]$"
      ],
      "text/plain": [
       "⎡                       _____                                          ⎤\n",
       "⎢E_{01c} + E_{01}       P_{1}               0                 0        ⎥\n",
       "⎢                                                                      ⎥\n",
       "⎢     P_{1}        E_{01c} + E_{11}         0                 0        ⎥\n",
       "⎢                                                                      ⎥\n",
       "⎢                                                           _____      ⎥\n",
       "⎢       0                 0          E_{01} + E_{11c}       P_{1}      ⎥\n",
       "⎢                                                                      ⎥\n",
       "⎣       0                 0               P_{1}        E_{11c} + E_{11}⎦"
      ]
     },
     "execution_count": 7,
     "metadata": {},
     "output_type": "execute_result"
    }
   ],
   "source": [
    "#hamil of total system is thus\n",
    "Hh = TensorProduct(ch,I2) + TensorProduct(I2,qrh)\n",
    "Hh"
   ]
  },
  {
   "cell_type": "code",
   "execution_count": 8,
   "id": "45f8dbc4",
   "metadata": {
    "scrolled": true
   },
   "outputs": [
    {
     "data": {
      "text/latex": [
       "$\\displaystyle \\left( \\left[\\begin{matrix}0 & 0\\\\0 & 0\\end{matrix}\\right], \\  \\left[\\begin{matrix}0 & \\overline{P_{1}}\\\\P_{1} & E_{11}\\end{matrix}\\right]\\right)$"
      ],
      "text/plain": [
       "⎛        ⎡       _____ ⎤⎞\n",
       "⎜⎡0  0⎤  ⎢  0    P_{1} ⎥⎟\n",
       "⎜⎢    ⎥, ⎢             ⎥⎟\n",
       "⎝⎣0  0⎦  ⎣P_{1}  E_{11}⎦⎠"
      ]
     },
     "execution_count": 8,
     "metadata": {},
     "output_type": "execute_result"
    }
   ],
   "source": [
    "#can edit values here if need be\n",
    "E01,E_11c, E_01c = (0,0,0)\n",
    "\n",
    "ch = ch.subs({\"E_{11c}\":E_11c, \"E_{01c}\":E_01c})\n",
    "qrh = qrh.subs({\"E_{11}\":E11,\"E_{01}\":E01,\"P_{1}\":P1})\n",
    "ch,qrh"
   ]
  },
  {
   "cell_type": "code",
   "execution_count": 9,
   "id": "c178f363",
   "metadata": {},
   "outputs": [
    {
     "data": {
      "text/latex": [
       "$\\displaystyle \\left[\\begin{matrix}0 & \\overline{P_{1}} & 0 & 0\\\\P_{1} & E_{11} & 0 & 0\\\\0 & 0 & 0 & \\overline{P_{1}}\\\\0 & 0 & P_{1} & E_{11}\\end{matrix}\\right]$"
      ],
      "text/plain": [
       "⎡       _____                ⎤\n",
       "⎢  0    P_{1}     0      0   ⎥\n",
       "⎢                            ⎥\n",
       "⎢P_{1}  E_{11}    0      0   ⎥\n",
       "⎢                            ⎥\n",
       "⎢                      _____ ⎥\n",
       "⎢  0      0       0    P_{1} ⎥\n",
       "⎢                            ⎥\n",
       "⎣  0      0     P_{1}  E_{11}⎦"
      ]
     },
     "execution_count": 9,
     "metadata": {},
     "output_type": "execute_result"
    }
   ],
   "source": [
    "#just rewritting hamil with zero potential+gnd state\n",
    "H = TensorProduct(ch,I2) + TensorProduct(I2,qrh)\n",
    "H"
   ]
  },
  {
   "cell_type": "code",
   "execution_count": 10,
   "id": "d067ad2e",
   "metadata": {},
   "outputs": [],
   "source": [
    "#now to introduce coupling \n",
    "def MTP(A,B):\n",
    "    return TensorProduct(A,B)"
   ]
  },
  {
   "cell_type": "code",
   "execution_count": 11,
   "id": "0222d253",
   "metadata": {
    "scrolled": false
   },
   "outputs": [
    {
     "data": {
      "text/latex": [
       "$\\displaystyle \\left[\\begin{matrix}0 & \\overline{P_{1}} & 0 & 0\\\\P_{1} & E_{11} & J_{11} & 0\\\\0 & \\overline{J_{11}} & 0 & \\overline{P_{1}}\\\\0 & 0 & P_{1} & E_{11}\\end{matrix}\\right]$"
      ],
      "text/plain": [
       "⎡       _____                 ⎤\n",
       "⎢  0    P_{1}     0       0   ⎥\n",
       "⎢                             ⎥\n",
       "⎢P_{1}  E_{11}  J_{11}    0   ⎥\n",
       "⎢                             ⎥\n",
       "⎢       ______          _____ ⎥\n",
       "⎢  0    J_{11}    0     P_{1} ⎥\n",
       "⎢                             ⎥\n",
       "⎣  0      0     P_{1}   E_{11}⎦"
      ]
     },
     "execution_count": 11,
     "metadata": {},
     "output_type": "execute_result"
    }
   ],
   "source": [
    "H = H + J11.conjugate()*(MTP(sigmap,a_dag.T)) + J11 * (MTP(sigmam, a_dag))\n",
    "H"
   ]
  },
  {
   "cell_type": "markdown",
   "id": "b121d6a5",
   "metadata": {},
   "source": [
    "## TIME EVOLUTION OPERATOR"
   ]
  },
  {
   "cell_type": "code",
   "execution_count": 12,
   "id": "613fada5",
   "metadata": {
    "scrolled": false
   },
   "outputs": [
    {
     "data": {
      "text/latex": [
       "$\\displaystyle \\left[\\begin{matrix}0 & 60 & 0 & 0\\\\60 & 1 & 2 & 0\\\\0 & 2 & 0 & 60\\\\0 & 0 & 60 & 1\\end{matrix}\\right]$"
      ],
      "text/plain": [
       "⎡0   60  0   0 ⎤\n",
       "⎢              ⎥\n",
       "⎢60  1   2   0 ⎥\n",
       "⎢              ⎥\n",
       "⎢0   2   0   60⎥\n",
       "⎢              ⎥\n",
       "⎣0   0   60  1 ⎦"
      ]
     },
     "execution_count": 12,
     "metadata": {},
     "output_type": "execute_result"
    }
   ],
   "source": [
    "E11,E01,P11, E_11, E_01, J11 = sp.symbols(\"E_{11} E_{01} P_{1} E_{11c} E_{01c} J_{11}\")\n",
    "Hcopy = H\n",
    "E11,P11,J11 = (1,60,2)\n",
    "H1 = Hcopy.subs({\"E_{11}\":E11,\"P_{1}\":P11, \"J_{11}\":J11})\n",
    "H1"
   ]
  },
  {
   "cell_type": "markdown",
   "id": "8336f77e",
   "metadata": {},
   "source": [
    "$$\n",
    "\\begin{equation}\n",
    "U = \\exp(\\frac{-i\\hat{H}\\tau}{\\hbar})\n",
    "\\label{exp} \\tag{6}\n",
    "\\end{equation}\n",
    "$$"
   ]
  },
  {
   "cell_type": "code",
   "execution_count": 13,
   "id": "daa2efbc",
   "metadata": {},
   "outputs": [],
   "source": [
    "#hbar=1\n",
    "tauhbar = 0.5"
   ]
  },
  {
   "cell_type": "code",
   "execution_count": 14,
   "id": "3da8a4fc",
   "metadata": {
    "scrolled": false
   },
   "outputs": [
    {
     "data": {
      "text/latex": [
       "$\\displaystyle \\left[\\begin{matrix}0 & - 30.0 i & 0 & 0\\\\- 30.0 i & - 0.5 i & - 1.0 i & 0\\\\0 & - 1.0 i & 0 & - 30.0 i\\\\0 & 0 & - 30.0 i & - 0.5 i\\end{matrix}\\right]$"
      ],
      "text/plain": [
       "⎡   0     -30.0⋅ⅈ     0        0   ⎤\n",
       "⎢                                  ⎥\n",
       "⎢-30.0⋅ⅈ  -0.5⋅ⅈ   -1.0⋅ⅈ      0   ⎥\n",
       "⎢                                  ⎥\n",
       "⎢   0     -1.0⋅ⅈ      0     -30.0⋅ⅈ⎥\n",
       "⎢                                  ⎥\n",
       "⎣   0        0     -30.0⋅ⅈ  -0.5⋅ⅈ ⎦"
      ]
     },
     "execution_count": 14,
     "metadata": {},
     "output_type": "execute_result"
    }
   ],
   "source": [
    "H2 = -1j * H1 * tauhbar\n",
    "H2"
   ]
  },
  {
   "cell_type": "code",
   "execution_count": 15,
   "id": "9da9555a",
   "metadata": {},
   "outputs": [
    {
     "data": {
      "text/latex": [
       "$\\displaystyle \\left[\\begin{matrix}0.247848601100423 e^{30.2551908103745 i} + 0.256319656506643 e^{29.2552255307877 i} + 0.24381922273258 e^{- 30.7551908103745 i} + 0.252012519660353 e^{- 29.7552255307877 i} & 0.24995689061259 e^{- 30.7551908103745 i} - 0.249956311969196 e^{29.2552255307877 i} - 0.24995689061259 e^{30.2551908103745 i} + 0.249956311969196 e^{- 29.7552255307877 i} & - 0.24784731030785 e^{- 29.7552255307877 i} + 0.2520138321454 e^{30.2551908103745 i} + 0.2479167378744 e^{- 30.7551908103745 i} - 0.25208325971195 e^{29.2552255307877 i} & - 0.254156964245947 e^{- 29.7552255307877 i} + 0.254156964245947 e^{29.2552255307877 i} + 0.245825656260006 e^{- 30.7551908103745 i} - 0.245825656260006 e^{30.2551908103745 i}\\\\0.24995689061259 e^{- 30.7551908103745 i} - 0.249956311969196 e^{29.2552255307877 i} - 0.24995689061259 e^{30.2551908103745 i} + 0.249956311969196 e^{- 29.7552255307877 i} & 0.25208311399506 e^{30.2551908103745 i} + 0.243750942650092 e^{29.2552255307877 i} + 0.256249062171937 e^{- 30.7551908103745 i} + 0.247916881182912 e^{- 29.7552255307877 i} & - 0.245825087180307 e^{- 29.7552255307877 i} + 0.245825087180307 e^{29.2552255307877 i} + 0.254157552613759 e^{- 30.7551908103745 i} - 0.254157552613759 e^{30.2551908103745 i} & - 0.25208325971195 e^{- 29.7552255307877 i} + 0.2479167378744 e^{30.2551908103745 i} + 0.2520138321454 e^{- 30.7551908103745 i} - 0.24784731030785 e^{29.2552255307877 i}\\\\- 0.24784731030785 e^{- 29.7552255307877 i} + 0.2520138321454 e^{30.2551908103745 i} + 0.2479167378744 e^{- 30.7551908103745 i} - 0.25208325971195 e^{29.2552255307877 i} & - 0.245825087180307 e^{- 29.7552255307877 i} + 0.245825087180307 e^{29.2552255307877 i} + 0.254157552613759 e^{- 30.7551908103745 i} - 0.254157552613759 e^{30.2551908103745 i} & 0.256249062171937 e^{30.2551908103745 i} + 0.247916881182912 e^{29.2552255307877 i} + 0.25208311399506 e^{- 30.7551908103745 i} + 0.243750942650092 e^{- 29.7552255307877 i} & 0.24995689061259 e^{- 30.7551908103745 i} - 0.249956311969196 e^{29.2552255307877 i} - 0.24995689061259 e^{30.2551908103745 i} + 0.249956311969196 e^{- 29.7552255307877 i}\\\\- 0.254156964245947 e^{- 29.7552255307877 i} + 0.254156964245947 e^{29.2552255307877 i} + 0.245825656260006 e^{- 30.7551908103745 i} - 0.245825656260006 e^{30.2551908103745 i} & - 0.25208325971195 e^{- 29.7552255307877 i} + 0.2479167378744 e^{30.2551908103745 i} + 0.2520138321454 e^{- 30.7551908103745 i} - 0.247847310307851 e^{29.2552255307877 i} & 0.24995689061259 e^{- 30.7551908103745 i} - 0.249956311969196 e^{29.2552255307877 i} - 0.24995689061259 e^{30.2551908103745 i} + 0.249956311969196 e^{- 29.7552255307877 i} & 0.24381922273258 e^{30.2551908103745 i} + 0.252012519660353 e^{29.2552255307877 i} + 0.247848601100423 e^{- 30.7551908103745 i} + 0.256319656506643 e^{- 29.7552255307877 i}\\end{matrix}\\right]$"
      ],
      "text/plain": [
       "⎡                    30.2551908103745⋅ⅈ                      29.2552255307877⋅\n",
       "⎢ 0.247848601100423⋅ℯ                   + 0.256319656506643⋅ℯ                 \n",
       "⎢                                                                             \n",
       "⎢                    -30.7551908103745⋅ⅈ                      29.2552255307877\n",
       "⎢  0.24995689061259⋅ℯ                    - 0.249956311969196⋅ℯ                \n",
       "⎢                                                                             \n",
       "⎢                       -29.7552255307877⋅ⅈ                    30.255190810374\n",
       "⎢   - 0.24784731030785⋅ℯ                    + 0.2520138321454⋅ℯ               \n",
       "⎢                                                                             \n",
       "⎢                     -29.7552255307877⋅ⅈ                      29.255225530787\n",
       "⎣- 0.254156964245947⋅ℯ                    + 0.254156964245947⋅ℯ               \n",
       "\n",
       "ⅈ                     -30.7551908103745⋅ⅈ                      -29.75522553078\n",
       "  + 0.24381922273258⋅ℯ                    + 0.252012519660353⋅ℯ               \n",
       "                                                                              \n",
       "⋅ⅈ                     30.2551908103745⋅ⅈ                      -29.75522553078\n",
       "   - 0.24995689061259⋅ℯ                   + 0.249956311969196⋅ℯ               \n",
       "                                                                              \n",
       "5⋅ⅈ                    -30.7551908103745⋅ⅈ                     29.255225530787\n",
       "    + 0.2479167378744⋅ℯ                    - 0.25208325971195⋅ℯ               \n",
       "                                                                              \n",
       "7⋅ⅈ                      -30.7551908103745⋅ⅈ                      30.255190810\n",
       "    + 0.245825656260006⋅ℯ                    - 0.245825656260006⋅ℯ            \n",
       "\n",
       "77⋅ⅈ                        -30.7551908103745⋅ⅈ                      29.255225\n",
       "          0.24995689061259⋅ℯ                    - 0.249956311969196⋅ℯ         \n",
       "                                                                              \n",
       "77⋅ⅈ                       30.2551908103745⋅ⅈ                      29.25522553\n",
       "         0.25208311399506⋅ℯ                   + 0.243750942650092⋅ℯ           \n",
       "                                                                              \n",
       "7⋅ⅈ                          -29.7552255307877⋅ⅈ                      29.25522\n",
       "        - 0.245825087180307⋅ℯ                    + 0.245825087180307⋅ℯ        \n",
       "                                                                              \n",
       "3745⋅ⅈ                        -29.7552255307877⋅ⅈ                    30.255190\n",
       "          - 0.25208325971195⋅ℯ                    + 0.2479167378744⋅ℯ         \n",
       "\n",
       "5307877⋅ⅈ                     30.2551908103745⋅ⅈ                      -29.7552\n",
       "          - 0.24995689061259⋅ℯ                   + 0.249956311969196⋅ℯ        \n",
       "                                                                              \n",
       "07877⋅ⅈ                      -30.7551908103745⋅ⅈ                      -29.7552\n",
       "        + 0.256249062171937⋅ℯ                    + 0.247916881182912⋅ℯ        \n",
       "                                                                              \n",
       "55307877⋅ⅈ                      -30.7551908103745⋅ⅈ                      30.25\n",
       "           + 0.254157552613759⋅ℯ                    - 0.254157552613759⋅ℯ     \n",
       "                                                                              \n",
       "8103745⋅ⅈ                    -30.7551908103745⋅ⅈ                      29.25522\n",
       "          + 0.2520138321454⋅ℯ                    - 0.247847310307851⋅ℯ        \n",
       "\n",
       "255307877⋅ⅈ                           -29.7552255307877⋅ⅈ                    3\n",
       "                  - 0.24784731030785⋅ℯ                    + 0.2520138321454⋅ℯ \n",
       "                                                                              \n",
       "255307877⋅ⅈ                         -29.7552255307877⋅ⅈ                      2\n",
       "               - 0.245825087180307⋅ℯ                    + 0.245825087180307⋅ℯ \n",
       "                                                                              \n",
       "51908103745⋅ⅈ                      30.2551908103745⋅ⅈ                      29.\n",
       "                0.256249062171937⋅ℯ                   + 0.247916881182912⋅ℯ   \n",
       "                                                                              \n",
       "55307877⋅ⅈ                         -30.7551908103745⋅ⅈ                      29\n",
       "                 0.24995689061259⋅ℯ                    - 0.249956311969196⋅ℯ  \n",
       "\n",
       "0.2551908103745⋅ⅈ                    -30.7551908103745⋅ⅈ                     2\n",
       "                  + 0.2479167378744⋅ℯ                    - 0.25208325971195⋅ℯ \n",
       "                                                                              \n",
       "9.2552255307877⋅ⅈ                      -30.7551908103745⋅ⅈ                    \n",
       "                  + 0.254157552613759⋅ℯ                    - 0.254157552613759\n",
       "                                                                              \n",
       "2552255307877⋅ⅈ                     -30.7551908103745⋅ⅈ                      -\n",
       "                + 0.25208311399506⋅ℯ                    + 0.243750942650092⋅ℯ \n",
       "                                                                              \n",
       ".2552255307877⋅ⅈ                     30.2551908103745⋅ⅈ                      -\n",
       "                 - 0.24995689061259⋅ℯ                   + 0.249956311969196⋅ℯ \n",
       "\n",
       "9.2552255307877⋅ⅈ                          -29.7552255307877⋅ⅈ                \n",
       "                      - 0.254156964245947⋅ℯ                    + 0.25415696424\n",
       "                                                                              \n",
       "  30.2551908103745⋅ⅈ                         -29.7552255307877⋅ⅈ              \n",
       "⋅ℯ                       - 0.25208325971195⋅ℯ                    + 0.247916737\n",
       "                                                                              \n",
       "29.7552255307877⋅ⅈ                        -30.7551908103745⋅ⅈ                 \n",
       "                        0.24995689061259⋅ℯ                    - 0.249956311969\n",
       "                                                                              \n",
       "29.7552255307877⋅ⅈ                       30.2551908103745⋅ⅈ                   \n",
       "                       0.24381922273258⋅ℯ                   + 0.25201251966035\n",
       "\n",
       "      29.2552255307877⋅ⅈ                      -30.7551908103745⋅ⅈ             \n",
       "5947⋅ℯ                   + 0.245825656260006⋅ℯ                    - 0.24582565\n",
       "                                                                              \n",
       "      30.2551908103745⋅ⅈ                    -30.7551908103745⋅ⅈ               \n",
       "8744⋅ℯ                   + 0.2520138321454⋅ℯ                    - 0.2478473103\n",
       "                                                                              \n",
       "     29.2552255307877⋅ⅈ                     30.2551908103745⋅ⅈ                \n",
       "196⋅ℯ                   - 0.24995689061259⋅ℯ                   + 0.24995631196\n",
       "                                                                              \n",
       "   29.2552255307877⋅ⅈ                      -30.7551908103745⋅ⅈ                \n",
       "3⋅ℯ                   + 0.247848601100423⋅ℯ                    + 0.25631965650\n",
       "\n",
       "         30.2551908103745⋅ⅈ⎤\n",
       "6260006⋅ℯ                  ⎥\n",
       "                           ⎥\n",
       "      29.2552255307877⋅ⅈ   ⎥\n",
       "0785⋅ℯ                     ⎥\n",
       "                           ⎥\n",
       "      -29.7552255307877⋅ⅈ  ⎥\n",
       "9196⋅ℯ                     ⎥\n",
       "                           ⎥\n",
       "      -29.7552255307877⋅ⅈ  ⎥\n",
       "6643⋅ℯ                     ⎦"
      ]
     },
     "execution_count": 15,
     "metadata": {},
     "output_type": "execute_result"
    }
   ],
   "source": [
    "P1,D1 = H2.diagonalize()\n",
    "#P1\n",
    "K = P1@D1@P1.inv()\n",
    "P1@D1.exp()@P1.inv()"
   ]
  },
  {
   "cell_type": "code",
   "execution_count": 16,
   "id": "ae3768cc",
   "metadata": {},
   "outputs": [
    {
     "data": {
      "text/plain": [
       "array([[0.+2.66453526e-15j, 0.-3.00000000e+01j, 0.+2.66453526e-15j,\n",
       "        0.+8.88178420e-16j],\n",
       "       [0.-3.00000000e+01j, 0.-5.00000000e-01j, 0.-1.00000000e+00j,\n",
       "        0.-8.88178420e-16j],\n",
       "       [0.-3.55271368e-15j, 0.-1.00000000e+00j, 0.+7.10542736e-15j,\n",
       "        0.-3.00000000e+01j],\n",
       "       [0.+2.66453526e-15j, 0.+6.21724894e-15j, 0.-3.00000000e+01j,\n",
       "        0.-5.00000000e-01j]])"
      ]
     },
     "execution_count": 16,
     "metadata": {},
     "output_type": "execute_result"
    }
   ],
   "source": [
    "Hnp = np.array(K).astype(np.complex128)\n",
    "Hnp"
   ]
  },
  {
   "cell_type": "code",
   "execution_count": 17,
   "id": "2de82db5",
   "metadata": {},
   "outputs": [
    {
     "data": {
      "text/plain": [
       "array([ 0.00000000e+00+30.25519081j,  1.77635684e-15+29.25522553j,\n",
       "        3.55271268e-15-30.75519081j, -1.78404790e-15-29.75522553j])"
      ]
     },
     "metadata": {},
     "output_type": "display_data"
    }
   ],
   "source": [
    "#e^(A) = P*exp(D)*P^(-1), where P contains eigenvectors of H and D the\n",
    "#eigenvalues corresponding to the eigenvectors represented in columns\n",
    "#of P\n",
    "\n",
    "\n",
    "E, P = np.linalg.eig(Hnp)\n",
    "display(E)"
   ]
  },
  {
   "cell_type": "code",
   "execution_count": 18,
   "id": "44a347af",
   "metadata": {},
   "outputs": [
    {
     "data": {
      "image/png": "[encoded data removed]",
      "text/latex": [
       "$\\displaystyle \\left( 4, \\  4\\right)$"
      ],
      "text/plain": [
       "(4, 4)"
      ]
     },
     "execution_count": 18,
     "metadata": {},
     "output_type": "execute_result"
    }
   ],
   "source": [
    "r,c = Hnp.shape\n",
    "r,c"
   ]
  },
  {
   "cell_type": "code",
   "execution_count": 19,
   "id": "09e5e32a",
   "metadata": {},
   "outputs": [
    {
     "name": "stderr",
     "output_type": "stream",
     "text": [
      "C:\\Users\\Rojar\\AppData\\Local\\Temp/ipykernel_29500/2705141118.py:3: ComplexWarning: Casting complex values to real discards the imaginary part\n",
      "  D[i,i] = E[i]\n"
     ]
    },
    {
     "data": {
      "text/plain": [
       "array([[ 0.00000000e+00,  0.00000000e+00,  0.00000000e+00,\n",
       "         0.00000000e+00],\n",
       "       [ 0.00000000e+00,  1.77635684e-15,  0.00000000e+00,\n",
       "         0.00000000e+00],\n",
       "       [ 0.00000000e+00,  0.00000000e+00,  3.55271268e-15,\n",
       "         0.00000000e+00],\n",
       "       [ 0.00000000e+00,  0.00000000e+00,  0.00000000e+00,\n",
       "        -1.78404790e-15]])"
      ]
     },
     "execution_count": 19,
     "metadata": {},
     "output_type": "execute_result"
    }
   ],
   "source": [
    "D = np.zeros((r,c))\n",
    "for i in range(r):\n",
    "    D[i,i] = E[i]\n",
    "D\n",
    "#y = np.array([[1,2,3],[2,3,4],[1,2,2]])"
   ]
  },
  {
   "cell_type": "code",
   "execution_count": 20,
   "id": "b31fc8ea",
   "metadata": {},
   "outputs": [],
   "source": [
    "#np.exp(y)"
   ]
  },
  {
   "cell_type": "code",
   "execution_count": 21,
   "id": "a521b786",
   "metadata": {},
   "outputs": [
    {
     "data": {
      "text/plain": [
       "(array([[ 0.49784395+1.76637833e-15j,  0.50628022+0.00000000e+00j,\n",
       "          0.49378054-2.01147630e-18j, -0.50200849-7.36998236e-16j],\n",
       "        [-0.50207879-1.76440465e-15j, -0.4937114 -3.78338814e-18j,\n",
       "          0.50621049+0.00000000e+00j, -0.49791252-7.86042010e-16j],\n",
       "        [ 0.50621049+0.00000000e+00j, -0.49791252-3.00395492e-15j,\n",
       "          0.50207879+3.36533575e-15j,  0.4937114 +7.97566403e-17j],\n",
       "        [-0.49378054+1.81557083e-16j,  0.50200849+2.84659947e-15j,\n",
       "          0.49784395+3.37227157e-15j,  0.50628022+0.00000000e+00j]]),\n",
       " array([[ 0.00000000e+00,  0.00000000e+00,  0.00000000e+00,\n",
       "          0.00000000e+00],\n",
       "        [ 0.00000000e+00,  1.77635684e-15,  0.00000000e+00,\n",
       "          0.00000000e+00],\n",
       "        [ 0.00000000e+00,  0.00000000e+00,  3.55271268e-15,\n",
       "          0.00000000e+00],\n",
       "        [ 0.00000000e+00,  0.00000000e+00,  0.00000000e+00,\n",
       "         -1.78404790e-15]]),\n",
       " array([[ 0.49784395+6.62068332e-16j, -0.50207879-5.87508332e-16j,\n",
       "          0.50621049-2.35667837e-15j, -0.49378054+2.24230878e-15j],\n",
       "        [ 0.50628022-2.42639222e-15j, -0.4937114 +2.35646332e-15j,\n",
       "         -0.49791252+5.21457981e-16j,  0.50200849-5.48006948e-16j],\n",
       "        [ 0.49378054-2.01265420e-15j,  0.50621049-2.07510545e-15j,\n",
       "          0.50207879-1.41585978e-15j,  0.49784395-1.23012981e-15j],\n",
       "        [-0.50200849-1.28338514e-15j, -0.49791252-1.28488283e-15j,\n",
       "          0.4937114 -2.14955197e-15j,  0.50628022-2.02162249e-15j]]))"
      ]
     },
     "execution_count": 21,
     "metadata": {},
     "output_type": "execute_result"
    }
   ],
   "source": [
    "Pinv = np.linalg.inv(P)\n",
    "P, D, Pinv"
   ]
  },
  {
   "cell_type": "code",
   "execution_count": 22,
   "id": "3a3e110e",
   "metadata": {},
   "outputs": [
    {
     "data": {
      "text/latex": [
       "$\\displaystyle \\left[\\begin{matrix}0 & - 30.0 i & 0 & 0\\\\- 30.0 i & - 0.5 i & - 1.0 i & 0\\\\0 & - 1.0 i & 0 & - 30.0 i\\\\0 & 0 & - 30.0 i & - 0.5 i\\end{matrix}\\right]$"
      ],
      "text/plain": [
       "⎡   0     -30.0⋅ⅈ     0        0   ⎤\n",
       "⎢                                  ⎥\n",
       "⎢-30.0⋅ⅈ  -0.5⋅ⅈ   -1.0⋅ⅈ      0   ⎥\n",
       "⎢                                  ⎥\n",
       "⎢   0     -1.0⋅ⅈ      0     -30.0⋅ⅈ⎥\n",
       "⎢                                  ⎥\n",
       "⎣   0        0     -30.0⋅ⅈ  -0.5⋅ⅈ ⎦"
      ]
     },
     "execution_count": 22,
     "metadata": {},
     "output_type": "execute_result"
    }
   ],
   "source": [
    "H2"
   ]
  },
  {
   "cell_type": "code",
   "execution_count": 23,
   "id": "c8cb1acd",
   "metadata": {
    "scrolled": true
   },
   "outputs": [
    {
     "data": {
      "text/plain": [
       "array([[0.+2.66453526e-15j, 0.-3.00000000e+01j, 0.+2.66453526e-15j,\n",
       "        0.+8.88178420e-16j],\n",
       "       [0.-3.00000000e+01j, 0.-5.00000000e-01j, 0.-1.00000000e+00j,\n",
       "        0.-8.88178420e-16j],\n",
       "       [0.-3.55271368e-15j, 0.-1.00000000e+00j, 0.+7.10542736e-15j,\n",
       "        0.-3.00000000e+01j],\n",
       "       [0.+2.66453526e-15j, 0.+6.21724894e-15j, 0.-3.00000000e+01j,\n",
       "        0.-5.00000000e-01j]])"
      ]
     },
     "execution_count": 23,
     "metadata": {},
     "output_type": "execute_result"
    }
   ],
   "source": [
    "#original matrix\n",
    "Hnp"
   ]
  },
  {
   "cell_type": "code",
   "execution_count": 24,
   "id": "e0878e7d",
   "metadata": {},
   "outputs": [
    {
     "data": {
      "text/plain": [
       "array([[ 0.49784395-1.76637833e-15j, -0.50207879+1.76440465e-15j,\n",
       "         0.50621049-0.00000000e+00j, -0.49378054-1.81557083e-16j],\n",
       "       [ 0.50628022-0.00000000e+00j, -0.4937114 +3.78338814e-18j,\n",
       "        -0.49791252+3.00395492e-15j,  0.50200849-2.84659947e-15j],\n",
       "       [ 0.49378054+2.01147630e-18j,  0.50621049-0.00000000e+00j,\n",
       "         0.50207879-3.36533575e-15j,  0.49784395-3.37227157e-15j],\n",
       "       [-0.50200849+7.36998236e-16j, -0.49791252+7.86042010e-16j,\n",
       "         0.4937114 -7.97566403e-17j,  0.50628022-0.00000000e+00j]])"
      ]
     },
     "execution_count": 24,
     "metadata": {},
     "output_type": "execute_result"
    }
   ],
   "source": [
    "P.T.conjugate()"
   ]
  },
  {
   "cell_type": "code",
   "execution_count": 25,
   "id": "4c8a4133",
   "metadata": {
    "scrolled": true
   },
   "outputs": [
    {
     "data": {
      "text/plain": [
       "array([[ 8.71932412e-16+3.02742363e-47j, -1.92062390e-18+4.90945431e-32j,\n",
       "         8.75158588e-16-2.62798243e-30j,  1.77824958e-15-7.81376717e-30j],\n",
       "       [-1.92062390e-18-4.90945431e-32j,  9.01072354e-16-2.61048182e-47j,\n",
       "         1.77818556e-15-8.06193186e-30j,  9.04796081e-16-2.86167122e-30j],\n",
       "       [ 8.75158588e-16+2.62798243e-30j,  1.77818556e-15+8.06193186e-30j,\n",
       "         9.01104365e-16+2.50901169e-46j, -1.92062390e-18-2.96074878e-31j],\n",
       "       [ 1.77824958e-15+7.81376717e-30j,  9.04796081e-16+2.86167122e-30j,\n",
       "        -1.92062390e-18+2.96074878e-31j,  8.70912485e-16+2.56282473e-47j]])"
      ]
     },
     "execution_count": 25,
     "metadata": {},
     "output_type": "execute_result"
    }
   ],
   "source": [
    "#should give Hnp back??\n",
    "\n",
    "P@D@P.T.conjugate()"
   ]
  },
  {
   "cell_type": "code",
   "execution_count": 26,
   "id": "2d9406c3",
   "metadata": {},
   "outputs": [
    {
     "data": {
      "text/plain": [
       "array([[ 0.99180929-4.01644410e-15j, -0.98343977-2.59902256e-15j,\n",
       "         0.9999676 -4.34690049e-15j,  1.00819765-5.11000249e-16j],\n",
       "       [-0.98343977+2.45332125e-15j,  0.97514089+4.09341530e-15j,\n",
       "        -0.99152924+2.76841007e-15j, -0.99968984-1.04780997e-15j],\n",
       "       [ 0.9999676 -4.64172365e-15j, -0.99152924-2.03315750e-15j,\n",
       "         1.00819303-4.97976986e-15j,  1.01649077-1.11723112e-15j],\n",
       "       [ 1.00819765+1.25129279e-15j, -0.99968984-7.93105889e-15j,\n",
       "         1.01649077+9.59252726e-16j,  1.0248568 +4.90279866e-15j]])"
      ]
     },
     "execution_count": 26,
     "metadata": {},
     "output_type": "execute_result"
    }
   ],
   "source": [
    "#e^(A) = P*exp(D)*P^(-1)\n",
    "expH = P@np.exp(D)@Pinv\n",
    "expH"
   ]
  },
  {
   "cell_type": "code",
   "execution_count": 27,
   "id": "21cfdfeb",
   "metadata": {},
   "outputs": [],
   "source": [
    "from scipy.linalg import expm"
   ]
  },
  {
   "cell_type": "code",
   "execution_count": 28,
   "id": "70486ddc",
   "metadata": {},
   "outputs": [
    {
     "data": {
      "text/plain": [
       "array([[ 0.12610124-0.03967509j,  0.21430633+0.83929159j,\n",
       "         0.45869144-0.11634179j, -0.02247641-0.08802476j],\n",
       "       [ 0.21430633+0.83929159j,  0.14496272-0.02956495j,\n",
       "        -0.01533287-0.06004837j,  0.45831684-0.11780887j],\n",
       "       [ 0.45869144-0.11634179j, -0.01533287-0.06004837j,\n",
       "         0.14139095-0.04355315j,  0.21430633+0.83929159j],\n",
       "       [-0.02247641-0.08802476j,  0.45831684-0.11780887j,\n",
       "         0.21430633+0.83929159j,  0.1296855 -0.02563799j]])"
      ]
     },
     "execution_count": 28,
     "metadata": {},
     "output_type": "execute_result"
    }
   ],
   "source": [
    "expm(Hnp)"
   ]
  },
  {
   "cell_type": "code",
   "execution_count": 29,
   "id": "c0fc5100",
   "metadata": {},
   "outputs": [
    {
     "data": {
      "text/plain": [
       "array([[0.+2.66453526e-15j, 0.-3.00000000e+01j, 0.+2.66453526e-15j,\n",
       "        0.+8.88178420e-16j],\n",
       "       [0.-3.00000000e+01j, 0.-5.00000000e-01j, 0.-1.00000000e+00j,\n",
       "        0.-8.88178420e-16j],\n",
       "       [0.-3.55271368e-15j, 0.-1.00000000e+00j, 0.+7.10542736e-15j,\n",
       "        0.-3.00000000e+01j],\n",
       "       [0.+2.66453526e-15j, 0.+6.21724894e-15j, 0.-3.00000000e+01j,\n",
       "        0.-5.00000000e-01j]])"
      ]
     },
     "execution_count": 29,
     "metadata": {},
     "output_type": "execute_result"
    }
   ],
   "source": [
    "Hnp"
   ]
  },
  {
   "cell_type": "code",
   "execution_count": 30,
   "id": "c14e9cb9",
   "metadata": {
    "scrolled": true
   },
   "outputs": [
    {
     "data": {
      "text/plain": [
       "array([[ 0.12610124-0.03967509j,  0.21430633+0.83929159j,\n",
       "         0.45869144-0.11634179j, -0.02247641-0.08802476j],\n",
       "       [ 0.21430633+0.83929159j,  0.14496272-0.02956495j,\n",
       "        -0.01533287-0.06004837j,  0.45831684-0.11780887j],\n",
       "       [ 0.45869144-0.11634179j, -0.01533287-0.06004837j,\n",
       "         0.14139095-0.04355315j,  0.21430633+0.83929159j],\n",
       "       [-0.02247641-0.08802476j,  0.45831684-0.11780887j,\n",
       "         0.21430633+0.83929159j,  0.1296855 -0.02563799j]])"
      ]
     },
     "execution_count": 30,
     "metadata": {},
     "output_type": "execute_result"
    }
   ],
   "source": [
    "# = sp.exp(Hcopy)\n",
    "U = expm(Hnp)\n",
    "#U.simplify()\n",
    "U\n"
   ]
  },
  {
   "cell_type": "code",
   "execution_count": null,
   "id": "5784c42c",
   "metadata": {},
   "outputs": [],
   "source": []
  },
  {
   "cell_type": "code",
   "execution_count": 31,
   "id": "76a55c9d",
   "metadata": {
    "scrolled": false
   },
   "outputs": [
    {
     "data": {
      "text/plain": [
       "array([[1],\n",
       "       [0],\n",
       "       [0],\n",
       "       [0]])"
      ]
     },
     "execution_count": 31,
     "metadata": {},
     "output_type": "execute_result"
    }
   ],
   "source": [
    "#eg state 00, 01, 10, 11\n",
    "psi1 = np.array([[1],[0],[0],[0]])\n",
    "psi2 = np.array([[0],[1],[0],[0]])\n",
    "psi3 = np.array([[0],[0],[1],[0]])\n",
    "psi4 = np.array([[0],[0],[0],[1]])\n",
    "#print(\"00:\\n\",psi1,\"\\n01:\\n\",psi2, \"\\n10:\\n\",psi3,\"\\n11:\\n\", psi4)\n",
    "psi1"
   ]
  },
  {
   "cell_type": "code",
   "execution_count": 32,
   "id": "b361075b",
   "metadata": {
    "scrolled": true
   },
   "outputs": [
    {
     "data": {
      "text/plain": [
       "array([[[[ 0.01432741-0.01000615j,  0.06032326+0.09733309j,\n",
       "           0.05322569-0.03286947j, -0.00632669-0.01020828j]]],\n",
       "\n",
       "\n",
       "       [[[ 0.06032326+0.09733309j, -0.65848316+0.35973099j,\n",
       "           0.19594516+0.36004309j,  0.0690616 -0.03772853j]]],\n",
       "\n",
       "\n",
       "       [[[ 0.05322569-0.03286947j,  0.19594516+0.36004309j,\n",
       "           0.19686243-0.10672997j, -0.0205507 -0.03776126j]]],\n",
       "\n",
       "\n",
       "       [[[-0.00632669-0.01020828j,  0.0690616 -0.03772853j,\n",
       "          -0.0205507 -0.03776126j, -0.00724317+0.00395696j]]]])"
      ]
     },
     "execution_count": 32,
     "metadata": {},
     "output_type": "execute_result"
    }
   ],
   "source": [
    "psit1 = U@psi1\n",
    "pho = psit1@psit1.T\n",
    "np.tensordot(psit1, psit1.T, axes = 0)"
   ]
  },
  {
   "cell_type": "code",
   "execution_count": 33,
   "id": "41984f3f",
   "metadata": {},
   "outputs": [
    {
     "data": {
      "text/plain": [
       "array([[ 0.12610124-0.03967509j],\n",
       "       [ 0.21430633+0.83929159j],\n",
       "       [ 0.45869144-0.11634179j],\n",
       "       [-0.02247641-0.08802476j]])"
      ]
     },
     "execution_count": 33,
     "metadata": {},
     "output_type": "execute_result"
    }
   ],
   "source": [
    "psit1"
   ]
  },
  {
   "cell_type": "code",
   "execution_count": 34,
   "id": "7dada1eb",
   "metadata": {},
   "outputs": [
    {
     "data": {
      "text/plain": [
       "array([[ 0.01432741-0.01000615j,  0.06032326+0.09733309j,\n",
       "         0.05322569-0.03286947j, -0.00632669-0.01020828j],\n",
       "       [ 0.06032326+0.09733309j, -0.65848316+0.35973099j,\n",
       "         0.19594516+0.36004309j,  0.0690616 -0.03772853j],\n",
       "       [ 0.05322569-0.03286947j,  0.19594516+0.36004309j,\n",
       "         0.19686243-0.10672997j, -0.0205507 -0.03776126j],\n",
       "       [-0.00632669-0.01020828j,  0.0690616 -0.03772853j,\n",
       "        -0.0205507 -0.03776126j, -0.00724317+0.00395696j]])"
      ]
     },
     "execution_count": 34,
     "metadata": {},
     "output_type": "execute_result"
    }
   ],
   "source": [
    "pho"
   ]
  },
  {
   "cell_type": "code",
   "execution_count": 35,
   "id": "90781b09",
   "metadata": {},
   "outputs": [
    {
     "data": {
      "text/plain": [
       "array([[ 0.12610124-0.03967509j],\n",
       "       [ 0.21430633+0.83929159j],\n",
       "       [ 0.45869144-0.11634179j],\n",
       "       [-0.02247641-0.08802476j]])"
      ]
     },
     "execution_count": 35,
     "metadata": {},
     "output_type": "execute_result"
    }
   ],
   "source": [
    "psit1"
   ]
  },
  {
   "cell_type": "code",
   "execution_count": 36,
   "id": "293d6c83",
   "metadata": {},
   "outputs": [
    {
     "name": "stderr",
     "output_type": "stream",
     "text": [
      "D:\\User\\Rojar\\Documents\\Anaconda\\lib\\site-packages\\IPython\\lib\\latextools.py:126: MatplotlibDeprecationWarning: \n",
      "The to_png function was deprecated in Matplotlib 3.4 and will be removed two minor releases later. Use mathtext.math_to_image instead.\n",
      "  mt.to_png(f, s, fontsize=12, dpi=dpi, color=color)\n",
      "D:\\User\\Rojar\\Documents\\Anaconda\\lib\\site-packages\\IPython\\lib\\latextools.py:126: MatplotlibDeprecationWarning: \n",
      "The to_rgba function was deprecated in Matplotlib 3.4 and will be removed two minor releases later. Use mathtext.math_to_image instead.\n",
      "  mt.to_png(f, s, fontsize=12, dpi=dpi, color=color)\n",
      "D:\\User\\Rojar\\Documents\\Anaconda\\lib\\site-packages\\IPython\\lib\\latextools.py:126: MatplotlibDeprecationWarning: \n",
      "The to_mask function was deprecated in Matplotlib 3.4 and will be removed two minor releases later. Use mathtext.math_to_image instead.\n",
      "  mt.to_png(f, s, fontsize=12, dpi=dpi, color=color)\n",
      "D:\\User\\Rojar\\Documents\\Anaconda\\lib\\site-packages\\IPython\\lib\\latextools.py:126: MatplotlibDeprecationWarning: \n",
      "The MathtextBackendBitmap class was deprecated in Matplotlib 3.4 and will be removed two minor releases later. Use mathtext.math_to_image instead.\n",
      "  mt.to_png(f, s, fontsize=12, dpi=dpi, color=color)\n"
     ]
    },
    {
     "data": {
      "text/latex": [
       "$\\displaystyle \\left( \\left[\\begin{matrix}0 & 0\\\\0 & 0\\end{matrix}\\right], \\  \\left[\\begin{matrix}0 & \\overline{P_{1}}\\\\P_{1} & E_{11}\\end{matrix}\\right], \\  60, \\  1, \\  \\left[\\begin{matrix}0 & - 30.0 i & 0 & 0\\\\- 30.0 i & - 0.5 i & - 1.0 i & 0\\\\0 & - 1.0 i & 0 & - 30.0 i\\\\0 & 0 & - 30.0 i & - 0.5 i\\end{matrix}\\right]\\right)$"
      ],
      "text/plain": [
       "⎛                                ⎡   0     -30.0⋅ⅈ     0        0   ⎤⎞\n",
       "⎜        ⎡       _____ ⎤         ⎢                                  ⎥⎟\n",
       "⎜⎡0  0⎤  ⎢  0    P_{1} ⎥         ⎢-30.0⋅ⅈ  -0.5⋅ⅈ   -1.0⋅ⅈ      0   ⎥⎟\n",
       "⎜⎢    ⎥, ⎢             ⎥, 60, 1, ⎢                                  ⎥⎟\n",
       "⎜⎣0  0⎦  ⎣P_{1}  E_{11}⎦         ⎢   0     -1.0⋅ⅈ      0     -30.0⋅ⅈ⎥⎟\n",
       "⎜                                ⎢                                  ⎥⎟\n",
       "⎝                                ⎣   0        0     -30.0⋅ⅈ  -0.5⋅ⅈ ⎦⎠"
      ]
     },
     "execution_count": 36,
     "metadata": {},
     "output_type": "execute_result"
    }
   ],
   "source": [
    "ch, qrh, P11, E11, H2"
   ]
  },
  {
   "cell_type": "code",
   "execution_count": 37,
   "id": "5f86250e",
   "metadata": {
    "scrolled": true
   },
   "outputs": [
    {
     "data": {
      "text/plain": [
       "(array([[ 0.+0.j, 60.+0.j],\n",
       "        [60.+0.j,  1.+0.j]]),\n",
       " array([[0.+0.j, 0.+0.j],\n",
       "        [0.+0.j, 0.+0.j]]))"
      ]
     },
     "execution_count": 37,
     "metadata": {},
     "output_type": "execute_result"
    }
   ],
   "source": [
    "ch_test = np.array(ch).astype('complex128')\n",
    "qrh_test = np.array(qrh.subs({\"E_{11}\":E11,\"P_{1}\":P11})).astype('complex128')\n",
    "Id = np.identity(2).astype('int')\n",
    "qrh_test, ch_test"
   ]
  },
  {
   "cell_type": "code",
   "execution_count": 38,
   "id": "743ec7fd",
   "metadata": {},
   "outputs": [
    {
     "data": {
      "text/latex": [
       "$\\displaystyle \\left[\\begin{matrix}0 & - 30.0 i & 0 & 0\\\\- 30.0 i & - 0.5 i & - 1.0 i & 0\\\\0 & - 1.0 i & 0 & - 30.0 i\\\\0 & 0 & - 30.0 i & - 0.5 i\\end{matrix}\\right]$"
      ],
      "text/plain": [
       "⎡   0     -30.0⋅ⅈ     0        0   ⎤\n",
       "⎢                                  ⎥\n",
       "⎢-30.0⋅ⅈ  -0.5⋅ⅈ   -1.0⋅ⅈ      0   ⎥\n",
       "⎢                                  ⎥\n",
       "⎢   0     -1.0⋅ⅈ      0     -30.0⋅ⅈ⎥\n",
       "⎢                                  ⎥\n",
       "⎣   0        0     -30.0⋅ⅈ  -0.5⋅ⅈ ⎦"
      ]
     },
     "execution_count": 38,
     "metadata": {},
     "output_type": "execute_result"
    }
   ],
   "source": [
    "H2"
   ]
  },
  {
   "cell_type": "code",
   "execution_count": 39,
   "id": "3c693f6b",
   "metadata": {
    "scrolled": true
   },
   "outputs": [
    {
     "data": {
      "text/plain": [
       "array([[0.+2.66453526e-15j, 0.-3.00000000e+01j, 0.+2.66453526e-15j,\n",
       "        0.+8.88178420e-16j],\n",
       "       [0.-3.00000000e+01j, 0.-5.00000000e-01j, 0.-1.00000000e+00j,\n",
       "        0.-8.88178420e-16j],\n",
       "       [0.-3.55271368e-15j, 0.-1.00000000e+00j, 0.+7.10542736e-15j,\n",
       "        0.-3.00000000e+01j],\n",
       "       [0.+2.66453526e-15j, 0.+6.21724894e-15j, 0.-3.00000000e+01j,\n",
       "        0.-5.00000000e-01j]])"
      ]
     },
     "execution_count": 39,
     "metadata": {},
     "output_type": "execute_result"
    }
   ],
   "source": [
    "Hnp"
   ]
  },
  {
   "cell_type": "code",
   "execution_count": 40,
   "id": "b51b4bb2",
   "metadata": {},
   "outputs": [
    {
     "data": {
      "text/plain": [
       "array([[0, 0, 0, 0],\n",
       "       [0, 0, 2, 0],\n",
       "       [0, 2, 0, 0],\n",
       "       [0, 0, 0, 0]])"
      ]
     },
     "execution_count": 40,
     "metadata": {},
     "output_type": "execute_result"
    }
   ],
   "source": [
    "#J11.conjugate()*(MTP(sigmap,a_dag.T))\n",
    "l = J11.conjugate()*np.einsum('ij,kl->ijkl', np.array(sigmap).astype('int'), np.array(a_dag.T).astype('int')) + J11 * np.einsum('ij,kl->ijkl', np.array(sigmam).astype('int'), np.array(a_dag).astype('int'))\n",
    "l.reshape((4,4))"
   ]
  },
  {
   "cell_type": "code",
   "execution_count": 41,
   "id": "a1eec551",
   "metadata": {},
   "outputs": [
    {
     "data": {
      "text/plain": [
       "array([[0.+0.j, 0.+0.j, 0.+0.j, 0.+0.j],\n",
       "       [0.+0.j, 0.+0.j, 0.+0.j, 0.+0.j],\n",
       "       [0.+0.j, 0.+0.j, 0.+0.j, 0.+0.j],\n",
       "       [0.+0.j, 0.+0.j, 0.+0.j, 0.+0.j]])"
      ]
     },
     "execution_count": 41,
     "metadata": {},
     "output_type": "execute_result"
    }
   ],
   "source": [
    "h = np.einsum('ij,kl->ijkl', ch_test, Id)\n",
    "h.reshape((4,4))"
   ]
  },
  {
   "cell_type": "code",
   "execution_count": 42,
   "id": "d4ea0e0c",
   "metadata": {},
   "outputs": [
    {
     "data": {
      "text/plain": [
       "array([[ 0.+0.j, 60.+0.j, 60.+0.j,  1.+0.j],\n",
       "       [ 0.+0.j,  0.+0.j,  0.+0.j,  0.+0.j],\n",
       "       [ 0.+0.j,  0.+0.j,  0.+0.j,  0.+0.j],\n",
       "       [ 0.+0.j, 60.+0.j, 60.+0.j,  1.+0.j]])"
      ]
     },
     "execution_count": 42,
     "metadata": {},
     "output_type": "execute_result"
    }
   ],
   "source": [
    "g = np.einsum('ij,kl->ijkl',Id,qrh_test)\n",
    "g.reshape((4,4))"
   ]
  },
  {
   "cell_type": "code",
   "execution_count": 43,
   "id": "d2f79b59",
   "metadata": {
    "scrolled": false
   },
   "outputs": [
    {
     "data": {
      "text/latex": [
       "$\\displaystyle \\left[\\begin{matrix}0 & 60 & 0 & 0\\\\60 & 1 & 2 & 0\\\\0 & 2 & 0 & 60\\\\0 & 0 & 60 & 1\\end{matrix}\\right]$"
      ],
      "text/plain": [
       "⎡0   60  0   0 ⎤\n",
       "⎢              ⎥\n",
       "⎢60  1   2   0 ⎥\n",
       "⎢              ⎥\n",
       "⎢0   2   0   60⎥\n",
       "⎢              ⎥\n",
       "⎣0   0   60  1 ⎦"
      ]
     },
     "execution_count": 43,
     "metadata": {},
     "output_type": "execute_result"
    }
   ],
   "source": [
    "H1"
   ]
  },
  {
   "cell_type": "code",
   "execution_count": 44,
   "id": "7050ccda",
   "metadata": {
    "scrolled": true
   },
   "outputs": [
    {
     "data": {
      "text/plain": [
       "array([[ 0,  1,  2,  3,  4],\n",
       "       [ 5,  6,  7,  8,  9],\n",
       "       [10, 11, 12, 13, 14],\n",
       "       [15, 16, 17, 18, 19],\n",
       "       [20, 21, 22, 23, 24]])"
      ]
     },
     "execution_count": 44,
     "metadata": {},
     "output_type": "execute_result"
    }
   ],
   "source": [
    "a = np.arange(25).reshape(5,5)\n",
    "a"
   ]
  },
  {
   "cell_type": "code",
   "execution_count": 45,
   "id": "ff2ffe92",
   "metadata": {
    "scrolled": true
   },
   "outputs": [
    {
     "data": {
      "text/plain": [
       "60"
      ]
     },
     "execution_count": 45,
     "metadata": {},
     "output_type": "execute_result"
    }
   ],
   "source": [
    "np.einsum('ii', a)"
   ]
  },
  {
   "cell_type": "code",
   "execution_count": 46,
   "id": "6ba8d750",
   "metadata": {},
   "outputs": [
    {
     "data": {
      "text/plain": [
       "array([ 10,  35,  60,  85, 110])"
      ]
     },
     "execution_count": 46,
     "metadata": {},
     "output_type": "execute_result"
    }
   ],
   "source": [
    "np.einsum('ij->i', a)"
   ]
  },
  {
   "cell_type": "code",
   "execution_count": 47,
   "id": "01627230",
   "metadata": {},
   "outputs": [
    {
     "data": {
      "text/plain": [
       "array([[[[ 0.+0.j, 60.+0.j],\n",
       "         [60.+0.j,  1.+0.j]],\n",
       "\n",
       "        [[ 0.+0.j,  0.+0.j],\n",
       "         [ 0.+0.j,  0.+0.j]]],\n",
       "\n",
       "\n",
       "       [[[ 0.+0.j,  0.+0.j],\n",
       "         [ 0.+0.j,  0.+0.j]],\n",
       "\n",
       "        [[ 0.+0.j, 60.+0.j],\n",
       "         [60.+0.j,  1.+0.j]]]])"
      ]
     },
     "execution_count": 47,
     "metadata": {},
     "output_type": "execute_result"
    }
   ],
   "source": [
    "H_test = np.einsum('ij,kl->ijkl', ch_test, Id) +  np.einsum('ij,kl->ijkl',Id,qrh_test)\n",
    "H_test"
   ]
  },
  {
   "cell_type": "code",
   "execution_count": 48,
   "id": "a1a44f1f",
   "metadata": {},
   "outputs": [
    {
     "data": {
      "text/plain": [
       "array([[ 0.01432741-0.01000615j,  0.06032326+0.09733309j,\n",
       "         0.05322569-0.03286947j, -0.00632669-0.01020828j],\n",
       "       [ 0.06032326+0.09733309j, -0.65848316+0.35973099j,\n",
       "         0.19594516+0.36004309j,  0.0690616 -0.03772853j],\n",
       "       [ 0.05322569-0.03286947j,  0.19594516+0.36004309j,\n",
       "         0.19686243-0.10672997j, -0.0205507 -0.03776126j],\n",
       "       [-0.00632669-0.01020828j,  0.0690616 -0.03772853j,\n",
       "        -0.0205507 -0.03776126j, -0.00724317+0.00395696j]])"
      ]
     },
     "execution_count": 48,
     "metadata": {},
     "output_type": "execute_result"
    }
   ],
   "source": [
    "pho"
   ]
  },
  {
   "cell_type": "code",
   "execution_count": 49,
   "id": "caeb17d1",
   "metadata": {},
   "outputs": [
    {
     "ename": "TypeError",
     "evalue": "reshape() takes exactly 1 argument (0 given)",
     "output_type": "error",
     "traceback": [
      "\u001b[1;31m---------------------------------------------------------------------------\u001b[0m",
      "\u001b[1;31mTypeError\u001b[0m                                 Traceback (most recent call last)",
      "\u001b[1;32m~\\AppData\\Local\\Temp/ipykernel_29500/3421748613.py\u001b[0m in \u001b[0;36m<module>\u001b[1;34m\u001b[0m\n\u001b[1;32m----> 1\u001b[1;33m \u001b[0mpho\u001b[0m\u001b[1;33m.\u001b[0m\u001b[0mreshape\u001b[0m\u001b[1;33m(\u001b[0m\u001b[1;33m)\u001b[0m\u001b[1;33m\u001b[0m\u001b[1;33m\u001b[0m\u001b[0m\n\u001b[0m",
      "\u001b[1;31mTypeError\u001b[0m: reshape() takes exactly 1 argument (0 given)"
     ]
    }
   ],
   "source": [
    "pho.reshape()"
   ]
  },
  {
   "cell_type": "code",
   "execution_count": null,
   "id": "3e1efd15",
   "metadata": {},
   "outputs": [],
   "source": [
    "#tr(H{ijkl}){kl} = \\sum_i H{iikl}\n",
    "\n",
    "trace_comp = np.einsum('ijkl->ik',pho)\n",
    "trace_comp"
   ]
  },
  {
   "cell_type": "code",
   "execution_count": null,
   "id": "191c2fc2",
   "metadata": {
    "scrolled": false
   },
   "outputs": [],
   "source": [
    "#trying to recreate the full hamiltonians in terms of summs\n",
    "\n",
    "H_test = np.einsum('ij,kl->ijkl', ch_test, Id) +  np.einsum('ij,kl->ijkl',Id,qrh_test) +J11.conjugate()*np.einsum('ij,kl->ijkl', np.array(sigmap).astype('complex128'), np.array(a_dag.T).astype('complex128')) + J11 * np.einsum('ij,kl->ijkl', np.array(sigmam).astype('complex128'), np.array(a_dag).astype('complex128')) \n",
    "H_test\n",
    "    \n",
    "        "
   ]
  },
  {
   "cell_type": "code",
   "execution_count": null,
   "id": "a9294305",
   "metadata": {
    "scrolled": true
   },
   "outputs": [],
   "source": [
    "H_test.shape"
   ]
  },
  {
   "cell_type": "code",
   "execution_count": null,
   "id": "e9e2b99e",
   "metadata": {},
   "outputs": [],
   "source": [
    "#referenhce\n",
    "H1"
   ]
  },
  {
   "cell_type": "code",
   "execution_count": null,
   "id": "cfa6937e",
   "metadata": {},
   "outputs": [],
   "source": [
    "H_test.reshape((4,4))"
   ]
  },
  {
   "cell_type": "code",
   "execution_count": null,
   "id": "426a6349",
   "metadata": {},
   "outputs": [],
   "source": [
    "H_test_U = -1j * H_test * tauhbar\n",
    "U1 = expm(H_test_U)"
   ]
  },
  {
   "cell_type": "code",
   "execution_count": null,
   "id": "4ea4135e",
   "metadata": {},
   "outputs": [],
   "source": [
    "A = np.array([[11, 12, 13, 14],\n",
    "       [21, 22, 23, 24],\n",
    "       [31, 32, 33, 34],\n",
    "       [41, 42, 43, 44]])\n",
    "np.einsum('ii->', A)"
   ]
  },
  {
   "cell_type": "code",
   "execution_count": null,
   "id": "c7407d5a",
   "metadata": {},
   "outputs": [],
   "source": [
    "pho"
   ]
  },
  {
   "cell_type": "code",
   "execution_count": null,
   "id": "c1502b1c",
   "metadata": {},
   "outputs": [],
   "source": [
    "np.einsum('iikl->ik',pho.reshape(2,2,2,2))"
   ]
  },
  {
   "cell_type": "code",
   "execution_count": null,
   "id": "e05e408f",
   "metadata": {},
   "outputs": [],
   "source": [
    "#tr(H{ijkl}){kl} = \\sum_i H{iikl}\n",
    "\n",
    "trace_comp = np.einsum('iikl->ik',pho)\n",
    "trace_comp"
   ]
  },
  {
   "cell_type": "markdown",
   "id": "adfc7858",
   "metadata": {},
   "source": [
    "# simulation and testing"
   ]
  },
  {
   "cell_type": "code",
   "execution_count": null,
   "id": "984c3623",
   "metadata": {},
   "outputs": [],
   "source": [
    "# #let us define some t, time scale, as t = E0 * tau/hbar\n",
    "# #ideally random sample of e0 taken from +-E0/2 where E0 can be defined as \n",
    "# #1 for e.g. But let us for now choose e0 = 1/2\n",
    "# #redefine some terms\n",
    "# t = 0.00001\n",
    "# H2 = -1j * np.array(H1).astype('complex128') * t\n",
    "# #therefore U is\n",
    "# U = expm(H2)\n",
    "# H2, U"
   ]
  },
  {
   "cell_type": "code",
   "execution_count": null,
   "id": "15e21542",
   "metadata": {},
   "outputs": [],
   "source": [
    "#rabii oscillation with qubit itself - happens with any hermitian qubits with itself of two sites\n",
    "#a signiture of two equal probable levels\n",
    "#a signitture of transistions from one state to another\n",
    "#if you start one particle in one state and let it evolve\n",
    "#and hamiltonian is hermertian then a rabii osciilation \n",
    "#"
   ]
  },
  {
   "cell_type": "code",
   "execution_count": null,
   "id": "b340595e",
   "metadata": {},
   "outputs": [],
   "source": [
    "#reason why they chose K0 as scaling factor, try change to "
   ]
  },
  {
   "cell_type": "code",
   "execution_count": null,
   "id": "538abdcd",
   "metadata": {},
   "outputs": [],
   "source": [
    "import random\n",
    "from scipy.linalg import expm"
   ]
  },
  {
   "cell_type": "code",
   "execution_count": null,
   "id": "3b6caced",
   "metadata": {
    "scrolled": false
   },
   "outputs": [],
   "source": [
    "E11,E01,P11, E_11, E_01, J11 = sp.symbols(\"E_{11} E_{01} P_{1} E_{11c} E_{01c} J_{11}\")\n",
    "Hcopy = H\n",
    "\n",
    "E0 = 1 #variance of uniform distrib of energies E0 \n",
    "#-> e11 derived here ->random\n",
    "\n",
    "E0_array = np.linspace(-E0/2, E0/2, 11)\n",
    "E11 = 1\n",
    "P11,J11 = (20/E0,2/E0) #if more than 1 reser need to add K0 term\n",
    "H1 = Hcopy.subs({\"E_{11}\":E11,\"P_{1}\":P11, \"J_{11}\":J11})\n",
    "H1\n"
   ]
  },
  {
   "cell_type": "code",
   "execution_count": null,
   "id": "2e6a7bbf",
   "metadata": {
    "scrolled": true
   },
   "outputs": [],
   "source": [
    "#e1 chosen from this distrib (and all subsequent energies randomly chosen from\n",
    "#this distrib\n",
    "#compu qubit has no onsite V according to paper\n",
    "#E11 = 0.5 corresponds to first reservior qubit energy\n",
    "\n",
    "tauhbar = 0.001\n",
    "dt = E0 * tauhbar\n",
    "#when more Reservoi qubits scale with K0, E0 itself also scaled with\n",
    "#K0\n",
    "\n",
    "H2 = np.array(H1).astype('complex128') / E0 #scaling E0\n",
    "#therefore U is\n",
    "U = expm(-1j* H2 * dt)\n",
    "H2, U"
   ]
  },
  {
   "cell_type": "markdown",
   "id": "b2d54da1",
   "metadata": {},
   "source": [
    "# comparing two basis states"
   ]
  },
  {
   "cell_type": "code",
   "execution_count": 36,
   "id": "25816fc7",
   "metadata": {},
   "outputs": [],
   "source": [
    "import random\n",
    "from scipy.linalg import expm"
   ]
  },
  {
   "cell_type": "code",
   "execution_count": 15,
   "id": "faa0587f",
   "metadata": {
    "scrolled": true
   },
   "outputs": [
    {
     "data": {
      "image/png": "[encoded data removed]",
      "text/plain": [
       "<Figure size 432x288 with 1 Axes>"
      ]
     },
     "metadata": {
      "needs_background": "light"
     },
     "output_type": "display_data"
    }
   ],
   "source": [
    "\n",
    "tauhbar = 0.001\n",
    "dt = E0 * tauhbar\n",
    "#when more Reservoi qubits scale with K0, E0 itself also scaled with\n",
    "#K0\n",
    "\n",
    "H2 = np.array(H1).astype('complex128') / E0 #scaling E0\n",
    "#therefore U is\n",
    "U = expm(-1j* H2 * dt)\n",
    "\n",
    "\n",
    "\n",
    "\n",
    "\n",
    "nsteps = 3000\n",
    "T = nsteps  * dt\n",
    "t = np.arange(0, T+dt, dt) #creates array from 0 to T +dt in steps of dt\n",
    "\n",
    "a = np.zeros_like(t).astype('complex128')#creates array with same shape/length of t of same\n",
    "#dtype\n",
    "b =  np.zeros_like(t).astype('complex128')\n",
    "c =  np.zeros_like(t).astype('complex128')\n",
    "d =  np.zeros_like(t).astype('complex128')\n",
    "#for i in range(len(t))\n",
    "psi = np.array([[1], [0], [0], [0]])\n",
    "for i, tval in enumerate(t):\n",
    "    a[i] = psi[0]\n",
    "    b[i] = psi[1]\n",
    "    c[i] = psi[2]\n",
    "    d[i] = psi[3]\n",
    "    psi = U @ psi\n",
    "   \n",
    "\n",
    "plt.plot(t, np.abs(a)**2, 'b', label = '|00>')\n",
    "plt.plot(t, np.abs(b)**2, 'g', label = '|01>')\n",
    "plt.plot(t, np.abs(c)**2, 'b', label = '|10>')\n",
    "plt.plot(t, np.abs(d)**2, 'g', label = '|11>')\n",
    "plt.xlabel('Scaled Time')\n",
    "plt.ylabel(f'|a^2|(blue)    &     |b^2|(green)')\n",
    "#plt.xlim(1.4,1.8) # to see if it goes zero\n",
    "# plt.plot(t, np.abs(c)**2, 'y', label = '|10>')\n",
    "# plt.plot(t, np.abs(d)**2, 'k', label = '|11>')\n",
    "plt.legend()\n",
    "plt.savefig('recent.jpg')\n",
    "plt.show()"
   ]
  },
  {
   "cell_type": "code",
   "execution_count": null,
   "id": "3720b884",
   "metadata": {},
   "outputs": [],
   "source": [
    "testt = 0.001*np.pi\n",
    "time = np.arange(0,pi,testt)\n",
    "time"
   ]
  },
  {
   "cell_type": "code",
   "execution_count": null,
   "id": "80fe7b67",
   "metadata": {},
   "outputs": [],
   "source": [
    "plt.rcParams['text.usetex'] = True"
   ]
  },
  {
   "cell_type": "code",
   "execution_count": null,
   "id": "0d9728e8",
   "metadata": {},
   "outputs": [],
   "source": [
    "pip install nbconvert"
   ]
  },
  {
   "cell_type": "code",
   "execution_count": null,
   "id": "bae3baa1",
   "metadata": {},
   "outputs": [],
   "source": [
    "pip install pylatex"
   ]
  },
  {
   "cell_type": "code",
   "execution_count": 13,
   "id": "20f04fff",
   "metadata": {},
   "outputs": [],
   "source": [
    "import random\n",
    "from scipy.linalg import expm"
   ]
  },
  {
   "cell_type": "code",
   "execution_count": 14,
   "id": "0969c181",
   "metadata": {},
   "outputs": [],
   "source": [
    "gnd = np.array([[1],[0]])\n",
    "exc = np.array([[0],[1]])\n"
   ]
  },
  {
   "cell_type": "code",
   "execution_count": 15,
   "id": "d58f23f5",
   "metadata": {},
   "outputs": [],
   "source": [
    "def partialtrace(rho):\n",
    "    I = np.eye(2)\n",
    "    temp = TensorProduct(I,gnd.conjugate().T)@rho@TensorProduct(I,gnd)+(\n",
    "           TensorProduct(I,exc.conjugate().T)@rho@TensorProduct(I,exc) ) \n",
    "    return temp"
   ]
  },
  {
   "cell_type": "code",
   "execution_count": 34,
   "id": "edef3801",
   "metadata": {
    "scrolled": false
   },
   "outputs": [
    {
     "data": {
      "image/png": "[encoded data removed]",
      "text/plain": [
       "<Figure size 576x576 with 2 Axes>"
      ]
     },
     "metadata": {
      "needs_background": "light"
     },
     "output_type": "display_data"
    }
   ],
   "source": [
    "E11,E01,P11, E_11, E_01, J11 = sp.symbols(\"E_{11} E_{01} P_{1} E_{11c} E_{01c} J_{11}\")\n",
    "Hcopy = H\n",
    "\n",
    "E0 = 1 #variance of uniform distrib of energies E0 \n",
    "#-> e11 derived here ->random\n",
    "\n",
    "E0_array = np.linspace(-E0/2, E0/2, 11)\n",
    "E11 = 1\n",
    "P11,J11 = (20/E0,2/E0) #if more than 1 reser need to add K0 term\n",
    "H1 = Hcopy.subs({\"E_{11}\":E11,\"P_{1}\":P11, \"J_{11}\":J11})\n",
    "H1\n",
    "\n",
    "\n",
    "tauhbar = 0.001\n",
    "dt = E0 * tauhbar\n",
    "#when more Reservoi qubits scale with K0, E0 itself also scaled with\n",
    "#K0\n",
    "\n",
    "H2 = np.array(H1).astype('complex128') / E0 #scaling E0\n",
    "#therefore U is\n",
    "U = expm(-1j* H2 * dt)\n",
    "\n",
    "\n",
    "\n",
    "\n",
    "\n",
    "nsteps = 3000\n",
    "T = nsteps  * dt\n",
    "t = np.arange(0, T+dt, dt) #creates array from 0 to T +dt in steps of dt\n",
    "\n",
    "a = np.zeros_like(t).astype('complex128')#creates array with same shape/length of t of same\n",
    "#dtype\n",
    "b =  np.zeros_like(t).astype('complex128')\n",
    "c =  np.zeros_like(t).astype('complex128')\n",
    "d =  np.zeros_like(t).astype('complex128')\n",
    "#for i in range(len(t))\n",
    "A=1\n",
    "B=0\n",
    "phi_in = 1/np.sqrt(np.abs(A)**2+np.abs(B)**2) * (A*gnd + B*exc) \n",
    "psi_in = TensorProduct(phi_in,gnd)\n",
    "psi_in = psi_in / np.linalg.norm(psi_in)\n",
    "phi_ideal = np.array([[0,1],[1,0]]) @ phi_in\n",
    "\n",
    "psi_out = {}\n",
    "psi_out[0] = psi_in\n",
    "\n",
    "rho = {}\n",
    "rho[0] = TensorProduct(psi_in, psi_in.conjugate().T)\n",
    "\n",
    "rho_cq = {}\n",
    "I = np.eye(2)\n",
    "rho_cq[0]=TensorProduct(I,gnd.conjugate().T)@rho[0]@TensorProduct(I,gnd)+(\n",
    "           TensorProduct(I,exc.conjugate().T)@rho[0]@TensorProduct(I,exc) )\n",
    "\n",
    "F = {}\n",
    "F[0] = phi_ideal.conjugate().T@rho_cq[0]@phi_ideal\n",
    "F_array=np.zeros(len(t))\n",
    "F_array[0] = F[0][0][0].real\n",
    "\n",
    "purity = {}\n",
    "purity[0] = np.trace(rho_cq[0]@rho_cq[0])\n",
    "purity_array=np.zeros(len(t))\n",
    "purity_array[0] = purity[0].real\n",
    "\n",
    "for i in range(len(t)-1):\n",
    "    a[i] = psi_out[i][0]\n",
    "    b[i] = psi_out[i][1]\n",
    "    c[i] = psi_out[i][2]\n",
    "    d[i] = psi_out[i][3]\n",
    "    psi_out[i+1] = U @ psi_out[i]\n",
    "    rho[i+1] = TensorProduct(psi_out[i+1], psi_out[i+1].conjugate().T)\n",
    "    rho_cq[i+1] = partialtrace(rho[i+1])\n",
    "    F[i+1] = phi_ideal.conjugate().T@rho_cq[i+1]@phi_ideal\n",
    "    F_array[i+1]=F[i+1][0][0].real\n",
    "    purity[i+1] = np.trace(rho_cq[i+1]@rho_cq[i+1])\n",
    "    purity_array[i+1] = purity[i+1].real\n",
    "    \n",
    "    \n",
    "fig,ax = plt.subplots(2, figsize=(8,8))\n",
    "fig.suptitle('Purity & Fidelity plots for X gate simulation')\n",
    "ax[0].plot(t, F_array)\n",
    "ax[0].set_ylabel('Fidelity')\n",
    "#ax[0].grid()\n",
    "ax[0].vlines(1.572, 0.0,1.0, linestyles='dashed', colors ='red')\n",
    "ax[1].plot(t,purity_array)\n",
    "ax[1].set_ylabel('Purity')\n",
    "ax[1].set_xlabel(r'Scaled Time ($\\frac{\\tau}{\\hbar}E0$)')\n",
    "#ax[1].grid()\n",
    "ax[1].vlines(1.572, 0.5,1.0, linestyles='dashed', colors ='red')\n",
    "plt.savefig('purityfid.jpg')\n",
    "plt.show()\n",
    "\n",
    "# for i, tval in enumerate(t):\n",
    "#     a[i] = psi[0]\n",
    "#     b[i] = psi[1]\n",
    "#     c[i] = psi[2]\n",
    "#     d[i] = psi[3]\n",
    "#     psi = U @ psi\n",
    "   \n",
    "\n",
    "# plt.plot(t, np.abs(a)**2, 'b', label = '|00>')\n",
    "# plt.plot(t, np.abs(b)**2, 'g', label = '|01>')\n",
    "# plt.plot(t, np.abs(c)**2, 'b', label = '|10>')\n",
    "# plt.plot(t, np.abs(d)**2, 'g', label = '|11>')\n",
    "# plt.xlabel('Scaled Time')\n",
    "# plt.ylabel(f'|a^2|(blue)    &     |b^2|(green)')\n",
    "# #plt.xlim(1.4,1.8) # to see if it goes zero\n",
    "# # plt.plot(t, np.abs(c)**2, 'y', label = '|10>')\n",
    "# # plt.plot(t, np.abs(d)**2, 'k', label = '|11>')\n",
    "# plt.legend()\n",
    "# plt.savefig('recent.jpg')\n",
    "# plt.show()"
   ]
  },
  {
   "cell_type": "code",
   "execution_count": 62,
   "id": "7b6ffb82",
   "metadata": {},
   "outputs": [
    {
     "data": {
      "image/png": "[encoded data removed]",
      "text/plain": [
       "<Figure size 432x288 with 1 Axes>"
      ]
     },
     "metadata": {
      "needs_background": "light"
     },
     "output_type": "display_data"
    }
   ],
   "source": [
    "plt.plot(t, purity_array, label=\"Purity\")\n",
    "plt.plot(t, F_array, label=\"Fidelity\")\n",
    "plt.xlabel(r\"Scaled Time ($\\frac{\\tau}{\\hbar}E0$)\")\n",
    "plt.ylabel(r\"F & P magnitude\")\n",
    "plt.title(\"Zoom in of F and P curves\")\n",
    "plt.legend()\n",
    "plt.xlim([1.4,1.7])\n",
    "plt.ylim([0.9,1.025])\n",
    "plt.savefig('zoom.jpg')\n",
    "plt.show()"
   ]
  },
  {
   "cell_type": "code",
   "execution_count": 98,
   "id": "350197ad",
   "metadata": {},
   "outputs": [
    {
     "data": {
      "text/plain": [
       "array([[0.91914503],\n",
       "       [0.        ],\n",
       "       [0.3939193 ],\n",
       "       [0.        ]])"
      ]
     },
     "execution_count": 98,
     "metadata": {},
     "output_type": "execute_result"
    }
   ],
   "source": [
    "psi_in"
   ]
  },
  {
   "cell_type": "code",
   "execution_count": 77,
   "id": "41cc1ff5",
   "metadata": {
    "scrolled": true
   },
   "outputs": [
    {
     "data": {
      "text/plain": [
       "array([1.        , 0.99820054, 0.99280865, ..., 0.05339242, 0.05014759,\n",
       "       0.        ])"
      ]
     },
     "execution_count": 77,
     "metadata": {},
     "output_type": "execute_result"
    }
   ],
   "source": [
    "a.real"
   ]
  },
  {
   "cell_type": "code",
   "execution_count": 79,
   "id": "5e1e6dc4",
   "metadata": {
    "scrolled": true
   },
   "outputs": [
    {
     "data": {
      "image/png": "[encoded data removed]",
      "text/plain": [
       "<Figure size 432x288 with 1 Axes>"
      ]
     },
     "metadata": {
      "needs_background": "light"
     },
     "output_type": "display_data"
    }
   ],
   "source": [
    "plt.plot(t[:1500],np.abs(c[:1500])**2,color='k', label=\"|10>\")\n",
    "plt.plot(t[:1500],np.abs(d[:1500])**2,color='r',label=\"|11>\")\n",
    "plt.xlabel(r'Scaled Time ($\\frac{\\tau}{\\hbar}E0$)')\n",
    "plt.ylabel(r'$|\\gamma|^2$ (red)  &  $|\\delta|^2$ (black)')\n",
    "plt.title('Oscillation between |10> and |11>')\n",
    "plt.legend()\n",
    "plt.savefig('relation3.jpg')\n",
    "plt.show()\n"
   ]
  },
  {
   "cell_type": "code",
   "execution_count": 70,
   "id": "80bc8264",
   "metadata": {},
   "outputs": [
    {
     "data": {
      "text/plain": [
       "array([0.000e+00, 1.000e-03, 2.000e-03, ..., 1.497e+00, 1.498e+00,\n",
       "       1.499e+00])"
      ]
     },
     "execution_count": 70,
     "metadata": {},
     "output_type": "execute_result"
    }
   ],
   "source": [
    "t[:1500]"
   ]
  },
  {
   "cell_type": "code",
   "execution_count": 92,
   "id": "f2840823",
   "metadata": {},
   "outputs": [
    {
     "data": {
      "text/plain": [
       "[<matplotlib.lines.Line2D at 0x1982fc97b20>,\n",
       " <matplotlib.lines.Line2D at 0x1982fc978b0>]"
      ]
     },
     "execution_count": 92,
     "metadata": {},
     "output_type": "execute_result"
    },
    {
     "data": {
      "image/png": "[encoded data removed]",
      "text/plain": [
       "<Figure size 432x288 with 1 Axes>"
      ]
     },
     "metadata": {
      "needs_background": "light"
     },
     "output_type": "display_data"
    }
   ],
   "source": [
    "plt.plot(t, a.real, t,c.real)"
   ]
  },
  {
   "cell_type": "code",
   "execution_count": 55,
   "id": "43320e6b",
   "metadata": {
    "scrolled": false
   },
   "outputs": [
    {
     "data": {
      "image/png": "[encoded data removed]",
      "text/plain": [
       "<Figure size 720x576 with 4 Axes>"
      ]
     },
     "metadata": {
      "needs_background": "light"
     },
     "output_type": "display_data"
    }
   ],
   "source": [
    "fig,ax=plt.subplots(2,2, figsize=(10,8))\n",
    "ax[0,0].plot(t,np.abs(a)**2,color='b', label=\"|00>\" )\n",
    "ax[0,0].set_ylabel(r'$|\\alpha|^2$')\n",
    "ax[0,0].legend()\n",
    "ax[0,1].plot(t,np.abs(b)**2,color='g', label=\"|01>\" )\n",
    "ax[0,1].set_ylabel(r'$|\\beta|^2$')\n",
    "ax[0,1].legend()\n",
    "ax[1,0].plot(t,np.abs(c)**2,color='k', label=\"|10>\" )\n",
    "ax[1,0].set_ylabel(r'$|\\gamma|^2$')\n",
    "ax[1,0].set_xlabel(r'Scaled Time ($\\frac{\\tau}{\\hbar}E0$)')\n",
    "ax[1,0].legend()\n",
    "ax[1,1].plot(t,np.abs(d)**2,color='r', label=\"|11>\" )\n",
    "ax[1,1].set_ylabel(r'$|\\delta|^2$')\n",
    "ax[1,1].set_xlabel(r'Scaled Time ($\\frac{\\tau}{\\hbar}E0$)')\n",
    "ax[1,1].legend()\n",
    "plt.savefig('updatedrabbi.jpg')\n",
    "plt.show()"
   ]
  },
  {
   "cell_type": "code",
   "execution_count": null,
   "id": "a2af44ad",
   "metadata": {
    "scrolled": false
   },
   "outputs": [],
   "source": [
    "purity[500].real"
   ]
  },
  {
   "cell_type": "code",
   "execution_count": null,
   "id": "d71deb0f",
   "metadata": {},
   "outputs": [],
   "source": [
    "l=F.values()"
   ]
  },
  {
   "cell_type": "code",
   "execution_count": null,
   "id": "6a7939c9",
   "metadata": {
    "scrolled": true
   },
   "outputs": [],
   "source": [
    "purity[500]"
   ]
  },
  {
   "cell_type": "code",
   "execution_count": null,
   "id": "67963729",
   "metadata": {},
   "outputs": [],
   "source": [
    "F = {}\n",
    "F[0] = phi_ideal.conjugate().T@rho_cq[0]@phi_ideal\n",
    "F[0]"
   ]
  },
  {
   "cell_type": "code",
   "execution_count": null,
   "id": "eed23397",
   "metadata": {},
   "outputs": [],
   "source": [
    "partialtrace(rho[0])"
   ]
  },
  {
   "cell_type": "code",
   "execution_count": 41,
   "id": "2ecbf0be",
   "metadata": {},
   "outputs": [
    {
     "data": {
      "image/png": "[encoded data removed]",
      "text/plain": [
       "<Figure size 432x288 with 1 Axes>"
      ]
     },
     "metadata": {
      "needs_background": "light"
     },
     "output_type": "display_data"
    }
   ],
   "source": [
    "plt.plot(t,np.abs(a)**2,color='b', label=\"|00>\")\n",
    "plt.plot(t,np.abs(d)**2,color='r',label=\"|11>\")\n",
    "plt.xlabel(r'Scaled Time ($\\frac{\\tau}{\\hbar}E0$)')\n",
    "plt.ylabel(r'$|\\alpha|^2$ (blue)  &  $|\\delta|^2$ (red)')\n",
    "plt.title('Oscillation between |00> and |11>')\n",
    "plt.legend()\n",
    "plt.savefig('relation4.jpg')\n",
    "plt.show()\n"
   ]
  },
  {
   "cell_type": "code",
   "execution_count": null,
   "id": "221294c9",
   "metadata": {},
   "outputs": [],
   "source": [
    "\n",
    "rho = {}\n",
    "rho[0] = TensorProduct(psi_in, psi_in.conjugate().T)\n",
    "rho[0]"
   ]
  },
  {
   "cell_type": "code",
   "execution_count": null,
   "id": "fb200533",
   "metadata": {
    "scrolled": true
   },
   "outputs": [],
   "source": [
    "psi_out = {}\n",
    "psi_out[0] = psi_in\n",
    "psi_out[0][0]"
   ]
  },
  {
   "cell_type": "code",
   "execution_count": null,
   "id": "9fef9e90",
   "metadata": {},
   "outputs": [],
   "source": [
    "phi_ideal = np.array([[0,1],[1,0]]) @ phi_in\n",
    "phi_ideal"
   ]
  },
  {
   "cell_type": "code",
   "execution_count": null,
   "id": "9d74b2d7",
   "metadata": {},
   "outputs": [],
   "source": [
    "k=np.array([[2],[3]])\n",
    "z=np.linalg.norm(k)\n",
    "z"
   ]
  },
  {
   "cell_type": "code",
   "execution_count": null,
   "id": "5f09ff22",
   "metadata": {},
   "outputs": [],
   "source": [
    "#we see amp reducing, "
   ]
  },
  {
   "cell_type": "markdown",
   "id": "d48da305",
   "metadata": {},
   "source": [
    "# comparing 4 basis states "
   ]
  },
  {
   "cell_type": "code",
   "execution_count": null,
   "id": "b12e544a",
   "metadata": {
    "scrolled": false
   },
   "outputs": [],
   "source": [
    "nsteps = 3000\n",
    "T = nsteps  * dt \n",
    "t = np.arange(0, T+dt, dt) #creates array from 0 to T +dt in steps of dt\n",
    "\n",
    "a = np.zeros_like(t).astype('complex128')#creates array with same shape/length of t of same\n",
    "#dtype\n",
    "b =  np.zeros_like(t).astype('complex128')\n",
    "c =  np.zeros_like(t).astype('complex128')\n",
    "d =  np.zeros_like(t).astype('complex128')\n",
    "psi = np.array([[1], [0], [0], [0]]) #intial 00 state\n",
    "for i in range(len(t)):\n",
    "    a[i] = psi[0]\n",
    "    b[i] = psi[1]\n",
    "    c[i] = psi[2]\n",
    "    d[i] = psi[3]\n",
    "    #print(psi)\n",
    "    psi = U @ psi\n",
    "\n",
    "fig, axs = plt.subplots(2,2, figsize=(10,8))\n",
    "fig.tight_layout(pad=2.0)\n",
    "fig.suptitle('Evolution of states with time')\n",
    "axs[0,0].plot(t, np.abs(a)**2, 'b', label = '|00>')\n",
    "#axs[0,0].set_xlabel('test')\n",
    "axs[0,0].set_ylabel(f'|a^2|')\n",
    "axs[0,0].legend()\n",
    "#axs[0,0].set_title('prob distribution of state |00>')\n",
    "axs[0,1].plot(t, np.abs(b)**2, 'g', label = '|01>')\n",
    "axs[0,1].set_ylabel(f'|b^2|')\n",
    "axs[0,1].legend()\n",
    "axs[1,0].plot(t, np.abs(c)**2, 'y', label = '|10>')\n",
    "axs[1,0].set_ylabel(f'|c^2|')\n",
    "axs[1,0].set_xlabel(f'Scaled Time')\n",
    "axs[1,0].legend()\n",
    "axs[1,1].plot(t, np.abs(d)**2, 'k', label = '|11>')\n",
    "axs[1,1].set_ylabel(f'|d^2|')\n",
    "axs[1,1].set_xlabel(f'Scaled Time')\n",
    "axs[1,1].legend()\n",
    "\n",
    "# for ax in axs.flat:\n",
    "#     ax.set(xlabel='Time', ylabel='Complex # squared')\n",
    "\n",
    "# # Hide x labels and tick labels for top plots and y ticks for right plots.\n",
    "# for ax in axs.flat:\n",
    "#     ax.label_outer()\n",
    "plt.savefig('recent1.jpg')"
   ]
  },
  {
   "cell_type": "code",
   "execution_count": null,
   "id": "743c5ed0",
   "metadata": {},
   "outputs": [],
   "source": []
  },
  {
   "cell_type": "code",
   "execution_count": null,
   "id": "baf9320d",
   "metadata": {},
   "outputs": [],
   "source": []
  },
  {
   "cell_type": "code",
   "execution_count": null,
   "id": "2de30fdc",
   "metadata": {},
   "outputs": [],
   "source": [
    "nsteps = 2500\n",
    "T = nsteps  * dt \n",
    "t = np.arange(0, T+dt, dt) #creates array from 0 to T +dt in steps of dt\n",
    "\n",
    "a = np.zeros_like(t).astype('complex128')#creates array with same shape/length of t of same\n",
    "#dtype\n",
    "b =  np.zeros_like(t).astype('complex128')\n",
    "c =  np.zeros_like(t).astype('complex128')\n",
    "d =  np.zeros_like(t).astype('complex128')\n",
    "psi = np.array([[1], [0], [0], [0]]) #intial 00 state\n",
    "for i in range(len(t)):\n",
    "    a[i] = psi[0]\n",
    "    b[i] = psi[1]\n",
    "    c[i] = psi[2]\n",
    "    d[i] = psi[3]\n",
    "    #print(psi)\n",
    "    psi = U @ psi\n",
    "\n",
    "fig, axs = plt.subplots(2,2)\n",
    "#axs[0,0].plot(t, np.abs(a)**2, 'b', label = '|00>')\n",
    "#axs[0,0].legend()\n",
    "#axs[0,0].set_title('prob distribution of state |00>')\n",
    "#axs[0,1].plot(t, np.abs(b)**2,t, np.abs(d)**2, 'g', label = '|01>')\n",
    "#axs[0,1].legend()\n",
    "axs[1,0].plot(t, np.abs(c)**2,t, np.abs(d)**2, 'y', label = '|10>')\n",
    "axs[1,0].legend()\n",
    "#axs[1,1].plot(t, np.abs(d)**2, 'k', label = '|11>')\n",
    "#axs[1,1].legend()\n",
    "\n",
    "for ax in axs.flat:\n",
    "    ax.set(xlabel='Time', ylabel='Complex # squared')\n",
    "\n",
    "# Hide x labels and tick labels for top plots and y ticks for right plots.\n",
    "for ax in axs.flat:\n",
    "    ax.label_outer()\n",
    "#plt.savefig('1_1withintialstate_00.jpg')"
   ]
  },
  {
   "cell_type": "markdown",
   "id": "6c50cfda",
   "metadata": {},
   "source": [
    "# now lets work out partial trace"
   ]
  },
  {
   "cell_type": "code",
   "execution_count": null,
   "id": "b5684630",
   "metadata": {},
   "outputs": [],
   "source": [
    "psi"
   ]
  },
  {
   "cell_type": "code",
   "execution_count": null,
   "id": "53e5a5e6",
   "metadata": {
    "scrolled": true
   },
   "outputs": [],
   "source": [
    "norm = np.linalg.norm(psi)\n",
    "psi_norm = psi/norm\n",
    "norm"
   ]
  },
  {
   "cell_type": "code",
   "execution_count": null,
   "id": "2d8bf4aa",
   "metadata": {
    "scrolled": true
   },
   "outputs": [],
   "source": [
    "pho = TensorProduct(psi_norm,psi_norm.T)\n",
    "pho"
   ]
  },
  {
   "cell_type": "code",
   "execution_count": null,
   "id": "5fe021c8",
   "metadata": {
    "scrolled": true
   },
   "outputs": [],
   "source": [
    "pho.conjugate().T #hermertian check"
   ]
  },
  {
   "cell_type": "code",
   "execution_count": null,
   "id": "b731ea2c",
   "metadata": {},
   "outputs": [],
   "source": [
    "Id =np.eye(2)\n",
    "Id"
   ]
  },
  {
   "cell_type": "code",
   "execution_count": null,
   "id": "2b54fb2a",
   "metadata": {},
   "outputs": [],
   "source": [
    "psi = 1/np.sqrt(2) (TensorProduct(exc_state, exc_state) + TensorProduct(gnd_state, gnd_state))"
   ]
  },
  {
   "cell_type": "code",
   "execution_count": null,
   "id": "80c7da89",
   "metadata": {
    "scrolled": false
   },
   "outputs": [],
   "source": [
    "#subsystem A = computational site & subsystem B = Reservoir site\n",
    "gnd_state = np.array([[1],[0]])\n",
    "exc_state = np.array([[0],[1]])\n",
    "pho_A = TensorProduct(Id, gnd_state.T)@pho@TensorProduct(Id, gnd_state) + TensorProduct(Id, exc_state.T)@pho@TensorProduct(Id, exc_state)\n",
    "pho_B = TensorProduct(gnd_state.T,Id)@pho@TensorProduct(gnd_state,Id) + TensorProduct(exc_state.T,Id)@pho@TensorProduct(exc_state,Id)\n",
    "pho_A, pho_B"
   ]
  },
  {
   "cell_type": "code",
   "execution_count": null,
   "id": "2339f82d",
   "metadata": {},
   "outputs": [],
   "source": [
    "psi = 1/np.sqrt(2)*(TensorProduct(exc_state, exc_state) + TensorProduct(gnd_state, gnd_state))\n",
    "psi\n",
    "pho = TensorProduct(psi, psi.conjugate().T)\n",
    "pho_A = TensorProduct(Id, gnd_state.T)@pho@TensorProduct(Id, gnd_state) + TensorProduct(Id, exc_state.T)@pho@TensorProduct(Id, exc_state)\n",
    "pho_B = TensorProduct(gnd_state.T,Id)@pho@TensorProduct(gnd_state,Id) + TensorProduct(exc_state.T,Id)@pho@TensorProduct(exc_state,Id)\n",
    "pho_A, pho_B"
   ]
  },
  {
   "cell_type": "code",
   "execution_count": null,
   "id": "7119f712",
   "metadata": {},
   "outputs": [],
   "source": [
    "#maximally mixed state no transitions"
   ]
  },
  {
   "cell_type": "code",
   "execution_count": null,
   "id": "ce4d04d0",
   "metadata": {},
   "outputs": [],
   "source": [
    "state = 1/np.sqrt(2) *(gnd_state + exc_state)\n",
    "pho1= TensorProduct(state,state.conjugate().T)\n",
    "pho1\n",
    "pho_A1 = TensorProduct(Id, gnd_state.T)@pho@TensorProduct(Id, gnd_state) + TensorProduct(Id, exc_state.T)@pho@TensorProduct(Id, exc_state)\n",
    "pho1,pho_A1#maximally mixed 1/2<1, for 50% |0>, |1>"
   ]
  },
  {
   "cell_type": "code",
   "execution_count": null,
   "id": "48d9088f",
   "metadata": {},
   "outputs": [],
   "source": [
    "#rhs input state and lhs the output -> think like \n",
    "#probabilty from going right to left"
   ]
  },
  {
   "cell_type": "markdown",
   "id": "8a9121ef",
   "metadata": {},
   "source": [
    "coherence \"transistion\" probability\n",
    "$$\n",
    "\\begin{equation}\n",
    "\\newline\n",
    "|\\langle0|\\rho_{A=cq}|0\\rangle|^2\\newline\n",
    "|\\langle0|\\rho_{A=cq}|1\\rangle|^2\\newline\n",
    "|\\langle1|\\rho_{A=cq}|0\\rangle|^2\\newline\n",
    "|\\langle1|\\rho_{A=cq}|1\\rangle|^2\n",
    "\\label{eq:transistions} \\tag{7}\n",
    "\\end{equation}\n",
    "$$"
   ]
  },
  {
   "cell_type": "code",
   "execution_count": null,
   "id": "3c89d483",
   "metadata": {},
   "outputs": [],
   "source": [
    "zerozero = gnd_state.T@pho_A@gnd_state\n",
    "zerozero, np.abs(zerozero)**2"
   ]
  },
  {
   "cell_type": "markdown",
   "id": "b1b9cb6f",
   "metadata": {},
   "source": [
    "# decoherence\n",
    "consider we prepare pure state\n",
    "\\begin{equation}\n",
    "|+\\rangle, \\hspace{0.5cm}basis\\hspace{0.25cm}\\epsilon\\hspace{0.25cm}[|0\\rangle,|1\\rangle]\\\\\n",
    "\\rho = \\frac{1}{2}\\left(\\begin{array}{cc}\n",
    "1 & 1\\\\\n",
    "1 & 1\n",
    "\\end{array}\\right)\n",
    "\\end{equation}\n"
   ]
  },
  {
   "cell_type": "markdown",
   "id": "b9e76a36",
   "metadata": {},
   "source": [
    "now lets consider time evolution of |+>, that is\n",
    "\\begin{equation}\n",
    "|+\\rangle = \\frac{1}{\\sqrt{2}} (|0\\rangle+|1\\rangle) -> \\frac{1}{\\sqrt{2}} (|0\\rangle+e^{i\\omega t}|1\\rangle)\n",
    "\\end{equation}"
   ]
  },
  {
   "cell_type": "markdown",
   "id": "7f921620",
   "metadata": {},
   "source": [
    "\\begin{equation}\n",
    "\\rho(t) = \\frac{1}{2}\\left(\\begin{array}{cc}\n",
    "1 & e^{i\\omega t}\\\\\n",
    "e^{-i\\omega t} & 1\n",
    "\\end{array}\\right)\n",
    "\\end{equation}"
   ]
  },
  {
   "cell_type": "markdown",
   "id": "b5afa7db",
   "metadata": {},
   "source": [
    "\"size\" or \"population\" in state |+> given by expectation:\n",
    "\\begin{equation}\n",
    "\\langle+|\\rho(t)|+\\rangle= \\frac{1}{2} + \\frac{1}{2}cos(\\omega t)\n",
    "\\end{equation}\n",
    "and oscillation is due to off diag terms in $\\rho(t)$ and we call it the coherence of the system"
   ]
  },
  {
   "cell_type": "markdown",
   "id": "45ee25dc",
   "metadata": {},
   "source": [
    "https://phys.libretexts.org/@api/deki/files/37646/Screen_Shot_2021-11-24_at_8.03.53_AM.png?revision=1&size=bestfit&width=602&height=380"
   ]
  },
  {
   "cell_type": "code",
   "execution_count": null,
   "id": "04b521e1",
   "metadata": {
    "scrolled": true
   },
   "outputs": [],
   "source": [
    "xs = np.linspace(0, 35, 1000)\n",
    "\n",
    "omega = 1\n",
    "ys_dotted = np.cos(xs * omega) *0.5 +0.5\n",
    "ys_line = np.cos(xs * omega) * np.linspace(1, 0, 1000)*0.5+0.5\n",
    "\n",
    "fig, ax = plt.subplots(1, 1)\n",
    "plt.plot(xs, ys_dotted, linestyle='--')\n",
    "plt.plot(xs, ys_line)\n",
    "plt.show()"
   ]
  },
  {
   "cell_type": "markdown",
   "id": "9cfb0a0b",
   "metadata": {},
   "source": [
    "real systems, coherence decays exponentually at rate gamma\n",
    "\\begin{equation}\n",
    "\\rho(t) = \\frac{1}{2}\\left(\\begin{array}{cc}\n",
    "1 & e^{i\\omega t-\\gamma t}\\\\\n",
    "e^{-i\\omega t -\\gamma t} & 1\n",
    "\\end{array}\\right)\n",
    "\\end{equation}\n",
    "and\n",
    "\\begin{equation}\n",
    "\\langle+|\\rho(t)|+\\rangle= \\frac{1}{2} + \\frac{e^{-\\gamma t}}{2}cos(\\omega t)\n",
    "\\end{equation}\n",
    "this is the decoherence of systm and gamma depends on physical mechanism that leads to such decoherence"
   ]
  },
  {
   "cell_type": "markdown",
   "id": "a7204799",
   "metadata": {},
   "source": [
    "# let us try and make a 3D plot with say array of P values and see what happens"
   ]
  },
  {
   "cell_type": "code",
   "execution_count": null,
   "id": "4ad980cb",
   "metadata": {},
   "outputs": [],
   "source": [
    "H"
   ]
  },
  {
   "cell_type": "code",
   "execution_count": null,
   "id": "f6af08b9",
   "metadata": {},
   "outputs": [],
   "source": [
    "E11,E01,P11_array, E_11, E_01, J11 = sp.symbols(\"E_{11} E_{01} P_{1} E_{11c} E_{01c} J_{11}\")\n",
    "Hcopy = H\n",
    "\n",
    "E0 = 1 #variance of uniform distrib of energies E0 \n",
    "#-> e11 derived here ->random\n",
    "\n",
    "E11 = float(-E0/2 +(np.random.rand(1)*E0))\n",
    "#E11 = 2\n",
    "P11_array = np.linspace(1, 100, 50) / E0 #just adding some testing values\n",
    "J11 = 2 #if more than 1 reservoir site, need to add K0 term\n",
    "list1={}\n",
    "for i in range(len(P11_array)):\n",
    "    list1[\"H_{0}\".format(i)] = np.array(Hcopy.subs({\"E_{11}\":E11,\"P_{1}\":P11_array[i], \"J_{11}\":J11})).astype('complex128') * 1/E0\n",
    "list1[\"H_3\"], P11_array"
   ]
  },
  {
   "cell_type": "code",
   "execution_count": null,
   "id": "42c7a87a",
   "metadata": {},
   "outputs": [],
   "source": [
    "#np.random.rand(1) #only get val from 0,1 from (-E0/2, +E0/2)\n",
    "E11 = -E0/2 +(np.random.rand(1)*E0)\n",
    "E11"
   ]
  },
  {
   "cell_type": "code",
   "execution_count": null,
   "id": "2875df19",
   "metadata": {},
   "outputs": [],
   "source": [
    "tauhbar = 0.01\n",
    "dt = E0 * tauhbar\n",
    "\n",
    "list2 = {}\n",
    "for i in range(len(P11_array)):\n",
    "    list2[\"U_{0}\".format(i)] = expm(-1j* list1[\"H_{0}\".format(i)] * dt)\n",
    "list2[\"U_2\"]"
   ]
  },
  {
   "cell_type": "code",
   "execution_count": null,
   "id": "87826085",
   "metadata": {},
   "outputs": [],
   "source": [
    "import numpy as np \n",
    "from mpl_toolkits import mplot3d\n",
    "import matplotlib.pyplot as plt"
   ]
  },
  {
   "cell_type": "code",
   "execution_count": null,
   "id": "7f6bebde",
   "metadata": {
    "scrolled": true
   },
   "outputs": [],
   "source": [
    "z=np.zeros((len(t), len(P11_array)))\n",
    "z.T"
   ]
  },
  {
   "cell_type": "code",
   "execution_count": null,
   "id": "3a351033",
   "metadata": {},
   "outputs": [],
   "source": [
    "%matplotlib notebook "
   ]
  },
  {
   "cell_type": "code",
   "execution_count": null,
   "id": "3494333e",
   "metadata": {
    "scrolled": true
   },
   "outputs": [],
   "source": [
    "nsteps = 300\n",
    "T = nsteps  * dt \n",
    "t = np.arange(0, T+dt, dt) #creates array from 0 to T +dt in steps of dt\n",
    "\n",
    "a = np.zeros_like(t).astype('complex128')#creates array with same shape/length of t of same\n",
    "#dtype\n",
    "b =  np.zeros_like(t).astype('complex128')\n",
    "c =  np.zeros_like(t).astype('complex128')\n",
    "d =  np.zeros_like(t).astype('complex128')\n",
    "psi = np.array([[1], [0], [0], [0]]) #intial 00 state\n",
    "Z=np.zeros((len(t), len(P11_array)))\n",
    "for j in range(len(P11_array)):\n",
    "    for i in range(len(t)):\n",
    "        a[i] = psi[0]\n",
    "        b[i] = psi[1]\n",
    "        c[i] = psi[2]\n",
    "        d[i] = psi[3]\n",
    "        #print(psi)\n",
    "        psi = list2[\"U_{0}\".format(j)] @ psi\n",
    "        Z[i,j] = np.abs(psi[0])**2\n",
    "\n",
    "fig = plt.figure(figsize=(12,10))\n",
    "ax = plt.axes(projection='3d')\n",
    "\n",
    "X,Y = np.meshgrid(t,P11_array)\n",
    "\n",
    "surf = ax.plot_surface(X,Y,Z.T)\n",
    "ax.set_aspect('auto')\n",
    "ax.set_xlabel('time')\n",
    "ax.set_ylabel('P11 values')\n",
    "ax.set_zlabel('Amplitude')\n",
    "\n",
    "#fig.colorbar(surf, shrink = 0.5, aspect = 8)\n",
    "\n",
    "plt.show()\n",
    "\n",
    "#plt.savefig('1_1withintialstate_00.jpg')"
   ]
  },
  {
   "cell_type": "code",
   "execution_count": null,
   "id": "b10b2c58",
   "metadata": {},
   "outputs": [],
   "source": [
    "Z"
   ]
  },
  {
   "cell_type": "code",
   "execution_count": null,
   "id": "0dae291d",
   "metadata": {},
   "outputs": [],
   "source": [
    "plt.imshow(Z, cmap='viridis', interpolation='bicubic')\n",
    "plt.show()"
   ]
  },
  {
   "cell_type": "code",
   "execution_count": null,
   "id": "5b65be52",
   "metadata": {
    "scrolled": true
   },
   "outputs": [],
   "source": [
    "len(P11_array),len(t)"
   ]
  },
  {
   "cell_type": "code",
   "execution_count": null,
   "id": "7570668e",
   "metadata": {},
   "outputs": [],
   "source": [
    "\n",
    "n = 4\n",
    "\n",
    "# create an nxn numpy array\n",
    "a = np.reshape(np.linspace(0,1,n**2), (n,n))\n",
    "shape(a)"
   ]
  },
  {
   "cell_type": "code",
   "execution_count": null,
   "id": "785fc44f",
   "metadata": {},
   "outputs": [],
   "source": [
    "P11_array"
   ]
  },
  {
   "cell_type": "code",
   "execution_count": null,
   "id": "113b060f",
   "metadata": {},
   "outputs": [],
   "source": [
    "t"
   ]
  },
  {
   "cell_type": "code",
   "execution_count": null,
   "id": "ef78f0ba",
   "metadata": {},
   "outputs": [],
   "source": [
    "shape(Z)"
   ]
  },
  {
   "cell_type": "code",
   "execution_count": null,
   "id": "73413e42",
   "metadata": {
    "scrolled": true
   },
   "outputs": [],
   "source": [
    "def forceAspect(ax,aspect=1):\n",
    "    im = ax.get_images()\n",
    "    extent =  im[0].get_extent()\n",
    "    ax.set_aspect(abs((extent[1]-extent[0])/(extent[3]-extent[2]))/aspect)"
   ]
  },
  {
   "cell_type": "code",
   "execution_count": null,
   "id": "ba7028c6",
   "metadata": {},
   "outputs": [],
   "source": [
    "#plt.rcParams['text.usetex'] = True"
   ]
  },
  {
   "cell_type": "code",
   "execution_count": null,
   "id": "ee4798bf",
   "metadata": {
    "scrolled": true
   },
   "outputs": [],
   "source": [
    "fig, ax = plt.subplots()\n",
    "#ax.set_aspect('auto')\n",
    "#plt.imshow(Z.T, cmap='bwr', interpolation='bicubic')\n",
    "pos = ax.imshow(Z.T, cmap='bwr', interpolation='bicubic', extent=[t[0],t[-1],P11_array[-1],P11_array[0]])\n",
    "ax.invert_yaxis()\n",
    "forceAspect(ax,aspect=1)\n",
    "cbar = plt.colorbar(pos)\n",
    "ax.set_xlabel('scaled time (tau/hbar)')\n",
    "ax.set_ylabel('P11 values')\n",
    "cbar.set_label(r'|a|^2')\n",
    "plt.show()"
   ]
  },
  {
   "cell_type": "code",
   "execution_count": null,
   "id": "264711ec",
   "metadata": {
    "scrolled": true
   },
   "outputs": [],
   "source": [
    "shape(X), shape(Y),shape(Z)"
   ]
  },
  {
   "cell_type": "code",
   "execution_count": null,
   "id": "f629eba9",
   "metadata": {},
   "outputs": [],
   "source": [
    "import matplotlib\n",
    "matplotlib.__version__"
   ]
  },
  {
   "cell_type": "code",
   "execution_count": null,
   "id": "666cf3c6",
   "metadata": {
    "scrolled": false
   },
   "outputs": [],
   "source": [
    "np.random.uniform(-1, 1, (1,1)) + 1.j * np.random.uniform(-1, 1, (1,1))"
   ]
  },
  {
   "cell_type": "code",
   "execution_count": null,
   "id": "f1a47393",
   "metadata": {
    "scrolled": false
   },
   "outputs": [],
   "source": [
    "n = 4\n",
    "a = np.reshape(np.linspace(0,1,n**2), (n,n))\n",
    "\n",
    "plt.imshow(a, cmap = 'viridis', interpolation='bicubic', aspect='auto')\n",
    "ax.auto_scale_xyz\n",
    "#ax.axis('auto')\n",
    "plt.yticks([])\n",
    "plt.xticks(range(n))\n",
    "plt.title('Viridis color map, bicubic blending', y=1.02, fontsize=12)\n",
    "\n",
    "plt.show()"
   ]
  },
  {
   "cell_type": "code",
   "execution_count": null,
   "id": "dcab12c0",
   "metadata": {},
   "outputs": [],
   "source": [
    "#what t/h (+) K  is and what scaling is"
   ]
  },
  {
   "cell_type": "code",
   "execution_count": null,
   "id": "869c1f6f",
   "metadata": {},
   "outputs": [],
   "source": [
    "#rabi cycle or oscillation, cos/sin squared locus represents"
   ]
  },
  {
   "cell_type": "code",
   "execution_count": null,
   "id": "3671e572",
   "metadata": {},
   "outputs": [],
   "source": [
    "#change P, J , E0, "
   ]
  },
  {
   "cell_type": "code",
   "execution_count": null,
   "id": "05c110f8",
   "metadata": {},
   "outputs": [],
   "source": [
    "#3D plot, Y axis P or J, X and Z time and prob. Create array of say P\n",
    "#and keep J constant"
   ]
  },
  {
   "cell_type": "code",
   "execution_count": null,
   "id": "2e2efb16",
   "metadata": {},
   "outputs": [],
   "source": []
  },
  {
   "cell_type": "code",
   "execution_count": null,
   "id": "18bca995",
   "metadata": {},
   "outputs": [],
   "source": []
  },
  {
   "cell_type": "code",
   "execution_count": null,
   "id": "4622c6c8",
   "metadata": {},
   "outputs": [],
   "source": []
  },
  {
   "cell_type": "code",
   "execution_count": null,
   "id": "3cb9a698",
   "metadata": {},
   "outputs": [],
   "source": []
  },
  {
   "cell_type": "code",
   "execution_count": null,
   "id": "1d4a3a21",
   "metadata": {},
   "outputs": [],
   "source": []
  },
  {
   "cell_type": "code",
   "execution_count": null,
   "id": "8bf49201",
   "metadata": {},
   "outputs": [],
   "source": []
  },
  {
   "cell_type": "code",
   "execution_count": null,
   "id": "e46c4014",
   "metadata": {},
   "outputs": [],
   "source": []
  },
  {
   "cell_type": "code",
   "execution_count": null,
   "id": "0e8c02e4",
   "metadata": {},
   "outputs": [],
   "source": []
  },
  {
   "cell_type": "code",
   "execution_count": null,
   "id": "a9c961e6",
   "metadata": {
    "scrolled": true
   },
   "outputs": [],
   "source": [
    "psi1n = psi1 / np.linalg.norm(psi1)\n",
    "psi2n = psi2 / np.linalg.norm(psi2)\n",
    "psi3n = psi3 / np.linalg.norm(psi3)\n",
    "psi4n = psi4 / np.linalg.norm(psi4)\n",
    "psitotal = psi1n+psi2n+psi3n+psi4n"
   ]
  },
  {
   "cell_type": "code",
   "execution_count": null,
   "id": "0104a873",
   "metadata": {},
   "outputs": [],
   "source": [
    "A = np.array([[11, 12, 13, 14],\n",
    "       [21, 22, 23, 24],\n",
    "       [31, 32, 33, 34],\n",
    "       [41, 42, 43, 44]])\n",
    "B = np.array([[1, 1, 1, 1],\n",
    "       [2, 2, 2, 2],\n",
    "       [3, 3, 3, 3],\n",
    "       [4, 4, 4, 4]])\n",
    "np.einsum('ij,jk -> ik', A,B) #ie matrix multi\n",
    "np.einsum('ii -> i', A) #extract diag\n",
    "np.einsum('ij, ij -> ij', A, B) #hadamard product, or elementwise\n",
    "np.einsum('ij, ij -> ij', A,A) #element wise square\n",
    "np.einsum('ii -> ', A)#adds diag ie trace\n",
    "np.einsum('ij ->ji', A)#transpose\n",
    "np.einsum('ij, ji -> ij', A,B)"
   ]
  },
  {
   "cell_type": "code",
   "execution_count": null,
   "id": "de5d3706",
   "metadata": {
    "scrolled": false
   },
   "outputs": [],
   "source": [
    "pho = psitotal * psitotal.T\n",
    "pho"
   ]
  },
  {
   "cell_type": "code",
   "execution_count": null,
   "id": "d8b46feb",
   "metadata": {},
   "outputs": [],
   "source": [
    "#lets consider 00 and 10-psi3\n",
    "#psi_initial tensor with psi_vaccuum_QN\n",
    "psi_vacuum_QN = np.array([[0],[0],[0],[0]])\n",
    "psi_out = U*TensorProduct(psi1,psi_vacuum_QN)\n",
    "psi_out"
   ]
  },
  {
   "cell_type": "code",
   "execution_count": null,
   "id": "6036f003",
   "metadata": {},
   "outputs": [],
   "source": []
  },
  {
   "cell_type": "code",
   "execution_count": null,
   "id": "4d74c6ee",
   "metadata": {},
   "outputs": [],
   "source": [
    "U"
   ]
  },
  {
   "cell_type": "code",
   "execution_count": null,
   "id": "4fb29e3e",
   "metadata": {},
   "outputs": [],
   "source": [
    "#another idea"
   ]
  },
  {
   "cell_type": "code",
   "execution_count": null,
   "id": "36804209",
   "metadata": {},
   "outputs": [],
   "source": [
    "psi_qn = np.array([[1],[0]]) # |g>\n",
    "psi_comp1 = np.array([[0], [1]]) #|e>\n",
    "psi_comp2 = np.array([[1],[0]]) # |g>\n",
    "\n",
    "psi_out = U * TensorProduct(psi_comp1, psi_qn)\n",
    "psi_out"
   ]
  },
  {
   "cell_type": "code",
   "execution_count": null,
   "id": "78ce3a9e",
   "metadata": {},
   "outputs": [],
   "source": [
    "pho = psi_out * psi_out.T\n",
    "pho"
   ]
  },
  {
   "cell_type": "code",
   "execution_count": null,
   "id": "cbf22630",
   "metadata": {},
   "outputs": [],
   "source": [
    "#U_dagU = I\n",
    "#TensorProduct(U.T, U)"
   ]
  },
  {
   "cell_type": "code",
   "execution_count": null,
   "id": "e94bf114",
   "metadata": {},
   "outputs": [],
   "source": []
  },
  {
   "cell_type": "code",
   "execution_count": null,
   "id": "666e9d7d",
   "metadata": {},
   "outputs": [],
   "source": [
    "U.norm()"
   ]
  },
  {
   "cell_type": "code",
   "execution_count": null,
   "id": "1bfacebb",
   "metadata": {},
   "outputs": [],
   "source": [
    "#D = 1/U.norm() * U\n",
    "#D"
   ]
  },
  {
   "cell_type": "code",
   "execution_count": null,
   "id": "49536a8e",
   "metadata": {},
   "outputs": [],
   "source": [
    "#U_dagU = I\n",
    "#TensorProduct(D.T, D)"
   ]
  },
  {
   "cell_type": "code",
   "execution_count": null,
   "id": "4ba31bfc",
   "metadata": {},
   "outputs": [],
   "source": [
    "#gnd state \n",
    "psi_initial = sp.Matrix([[1],[0]])"
   ]
  },
  {
   "cell_type": "code",
   "execution_count": null,
   "id": "1a44aba7",
   "metadata": {},
   "outputs": [],
   "source": [
    "#N = \n",
    "psi_initial.norm()"
   ]
  },
  {
   "cell_type": "code",
   "execution_count": null,
   "id": "655fe4d5",
   "metadata": {
    "scrolled": true
   },
   "outputs": [],
   "source": [
    "# v = (1/N, 0/N)\n",
    "d = 1/psi_initial.norm()* psi_initial.normalized()\n",
    "d"
   ]
  },
  {
   "cell_type": "code",
   "execution_count": null,
   "id": "d743cd36",
   "metadata": {},
   "outputs": [],
   "source": [
    "psi_initial.is_normalized"
   ]
  },
  {
   "cell_type": "code",
   "execution_count": null,
   "id": "b2ac7e14",
   "metadata": {},
   "outputs": [],
   "source": [
    "psi1 = U*psi_initial\n",
    "psi1\n"
   ]
  },
  {
   "cell_type": "code",
   "execution_count": null,
   "id": "49b9b003",
   "metadata": {},
   "outputs": [],
   "source": [
    "#evolving state\n",
    "t = 2000/tauhbar #how many steps/iterations of psi, 10 in this case\n",
    "for j in range(t):\n",
    "    "
   ]
  }
 ],
 "metadata": {
  "kernelspec": {
   "display_name": "Python 3 (ipykernel)",
   "language": "python",
   "name": "python3"
  },
  "language_info": {
   "codemirror_mode": {
    "name": "ipython",
    "version": 3
   },
   "file_extension": ".py",
   "mimetype": "text/x-python",
   "name": "python",
   "nbconvert_exporter": "python",
   "pygments_lexer": "ipython3",
   "version": "3.9.7"
  }
 },
 "nbformat": 4,
 "nbformat_minor": 5
}
