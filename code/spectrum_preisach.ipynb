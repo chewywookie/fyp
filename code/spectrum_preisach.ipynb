{
 "cells": [
  {
   "cell_type": "code",
   "execution_count": null,
   "metadata": {},
   "outputs": [],
   "source": [
    "%matplotlib inline\n",
    "import numpy as np\n",
    "import matplotlib.pyplot as plt\n",
    "from scipy.sparse import csr_matrix\n",
    "from scipy.sparse.linalg import eigsh,eigs\n",
    "from scipy.misc import comb\n",
    "from collections import defaultdict\n",
    "import sympy as sym\n",
    "from sympy.physics.quantum import TensorProduct\n",
    "sym.init_printing()\n",
    "\n",
    "from IPython.display import display"
   ]
  },
  {
   "cell_type": "markdown",
   "metadata": {},
   "source": [
    "# The Preisach transition operator\n",
    "\n",
    "We consider a discretized version of a Preisach system.  The current state is represented by a sequence of zeros and ones of length $N$, which indicate horizontal and vertical sections in the usual staircase representation discretized on a regular grid. Example: \n",
    "\\begin{equation}\n",
    "Q = 10010011\n",
    "\\end{equation}\n",
    "The input acts from the right hand end and goes either up or down. If the input goes up the effect is that a one gets \"pushed in\" from right to left onto the first zero bit, i.e if the input goes up, the above state gets converted into \n",
    "\\begin{equation}\n",
    "Q \\to Q^+ = 10010111\n",
    "\\end{equation}\n",
    "Similarly input step down inserts a zero from the right, i.e. \n",
    "\\begin{equation}\n",
    "Q \\to Q^- = 10010010\n",
    "\\end{equation}\n",
    "Depending on the sequence of inputs we therefore arrive at different states which can be calculated. \n",
    "\n",
    "In the simplest case the inputs are just going randomly up or down at each discrete timestep with equal probability.  This means that we can construct a transition matrix $T$ for this Markov chain as follows. For $N=1$ there are only two possible states, either 0 or 1. starting from state zero, if the input goes up we arrive at state 1. However if we are in state 0 and the input goes down, we leave the current state space and the process stops. We can therefore think of the system passing an absorbing boundary if this happens. Therefore if we start at state zero, we make a transition to 1 with probability $1/2$ or get absorbed at the boundary with probability $1/2$. Similarly for starting at state 1.  If $p(0,t)$ and $p(1,t)$ are the probabilities of states 0 or 1 at time $t$ we can write\n",
    "\\begin{equation}\n",
    "\\left(\\begin{array}{c}\n",
    "p(0,t+1)\\\\\n",
    "p(1,t+1)\n",
    "\\end{array}\\right)\n",
    "= \\frac{1}{2} \\left(\\begin{array}{cc}\n",
    "0 & 1\\\\\n",
    "1 & 0 \n",
    "\\end{array}\\right)\n",
    "\\left(\\begin{array}{c}\n",
    "p(0,t)\\\\\n",
    "p(1,t)\n",
    "\\end{array}\\right)\n",
    "\\end{equation}\n",
    "This thus defines the transition matrix \n",
    "\\begin{equation}\n",
    "T_1= \\frac{1}{2} \\left(\\begin{array}{cc}\n",
    "0 & 1\\\\\n",
    "1 & 0 \n",
    "\\end{array}\\right)\n",
    "\\end{equation}\n",
    "\n",
    "We can now go on to define $T_N$ recursively from the knowledge of $T_{N-1}$ by noting that $T_N$ mostly acts on the last $N-1$ elements in the same way as $T_{N-1}$ irrespectively of the value of the first element. The only exception concerns the two states $100\\cdots 00$ and $011\\cdots 11$ which now with probability $1/2$ get mapped to states $000\\cdots 00$ and $111\\cdots 11$, respectively. More formally, we define \n",
    "\\begin{equation}\n",
    "T_{N}=  \\left(\\begin{array}{c|c}\n",
    "T_{N-1} & \n",
    "\\begin{array}{c|ccc}\n",
    "\\frac{1}{2} & 0 & \\cdots & 0  \\\\\n",
    "\\hline\n",
    "0 & 0 & \\cdots & 0  \\\\\n",
    "\\vdots &\\vdots & \\ddots & \\vdots  \\\\\n",
    "0& 0 & \\cdots & 0  \\\\\n",
    "\\end{array}\\\\ \n",
    "\\hline\n",
    "\\begin{array}{ccc|c}\n",
    " 0 & \\cdots & 0 & 0 \\\\\n",
    "\\vdots & \\ddots & \\vdots &\\vdots \\\\\n",
    "0 & \\cdots & 0 & 0 \\\\\n",
    "\\hline\n",
    "0 & \\cdots & 0 &\\frac{1}{2}  \\\\\n",
    "\\end{array} & T_{N-1} \n",
    "\\end{array}\\right)\n",
    "\\end{equation}\n",
    "\n",
    "To show some explicit examples:"
   ]
  },
  {
   "cell_type": "code",
   "execution_count": null,
   "metadata": {},
   "outputs": [],
   "source": [
    "def TP(N):\n",
    "    I2 = sym.Matrix.eye(2)\n",
    "\n",
    "    T = sym.Matrix.zeros(1)\n",
    "\n",
    "    for i in range(1,N+1):\n",
    "        T = TensorProduct(I2, T)\n",
    "        T[2**(i)-1,2**(i-1)-1] = 1\n",
    "        T[0,2**(i-1)] = 1\n",
    "        \n",
    "    return T / 2\n",
    "\n",
    "for i in range(4):\n",
    "    display(i,2*TP(i))"
   ]
  },
  {
   "cell_type": "markdown",
   "metadata": {},
   "source": [
    "In general, the system is highly degenerate. We have the following symmetry:\n",
    "\n",
    "- $S_p$ which exchanges every 0 with a 1 and vice versa. This means that the $N$ digit binary number $Q$ gets translated into $2^N-1-Q$.\n",
    "\n",
    "Let us study the eigenvalues and eigenvectors of the first couple of $T_P$ explicitly. Let us use the notation\n",
    "\n",
    "\\begin{equation}\n",
    "T_1 =\\frac{1}{2} \\sigma_x =  \\frac{1}{2}\\left( \\begin{array}{cc} 0 & 1 \\\\ 1 & 0 \\end{array} \\right)\n",
    "\\end{equation}\n",
    "which obviously has eigenvalues $-1/2, +1/2$ and eigenvectors\n",
    "\\begin{align}\n",
    "|-\\rangle &= |0\\rangle - |1\\rangle\\\\ \n",
    "|+\\rangle &= |0\\rangle + |1\\rangle\\\\ \n",
    "\\end{align}\n",
    "It is also useful to reverse these relationships\n",
    "\\begin{align}\n",
    "|0\\rangle &= \\frac{1}{2} \\left[|-\\rangle + |+\\rangle \\right] \\\\\n",
    "|1\\rangle &= \\frac{1}{2} \\left[-|-\\rangle + |+\\rangle \\right]\n",
    "\\end{align}\n",
    "\n",
    "Next we can write \n",
    "\\begin{equation}\n",
    "T_2 = I \\otimes T_1 + |0\\rangle \\otimes |0\\rangle \\langle 1 | \\otimes \\langle 0 | + |1\\rangle \\otimes |1\\rangle \\langle 0 | \\otimes \\langle 1 | \n",
    "\\end{equation}\n"
   ]
  },
  {
   "cell_type": "markdown",
   "metadata": {},
   "source": [
    "This has the eigenvalues"
   ]
  },
  {
   "cell_type": "code",
   "execution_count": null,
   "metadata": {},
   "outputs": [],
   "source": [
    "TP(2).eigenvects()"
   ]
  },
  {
   "cell_type": "markdown",
   "metadata": {},
   "source": [
    "Or in more mathematical vector notation we have \n",
    "\\begin{align}\n",
    "\\lambda \\in \\left\\{{0,0,-\\frac{1}{\\sqrt{2}},\\frac{1}{\\sqrt{2}}}\\right\\}\n",
    "\\end{align}\n",
    "\\begin{align}\n",
    "|v_0\\rangle &= |0\\rangle \\otimes |1\\rangle - |1\\rangle \\otimes |0\\rangle \\\\\n",
    "|v_-\\rangle &= \\left[|0\\rangle \\otimes |0\\rangle + |1\\rangle \\otimes |1\\rangle\\right] - \\frac{1}{\\sqrt{2}}\\left[|0\\rangle \\otimes |1\\rangle + |1\\rangle \\otimes |0\\rangle\\right] \\\\\n",
    "|v_+\\rangle &= \\left[|0\\rangle \\otimes |0\\rangle + |1\\rangle \\otimes |1\\rangle\\right] + \\frac{1}{\\sqrt{2}}\\left[|0\\rangle \\otimes |1\\rangle + |1\\rangle \\otimes |0\\rangle\\right] \\\\\n",
    "\\end{align}\n",
    "\n",
    "For the degenerate Jordan Block we find"
   ]
  },
  {
   "cell_type": "code",
   "execution_count": null,
   "metadata": {},
   "outputs": [],
   "source": [
    "TP(2)**2, TP(2) * sym.Matrix([[2],[0],[0],[-2]])"
   ]
  },
  {
   "cell_type": "markdown",
   "metadata": {},
   "source": [
    "Which means that we can identify \n",
    "\\begin{equation}\n",
    "|v_p\\rangle = 2 \\left[ |0\\rangle \\otimes |0\\rangle - |1\\rangle \\otimes |1\\rangle \\right]\n",
    "\\end{equation}\n",
    "\n",
    "Thus in the basis $|v_0\\rangle$, $|v_p\\rangle$,$|v_-\\rangle$,$|v_+\\rangle$ the matrix $T_2$ has the form\n",
    "\\begin{equation}\n",
    "T_2 = \\left( \\begin{array}{cccc} 0 & 1 & 0 & 0 \\\\\n",
    "                                 0 & 0 & 0 & 0 \\\\ \n",
    "                                0 & 0 & -\\frac{1}{\\sqrt{2}} & 0 \\\\\n",
    "                                0 & 0 & 0 &  \\frac{1}{\\sqrt{2}} \\\\\n",
    "                                \\end{array}\\right)\n",
    "\\end{equation}\n"
   ]
  },
  {
   "cell_type": "code",
   "execution_count": null,
   "metadata": {},
   "outputs": [],
   "source": [
    "ev3 = TP(3).eigenvects()\n",
    "ev3[0], ev3[1]"
   ]
  },
  {
   "cell_type": "code",
   "execution_count": null,
   "metadata": {},
   "outputs": [],
   "source": [
    "ev3[2], ev3[3][:2], sym.simplify(ev3[3][2][0]), ev3[4][:2], sym.simplify(ev3[4][2][0]), sym.simplify(ev3[4][2][0]+ev3[3][2][0]), "
   ]
  },
  {
   "cell_type": "markdown",
   "metadata": {},
   "source": [
    "For $T_3$ we find the eigenvalues $\\lambda \\in \\left\\{ -\\frac{1}{2}, 0, 0 \\right\\} $\n",
    "and eigenvectors\n",
    "\\begin{align}\n",
    "|v_{-1/2}\\rangle &= |010\\rangle - |011\\rangle - |100\\rangle + |101\\rangle = |01\\rangle \\otimes |v_{-1}\\rangle - |10\\rangle \\otimes |v_{-1}\\rangle = \\left(|01\\rangle - |10\\rangle \\right) \\otimes |v_-\\rangle \\\\\n",
    "|v_{01}\\rangle &= |001\\rangle - |010\\rangle \\\\\n",
    "|v_{01}\\rangle &= |101\\rangle - |110\\rangle \\\\\n",
    "|v_{1/2}\\rangle &= |010\\rangle + |011\\rangle - |100\\rangle - |101\\rangle = \\left(|01\\rangle - |10\\rangle \\right) \\otimes |v_+\\rangle  \\\\\n",
    "\\end{align}\n"
   ]
  },
  {
   "cell_type": "code",
   "execution_count": null,
   "metadata": {},
   "outputs": [],
   "source": [
    "x = sym.symbols(\"x\")\n",
    "sym.factor(x**4-1)"
   ]
  },
  {
   "cell_type": "code",
   "execution_count": null,
   "metadata": {},
   "outputs": [],
   "source": [
    "def Permutation(sigma):\n",
    "    n = len(sigma)\n",
    "    result = sym.Matrix.zeros(n)\n",
    "    for i,j in enumerate(sigma):\n",
    "        result[i,j] = 1\n",
    "    return result\n",
    "\n",
    "def SP(n):\n",
    "    sigma_x = sym.Matrix([[0,1],[1,0]])\n",
    "    T=sym.Matrix([[1]])\n",
    "    for i in range(n):\n",
    "        T = TensorProduct(sigma_x, T)\n",
    "    return T\n",
    "\n",
    "def PM(n):\n",
    "    sigma_xp = sym.Matrix([[1,1],[-1,1]])/sym.sqrt(2)\n",
    "    T=sym.Matrix([[1]])\n",
    "    for i in range(n):\n",
    "        T = TensorProduct(sigma_xp, T)\n",
    "    return T\n",
    "\n",
    "def PM2(n):\n",
    "    result = sym.Matrix.eye(2**n)\n",
    "    for i in range(2**(n-1)):\n",
    "        result[i, -(i+1)] =  1\n",
    "        result[-(i+1), i] = -1\n",
    "    return result/sym.sqrt(2)\n",
    "\n",
    "Permutation([1,2,0,3])"
   ]
  },
  {
   "cell_type": "code",
   "execution_count": null,
   "metadata": {},
   "outputs": [],
   "source": [
    "TensorProduct(sym.Matrix.eye(2), PM2(2))"
   ]
  },
  {
   "cell_type": "code",
   "execution_count": null,
   "metadata": {},
   "outputs": [],
   "source": [
    "P = Permutation([0, 6, 5,3, 4,2, 1, 7])\n",
    "H = TensorProduct(sym.Matrix.eye(2), PM2(2))\n",
    "TPSQ = TP(3) @ TP(3)\n",
    "P @ TP(3) @ P.T, PM2(3).T @ TPSQ @ PM2(3), TPSQ, PM2(3), PM2(3).T @ P @ TPSQ @ P.T @ PM2(3)\n"
   ]
  },
  {
   "cell_type": "code",
   "execution_count": null,
   "metadata": {},
   "outputs": [],
   "source": [
    "P = Permutation([0, 1,2,4,8, 3,5,6,9,10,12, 7,11,13,14, 15])\n",
    "P = Permutation([0,  3,5,6,9, 10,12, 15, 1,2,4,7,8,11,13,14])\n",
    "P = Permutation([0,  3, 6, 5, 1, 2, 4, 7, 8, 9, 10, 11, 12, 13, 14, 15 ])\n",
    "Q = TP(4)@ TP(4)\n",
    "H1 = PM2(4) @ P.T # P.T  @ TensorProduct(sym.Matrix.eye(2), PM2(3))\n",
    "H = H1 @ TensorProduct(sym.Matrix.eye(2**2), PM2(2)) #@ TensorProduct(\n",
    "    #sym.Matrix.eye(2**3), PM2(1))\n",
    "Q, H1.T @ Q @ H1, "
   ]
  },
  {
   "cell_type": "code",
   "execution_count": null,
   "metadata": {},
   "outputs": [],
   "source": [
    "D1 =  PM2(4)@ TP(4) @ PM2(4).T\n",
    "T = D1[:2**3,:2**3]\n",
    "P = Permutation([0,3,5,6,1,2,4,7])\n",
    "T, P @ T  @ P.T, P @ T @ T @ P.T"
   ]
  },
  {
   "cell_type": "code",
   "execution_count": null,
   "metadata": {},
   "outputs": [],
   "source": [
    "(P @ T @ T @ P.T).eigenvects()"
   ]
  },
  {
   "cell_type": "code",
   "execution_count": null,
   "metadata": {},
   "outputs": [],
   "source": [
    "Q = sym.Matrix.eye(2**3)\n",
    "Q[0,-1]=1\n",
    "Q[-1,0]=-1\n",
    "Q @ PM2(3) @ T @ PM2(3).T @ Q.inv()\n",
    "T.eigenvects(), T.T.eigenvects()"
   ]
  },
  {
   "cell_type": "code",
   "execution_count": null,
   "metadata": {},
   "outputs": [],
   "source": [
    "T = TP(5)\n",
    "lmes =  T.eigenvects()\n",
    "for lam, mult, evs in lmes:\n",
    "    print(\"{:20} {} {}\".format(float(sym.acos(lam)/sym.pi), mult, len(evs)))\n",
    "    "
   ]
  },
  {
   "cell_type": "code",
   "execution_count": null,
   "metadata": {},
   "outputs": [],
   "source": [
    "T = TP(1)\n",
    "for lam, mult, evs in T.eigenvects():\n",
    "    print(\"{} {} {}\".format(sym.acos(lam)/sym.pi, mult, len(evs)))\n",
    "    "
   ]
  },
  {
   "cell_type": "code",
   "execution_count": null,
   "metadata": {},
   "outputs": [],
   "source": [
    "#Q3 =TP(3).eigenvects()\n",
    "#Q4 =TP(4).eigenvects()\n",
    "for lam, mult, evs in Q3:\n",
    "    print(sym.simplify(sym.acos(lam)/sym.pi), mult,len(evs))\n",
    "    \n",
    "print()\n",
    "for lam, mult, evs in Q4:\n",
    "    print(sym.simplify(sym.acos(lam)/sym.pi), mult,len(evs))"
   ]
  },
  {
   "cell_type": "code",
   "execution_count": null,
   "metadata": {},
   "outputs": [],
   "source": [
    "sym.simplify(Q3[3][2][0]),sym.simplify(Q3[4][2][0]),sym.simplify(Q3[5][2][0]),sym.simplify(Q3[6][2][0])"
   ]
  },
  {
   "cell_type": "code",
   "execution_count": null,
   "metadata": {},
   "outputs": [],
   "source": [
    "sym.simplify(Q4[5][2][0]),sym.simplify(Q4[6][2][0]),sym.simplify(Q4[3][2][0]),sym.simplify(Q4[4][2][0])"
   ]
  },
  {
   "cell_type": "code",
   "execution_count": null,
   "metadata": {},
   "outputs": [],
   "source": [
    "def chebyshev(n):\n",
    "    result = [1,2*x]\n",
    "    while len(result) < n:\n",
    "        result.append(sym.simplify(2*x*result[-1] - result[-2]))\n",
    "    return result\n",
    "\n",
    "chebyshev(7)"
   ]
  },
  {
   "cell_type": "code",
   "execution_count": null,
   "metadata": {},
   "outputs": [],
   "source": [
    "myx = np.linspace(-1,1,200)\n",
    "for T in chebyshev(5)[1:]:\n",
    "    T_np = sym.lambdify(x, T,\"numpy\")\n",
    "    \n",
    "    plt.plot(myx, T_np(myx))\n",
    "plt.plot(myx,0*myx,\"k\")\n",
    "plt.savefig(\"cheby_u.pdf\")"
   ]
  },
  {
   "cell_type": "markdown",
   "metadata": {},
   "source": [
    "The characteristic polynomials seem to have the form \n",
    "\\begin{equation}\n",
    "  \\chi_n(\\lambda) = U_{n+1}(\\lambda)U_{n-1}(\\lambda)U_{n-2}(\\lambda)^2 \n",
    "  U_{n-3}(\\lambda)^4 \\cdots U_{1}(\\lambda)^{2^{n-2}}\n",
    "\\end{equation}\n",
    "where $U_{n}(\\lambda)$ are the Chebyshev polynomials of the second kind, defined through \n",
    "\\begin{equation}\n",
    "U_{n+1} = 2 \\lambda U_{n} - U_{n-1}\n",
    "\\end{equation}\n",
    "\n",
    "Let us check that this is true at least for a couple of $n$.  To do this define `chi(n,x)` and `chi_theory(n,x)` which calculate the characteristic polynomials directly and through the above formula:"
   ]
  },
  {
   "cell_type": "code",
   "execution_count": null,
   "metadata": {},
   "outputs": [],
   "source": [
    "x = sym.symbols(\"x\")\n",
    "def cheby2(n,x):\n",
    "    if n<0:\n",
    "        return 0\n",
    "    rold = 1\n",
    "    if n==0:\n",
    "        return rold\n",
    "    r = 2*x\n",
    "\n",
    "    \n",
    "    for i in range(1,n):\n",
    "        rnew = 2*x* r - rold\n",
    "        rold =r\n",
    "        r = rnew\n",
    "    return r\n",
    "    \n",
    "def chi_theory(n,x):\n",
    "    if n < 1:\n",
    "        return 1\n",
    "    result = cheby2(n+1, x) \n",
    "    for i in range(1,n):        \n",
    "        result *= cheby2(i, x)**(2**(n-i-1))\n",
    "    return result/2**2**n\n",
    "    \n",
    "def chi(n,x):\n",
    "    return TP(n).charpoly(x)\n"
   ]
  },
  {
   "cell_type": "markdown",
   "metadata": {},
   "source": [
    "Indeed the first couple of polynomials agree: "
   ]
  },
  {
   "cell_type": "code",
   "execution_count": null,
   "metadata": {},
   "outputs": [],
   "source": [
    "x = sym.symbols(\"x\")\n",
    "\n",
    "for i in range(1,6):\n",
    "    display(i,chi(i,x), chi_theory(i,x).expand())"
   ]
  },
  {
   "cell_type": "markdown",
   "metadata": {},
   "source": [
    "On the other hand it is known that the zeros of the Chebyshev polynomial $U_n$ are given by \n",
    "\\begin{equation}\n",
    "x_k = \\cos\\left(\\pi \\frac{k + 1}{n +1}\\right) \\qquad \\text{for $k=0,\\ldots, n-1$}\n",
    "\\end{equation}\n",
    "Therefore the values and numbers of zeros of $\\chi_n$ can be calculated as follows:\n"
   ]
  },
  {
   "cell_type": "code",
   "execution_count": null,
   "metadata": {},
   "outputs": [],
   "source": [
    "def zeros_theory(n):\n",
    "    if n < 1:\n",
    "        return 1\n",
    "    counter = defaultdict(int)\n",
    "    for k in range(n+1):\n",
    "            counter[sym.Rational(k+1,n+2)] += 1\n",
    "        \n",
    "    for i in range(1,n):\n",
    "        for k in range(i):\n",
    "            counter[sym.Rational(k+1,i+1)] += (2**(n-i-1))\n",
    "    \n",
    "    ks = list( counter.keys() )\n",
    "    ks.sort(reverse=True)\n",
    "    return [(sym.N(sym.cos(sym.pi * f )),counter[f]) for f in ks]\n"
   ]
  },
  {
   "cell_type": "code",
   "execution_count": null,
   "metadata": {},
   "outputs": [],
   "source": [
    "def zeros_theory_frac(n):\n",
    "    if n < 1:\n",
    "        return 1\n",
    "    counter = defaultdict(int)\n",
    "    for k in range(n+1):\n",
    "            counter[sym.Rational(k+1,n+2)] += 1\n",
    "        \n",
    "    for i in range(1,n):\n",
    "        for k in range(i):\n",
    "            counter[sym.Rational(k+1,i+1)] += (2**(n-i-1))\n",
    "    \n",
    "    ks = list( counter.keys() )\n",
    "    ks.sort(reverse=True)\n",
    "    return [ (f ,counter[f]) for f in ks]\n"
   ]
  },
  {
   "cell_type": "code",
   "execution_count": null,
   "metadata": {},
   "outputs": [],
   "source": [
    "zeros_theory_frac(4)"
   ]
  },
  {
   "cell_type": "code",
   "execution_count": null,
   "metadata": {},
   "outputs": [],
   "source": [
    "%matplotlib notebook\n",
    "k = 0\n",
    "r = []\n",
    "pos = 0\n",
    "N=20\n",
    "for p in zeros_theory(N):\n",
    "    r.append([pos,p[0]])\n",
    "    pos += p[1]\n",
    "    r.append([pos,p[0]])\n",
    "    \n",
    "r = np.array(r)\n",
    "plt.plot(r[:,0]/2**N,r[:,1])\n",
    "plt.xlim([0,1])\n",
    "plt.ylim([-1,1])\n",
    "\n",
    "plt.plot([0,1],[-1,1])\n",
    "plt.xlabel(\"#\")\n",
    "plt.ylabel(r\"$\\lambda$\")\n",
    "plt.savefig(\"devil_N=\"+str(N)+\".pdf\")"
   ]
  },
  {
   "cell_type": "markdown",
   "metadata": {},
   "source": [
    "Reproduce the function $f(x)$ of equation (2) in http://mathworld.wolfram.com/DevilsStaircase.html:\n",
    "\\begin{equation}\n",
    "f(x) = \\sum_{n=1}^\\infty \\frac{\\lfloor nx \\rfloor}{2^n} = \\sum_{m=1}^\\infty \\frac{1}{2^{\\lfloor m/x \\rfloor}}\n",
    "\\end{equation}"
   ]
  },
  {
   "cell_type": "code",
   "execution_count": null,
   "metadata": {},
   "outputs": [],
   "source": [
    "%matplotlib inline\n",
    "def devil(x):\n",
    "    res = 0\n",
    "    for n in range(20):\n",
    "        res = res + np.floor(n*x)/2**n\n",
    "    return res\n",
    "\n",
    "myx = np.linspace(0,1,1000)\n",
    "myy = devil(myx)\n",
    "\n",
    "plt.xlim(0,1)\n",
    "plt.ylim(0,1)\n",
    "plt.xlabel(\"x\")\n",
    "plt.ylabel(\"f(x)\")\n",
    "plt.plot(myx, myy)\n",
    "plt.savefig(\"f(x) mathworld.pdf\")"
   ]
  },
  {
   "cell_type": "code",
   "execution_count": null,
   "metadata": {},
   "outputs": [],
   "source": [
    "%matplotlib inline\n",
    "\n",
    "\n",
    "myx = np.linspace(0,1,1000)\n",
    "myy = devil(myx)\n",
    "\n",
    "plt.xlim(0,1)\n",
    "plt.ylim(0,1)\n",
    "plt.plot(myy, myx)\n",
    "\n",
    "k = 0\n",
    "r = []\n",
    "pos = 0\n",
    "N=20\n",
    "for p in zeros_theory_frac(N):\n",
    "    # Add a flat interval of length p[1]\n",
    "    r.append([pos,p[0]])\n",
    "    pos += p[1]\n",
    "    r.append([pos,p[0]])\n",
    "    \n",
    "r = np.array(r)\n",
    "plt.plot(r[:,0]/2**N,1-r[:,1])\n",
    "plt.xlim([0,1])\n",
    "plt.ylim([0,1])\n",
    "\n",
    "plt.xlabel(\"#\")\n",
    "plt.ylabel(r\"$\\lambda$\")\n",
    "plt.savefig(\"devil_N=\"+str(N)+\".pdf\")"
   ]
  },
  {
   "cell_type": "code",
   "execution_count": null,
   "metadata": {
    "collapsed": true
   },
   "outputs": [],
   "source": [
    "N=14"
   ]
  },
  {
   "cell_type": "markdown",
   "metadata": {},
   "source": [
    "Let's now directly calculate the spectrum numerically for some reasonably large $N$.\n",
    "\n",
    "For $N=14$ we need about six hours of calculation time.  If we have calculated that once, we can also skip to the next cell and load the precomputed data."
   ]
  },
  {
   "cell_type": "code",
   "execution_count": null,
   "metadata": {},
   "outputs": [],
   "source": [
    "%%time\n",
    "\n",
    "indices = []\n",
    "\n",
    "for i in range(1,N+1):\n",
    "    \n",
    "    # add upper block matrix\n",
    "    new_indices = indices.copy()\n",
    "    \n",
    "    new_indices.append(2**i-1) # add matrix element 2^(i-1)-1,2**i-1\n",
    "    new_indices.append(0)      # add matrix element 2^(i-1),0\n",
    "    \n",
    "    # add lower block matrix\n",
    "    for j in indices:\n",
    "        new_indices.append(j+2**(i-1))\n",
    "    indices = new_indices\n",
    "    \n",
    "# We have 2^N-2 rows with two entries and 2 rows with one entry each. All entries have value 0.5. \n",
    "data = np.full(2**(N+1)-2,0.5) \n",
    "\n",
    "# data for row i is stored at data[indptr[i]:indptr[i+1]]\n",
    "# therefore we need for example for N = 4: 2^N = 16, len(data) = 30, indptr = [0,1,3,5,...,27,29,30]\n",
    "indptr = [0] + list(range(1,2**(N+1)-2,2)) + [2**(N+1)-2]\n",
    "\n",
    "# construct the sparse matrix\n",
    "A = csr_matrix((data,indices,indptr))\n",
    "\n",
    "#vals = eigs(A, k=2**(N-2), return_eigenvectors=False)\n",
    "\n",
    "# it turns out to be difficult to really get all eigenvals for the sparse matrix. \n",
    "# Therefore better use full matrix for now, which should be fine for small size.\n",
    "B = A.toarray()\n",
    "v,w = np.linalg.eig(B)\n",
    "\n",
    "np.savez_compressed(\"preisach_eig_N={}.dat\".format(N),v=v, w=w)\n"
   ]
  },
  {
   "cell_type": "markdown",
   "metadata": {},
   "source": [
    "Now let us plot numerics versus theory:"
   ]
  },
  {
   "cell_type": "code",
   "execution_count": null,
   "metadata": {},
   "outputs": [],
   "source": [
    "myload = np.load(\"preisach_eig_N={}.dat.npz\".format(N))\n",
    "v, w = myload[\"v\"], myload[\"w\"]"
   ]
  },
  {
   "cell_type": "code",
   "execution_count": null,
   "metadata": {},
   "outputs": [],
   "source": [
    "w[0]/w[0,0]"
   ]
  },
  {
   "cell_type": "code",
   "execution_count": null,
   "metadata": {},
   "outputs": [],
   "source": [
    "%matplotlib inline\n",
    "plt.figure()\n",
    "vh =plt.hist(np.real(v),bins=np.linspace(-1,1,2000))\n",
    "\n",
    "Z = zeros_theory(N)\n",
    "x,nums = zip(*Z)\n",
    "plt.plot(x, nums,\"ro\")\n",
    "plt.yscale(\"log\")     \n",
    "\n"
   ]
  },
  {
   "cell_type": "code",
   "execution_count": null,
   "metadata": {},
   "outputs": [],
   "source": [
    "%matplotlib inline\n",
    "\n",
    "\n",
    "vs = np.cumsum(vh[0])/2**N\n",
    "plt.plot(vs,vh[1][:-1])\n"
   ]
  },
  {
   "cell_type": "code",
   "execution_count": null,
   "metadata": {},
   "outputs": [],
   "source": [
    "%matplotlib inline\n",
    "\n",
    "\n",
    "vs = np.cumsum(vh[0])/2**N\n",
    "plt.plot(vs,vh[1][:-1])\n",
    "\n",
    "\n",
    "for i in range(2, 14):\n",
    "    e = sym.sin(2 * sym.pi / i) / sym.sin(sym.pi / i) /2\n",
    "    #display(sym.simplify(e), sym.N(e))\n",
    "    plt.plot(1-1/(2**i-1),sym.re(sym.N(e)),\"bo\") \n",
    "    plt.plot(1-2/(2**i-1),sym.re(sym.N(e)),\"bo\")\n",
    "\n",
    "i = 5\n",
    "e = sym.sin(sym.pi / i) / sym.sin(2 * sym.pi / i) /2\n",
    "plt.plot(1-10/(2**i-1),sym.re(sym.N(e)),\"ro\") \n",
    "plt.plot(1-9/(2**i-1),sym.re(sym.N(e)),\"ro\")\n",
    "\n",
    "i = 7\n",
    "e = sym.sin(sym.pi / i) / sym.sin(3 * sym.pi / i) /2\n",
    "plt.plot(1-42/(2**i-1),sym.re(sym.N(e)),\"ro\") \n",
    "plt.plot(1-41/(2**i-1),sym.re(sym.N(e)),\"ro\")\n",
    "\n",
    "e = sym.sin(3 * sym.pi / i) / sym.sin(2 * sym.pi / i) /2\n",
    "plt.plot(1-18/(2**i-1),sym.re(sym.N(e)),\"ro\") \n",
    "plt.plot(1-17/(2**i-1),sym.re(sym.N(e)),\"ro\")\n"
   ]
  },
  {
   "cell_type": "markdown",
   "metadata": {
    "collapsed": true
   },
   "source": [
    "# Study in symmetric/assymetric basis\n",
    "\n",
    "Let us start again with the definition of $T_n$ as \n",
    "\\begin{equation}\n",
    "T_n = \\mathbb{I} \\otimes T_{n-1} + |1_n\\rangle \\langle 0 1_{n-1}| + |0_n\\rangle \\langle 1 0_{n-1}|\n",
    "\\end{equation}\n",
    "with $T_0=0$. By definition $T_n$ operates on an $2^n$ dimensional space $V_n$, which has basis elements $|a_1 a_2 \\cdots a_n \\rangle$ with $a_k\\in \\{0,1\\}$. \n",
    "\n",
    "We can therefore define a symmetry operation $S$ such that it operates on the basis elements in the following way\n",
    "\\begin{equation}\n",
    "S | a_1 \\cdots a_n \\rangle = S | \\bar{a}_1 \\cdots \\bar{a}_n \\rangle\n",
    "\\end{equation}\n",
    "where $\\bar{a}_k = 1-a_k$.\n",
    "\n",
    "We can thus see that \n",
    "\\begin{equation}\n",
    "S T_n = T_n S \n",
    "\\end{equation}\n",
    "and therefore we have the following invariant subspaces of $T_n$:\n",
    "\\begin{equation}\n",
    "S_n = \\{v \\in V_n : Sv=v\\} \\qquad A_n = \\{v \\in V_n : Sv=-v\\}\n",
    "\\end{equation}\n",
    "\n",
    "Let us study the restrictions to each of these subspaces separately. We have \n",
    "\n",
    "\n",
    "\n"
   ]
  },
  {
   "cell_type": "markdown",
   "metadata": {
    "collapsed": true
   },
   "source": [
    "# Eigenvectors\n",
    "\n"
   ]
  },
  {
   "cell_type": "code",
   "execution_count": null,
   "metadata": {},
   "outputs": [],
   "source": [
    "def TP(N):\n",
    "    I2 = sym.Matrix.eye(2)\n",
    "\n",
    "    T = sym.Matrix.zeros(1)\n",
    "\n",
    "    for i in range(1,N+1):\n",
    "        T = TensorProduct(I2, T)\n",
    "        T[2**(i)-1,2**(i-1)-1] = 1\n",
    "        T[0,2**(i-1)] = 1\n",
    "        \n",
    "    return T / 2\n",
    "\n",
    "for i in range(4):\n",
    "    display(i,2*TP(i))"
   ]
  },
  {
   "cell_type": "code",
   "execution_count": null,
   "metadata": {},
   "outputs": [],
   "source": [
    "x = sym.symbols(\"x\")\n",
    "def U(n,x):\n",
    "    if n<0:\n",
    "        return 0\n",
    "    if n==0:\n",
    "        return 1\n",
    "    if n==1:\n",
    "        return 2*x\n",
    "    \n",
    "    return sym.simplify(2*x * U(n-1,x) - U(n-2,x) )\n",
    "    \n",
    "    \n",
    "def zeroU(k, n):\n",
    "    if k >= n:\n",
    "        raise Exception(\"k not smaller than n!\")\n",
    "    # return \n",
    "    return sym.simplify(sym.cos( sym.pi * sym.Rational(k+1,n+1) ))"
   ]
  },
  {
   "cell_type": "code",
   "execution_count": null,
   "metadata": {},
   "outputs": [],
   "source": [
    "sym.N(U(7,zeroU(6,9)))"
   ]
  },
  {
   "cell_type": "code",
   "execution_count": null,
   "metadata": {},
   "outputs": [],
   "source": [
    "v = sym.Matrix.zeros(3,1)\n",
    "v[1] = 2\n",
    "v"
   ]
  },
  {
   "cell_type": "code",
   "execution_count": null,
   "metadata": {},
   "outputs": [],
   "source": [
    "bin(5), int(3*\"1\"\"0\"+5*\"1\",2)"
   ]
  },
  {
   "cell_type": "code",
   "execution_count": null,
   "metadata": {},
   "outputs": [],
   "source": [
    "bin(j),bin((-j-1)%2**5), bin((j)%2**5)"
   ]
  },
  {
   "cell_type": "code",
   "execution_count": null,
   "metadata": {},
   "outputs": [],
   "source": [
    "\n",
    "\n",
    "def findcorners(j,n):\n",
    "    corners= []\n",
    "    for i in range(n):\n",
    "        K = 2**(n-i-1)\n",
    "        if j < K:\n",
    "            continue\n",
    "        corners.append(i)\n",
    "        j = (-j-1) % K\n",
    "        \n",
    "    return corners\n",
    "    \n",
    "findcorners(int(\"00001100\",2),8)\n",
    "        "
   ]
  },
  {
   "cell_type": "code",
   "execution_count": null,
   "metadata": {},
   "outputs": [],
   "source": [
    "def EV(k, n):\n",
    "    if (k+1,n+2) != sym.fraction(sym.Rational(k+1,n+2)):\n",
    "        raise Exception(\"can not handle this\")\n",
    "    lambda1 = zeroU(k, n+1)\n",
    "    v = sym.Matrix.zeros(2**n,1)\n",
    "    v.fill(1)\n",
    "    for i in range(2**n):\n",
    "        for c in findcorners(i,n):\n",
    "            v[i] = sym.simplify(v[i]/U(n-c,lambda1))\n",
    "    return v"
   ]
  },
  {
   "cell_type": "code",
   "execution_count": null,
   "metadata": {},
   "outputs": [],
   "source": [
    "def EV2(k, n, q=n+1):\n",
    "    if q>n+1 or q ==n:\n",
    "        raise Exception(\"Wrong q\")\n",
    "    if (k+1,q+1) != sym.fraction(sym.Rational(k+1,q+1)):\n",
    "        raise Exception(\"can not handle this\")\n",
    "    lambda1 = zeroU(k, q)\n",
    "    v = sym.Matrix.zeros(2**n,1)\n",
    "    for i in range(2**n):\n",
    "        v[i] = 1\n",
    "        for c in findcorners(i,n):\n",
    "            v[i] = sym.simplify(v[i]/U(n-c,lambda1))\n",
    "    return v"
   ]
  },
  {
   "cell_type": "code",
   "execution_count": null,
   "metadata": {},
   "outputs": [],
   "source": [
    "(1,2)==sym.fraction(sym.Rational(2,4))"
   ]
  },
  {
   "cell_type": "code",
   "execution_count": null,
   "metadata": {},
   "outputs": [],
   "source": [
    "k=0\n",
    "n=2\n",
    "zeroU(k,n+1), TP(n),EV(k,n), sym.simplify(TP(n)@EV(k,n)- EV(k,n)*zeroU(k,n+1))"
   ]
  },
  {
   "cell_type": "code",
   "execution_count": null,
   "metadata": {},
   "outputs": [],
   "source": [
    "TP(4).eigenvects()[:6]"
   ]
  },
  {
   "cell_type": "code",
   "execution_count": null,
   "metadata": {
    "collapsed": true
   },
   "outputs": [],
   "source": []
  }
 ],
 "metadata": {
  "kernelspec": {
   "display_name": "Python 3 (ipykernel)",
   "language": "python",
   "name": "python3"
  },
  "language_info": {
   "codemirror_mode": {
    "name": "ipython",
    "version": 3
   },
   "file_extension": ".py",
   "mimetype": "text/x-python",
   "name": "python",
   "nbconvert_exporter": "python",
   "pygments_lexer": "ipython3",
   "version": "3.10.9"
  }
 },
 "nbformat": 4,
 "nbformat_minor": 1
}
