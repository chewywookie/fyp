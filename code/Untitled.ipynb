{
 "cells": [
  {
   "cell_type": "code",
   "execution_count": 32,
   "id": "46b567d1",
   "metadata": {},
   "outputs": [],
   "source": [
    "import numpy as np\n",
    "import matplotlib.pyplot as plt \n",
    "from matplotlib import animation\n",
    "from matplotlib.animation import PillowWriter\n",
    "import numba #finite diff algrothim for solving TDSE\n",
    "from numba import jit\n",
    "from scipy import linalg\n",
    "from scipy.linalg import eigh_tridiagonal#matrix method for solving TDSE\n",
    "#plt.style.use(['science', 'notebook', 'grid'])#some science plots"
   ]
  },
  {
   "cell_type": "markdown",
   "id": "3cf5a140",
   "metadata": {},
   "source": [
    "# bla\n",
    "\n",
    "1. calculate hamiltonian\n",
    "2. integrate\n",
    "2. take partial trace\n",
    "\n",
    "\n",
    "\\begin{align}\n",
    "a &= \\int_{-\\infty}^7 \\\\\n",
    "b &= \\int_{-\\infty}^7 \\sqrt{3} \n",
    "\\left[\\begin{array}{cc}\n",
    "1 & 0 \\\\\n",
    "0 & 5\n",
    "\\end{array}\\right]\n",
    "\\end{align}"
   ]
  },
  {
   "cell_type": "markdown",
   "id": "4624a0b2",
   "metadata": {},
   "source": [
    "# bla\n",
    "\n",
    "1. calculate hamiltonian\n",
    "2. integrate\n",
    "2. take partial trace\n",
    "\n",
    "\n",
    "\\begin{align}\n",
    "a &= \\int_{-\\infty}^7 \\\\\n",
    "b &= \\int_{-\\infty}^7 \\sqrt{3} \n",
    "\\left[\\begin{array}{cc}\n",
    "1 & 0 \\\\\n",
    "0 & 5\n",
    "\\end{array}\\right]\n",
    "\\end{align}"
   ]
  },
  {
   "cell_type": "code",
   "execution_count": 33,
   "id": "77584b00",
   "metadata": {},
   "outputs": [
    {
     "name": "stdout",
     "output_type": "stream",
     "text": [
      "[12 20 23 42 56]\n"
     ]
    }
   ],
   "source": [
    "v=np.array([12,20,23,42,56])\n",
    "print(v)"
   ]
  },
  {
   "cell_type": "code",
   "execution_count": 34,
   "id": "4d0a9c48",
   "metadata": {},
   "outputs": [
    {
     "name": "stdout",
     "output_type": "stream",
     "text": [
      "[[11 23 45]\n",
      " [12 34 64]\n",
      " [34 65 75]]\n"
     ]
    }
   ],
   "source": [
    "m = np.array([[11,23,45],\n",
    "             [12,34,64],\n",
    "             [34,65,75]])\n",
    "print(m)"
   ]
  },
  {
   "cell_type": "code",
   "execution_count": 35,
   "id": "543469d2",
   "metadata": {},
   "outputs": [
    {
     "name": "stdout",
     "output_type": "stream",
     "text": [
      "[[11 12 34]\n",
      " [23 34 65]\n",
      " [45 64 75]]\n",
      "[12 20 23 42 56]\n"
     ]
    }
   ],
   "source": [
    "print(m.T)\n",
    "print(v.T)"
   ]
  },
  {
   "cell_type": "code",
   "execution_count": 36,
   "id": "88a1ab5f",
   "metadata": {},
   "outputs": [],
   "source": [
    "#hbar = 1 => 1 = Js => J = 1/s\n",
    "\n",
    "H = np.array([[0,1],\n",
    "            [1,4]])\n",
    "time=np.linspace(0,1,100)\n",
    "unitary = [linalg.expm(-(1j)*t*H) for t in time]"
   ]
  },
  {
   "cell_type": "code",
   "execution_count": 42,
   "id": "804e5c64",
   "metadata": {},
   "outputs": [
    {
     "data": {
      "text/plain": [
       "array([0., 0., 0., 0., 0., 0., 0., 0., 0., 0., 0., 0., 0., 0., 0., 0., 0.,\n",
       "       0., 0., 0., 0., 0., 0., 0., 0., 0., 0., 0., 0., 0., 0., 0., 0., 0.,\n",
       "       0., 0., 0., 0., 0., 0., 0., 0., 0., 0., 0., 0., 0., 0., 0., 0., 0.,\n",
       "       0., 0., 0., 0., 0., 0., 0., 0., 0., 0., 0., 0., 0., 0., 0., 0., 0.,\n",
       "       0., 0., 0., 0., 0., 0., 0., 0., 0., 0., 0., 0., 0., 0., 0., 0., 0.,\n",
       "       0., 0., 0., 0., 0., 0., 0., 0., 0., 0., 0., 0., 0., 0., 0.])"
      ]
     },
     "execution_count": 42,
     "metadata": {},
     "output_type": "execute_result"
    }
   ],
   "source": [
    "psiout = np.zeros(len(unitary))\n",
    "v1 = np.ones(len(unitary))\n",
    "#psiout = unitary*v1\n",
    "psiout"
   ]
  },
  {
   "cell_type": "code",
   "execution_count": null,
   "id": "58806ad0",
   "metadata": {},
   "outputs": [],
   "source": []
  }
 ],
 "metadata": {
  "kernelspec": {
   "display_name": "Python 3 (ipykernel)",
   "language": "python",
   "name": "python3"
  },
  "language_info": {
   "codemirror_mode": {
    "name": "ipython",
    "version": 3
   },
   "file_extension": ".py",
   "mimetype": "text/x-python",
   "name": "python",
   "nbconvert_exporter": "python",
   "pygments_lexer": "ipython3",
   "version": "3.10.9"
  }
 },
 "nbformat": 4,
 "nbformat_minor": 5
}
