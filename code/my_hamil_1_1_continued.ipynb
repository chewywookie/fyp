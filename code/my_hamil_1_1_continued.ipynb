{
 "cells": [
  {
   "cell_type": "code",
   "execution_count": 1,
   "id": "2f819f44",
   "metadata": {},
   "outputs": [],
   "source": [
    "import numpy as np\n",
    "import matplotlib.pyplot as plt\n",
    "from IPython.display import display\n",
    "import sympy as sp \n",
    "from sympy import *\n",
    "import random\n",
    "from scipy.linalg import expm\n",
    "from sympy.physics.quantum import TensorProduct\n",
    "import numpy as np \n",
    "from mpl_toolkits import mplot3d\n",
    "import matplotlib.pyplot as plt\n",
    "sp.init_printing()"
   ]
  },
  {
   "cell_type": "code",
   "execution_count": 2,
   "id": "2c290e0b",
   "metadata": {},
   "outputs": [],
   "source": [
    "def MTP(A,B):\n",
    "    return TensorProduct(A,B)"
   ]
  },
  {
   "cell_type": "code",
   "execution_count": 3,
   "id": "57387dc0",
   "metadata": {},
   "outputs": [],
   "source": [
    "#nomenculture like E01 ground energy of qubit 1 \n",
    "E11,E01,P1, E_11, E_01, J11 = sp.symbols(\"E_{11} E_{01} P_{1} E_{11c} E_{01c} J_{11}\")\n",
    "I2 = sp.eye(2)\n",
    "a_dag = sp.Matrix([[0,0],\n",
    "                   [1,0]])\n",
    "sigmap = sp.Matrix([[0,0],[1,0]])\n",
    "sigmam=sigmap.T\n",
    "#state of our reservior system \n",
    "qr1 = sp.Matrix([[E01,P1.conjugate()],\n",
    "                 [P1,E11]])\n",
    "#hamil of res, if more tensor of all\n",
    "qrh = qr1\n",
    "c1 = sp.Matrix([[E_01,0],[0,E_11]])\n",
    "#hamilt of comp sys\n",
    "ch = c1\n",
    "#hamil of total system is thus\n",
    "Hh = TensorProduct(ch,I2) + TensorProduct(I2,qrh)\n",
    "#can edit values here if need be\n",
    "E01,E_11c, E_01c = (0,0,0)\n",
    "\n",
    "ch = ch.subs({\"E_{11c}\":E_11c, \"E_{01c}\":E_01c})\n",
    "qrh = qrh.subs({\"E_{11}\":E11,\"E_{01}\":E01,\"P_{1}\":P1})\n",
    "#just rewritting hamil with zero potential+gnd state\n",
    "H = TensorProduct(ch,I2) + TensorProduct(I2,qrh)\n",
    "#now to introduce coupling \n",
    "def MTP(A,B):\n",
    "    return TensorProduct(A,B)\n",
    "H = H + J11.conjugate()*(MTP(sigmap,a_dag.T)) + J11 * (MTP(sigmam, a_dag))\n"
   ]
  },
  {
   "cell_type": "code",
   "execution_count": 4,
   "id": "7258ec8f",
   "metadata": {},
   "outputs": [],
   "source": [
    "#basis vector representation\n",
    "gnd_state = np.array([[1],[0]])\n",
    "exc_state = np.array([[0],[1]])"
   ]
  },
  {
   "cell_type": "code",
   "execution_count": 5,
   "id": "7c96c618",
   "metadata": {},
   "outputs": [],
   "source": [
    "#simple function to choose random # from array that has been made\n",
    "def rand_num_array(a):\n",
    "    a = np.random.choice(a, size=1)\n",
    "    return a[0]"
   ]
  },
  {
   "cell_type": "code",
   "execution_count": 41,
   "id": "dea22488",
   "metadata": {
    "scrolled": true
   },
   "outputs": [
    {
     "data": {
      "image/png": "[encoded data removed]",
      "text/plain": [
       "<Figure size 432x288 with 2 Axes>"
      ]
     },
     "metadata": {
      "needs_background": "light"
     },
     "output_type": "display_data"
    },
    {
     "name": "stdout",
     "output_type": "stream",
     "text": [
      "Variance E0 = 1 \n",
      "J = [  1.  34.  67. 100.] \n",
      "P = [  1.  34.  67. 100.] \n",
      "E1 = 0.2450228320529214\n"
     ]
    }
   ],
   "source": [
    "E11,E01,P11, E_11, E_01, J11 = sp.symbols(\"E_{11} E_{01} P_{1} E_{11c} E_{01c} J_{11}\")\n",
    "Hcopy = H\n",
    "E0 = 1 \n",
    "E11 = float(-E0/2 +(np.random.rand(1)*E0)) #onsite V for reservoir qubits\n",
    "P11_array = np.linspace(1, 100, 4) / E0 #can reduce to 6?\n",
    "J_array = np.linspace(1, 100, 4) / E0\n",
    "list1={} #a dictionary\n",
    "# for i in range(len(P11_array)):\n",
    "#     list1[\"H_{0}\".format(i)] = np.array(Hcopy.subs({\"E_{11}\":E11,\"P_{1}\":P11_array[i], \"J_{11}\":J_array[i]})).astype('complex128') * 1/E0\n",
    "\n",
    "for i in range(len(P11_array)):\n",
    "    list1[\"H_{0}\".format(i)] = np.array(Hcopy.subs({\"E_{11}\":E11,\"P_{1}\":rand_num_array(P11_array), \"J_{11}\":rand_num_array(J_array)})).astype('complex128') * 1/E0\n",
    "\n",
    "hbar = 1\n",
    "t = 3 * E0/hbar #simulation time -> scaled time\n",
    "list2 = {}\n",
    "for i in range(len(P11_array)):\n",
    "    list2[\"U_{0}\".format(i)] = expm(-1j* list1[\"H_{0}\".format(i)] * t)\n",
    "x1 = random.random()\n",
    "y1 = random.random()\n",
    "x2 = random.random()\n",
    "y2 = random.random()\n",
    "z1 = complex(x1,y1)\n",
    "z2 = complex(x2,y2)\n",
    "psi_initial = 1/np.sqrt(np.abs(z1)**2+np.abs(z2)**2)*(z1*MTP(gnd_state,gnd_state) + z2*MTP(exc_state,gnd_state)) \n",
    "list3={}\n",
    "for i in range(len(P11_array)):\n",
    "    list3[\"psi_{0}\".format(i)] = list2[\"U_{0}\".format(i)]@psi_initial #where t = 3 units\n",
    "#list3['psi_2'],list3['psi_2'].T\n",
    "list4 = {}\n",
    "for i in range(len(P11_array)):\n",
    "    list4[\"pho_{0}\".format(i)] = MTP(list3[\"psi_{0}\".format(i)],list3[\"psi_{0}\".format(i)].T)\n",
    "#list4['pho_3']\n",
    "pho_c = {}\n",
    "Id = np.eye(2) \n",
    "for i in range(len(P11_array)):\n",
    "    pho_c[\"pho_c_{0}\".format(i)] = MTP(Id, gnd_state.T)@list4['pho_{0}'.format(i)]@MTP(Id, gnd_state) + MTP(Id, exc_state.T)@list4['pho_{0}'.format(i)]@MTP(Id, exc_state)\n",
    "#pho_c[\"pho_c_1\"]\n",
    "\n",
    "X_gate = np.array([[0,1],[1,0]])\n",
    "psi_qubit = (gnd_state + exc_state) * 1/np.sqrt(2)\n",
    "phi_ideal = X_gate@psi_qubit\n",
    "\n",
    "F = {}\n",
    "for i in range(len(P11_array)):\n",
    "    F[\"F_{0}\".format(i)] = phi_ideal.T @ pho_c[\"pho_c_{0}\".format(i)] @ phi_ideal\n",
    "#F['F_2']#[0][0])\n",
    "\n",
    "F_array = np.zeros((len(P11_array), len(J_array)))\n",
    "for i in range(len(P11_array)):\n",
    "    for j in range(len(J_array)):\n",
    "        F_array[i,j] = rand_num_array(abs(list(F.values())[i][0]))\n",
    "#print('\\n'P)\n",
    "# fig, axs = plt.subplots(2,2)\n",
    "# axs[0,0].plot(F_array, P11_array, 'b', label = 'comparison with P values')\n",
    "# axs[0,0].legend()\n",
    "# #axs[0,0].set_title('prob distribution of state |00>')\n",
    "# axs[0,1].plot(F_array, J_array, 'g', label = 'comparison with J values')\n",
    "# axs[0,1].legend()\n",
    "# axs[1,0].plot(F_array**2, P11_array, 'b', label = 'P comparison with squared F')\n",
    "# axs[1,0].legend()\n",
    "# axs[1,1].plot(F_array**2, J_array, 'g', label = 'J comparison with squared F')\n",
    "# axs[1,1].legend()\n",
    "# for ax in axs.flat:\n",
    "#     ax.set(xlabel='F(Top row) F^2(bottowm row)', ylabel='P(blue)&J(green)')\n",
    "\n",
    "# # Hide x labels and tick labels for top plots and y ticks for right plots.\n",
    "# for ax in axs.flat:\n",
    "#     ax.label_outer()\n",
    "def forceAspect(ax,aspect=1):\n",
    "    im = ax.get_images()\n",
    "    extent =  im[0].get_extent()\n",
    "    ax.set_aspect(abs((extent[1]-extent[0])/(extent[3]-extent[2]))/aspect)\n",
    "\n",
    "fig, ax = plt.subplots()\n",
    "#ax.set_aspect('auto')\n",
    "#plt.imshow(Z.T, cmap='bwr', interpolation='bicubic')\n",
    "pos = ax.imshow(F_array, cmap='bwr', interpolation='bicubic')\n",
    "ax.invert_yaxis()\n",
    "forceAspect(ax,aspect=1)\n",
    "cbar = plt.colorbar(pos)\n",
    "ax.set_xlabel('P values')\n",
    "ax.set_ylabel('J values')\n",
    "cbar.set_label(r'F')\n",
    "plt.show()\n",
    "print('Variance E0 =',E0,'\\nJ =', J_array, '\\nP =', P11_array, '\\nE1 =', E11)\n",
    "\n"
   ]
  },
  {
   "cell_type": "code",
   "execution_count": 42,
   "id": "a73c2301",
   "metadata": {},
   "outputs": [
    {
     "data": {
      "text/plain": [
       "array([[0.22610683, 0.22610683, 0.22610683, 0.22610683],\n",
       "       [0.35961828, 0.35961828, 0.35961828, 0.35961828],\n",
       "       [0.72760437, 0.72760437, 0.72760437, 0.72760437],\n",
       "       [0.72760437, 0.72760437, 0.72760437, 0.72760437]])"
      ]
     },
     "execution_count": 42,
     "metadata": {},
     "output_type": "execute_result"
    }
   ],
   "source": [
    "F_array"
   ]
  },
  {
   "cell_type": "code",
   "execution_count": 82,
   "id": "a6d1c665",
   "metadata": {},
   "outputs": [
    {
     "data": {
      "image/png": "[encoded data removed]",
      "text/plain": [
       "<Figure size 432x288 with 1 Axes>"
      ]
     },
     "metadata": {
      "needs_background": "light"
     },
     "output_type": "display_data"
    }
   ],
   "source": [
    "from matplotlib.animation import FuncAnimation\n",
    "\n",
    "fig, ax = plt.subplots()\n",
    "xdata, ydata = F_array, J_array\n",
    "ln, = ax.plot([], [], 'ro')\n",
    "\n",
    "def init():\n",
    "    ax.set_xlim(0, 2*np.pi)\n",
    "    ax.set_ylim(-1, 1)\n",
    "    return ln,\n",
    "\n",
    "def update(frame):\n",
    "    xdata.append(frame)\n",
    "    ydata.append(np.sin(frame))\n",
    "    ln.set_data(xdata, ydata)\n",
    "    return ln,\n",
    "\n",
    "ani = FuncAnimation(fig, update, frames=np.linspace(0, 2*np.pi, 128),\n",
    "                    init_func=init, blit=True)\n",
    "plt.show()"
   ]
  },
  {
   "cell_type": "code",
   "execution_count": 74,
   "id": "be0a5a82",
   "metadata": {
    "scrolled": true
   },
   "outputs": [
    {
     "data": {
      "text/plain": [
       "{'F_0': array([[-0.0430658+0.71612871j]]),\n",
       " 'F_1': array([[0.00509885-0.84583671j]]),\n",
       " 'F_2': array([[0.37255588-0.16436438j]]),\n",
       " 'F_3': array([[0.17066704-0.6534656j]])}"
      ]
     },
     "execution_count": 74,
     "metadata": {},
     "output_type": "execute_result"
    }
   ],
   "source": [
    "F"
   ]
  },
  {
   "cell_type": "code",
   "execution_count": 65,
   "id": "6e4bec4c",
   "metadata": {},
   "outputs": [
    {
     "data": {
      "text/plain": [
       "array([0.61914817])"
      ]
     },
     "execution_count": 65,
     "metadata": {},
     "output_type": "execute_result"
    }
   ],
   "source": [
    "abs(list(F.values())[2][0])"
   ]
  },
  {
   "cell_type": "code",
   "execution_count": 48,
   "id": "81487be8",
   "metadata": {},
   "outputs": [
    {
     "data": {
      "text/plain": [
       "((-0.08027384111236853-0.2113774118118814j),\n",
       " array([[-0.08027384-0.21137741j]]))"
      ]
     },
     "execution_count": 48,
     "metadata": {},
     "output_type": "execute_result"
    }
   ],
   "source": [
    "rand_num_array(list(F.values())[0][0]), list(F.items())"
   ]
  },
  {
   "cell_type": "code",
   "execution_count": 20,
   "id": "9deed5f4",
   "metadata": {},
   "outputs": [
    {
     "data": {
      "text/plain": [
       "(array([0.55859427, 0.25360584, 0.29599139, 0.55859427]),\n",
       " array([0.31202756, 0.06431592, 0.0876109 , 0.31202756]))"
      ]
     },
     "execution_count": 20,
     "metadata": {},
     "output_type": "execute_result"
    }
   ],
   "source": [
    "F_array = np.zeros(len(P11_array))\n",
    "for i in range(len(P11_array)):\n",
    "    F_array[i] = rand_num_array(abs(list(F.values())[i][0]))\n",
    "F_array, F_array**2\n",
    "        "
   ]
  },
  {
   "cell_type": "code",
   "execution_count": 15,
   "id": "4044cd5d",
   "metadata": {
    "scrolled": false
   },
   "outputs": [
    {
     "data": {
      "text/plain": [
       "(array([[0.76659232+0.19437276j],\n",
       "        [0.        +0.j        ],\n",
       "        [0.38008456+0.47967821j],\n",
       "        [0.        +0.j        ]]),\n",
       " array([[0.38008456+0.47967821j],\n",
       "        [0.        +0.j        ],\n",
       "        [0.76659232+0.19437276j],\n",
       "        [0.        +0.j        ]]))"
      ]
     },
     "execution_count": 15,
     "metadata": {},
     "output_type": "execute_result"
    }
   ],
   "source": [
    "q=X_gate@psi_initial.reshape(2,2)\n",
    "q.reshape(4,1), psi_initial"
   ]
  },
  {
   "cell_type": "code",
   "execution_count": null,
   "id": "16ddf54c",
   "metadata": {},
   "outputs": [],
   "source": []
  },
  {
   "cell_type": "code",
   "execution_count": 7,
   "id": "e547450a",
   "metadata": {
    "scrolled": false
   },
   "outputs": [
    {
     "ename": "ValueError",
     "evalue": "matmul: Input operand 1 has a mismatch in its core dimension 0, with gufunc signature (n?,k),(k,m?)->(n?,m?) (size 4 is different from 2)",
     "output_type": "error",
     "traceback": [
      "\u001b[1;31m---------------------------------------------------------------------------\u001b[0m",
      "\u001b[1;31mValueError\u001b[0m                                Traceback (most recent call last)",
      "\u001b[1;32m~\\AppData\\Local\\Temp/ipykernel_9812/3465825318.py\u001b[0m in \u001b[0;36m<module>\u001b[1;34m\u001b[0m\n\u001b[1;32m----> 1\u001b[1;33m \u001b[0mX_gate\u001b[0m\u001b[1;33m@\u001b[0m\u001b[0mpsi_initial\u001b[0m\u001b[1;33m\u001b[0m\u001b[1;33m\u001b[0m\u001b[0m\n\u001b[0m",
      "\u001b[1;31mValueError\u001b[0m: matmul: Input operand 1 has a mismatch in its core dimension 0, with gufunc signature (n?,k),(k,m?)->(n?,m?) (size 4 is different from 2)"
     ]
    }
   ],
   "source": [
    "X_gate@psi_initial"
   ]
  },
  {
   "cell_type": "code",
   "execution_count": 45,
   "id": "47ab7228",
   "metadata": {
    "scrolled": true
   },
   "outputs": [
    {
     "data": {
      "image/png": "[encoded data removed]",
      "text/plain": [
       "<Figure size 432x288 with 1 Axes>"
      ]
     },
     "metadata": {
      "needs_background": "light"
     },
     "output_type": "display_data"
    }
   ],
   "source": [
    "E11,E01,P11, E_11, E_01, J11 = sp.symbols(\"E_{11} E_{01} P_{1} E_{11c} E_{01c} J_{11}\")\n",
    "Hcopy = H\n",
    "E0 = 1 #variance of uniform distrib of energies E0 \n",
    "#-> e11 derived here ->random\n",
    "\n",
    "###################################################################################################################################\n",
    "\n",
    "E11 = float(-E0/2 +(np.random.rand(1)*E0))\n",
    "P11_array = np.linspace(1, 100, 50) / E0 #can reduce to 6?\n",
    "J_array = np.linspace(1, 100, 50) / E0\n",
    "list1={}\n",
    "for i in range(len(P11_array)):\n",
    "    list1[\"H_{0}\".format(i)] = np.array(Hcopy.subs({\"E_{11}\":E11,\"P_{1}\":P11_array[i], \"J_{11}\":J_array[i]})).astype('complex128') * 1/E0\n",
    "#output_example = list1[\"H_2\"]\n",
    "\n",
    "#also a random arrangement of P and J values combo \n",
    "\n",
    "#for i in range(len(P11_array)):\n",
    "#    list1[\"H_{0}\".format(i)] = np.array(Hcopy.subs({\"E_{11}\":E11,\"P_{1}\":rand_num_array(P11_array), \"J_{11}\":rand_num_array(J_array)})).astype('complex128') * 1/E0\n",
    "\n",
    "###################################################################################################################################\n",
    "\n",
    "hbar = 1\n",
    "t = 3 * E0/hbar #simulation time -> scaled time\n",
    "list2 = {}\n",
    "for i in range(len(P11_array)):\n",
    "    list2[\"U_{0}\".format(i)] = expm(-1j* list1[\"H_{0}\".format(i)] * t)\n",
    "#output_example = list2[\"U_2\"]\n",
    "\n",
    "###################################################################################################################################\n",
    "\n",
    "#now need a random set of psi_intial states, where psi_initial = comp (x) Vacuum state\n",
    "#that is, psi_intial = z1|00> + z2|10> * 1/sqrt(|z1|^2+|z2|^2), z1 = x+iy\n",
    "x1 = random.random()\n",
    "y1 = random.random()\n",
    "x2 = random.random()\n",
    "y2 = random.random()\n",
    "z1 = complex(x1,y1)\n",
    "z2 = complex(x2,y2)\n",
    "psi_initial = 1/np.sqrt(np.abs(z1)**2+np.abs(z2)**2)*(z1*MTP(gnd_state,gnd_state) + z2*MTP(exc_state,gnd_state)) \n",
    "\n",
    "list3={}\n",
    "for i in range(len(P11_array)):\n",
    "    list3[\"psi_{0}\".format(i)] = list2[\"U_{0}\".format(i)]@psi_initial #where t = 3 units\n",
    "    \n",
    "###################################################################################################################################\n",
    "\n",
    "# now lets try calculate pho for each final state psi that corresponds\n",
    "# to each U operator that itself corresponds to each \n",
    "# P and J values\n",
    "list4 = {}\n",
    "for i in range(len(P11_array)):\n",
    "    list4[\"pho_{0}\".format(i)] = MTP(list3[\"psi_{0}\".format(i)],[\"psi_{0}\".format(i)].T) \n",
    "\n",
    "###################################################################################################################################\n",
    "\n",
    "# now partial trace of this, where subsystem A = computational site = c\n",
    "# and subsystem B = resercoir site = r \n",
    "pho_c = {}\n",
    "Id = np.eye(2)\n",
    "for i in range(len(P11_array)):\n",
    "    pho_c[\"pho_c_{0}\".format(i)] = MTP(Id, gnd_state.T)@list4['pho_{0}'.format(i)]@MTP(Id, gnd_state) + MTP(Id, exc_state.T)@list4['pho_{0}'.format(i)]@MTP(Id, exc_state)\n",
    "\n",
    "###################################################################################################################################\n",
    "\n",
    "# now lets calcualte the fidelity, where |phi_ideal> = X|psi_qubit>\n",
    "# and fidelity F = <phi_ideal|pho_c|phi_ideal>\n",
    "\n",
    "X_gate = np.array([[0,1],[1,0]])\n",
    "psi_qubit = (gnd_state + exc_state) * 1/np.sqrt(2)\n",
    "phi_ideal = X_gate@psi_qubit\n",
    "\n",
    "F = {}\n",
    "for i in range(len(P11_array)):\n",
    "    F[\"F_{0}\".format(i)] = phi_ideal.T @ pho_c[\"pho_c_{0}\".format(i)] @ phi_ideal\n",
    "\n",
    "###################################################################################################################################\n",
    "\n",
    "# lets make 2D plots first, comparing F to J, F to P \n",
    "\n",
    "F_array = np.zeros(len(P11_array))\n",
    "for i in range(len(P11_array)):\n",
    "    F_array[i] = rand_num_array(abs(list(F.values())[i][0]))\n",
    "\n",
    "fig, axs = plt.subplots(2,2)\n",
    "axs[0,0].plot(F_array, P11_array, 'b', label = 'comparison with P values')\n",
    "axs[0,0].legend()\n",
    "#axs[0,0].set_title('prob distribution of state |00>')\n",
    "axs[0,1].plot(F_array, J_array, 'g', label = 'comparison with J values')\n",
    "axs[0,1].legend()\n",
    "axs[1,0].plot(F_array**2, P11_array, 'y', label = 'P comparison with squared F')\n",
    "axs[1,0].legend()\n",
    "axs[1,1].plot(F_array**2, J_array, 'r', label = 'J comparison with squared F')\n",
    "axs[1,1].legend()\n",
    "\n",
    "# for ax in axs.flat:\n",
    "#     ax.set(xlabel='time', ylabel='complex # squared')\n",
    "\n",
    "# # Hide x labels and tick labels for top plots and y ticks for right plots.\n",
    "# for ax in axs.flat:\n",
    "#     ax.label_outer()\n",
    "\n",
    "\n",
    "###################################################################################################################################   \n",
    "\n",
    "#lets try create  a mesh grid, a color map of the 2D space\n",
    "\n",
    "\n",
    "fig, ax = plt.subplots()\n",
    "X,Y = np.meshgrid(P11_array,J_array)\n",
    "#ax.set_aspect('auto')\n",
    "plt.imshow(X,Y,F_array, cmap='viridis', interpolation='bicubic')\n",
    "plt.show()\n",
    "\n",
    "###################################################################################################################################\n",
    "# plt.plot(t, np.abs(a)**2, 'b', label = '|00>')\n",
    "# plt.plot(t, np.abs(b)**2, 'g', label = '|01>')\n",
    "# #plt.xlim(1.4,1.8) # to see if it goes zero\n",
    "# # plt.plot(t, np.abs(c)**2, 'y', label = '|10>')\n",
    "# # plt.plot(t, np.abs(d)**2, 'k', label = '|11>')\n",
    "# plt.legend()\n",
    "#plt.savefig('1_1withintialstate_00_compare.jpg')"
   ]
  },
  {
   "cell_type": "code",
   "execution_count": 89,
   "id": "f241030a",
   "metadata": {
    "scrolled": false
   },
   "outputs": [
    {
     "data": {
      "text/plain": [
       "array([[0.22199558+0.82911031j],\n",
       "       [0.        +0.j        ],\n",
       "       [0.00433345+0.51310357j],\n",
       "       [0.        +0.j        ]])"
      ]
     },
     "execution_count": 89,
     "metadata": {},
     "output_type": "execute_result"
    }
   ],
   "source": [
    "psi_initial"
   ]
  },
  {
   "cell_type": "code",
   "execution_count": 22,
   "id": "6f76fcc8",
   "metadata": {
    "scrolled": true
   },
   "outputs": [
    {
     "data": {
      "text/plain": [
       "(array([0.99640432, 0.98566901, 0.96794851, ..., 0.38179471, 0.3254715 ,\n",
       "        0.2714825 ]),\n",
       " array([[0.99640432, 0.99640432, 0.99640432, ..., 0.99640432, 0.99640432,\n",
       "         0.99640432],\n",
       "        [0.98566901, 0.98566901, 0.98566901, ..., 0.98566901, 0.98566901,\n",
       "         0.98566901],\n",
       "        [0.96794851, 0.96794851, 0.96794851, ..., 0.96794851, 0.96794851,\n",
       "         0.96794851],\n",
       "        ...,\n",
       "        [0.38179471, 0.38179471, 0.38179471, ..., 0.38179471, 0.38179471,\n",
       "         0.38179471],\n",
       "        [0.3254715 , 0.3254715 , 0.3254715 , ..., 0.3254715 , 0.3254715 ,\n",
       "         0.3254715 ],\n",
       "        [0.2714825 , 0.2714825 , 0.2714825 , ..., 0.2714825 , 0.2714825 ,\n",
       "         0.2714825 ]]),\n",
       " array([0.000e+00, 1.000e-03, 2.000e-03, ..., 2.998e+00, 2.999e+00,\n",
       "        3.000e+00]))"
      ]
     },
     "execution_count": 22,
     "metadata": {},
     "output_type": "execute_result"
    }
   ],
   "source": [
    "Z, Y, t"
   ]
  },
  {
   "cell_type": "markdown",
   "id": "5a2e0761",
   "metadata": {},
   "source": [
    "# ideal operation/states"
   ]
  },
  {
   "cell_type": "code",
   "execution_count": null,
   "id": "e02eec2f",
   "metadata": {},
   "outputs": [],
   "source": []
  }
 ],
 "metadata": {
  "kernelspec": {
   "display_name": "Python 3 (ipykernel)",
   "language": "python",
   "name": "python3"
  },
  "language_info": {
   "codemirror_mode": {
    "name": "ipython",
    "version": 3
   },
   "file_extension": ".py",
   "mimetype": "text/x-python",
   "name": "python",
   "nbconvert_exporter": "python",
   "pygments_lexer": "ipython3",
   "version": "3.9.7"
  }
 },
 "nbformat": 4,
 "nbformat_minor": 5
}
