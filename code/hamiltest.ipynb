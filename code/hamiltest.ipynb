{
 "cells": [
  {
   "cell_type": "code",
   "execution_count": 1,
   "id": "ba8cb484",
   "metadata": {},
   "outputs": [],
   "source": [
    "import numpy as np \n",
    "import sympy as sp\n",
    "from sympy import *\n",
    "from sympy import symbols\n",
    "import itertools\n",
    "import pandas"
   ]
  },
  {
   "cell_type": "code",
   "execution_count": 2,
   "id": "922223f5",
   "metadata": {
    "scrolled": true
   },
   "outputs": [
    {
     "name": "stdout",
     "output_type": "stream",
     "text": [
      "[[0. 0. 0. 0. 0. 0. 0. 0. 0. 0. 0. 0. 0. 0. 0. 0.]\n",
      " [0. 2. 0. 0. 0. 0. 0. 0. 0. 0. 0. 0. 0. 0. 0. 0.]\n",
      " [0. 0. 1. 0. 0. 0. 0. 0. 0. 0. 0. 0. 0. 0. 0. 0.]\n",
      " [0. 0. 0. 3. 0. 0. 0. 0. 0. 0. 0. 0. 0. 0. 0. 0.]\n",
      " [0. 0. 0. 0. 0. 0. 0. 0. 0. 0. 0. 0. 0. 0. 0. 0.]\n",
      " [0. 0. 0. 0. 0. 2. 0. 0. 0. 0. 0. 0. 0. 0. 0. 0.]\n",
      " [0. 0. 0. 0. 0. 0. 1. 0. 0. 0. 0. 0. 0. 0. 0. 0.]\n",
      " [0. 0. 0. 0. 0. 0. 0. 3. 0. 0. 0. 0. 0. 0. 0. 0.]\n",
      " [0. 0. 0. 0. 0. 0. 0. 0. 0. 0. 0. 0. 0. 0. 0. 0.]\n",
      " [0. 0. 0. 0. 0. 0. 0. 0. 0. 2. 0. 0. 0. 0. 0. 0.]\n",
      " [0. 0. 0. 0. 0. 0. 0. 0. 0. 0. 1. 0. 0. 0. 0. 0.]\n",
      " [0. 0. 0. 0. 0. 0. 0. 0. 0. 0. 0. 3. 0. 0. 0. 0.]\n",
      " [0. 0. 0. 0. 0. 0. 0. 0. 0. 0. 0. 0. 0. 0. 0. 0.]\n",
      " [0. 0. 0. 0. 0. 0. 0. 0. 0. 0. 0. 0. 0. 2. 0. 0.]\n",
      " [0. 0. 0. 0. 0. 0. 0. 0. 0. 0. 0. 0. 0. 0. 1. 0.]\n",
      " [0. 0. 0. 0. 0. 0. 0. 0. 0. 0. 0. 0. 0. 0. 0. 3.]]\n"
     ]
    },
    {
     "data": {
      "text/plain": [
       "{0: 4, 2.00000000000000: 4, 1.00000000000000: 4, 3.00000000000000: 4}"
      ]
     },
     "execution_count": 2,
     "metadata": {},
     "output_type": "execute_result"
    }
   ],
   "source": [
    "#E1, E2 = symbols('E1 E2')\n",
    "E = [1,2]\n",
    "K = 0.5\n",
    "P = 0.7\n",
    "J = [[0.1,0.2], [0.3,0.4]]\n",
    "n_sites = 2\n",
    "n_qbits = 2\n",
    "n = n_qbits+n_sites\n",
    "paulix = np.array([[0,1],\n",
    "                  [1,0]])\n",
    "pauliy = np.array([[0,-1j],\n",
    "                  [1j,0]])\n",
    "basis_vector = np.array([[0,0,0,0], [0,0,0,1],\n",
    "                         [0,0,1,0],[0,0,1,1],\n",
    "                         [0,1,0,0],[0,1,0,1],\n",
    "                         [0,1,1,0],[0,1,1,1],\n",
    "                         [1,0,0,0],[1,0,0,1],\n",
    "                         [1,0,1,0],[1,0,1,1],\n",
    "                         [1,1,0,0],[1,1,0,1],\n",
    "                         [1,1,1,0],[1,1,1,1]])\n",
    "basis_vec_star = np.conj(basis_vector)\n",
    "#print(basis_vector, type(basis_vector), len(basis_vector)[0])\n",
    "H = np.zeros((2**n ,2**n))\n",
    "#testing the function ham\n",
    "for j in range(len(basis_vector)):\n",
    "    #onsite energy\n",
    "    if basis_vector[j][2] == 0 and basis_vector[j][3] == 0:\n",
    "        H[j][j] = 0\n",
    "    if basis_vector[j][2] == 0 and basis_vector[j][3] == 1:\n",
    "        H[j][j] = E[1]\n",
    "    if basis_vector[j][2] == 1 and basis_vector[j][3] == 0:\n",
    "        H[j][j] = E[0]\n",
    "    if basis_vector[j][2] == 1 and basis_vector[j][3] == 1:\n",
    "        H[j][j] = E[0] + E[1]\n",
    "     \n",
    "    #coupling\n",
    "#     for i in range(len(basis_vector)):\n",
    "#         if basis_vector[i][0] == 0 and basis_vector[i][1] == 0:\n",
    "#             if basis_vector[i][2] == 0 and basis_vector[i][3] == 1 and j!=i:\n",
    "#                 H[j][i] = K\n",
    "#             if basis_vector[i][2] == 1 and basis_vector[i][3] == 0 and j!=i:\n",
    "#                 H[j][i] = K\n",
    "#         if basis_vector[i][0] == 0 and basis_vector[i][1] == 1:\n",
    "#             if basis_vector[i][2] == 0 and basis_vector[i][3] == 1 and j!=i:\n",
    "#                 H[j][i] = K\n",
    "#             if basis_vector[i][2] == 1 and basis_vector[i][3] == 0 and j!=i:\n",
    "#                 H[j][i] = K\n",
    "#         if basis_vector[i][0] == 1 and basis_vector[i][1] == 0:\n",
    "#             if basis_vector[i][2] == 0 and basis_vector[i][3] == 1 and j!=i:\n",
    "#                 H[j][i] = K\n",
    "#             if basis_vector[i][2] == 1 and basis_vector[i][3] == 0 and j!=i:\n",
    "#                 H[j][i] = K\n",
    "#         if basis_vector[i][0] == 1 and basis_vector[i][1] == 1:\n",
    "#             if basis_vector[i][2] == 0 and basis_vector[i][3] == 1 and j!=i:\n",
    "#                 H[j][i] = K\n",
    "#             if basis_vector[i][2] == 1 and basis_vector[i][3] == 0 and j!=i:\n",
    "#                 H[j][i] = K\n",
    "print(H)\n",
    "#print(Matrix(np.transpose(H)).eigenvals())\n",
    "Matrix(H).eigenvals()\n",
    "#print((np.transpose(basis_vector[1]))\n",
    "#print(np.transpose(basis_vector[7]))\n",
    "#print(np.dot(paulix,np.transpose(basis_vector[7])))"
   ]
  },
  {
   "cell_type": "code",
   "execution_count": 4,
   "id": "422cfad0",
   "metadata": {},
   "outputs": [
    {
     "data": {
      "text/plain": [
       "array([[1, 5],\n",
       "       [2, 4]])"
      ]
     },
     "execution_count": 4,
     "metadata": {},
     "output_type": "execute_result"
    }
   ],
   "source": [
    "A = np.array([[1,5],[2,4]])\n",
    "\n",
    "A"
   ]
  },
  {
   "cell_type": "code",
   "execution_count": 6,
   "id": "5c496e2d",
   "metadata": {},
   "outputs": [
    {
     "data": {
      "text/plain": [
       "array([[11, 25],\n",
       "       [10, 26]])"
      ]
     },
     "execution_count": 6,
     "metadata": {},
     "output_type": "execute_result"
    }
   ],
   "source": [
    "A @ A"
   ]
  },
  {
   "cell_type": "code",
   "execution_count": 9,
   "id": "5f280319",
   "metadata": {},
   "outputs": [
    {
     "data": {
      "text/plain": [
       "array([[11, 25],\n",
       "       [10, 26]])"
      ]
     },
     "execution_count": 9,
     "metadata": {},
     "output_type": "execute_result"
    }
   ],
   "source": [
    "np.dot(A,A)"
   ]
  },
  {
   "cell_type": "code",
   "execution_count": 3,
   "id": "4881fd7f",
   "metadata": {},
   "outputs": [
    {
     "ename": "ValueError",
     "evalue": "shapes (16,4) and (16,4) not aligned: 4 (dim 1) != 16 (dim 0)",
     "output_type": "error",
     "traceback": [
      "\u001b[0;31m---------------------------------------------------------------------------\u001b[0m",
      "\u001b[0;31mValueError\u001b[0m                                Traceback (most recent call last)",
      "Cell \u001b[0;32mIn[3], line 2\u001b[0m\n\u001b[1;32m      1\u001b[0m \u001b[38;5;66;03m#agger(basis_vector)\u001b[39;00m\n\u001b[0;32m----> 2\u001b[0m \u001b[43mnp\u001b[49m\u001b[38;5;241;43m.\u001b[39;49m\u001b[43mdot\u001b[49m\u001b[43m(\u001b[49m\u001b[43mbasis_vec_star\u001b[49m\u001b[43m,\u001b[49m\u001b[43mbasis_vector\u001b[49m\u001b[43m)\u001b[49m\n\u001b[1;32m      3\u001b[0m \u001b[38;5;28mprint\u001b[39m(basis_vec_star\u001b[38;5;241m.\u001b[39mshape,basis_vector\u001b[38;5;241m.\u001b[39mshape)\n",
      "File \u001b[0;32m<__array_function__ internals>:200\u001b[0m, in \u001b[0;36mdot\u001b[0;34m(*args, **kwargs)\u001b[0m\n",
      "\u001b[0;31mValueError\u001b[0m: shapes (16,4) and (16,4) not aligned: 4 (dim 1) != 16 (dim 0)"
     ]
    }
   ],
   "source": [
    "#agger(basis_vector)\n",
    "np.dot(basis_vec_star,basis_vector)\n",
    "print(basis_vec_star.shape,basis_vector.shape)"
   ]
  },
  {
   "cell_type": "code",
   "execution_count": 85,
   "id": "67f1ca8b",
   "metadata": {},
   "outputs": [
    {
     "ename": "ValueError",
     "evalue": "operands could not be broadcast together with shapes (2,) (4,) ",
     "output_type": "error",
     "traceback": [
      "\u001b[1;31m---------------------------------------------------------------------------\u001b[0m",
      "\u001b[1;31mValueError\u001b[0m                                Traceback (most recent call last)",
      "\u001b[1;32m~\\AppData\\Local\\Temp/ipykernel_9984/3528164016.py\u001b[0m in \u001b[0;36m<module>\u001b[1;34m\u001b[0m\n\u001b[0;32m      7\u001b[0m         \u001b[1;31m# first one is E_k when the kth position is excited in both\u001b[0m\u001b[1;33m\u001b[0m\u001b[1;33m\u001b[0m\u001b[0m\n\u001b[0;32m      8\u001b[0m         \u001b[0mexcited_in_both\u001b[0m \u001b[1;33m=\u001b[0m \u001b[0ma\u001b[0m\u001b[1;33m.\u001b[0m\u001b[0mastype\u001b[0m\u001b[1;33m(\u001b[0m\u001b[0mbool\u001b[0m\u001b[1;33m)\u001b[0m\u001b[1;33m&\u001b[0m\u001b[0mb\u001b[0m\u001b[1;33m.\u001b[0m\u001b[0mastype\u001b[0m\u001b[1;33m(\u001b[0m\u001b[0mbool\u001b[0m\u001b[1;33m)\u001b[0m\u001b[1;33m\u001b[0m\u001b[1;33m\u001b[0m\u001b[0m\n\u001b[1;32m----> 9\u001b[1;33m         \u001b[0mH\u001b[0m\u001b[1;33m[\u001b[0m\u001b[0mi\u001b[0m\u001b[1;33m,\u001b[0m\u001b[0mj\u001b[0m\u001b[1;33m]\u001b[0m \u001b[1;33m+=\u001b[0m \u001b[1;33m(\u001b[0m\u001b[0mE\u001b[0m\u001b[1;33m*\u001b[0m\u001b[0mexcited_in_both\u001b[0m\u001b[1;33m)\u001b[0m\u001b[1;33m.\u001b[0m\u001b[0msum\u001b[0m\u001b[1;33m(\u001b[0m\u001b[1;33m)\u001b[0m\u001b[1;33m\u001b[0m\u001b[1;33m\u001b[0m\u001b[0m\n\u001b[0m\u001b[0;32m     10\u001b[0m         \u001b[1;31m# second kind is K[k,l] when there's any \"transition\" where a[k] was 1, b[k] is 0, but a[l] was 0 and b[k] is 1.\u001b[0m\u001b[1;33m\u001b[0m\u001b[1;33m\u001b[0m\u001b[0m\n\u001b[0;32m     11\u001b[0m         \u001b[1;31m# this can certainly be expressed as some numpy operation but it eludes my mind, so here's a dirty double Python loop for now:\u001b[0m\u001b[1;33m\u001b[0m\u001b[1;33m\u001b[0m\u001b[0m\n",
      "\u001b[1;31mValueError\u001b[0m: operands could not be broadcast together with shapes (2,) (4,) "
     ]
    }
   ],
   "source": [
    "# E is the vector of energies.\n",
    "# K is the matrix of hopping amplitudes\n",
    "for i, a in enumerate(basis_vectors):\n",
    "    for j, b in enumerate(basis_vectors):\n",
    "        # we need to determine H[i,j]\n",
    "        # It has three kinds of contributions\n",
    "        # first one is E_k when the kth position is excited in both\n",
    "        excited_in_both = a.astype(bool)&b.astype(bool)\n",
    "        H[i,j] += (E*excited_in_both).sum()\n",
    "        # second kind is K[k,l] when there's any \"transition\" where a[k] was 1, b[k] is 0, but a[l] was 0 and b[k] is 1.\n",
    "        # this can certainly be expressed as some numpy operation but it eludes my mind, so here's a dirty double Python loop for now:\n",
    "        for k, l in itertools.product(range(n),repeat=2): # equivalent to 2 nested loops over range(n)\n",
    "            if a[k] and not b[k] and not a[l] and b[l]:\n",
    "                H[i,j] += K[k,l]\n",
    "print(H)"
   ]
  },
  {
   "cell_type": "code",
   "execution_count": 5,
   "id": "59dd0639",
   "metadata": {},
   "outputs": [
    {
     "name": "stdout",
     "output_type": "stream",
     "text": [
      "[[0 0 0 0]\n",
      " [0 0 0 1]\n",
      " [0 0 1 0]\n",
      " [0 0 1 1]\n",
      " [0 1 0 0]\n",
      " [0 1 0 1]\n",
      " [0 1 1 0]\n",
      " [0 1 1 1]\n",
      " [1 0 0 0]\n",
      " [1 0 0 1]\n",
      " [1 0 1 0]\n",
      " [1 0 1 1]\n",
      " [1 1 0 0]\n",
      " [1 1 0 1]\n",
      " [1 1 1 0]\n",
      " [1 1 1 1]]\n"
     ]
    }
   ],
   "source": [
    "basis_vectors = np.array([list(x) for x in itertools.product(range(2), repeat=n)]) #repeats (0,1) 4 times in a list\n",
    "print(basis_vectors)"
   ]
  },
  {
   "cell_type": "code",
   "execution_count": 5,
   "id": "c8a1cb59",
   "metadata": {},
   "outputs": [],
   "source": [
    "def ham(E,K,P,J):\n",
    "    n_sites = 2\n",
    "    n_qbits = 2\n",
    "    n = n_qbits+n_sites\n",
    "    \n",
    "    H = np.zeros((2**n ,2**n))\n",
    "    \n",
    "    #onsite energies\n",
    "    for j in range(len(basis_vector)):\n",
    "        if basis_vector[j][2] == 0 and basis_vector[j][3] == 0:\n",
    "            H[j][j] = 0\n",
    "        if basis_vector[j][2] == 0 and basis_vector[j][3] == 1:\n",
    "            H[j][j] = E[1]\n",
    "        if basis_vector[j][2] == 1 and basis_vector[j][3] == 0:\n",
    "            H[j][j] = E[0]\n",
    "        if basis_vector[j][2] == 1 and basis_vector[j][3] == 1:\n",
    "            H[j][j] = E[0] + E[1]\n",
    "    \n",
    "    #coupling terms\n",
    "    for j in range(len(basis_vector)):\n",
    "        for i in range(len(basis_vector)):\n",
    "            if basis_vector[j][2] == 0 and basis_vector[j][3] == 1:\n",
    "                H[j][i] = K\n",
    "            if basis_vector[j][2] == 1 and basis_vector[j][3] == 0:\n",
    "                H[j][i] = K\n",
    "            else:\n",
    "                H[j][i] = 0"
   ]
  },
  {
   "cell_type": "code",
   "execution_count": 58,
   "id": "f2e4337a",
   "metadata": {
    "scrolled": true
   },
   "outputs": [
    {
     "ename": "ValueError",
     "evalue": "operands could not be broadcast together with shapes (2,2) (4,) ",
     "output_type": "error",
     "traceback": [
      "\u001b[1;31m---------------------------------------------------------------------------\u001b[0m",
      "\u001b[1;31mValueError\u001b[0m                                Traceback (most recent call last)",
      "\u001b[1;32m~\\AppData\\Local\\Temp/ipykernel_7420/2552439438.py\u001b[0m in \u001b[0;36m<module>\u001b[1;34m\u001b[0m\n\u001b[0;32m      2\u001b[0m              [0,1]])\n\u001b[0;32m      3\u001b[0m \u001b[0mnew_vec\u001b[0m \u001b[1;33m=\u001b[0m \u001b[0mnp\u001b[0m\u001b[1;33m.\u001b[0m\u001b[0mzeros\u001b[0m\u001b[1;33m(\u001b[0m\u001b[1;36m2\u001b[0m\u001b[1;33m*\u001b[0m\u001b[0mn\u001b[0m\u001b[1;33m)\u001b[0m\u001b[1;33m\u001b[0m\u001b[1;33m\u001b[0m\u001b[0m\n\u001b[1;32m----> 4\u001b[1;33m \u001b[0mprint\u001b[0m\u001b[1;33m(\u001b[0m\u001b[0mN\u001b[0m \u001b[1;33m*\u001b[0m \u001b[0mbasis_vector\u001b[0m\u001b[1;33m[\u001b[0m\u001b[1;36m0\u001b[0m\u001b[1;33m]\u001b[0m\u001b[1;33m)\u001b[0m\u001b[1;33m\u001b[0m\u001b[1;33m\u001b[0m\u001b[0m\n\u001b[0m",
      "\u001b[1;31mValueError\u001b[0m: operands could not be broadcast together with shapes (2,2) (4,) "
     ]
    }
   ],
   "source": [
    "N = np.array([[0,0],\n",
    "             [0,1]])\n",
    "new_vec = np.zeros(2*n)\n",
    "print(N * basis_vector[0])"
   ]
  },
  {
   "cell_type": "code",
   "execution_count": 53,
   "id": "2a6cb65c",
   "metadata": {},
   "outputs": [],
   "source": [
    "def N11(x):\n",
    "    N = np.array([[0,0],\n",
    "                 [0,1]])\n",
    "    if x[0][2] == 0:\n",
    "        return 0\n",
    "    if x[0][2] == 1:\n",
    "        \n",
    "        return \n",
    "\n",
    "def a1dag(x):\n",
    "    \n",
    "    "
   ]
  },
  {
   "cell_type": "code",
   "execution_count": null,
   "id": "13986f1c",
   "metadata": {},
   "outputs": [],
   "source": [
    "#summation \n",
    "for i in range(n_sites):\n",
    "    E_sum[i] = E[i] * N11\n",
    "    "
   ]
  },
  {
   "cell_type": "code",
   "execution_count": null,
   "id": "4c425a6d",
   "metadata": {},
   "outputs": [],
   "source": [
    "#need to normalise "
   ]
  },
  {
   "cell_type": "code",
   "execution_count": 2,
   "id": "cf7b1263",
   "metadata": {},
   "outputs": [
    {
     "ename": "NameError",
     "evalue": "name 'Fket' is not defined",
     "output_type": "error",
     "traceback": [
      "\u001b[1;31m---------------------------------------------------------------------------\u001b[0m",
      "\u001b[1;31mNameError\u001b[0m                                 Traceback (most recent call last)",
      "\u001b[1;32m~\\AppData\\Local\\Temp/ipykernel_9984/1758689399.py\u001b[0m in \u001b[0;36m<module>\u001b[1;34m\u001b[0m\n\u001b[0;32m      1\u001b[0m \u001b[1;32mfrom\u001b[0m \u001b[0msympy\u001b[0m\u001b[1;33m.\u001b[0m\u001b[0mphysics\u001b[0m\u001b[1;33m.\u001b[0m\u001b[0msecondquant\u001b[0m \u001b[1;32mimport\u001b[0m \u001b[0mFKet\u001b[0m\u001b[1;33m\u001b[0m\u001b[1;33m\u001b[0m\u001b[0m\n\u001b[1;32m----> 2\u001b[1;33m \u001b[0mFket\u001b[0m\u001b[1;33m(\u001b[0m\u001b[1;33m[\u001b[0m\u001b[1;36m1\u001b[0m\u001b[1;33m,\u001b[0m\u001b[1;36m2\u001b[0m\u001b[1;33m]\u001b[0m\u001b[1;33m)\u001b[0m\u001b[1;33m\u001b[0m\u001b[1;33m\u001b[0m\u001b[0m\n\u001b[0m",
      "\u001b[1;31mNameError\u001b[0m: name 'Fket' is not defined"
     ]
    }
   ],
   "source": [
    "from sympy.physics.secondquant import FKet\n",
    "Fket([1,2])"
   ]
  },
  {
   "cell_type": "code",
   "execution_count": 49,
   "id": "3e91f0f8",
   "metadata": {},
   "outputs": [
    {
     "data": {
      "text/latex": [
       "$\\displaystyle \\left\\langle b \\right. {\\left|k\\right\\rangle }$"
      ],
      "text/plain": [
       "<b|k>"
      ]
     },
     "execution_count": 49,
     "metadata": {},
     "output_type": "execute_result"
    }
   ],
   "source": [
    "from sympy.physics.quantum.dagger import Dagger\n",
    "from sympy.physics.quantum.state import Ket, Bra\n",
    "from sympy.physics.quantum.operator import Operator\n",
    "\n",
    "Dagger(Ket('psi'))\n",
    "Dagger(Bra('phi'))\n",
    "Ket('psi')\n",
    "b = Bra('b')\n",
    "k = Ket('k')\n",
    "ip = b*k\n",
    "ip.ket\n",
    "b*k"
   ]
  },
  {
   "cell_type": "code",
   "execution_count": 25,
   "id": "c3f23cab",
   "metadata": {},
   "outputs": [
    {
     "data": {
      "text/latex": [
       "$\\displaystyle a^{\\dagger}$"
      ],
      "text/plain": [
       "Dagger(a)"
      ]
     },
     "execution_count": 25,
     "metadata": {},
     "output_type": "execute_result"
    }
   ],
   "source": [
    "Dagger(Operator('a'))"
   ]
  },
  {
   "cell_type": "code",
   "execution_count": 29,
   "id": "21f1cb89",
   "metadata": {},
   "outputs": [
    {
     "data": {
      "text/latex": [
       "$\\displaystyle \\left\\langle b \\right. {\\left|a\\right\\rangle }$"
      ],
      "text/plain": [
       "<b|a>"
      ]
     },
     "execution_count": 29,
     "metadata": {},
     "output_type": "execute_result"
    }
   ],
   "source": [
    "from sympy.physics.quantum import InnerProduct, OuterProduct\n",
    "Dagger(InnerProduct(Bra('a'),Ket('b')))"
   ]
  },
  {
   "cell_type": "code",
   "execution_count": 34,
   "id": "74323641",
   "metadata": {},
   "outputs": [
    {
     "data": {
      "text/latex": [
       "$\\displaystyle {\\left|a\\right\\rangle }{\\left\\langle b\\right|}$"
      ],
      "text/plain": [
       "|a><b|"
      ]
     },
     "execution_count": 34,
     "metadata": {},
     "output_type": "execute_result"
    }
   ],
   "source": [
    "Dagger(OuterProduct(Ket('a'), Bra('b')))"
   ]
  },
  {
   "cell_type": "code",
   "execution_count": 35,
   "id": "cfde55a0",
   "metadata": {},
   "outputs": [
    {
     "data": {
      "text/latex": [
       "$\\displaystyle A^{\\dagger} + B^{\\dagger}$"
      ],
      "text/plain": [
       "Dagger(A) + Dagger(B)"
      ]
     },
     "execution_count": 35,
     "metadata": {},
     "output_type": "execute_result"
    }
   ],
   "source": [
    "A = Operator('A')\n",
    "B = Operator('B')\n",
    "Dagger(A*B)\n",
    "Dagger(A+B)"
   ]
  },
  {
   "cell_type": "code",
   "execution_count": 41,
   "id": "110feed3",
   "metadata": {},
   "outputs": [
    {
     "data": {
      "text/latex": [
       "$\\displaystyle \\left[\\begin{matrix}1 & 2\\\\- 1.0 i & - i\\end{matrix}\\right]$"
      ],
      "text/plain": [
       "Matrix([\n",
       "[     1,  2],\n",
       "[-1.0*I, -I]])"
      ]
     },
     "execution_count": 41,
     "metadata": {},
     "output_type": "execute_result"
    }
   ],
   "source": [
    "from sympy import Matrix, I \n",
    "m = Matrix([[1, 1j],\n",
    "           [2, I]])\n",
    "m\n",
    "Dagger(m)"
   ]
  },
  {
   "cell_type": "code",
   "execution_count": 42,
   "id": "974a054d",
   "metadata": {},
   "outputs": [
    {
     "data": {
      "text/latex": [
       "$\\displaystyle \\left[\\begin{matrix}0 & 0 & 0 & 0\\\\0 & 0 & 0 & 1\\\\0 & 0 & 1 & 0\\\\0 & 0 & 1 & 1\\\\0 & 1 & 0 & 0\\\\0 & 1 & 0 & 1\\\\0 & 1 & 1 & 0\\\\0 & 1 & 1 & 1\\end{matrix}\\right]$"
      ],
      "text/plain": [
       "Matrix([\n",
       "[0, 0, 0, 0],\n",
       "[0, 0, 0, 1],\n",
       "[0, 0, 1, 0],\n",
       "[0, 0, 1, 1],\n",
       "[0, 1, 0, 0],\n",
       "[0, 1, 0, 1],\n",
       "[0, 1, 1, 0],\n",
       "[0, 1, 1, 1]])"
      ]
     },
     "execution_count": 42,
     "metadata": {},
     "output_type": "execute_result"
    }
   ],
   "source": [
    "v = Matrix([[0,0,0,0], [0,0,0,1],\n",
    "                         [0,0,1,0],[0,0,1,1],\n",
    "                         [0,1,0,0],[0,1,0,1],\n",
    "                         [0,1,1,0],[0,1,1,1]])\n",
    "v"
   ]
  },
  {
   "cell_type": "code",
   "execution_count": 43,
   "id": "9530c39f",
   "metadata": {},
   "outputs": [
    {
     "data": {
      "text/latex": [
       "$\\displaystyle \\left[\\begin{matrix}0 & 0 & 0 & 0 & 0 & 0 & 0 & 0\\\\0 & 0 & 0 & 0 & 1 & 1 & 1 & 1\\\\0 & 0 & 1 & 1 & 0 & 0 & 1 & 1\\\\0 & 1 & 0 & 1 & 0 & 1 & 0 & 1\\end{matrix}\\right]$"
      ],
      "text/plain": [
       "Matrix([\n",
       "[0, 0, 0, 0, 0, 0, 0, 0],\n",
       "[0, 0, 0, 0, 1, 1, 1, 1],\n",
       "[0, 0, 1, 1, 0, 0, 1, 1],\n",
       "[0, 1, 0, 1, 0, 1, 0, 1]])"
      ]
     },
     "execution_count": 43,
     "metadata": {},
     "output_type": "execute_result"
    }
   ],
   "source": [
    "Dagger(v)"
   ]
  },
  {
   "cell_type": "code",
   "execution_count": 53,
   "id": "f5b2a694",
   "metadata": {},
   "outputs": [
    {
     "data": {
      "text/latex": [
       "$\\displaystyle \\left[\\begin{matrix}2 & 2 & 4 & 4\\\\3 & 4 & 6 & 8\\\\4 & 4 & 2 & 2\\\\6 & 8 & 3 & 4\\end{matrix}\\right]$"
      ],
      "text/plain": [
       "Matrix([\n",
       "[2, 2, 4, 4],\n",
       "[3, 4, 6, 8],\n",
       "[4, 4, 2, 2],\n",
       "[6, 8, 3, 4]])"
      ]
     },
     "execution_count": 53,
     "metadata": {},
     "output_type": "execute_result"
    }
   ],
   "source": [
    "from sympy.physics.quantum import TensorProduct\n",
    "\n",
    "m1 = Matrix([[1,2],[2,1]])\n",
    "m2 = Dagger(Matrix([[2,3],[2,4]]))\n",
    "m3 = Matrix([[2,3],[2,4]])\n",
    "TensorProduct(m1,m2)\n"
   ]
  },
  {
   "cell_type": "code",
   "execution_count": 54,
   "id": "645ff400",
   "metadata": {},
   "outputs": [
    {
     "data": {
      "text/latex": [
       "$\\displaystyle \\left[\\begin{matrix}2 & 3 & 4 & 6\\\\2 & 4 & 4 & 8\\\\4 & 6 & 2 & 3\\\\4 & 8 & 2 & 4\\end{matrix}\\right]$"
      ],
      "text/plain": [
       "Matrix([\n",
       "[2, 3, 4, 6],\n",
       "[2, 4, 4, 8],\n",
       "[4, 6, 2, 3],\n",
       "[4, 8, 2, 4]])"
      ]
     },
     "execution_count": 54,
     "metadata": {},
     "output_type": "execute_result"
    }
   ],
   "source": [
    "TensorProduct(m1,m3)"
   ]
  },
  {
   "cell_type": "code",
   "execution_count": 55,
   "id": "c7c2a219",
   "metadata": {},
   "outputs": [
    {
     "data": {
      "text/plain": [
       "array([[0, 0, 0, 0, 0, 0, 0, 0, 1, 1, 1, 1, 1, 1, 1, 1],\n",
       "       [0, 0, 0, 0, 1, 1, 1, 1, 0, 0, 0, 0, 1, 1, 1, 1],\n",
       "       [0, 0, 1, 1, 0, 0, 1, 1, 0, 0, 1, 1, 0, 0, 1, 1],\n",
       "       [0, 1, 0, 1, 0, 1, 0, 1, 0, 1, 0, 1, 0, 1, 0, 1]])"
      ]
     },
     "execution_count": 55,
     "metadata": {},
     "output_type": "execute_result"
    }
   ],
   "source": [
    "# basis_vector = np.array([[0,0,0,0], [0,0,0,1],\n",
    "#                          [0,0,1,0],[0,0,1,1],\n",
    "#                          [0,1,0,0],[0,1,0,1],\n",
    "#                          [0,1,1,0],[0,1,1,1],\n",
    "#                          [1,0,0,0],[1,0,0,1],\n",
    "#                          [1,0,1,0],[1,0,1,1],\n",
    "#                          [1,1,0,0],[1,1,0,1],\n",
    "#                          [1,1,1,0],[1,1,1,1]])\n",
    "\n",
    "vector_basis = Dagger(basis_vector)\n",
    "vector_basis"
   ]
  },
  {
   "cell_type": "code",
   "execution_count": 57,
   "id": "6715ac63",
   "metadata": {},
   "outputs": [
    {
     "ename": "TypeError",
     "evalue": "KetBase subclass expected, got: array([[0, 0, 0, 0],\n       [0, 0, 0, 1],\n       [0, 0, 1, 0],\n       [0, 0, 1, 1],\n       [0, 1, 0, 0],\n       [0, 1, 0, 1],\n       [0, 1, 1, 0],\n       [0, 1, 1, 1],\n       [1, 0, 0, 0],\n       [1, 0, 0, 1],\n       [1, 0, 1, 0],\n       [1, 0, 1, 1],\n       [1, 1, 0, 0],\n       [1, 1, 0, 1],\n       [1, 1, 1, 0],\n       [1, 1, 1, 1]])",
     "output_type": "error",
     "traceback": [
      "\u001b[1;31m---------------------------------------------------------------------------\u001b[0m",
      "\u001b[1;31mTypeError\u001b[0m                                 Traceback (most recent call last)",
      "\u001b[1;32m~\\AppData\\Local\\Temp/ipykernel_9984/1945947479.py\u001b[0m in \u001b[0;36m<module>\u001b[1;34m\u001b[0m\n\u001b[1;32m----> 1\u001b[1;33m \u001b[0mInnerProduct\u001b[0m\u001b[1;33m(\u001b[0m\u001b[0mvector_basis\u001b[0m\u001b[1;33m,\u001b[0m\u001b[0mbasis_vector\u001b[0m\u001b[1;33m)\u001b[0m\u001b[1;33m\u001b[0m\u001b[1;33m\u001b[0m\u001b[0m\n\u001b[0m",
      "\u001b[1;32mD:\\User\\Rojar\\Documents\\Anaconda\\lib\\site-packages\\sympy\\physics\\quantum\\innerproduct.py\u001b[0m in \u001b[0;36m__new__\u001b[1;34m(cls, bra, ket)\u001b[0m\n\u001b[0;32m     75\u001b[0m     \u001b[1;32mdef\u001b[0m \u001b[0m__new__\u001b[0m\u001b[1;33m(\u001b[0m\u001b[0mcls\u001b[0m\u001b[1;33m,\u001b[0m \u001b[0mbra\u001b[0m\u001b[1;33m,\u001b[0m \u001b[0mket\u001b[0m\u001b[1;33m)\u001b[0m\u001b[1;33m:\u001b[0m\u001b[1;33m\u001b[0m\u001b[1;33m\u001b[0m\u001b[0m\n\u001b[0;32m     76\u001b[0m         \u001b[1;32mif\u001b[0m \u001b[1;32mnot\u001b[0m \u001b[0misinstance\u001b[0m\u001b[1;33m(\u001b[0m\u001b[0mket\u001b[0m\u001b[1;33m,\u001b[0m \u001b[0mKetBase\u001b[0m\u001b[1;33m)\u001b[0m\u001b[1;33m:\u001b[0m\u001b[1;33m\u001b[0m\u001b[1;33m\u001b[0m\u001b[0m\n\u001b[1;32m---> 77\u001b[1;33m             \u001b[1;32mraise\u001b[0m \u001b[0mTypeError\u001b[0m\u001b[1;33m(\u001b[0m\u001b[1;34m'KetBase subclass expected, got: %r'\u001b[0m \u001b[1;33m%\u001b[0m \u001b[0mket\u001b[0m\u001b[1;33m)\u001b[0m\u001b[1;33m\u001b[0m\u001b[1;33m\u001b[0m\u001b[0m\n\u001b[0m\u001b[0;32m     78\u001b[0m         \u001b[1;32mif\u001b[0m \u001b[1;32mnot\u001b[0m \u001b[0misinstance\u001b[0m\u001b[1;33m(\u001b[0m\u001b[0mbra\u001b[0m\u001b[1;33m,\u001b[0m \u001b[0mBraBase\u001b[0m\u001b[1;33m)\u001b[0m\u001b[1;33m:\u001b[0m\u001b[1;33m\u001b[0m\u001b[1;33m\u001b[0m\u001b[0m\n\u001b[0;32m     79\u001b[0m             \u001b[1;32mraise\u001b[0m \u001b[0mTypeError\u001b[0m\u001b[1;33m(\u001b[0m\u001b[1;34m'BraBase subclass expected, got: %r'\u001b[0m \u001b[1;33m%\u001b[0m \u001b[0mket\u001b[0m\u001b[1;33m)\u001b[0m\u001b[1;33m\u001b[0m\u001b[1;33m\u001b[0m\u001b[0m\n",
      "\u001b[1;31mTypeError\u001b[0m: KetBase subclass expected, got: array([[0, 0, 0, 0],\n       [0, 0, 0, 1],\n       [0, 0, 1, 0],\n       [0, 0, 1, 1],\n       [0, 1, 0, 0],\n       [0, 1, 0, 1],\n       [0, 1, 1, 0],\n       [0, 1, 1, 1],\n       [1, 0, 0, 0],\n       [1, 0, 0, 1],\n       [1, 0, 1, 0],\n       [1, 0, 1, 1],\n       [1, 1, 0, 0],\n       [1, 1, 0, 1],\n       [1, 1, 1, 0],\n       [1, 1, 1, 1]])"
     ]
    }
   ],
   "source": [
    "InnerProduct(vector_basis,basis_vector)"
   ]
  },
  {
   "cell_type": "code",
   "execution_count": 7,
   "id": "3c87e74e",
   "metadata": {},
   "outputs": [
    {
     "data": {
      "text/plain": [
       "array([[K, K],\n",
       "       [K, K]], dtype=object)"
      ]
     },
     "execution_count": 7,
     "metadata": {},
     "output_type": "execute_result"
    }
   ],
   "source": [
    "#np full returns array of given shape and type with fill_value\n",
    "# hopping amplitudes between sites. Generally an arbitrary-ish matrix I believe, for now constant\n",
    "K = np.full(fill_value=sp.symbols(\"K\"), shape=(n_sites, n_sites))\n",
    "# vector representing \"driving by a classical field\" for each site, constant for simplicity\n",
    "P = np.full(fill_value=sp.symbols(\"P\"), shape=(n_sites,))\n",
    "K"
   ]
  },
  {
   "cell_type": "code",
   "execution_count": 8,
   "id": "66ca87e4",
   "metadata": {},
   "outputs": [
    {
     "data": {
      "text/latex": [
       "$\\displaystyle \\left[\\begin{array}{cccccccccccccccc}0 & 0 & 0 & 0 & 0 & 0 & 0 & 0 & 0 & 0 & 0 & 0 & 0 & 0 & 0 & 0\\\\0 & 0 & 0 & 0 & 0 & 0 & 0 & 0 & 0 & 0 & 0 & 0 & 0 & 0 & 0 & 0\\\\0 & 0 & 0 & 0 & 0 & 0 & 0 & 0 & 0 & 0 & 0 & 0 & 0 & 0 & 0 & 0\\\\0 & 0 & 0 & 0 & 0 & 0 & 0 & 0 & 0 & 0 & 0 & 0 & 0 & 0 & 0 & 0\\\\0 & 0 & 0 & 0 & 0 & 0 & 0 & 0 & 0 & 0 & 0 & 0 & 0 & 0 & 0 & 0\\\\0 & 0 & 0 & 0 & 0 & 0 & 0 & 0 & 0 & 0 & 0 & 0 & 0 & 0 & 0 & 0\\\\0 & 0 & 0 & 0 & 0 & 0 & 0 & 0 & 0 & 0 & 0 & 0 & 0 & 0 & 0 & 0\\\\0 & 0 & 0 & 0 & 0 & 0 & 0 & 0 & 0 & 0 & 0 & 0 & 0 & 0 & 0 & 0\\\\0 & 0 & 0 & 0 & 0 & 0 & 0 & 0 & 0 & 0 & 0 & 0 & 0 & 0 & 0 & 0\\\\0 & 0 & 0 & 0 & 0 & 0 & 0 & 0 & 0 & 0 & 0 & 0 & 0 & 0 & 0 & 0\\\\0 & 0 & 0 & 0 & 0 & 0 & 0 & 0 & 0 & 0 & 0 & 0 & 0 & 0 & 0 & 0\\\\0 & 0 & 0 & 0 & 0 & 0 & 0 & 0 & 0 & 0 & 0 & 0 & 0 & 0 & 0 & 0\\\\0 & 0 & 0 & 0 & 0 & 0 & 0 & 0 & 0 & 0 & 0 & 0 & 0 & 0 & 0 & 0\\\\0 & 0 & 0 & 0 & 0 & 0 & 0 & 0 & 0 & 0 & 0 & 0 & 0 & 0 & 0 & 0\\\\0 & 0 & 0 & 0 & 0 & 0 & 0 & 0 & 0 & 0 & 0 & 0 & 0 & 0 & 0 & 0\\\\0 & 0 & 0 & 0 & 0 & 0 & 0 & 0 & 0 & 0 & 0 & 0 & 0 & 0 & 0 & 0\\end{array}\\right]$"
      ],
      "text/plain": [
       "Matrix([\n",
       "[0, 0, 0, 0, 0, 0, 0, 0, 0, 0, 0, 0, 0, 0, 0, 0],\n",
       "[0, 0, 0, 0, 0, 0, 0, 0, 0, 0, 0, 0, 0, 0, 0, 0],\n",
       "[0, 0, 0, 0, 0, 0, 0, 0, 0, 0, 0, 0, 0, 0, 0, 0],\n",
       "[0, 0, 0, 0, 0, 0, 0, 0, 0, 0, 0, 0, 0, 0, 0, 0],\n",
       "[0, 0, 0, 0, 0, 0, 0, 0, 0, 0, 0, 0, 0, 0, 0, 0],\n",
       "[0, 0, 0, 0, 0, 0, 0, 0, 0, 0, 0, 0, 0, 0, 0, 0],\n",
       "[0, 0, 0, 0, 0, 0, 0, 0, 0, 0, 0, 0, 0, 0, 0, 0],\n",
       "[0, 0, 0, 0, 0, 0, 0, 0, 0, 0, 0, 0, 0, 0, 0, 0],\n",
       "[0, 0, 0, 0, 0, 0, 0, 0, 0, 0, 0, 0, 0, 0, 0, 0],\n",
       "[0, 0, 0, 0, 0, 0, 0, 0, 0, 0, 0, 0, 0, 0, 0, 0],\n",
       "[0, 0, 0, 0, 0, 0, 0, 0, 0, 0, 0, 0, 0, 0, 0, 0],\n",
       "[0, 0, 0, 0, 0, 0, 0, 0, 0, 0, 0, 0, 0, 0, 0, 0],\n",
       "[0, 0, 0, 0, 0, 0, 0, 0, 0, 0, 0, 0, 0, 0, 0, 0],\n",
       "[0, 0, 0, 0, 0, 0, 0, 0, 0, 0, 0, 0, 0, 0, 0, 0],\n",
       "[0, 0, 0, 0, 0, 0, 0, 0, 0, 0, 0, 0, 0, 0, 0, 0],\n",
       "[0, 0, 0, 0, 0, 0, 0, 0, 0, 0, 0, 0, 0, 0, 0, 0]])"
      ]
     },
     "execution_count": 8,
     "metadata": {},
     "output_type": "execute_result"
    }
   ],
   "source": [
    "H_QN = sp.Matrix.zeros(2**n)\n",
    "H_QN"
   ]
  },
  {
   "cell_type": "code",
   "execution_count": 24,
   "id": "bf981c28",
   "metadata": {},
   "outputs": [
    {
     "name": "stdout",
     "output_type": "stream",
     "text": [
      "0 0\n",
      "0 1\n",
      "1 0\n",
      "1 1\n",
      "0 0\n",
      "0 1\n",
      "1 0\n",
      "1 1\n",
      "0 0\n",
      "0 1\n",
      "1 0\n",
      "1 1\n",
      "0 0\n",
      "0 1\n",
      "1 0\n",
      "1 1\n",
      "0 0\n",
      "0 1\n",
      "1 0\n",
      "1 1\n",
      "0 0\n",
      "0 1\n",
      "1 0\n",
      "1 1\n",
      "0 0\n",
      "0 1\n",
      "1 0\n",
      "1 1\n",
      "0 0\n",
      "0 1\n",
      "1 0\n",
      "1 1\n",
      "0 0\n",
      "0 1\n",
      "1 0\n",
      "1 1\n",
      "0 0\n",
      "0 1\n",
      "1 0\n",
      "1 1\n",
      "0 0\n",
      "0 1\n",
      "1 0\n",
      "1 1\n",
      "0 0\n",
      "0 1\n",
      "1 0\n",
      "1 1\n",
      "0 0\n",
      "0 1\n",
      "1 0\n",
      "1 1\n",
      "0 0\n",
      "0 1\n",
      "1 0\n",
      "1 1\n",
      "0 0\n",
      "0 1\n",
      "1 0\n",
      "1 1\n",
      "0 0\n",
      "0 1\n",
      "1 0\n",
      "1 1\n",
      "0 0\n",
      "0 1\n",
      "1 0\n",
      "1 1\n",
      "0 0\n",
      "0 1\n",
      "1 0\n",
      "1 1\n",
      "0 0\n",
      "0 1\n",
      "1 0\n",
      "1 1\n",
      "0 0\n",
      "0 1\n",
      "1 0\n",
      "1 1\n",
      "0 0\n",
      "0 1\n",
      "1 0\n",
      "1 1\n",
      "0 0\n",
      "0 1\n",
      "1 0\n",
      "1 1\n",
      "0 0\n",
      "0 1\n",
      "1 0\n",
      "1 1\n",
      "0 0\n",
      "0 1\n",
      "1 0\n",
      "1 1\n",
      "0 0\n",
      "0 1\n",
      "1 0\n",
      "1 1\n",
      "0 0\n",
      "0 1\n",
      "1 0\n",
      "1 1\n",
      "0 0\n",
      "0 1\n",
      "1 0\n",
      "1 1\n",
      "0 0\n",
      "0 1\n",
      "1 0\n",
      "1 1\n",
      "0 0\n",
      "0 1\n",
      "1 0\n",
      "1 1\n",
      "0 0\n",
      "0 1\n",
      "1 0\n",
      "1 1\n",
      "0 0\n",
      "0 1\n",
      "1 0\n",
      "1 1\n",
      "0 0\n",
      "0 1\n",
      "1 0\n",
      "1 1\n",
      "0 0\n",
      "0 1\n",
      "1 0\n",
      "1 1\n",
      "0 0\n",
      "0 1\n",
      "1 0\n",
      "1 1\n",
      "0 0\n",
      "0 1\n",
      "1 0\n",
      "1 1\n",
      "0 0\n",
      "0 1\n",
      "1 0\n",
      "1 1\n",
      "0 0\n",
      "0 1\n",
      "1 0\n",
      "1 1\n",
      "0 0\n",
      "0 1\n",
      "1 0\n",
      "1 1\n",
      "0 0\n",
      "0 1\n",
      "1 0\n",
      "1 1\n",
      "0 0\n",
      "0 1\n",
      "1 0\n",
      "1 1\n",
      "0 0\n",
      "0 1\n",
      "1 0\n",
      "1 1\n",
      "0 0\n",
      "0 1\n",
      "1 0\n",
      "1 1\n",
      "0 0\n",
      "0 1\n",
      "1 0\n",
      "1 1\n",
      "0 0\n",
      "0 1\n",
      "1 0\n",
      "1 1\n",
      "0 0\n",
      "0 1\n",
      "1 0\n",
      "1 1\n",
      "0 0\n",
      "0 1\n",
      "1 0\n",
      "1 1\n",
      "0 0\n",
      "0 1\n",
      "1 0\n",
      "1 1\n",
      "0 0\n",
      "0 1\n",
      "1 0\n",
      "1 1\n",
      "0 0\n",
      "0 1\n",
      "1 0\n",
      "1 1\n",
      "0 0\n",
      "0 1\n",
      "1 0\n",
      "1 1\n",
      "0 0\n",
      "0 1\n",
      "1 0\n",
      "1 1\n",
      "0 0\n",
      "0 1\n",
      "1 0\n",
      "1 1\n",
      "0 0\n",
      "0 1\n",
      "1 0\n",
      "1 1\n",
      "0 0\n",
      "0 1\n",
      "1 0\n",
      "1 1\n",
      "0 0\n",
      "0 1\n",
      "1 0\n",
      "1 1\n",
      "0 0\n",
      "0 1\n",
      "1 0\n",
      "1 1\n",
      "0 0\n",
      "0 1\n",
      "1 0\n",
      "1 1\n",
      "0 0\n",
      "0 1\n",
      "1 0\n",
      "1 1\n",
      "0 0\n",
      "0 1\n",
      "1 0\n",
      "1 1\n",
      "0 0\n",
      "0 1\n",
      "1 0\n",
      "1 1\n",
      "0 0\n",
      "0 1\n",
      "1 0\n",
      "1 1\n",
      "0 0\n",
      "0 1\n",
      "1 0\n",
      "1 1\n",
      "0 0\n",
      "0 1\n",
      "1 0\n",
      "1 1\n",
      "0 0\n",
      "0 1\n",
      "1 0\n",
      "1 1\n",
      "0 0\n",
      "0 1\n",
      "1 0\n",
      "1 1\n",
      "0 0\n",
      "0 1\n",
      "1 0\n",
      "1 1\n",
      "0 0\n",
      "0 1\n",
      "1 0\n",
      "1 1\n",
      "0 0\n",
      "0 1\n",
      "1 0\n",
      "1 1\n",
      "0 0\n",
      "0 1\n",
      "1 0\n",
      "1 1\n",
      "0 0\n",
      "0 1\n",
      "1 0\n",
      "1 1\n",
      "0 0\n",
      "0 1\n",
      "1 0\n",
      "1 1\n",
      "0 0\n",
      "0 1\n",
      "1 0\n",
      "1 1\n",
      "0 0\n",
      "0 1\n",
      "1 0\n",
      "1 1\n",
      "0 0\n",
      "0 1\n",
      "1 0\n",
      "1 1\n",
      "0 0\n",
      "0 1\n",
      "1 0\n",
      "1 1\n",
      "0 0\n",
      "0 1\n",
      "1 0\n",
      "1 1\n",
      "0 0\n",
      "0 1\n",
      "1 0\n",
      "1 1\n",
      "0 0\n",
      "0 1\n",
      "1 0\n",
      "1 1\n",
      "0 0\n",
      "0 1\n",
      "1 0\n",
      "1 1\n",
      "0 0\n",
      "0 1\n",
      "1 0\n",
      "1 1\n",
      "0 0\n",
      "0 1\n",
      "1 0\n",
      "1 1\n",
      "0 0\n",
      "0 1\n",
      "1 0\n",
      "1 1\n",
      "0 0\n",
      "0 1\n",
      "1 0\n",
      "1 1\n",
      "0 0\n",
      "0 1\n",
      "1 0\n",
      "1 1\n",
      "0 0\n",
      "0 1\n",
      "1 0\n",
      "1 1\n",
      "0 0\n",
      "0 1\n",
      "1 0\n",
      "1 1\n",
      "0 0\n",
      "0 1\n",
      "1 0\n",
      "1 1\n",
      "0 0\n",
      "0 1\n",
      "1 0\n",
      "1 1\n",
      "0 0\n",
      "0 1\n",
      "1 0\n",
      "1 1\n",
      "0 0\n",
      "0 1\n",
      "1 0\n",
      "1 1\n",
      "0 0\n",
      "0 1\n",
      "1 0\n",
      "1 1\n",
      "0 0\n",
      "0 1\n",
      "1 0\n",
      "1 1\n",
      "0 0\n",
      "0 1\n",
      "1 0\n",
      "1 1\n",
      "0 0\n",
      "0 1\n",
      "1 0\n",
      "1 1\n",
      "0 0\n",
      "0 1\n",
      "1 0\n",
      "1 1\n",
      "0 0\n",
      "0 1\n",
      "1 0\n",
      "1 1\n",
      "0 0\n",
      "0 1\n",
      "1 0\n",
      "1 1\n",
      "0 0\n",
      "0 1\n",
      "1 0\n",
      "1 1\n",
      "0 0\n",
      "0 1\n",
      "1 0\n",
      "1 1\n",
      "0 0\n",
      "0 1\n",
      "1 0\n",
      "1 1\n",
      "0 0\n",
      "0 1\n",
      "1 0\n",
      "1 1\n",
      "0 0\n",
      "0 1\n",
      "1 0\n",
      "1 1\n",
      "0 0\n",
      "0 1\n",
      "1 0\n",
      "1 1\n",
      "0 0\n",
      "0 1\n",
      "1 0\n",
      "1 1\n",
      "0 0\n",
      "0 1\n",
      "1 0\n",
      "1 1\n",
      "0 0\n",
      "0 1\n",
      "1 0\n",
      "1 1\n",
      "0 0\n",
      "0 1\n",
      "1 0\n",
      "1 1\n",
      "0 0\n",
      "0 1\n",
      "1 0\n",
      "1 1\n",
      "0 0\n",
      "0 1\n",
      "1 0\n",
      "1 1\n",
      "0 0\n",
      "0 1\n",
      "1 0\n",
      "1 1\n",
      "0 0\n",
      "0 1\n",
      "1 0\n",
      "1 1\n",
      "0 0\n",
      "0 1\n",
      "1 0\n",
      "1 1\n",
      "0 0\n",
      "0 1\n",
      "1 0\n",
      "1 1\n",
      "0 0\n",
      "0 1\n",
      "1 0\n",
      "1 1\n",
      "0 0\n",
      "0 1\n",
      "1 0\n",
      "1 1\n",
      "0 0\n",
      "0 1\n",
      "1 0\n",
      "1 1\n",
      "0 0\n",
      "0 1\n",
      "1 0\n",
      "1 1\n",
      "0 0\n",
      "0 1\n",
      "1 0\n",
      "1 1\n",
      "0 0\n",
      "0 1\n",
      "1 0\n",
      "1 1\n",
      "0 0\n",
      "0 1\n",
      "1 0\n",
      "1 1\n",
      "0 0\n",
      "0 1\n",
      "1 0\n",
      "1 1\n",
      "0 0\n",
      "0 1\n",
      "1 0\n",
      "1 1\n",
      "0 0\n",
      "0 1\n",
      "1 0\n",
      "1 1\n",
      "0 0\n",
      "0 1\n",
      "1 0\n",
      "1 1\n",
      "0 0\n",
      "0 1\n",
      "1 0\n",
      "1 1\n",
      "0 0\n",
      "0 1\n",
      "1 0\n",
      "1 1\n",
      "0 0\n",
      "0 1\n",
      "1 0\n",
      "1 1\n",
      "0 0\n",
      "0 1\n",
      "1 0\n",
      "1 1\n",
      "0 0\n",
      "0 1\n",
      "1 0\n",
      "1 1\n",
      "0 0\n",
      "0 1\n",
      "1 0\n",
      "1 1\n",
      "0 0\n",
      "0 1\n",
      "1 0\n",
      "1 1\n",
      "0 0\n",
      "0 1\n",
      "1 0\n",
      "1 1\n",
      "0 0\n",
      "0 1\n",
      "1 0\n",
      "1 1\n",
      "0 0\n",
      "0 1\n",
      "1 0\n",
      "1 1\n",
      "0 0\n",
      "0 1\n",
      "1 0\n",
      "1 1\n",
      "0 0\n",
      "0 1\n",
      "1 0\n",
      "1 1\n",
      "0 0\n",
      "0 1\n",
      "1 0\n",
      "1 1\n",
      "0 0\n",
      "0 1\n",
      "1 0\n",
      "1 1\n",
      "0 0\n",
      "0 1\n",
      "1 0\n",
      "1 1\n",
      "0 0\n",
      "0 1\n",
      "1 0\n",
      "1 1\n",
      "0 0\n",
      "0 1\n",
      "1 0\n",
      "1 1\n",
      "0 0\n",
      "0 1\n",
      "1 0\n",
      "1 1\n",
      "0 0\n",
      "0 1\n",
      "1 0\n",
      "1 1\n",
      "0 0\n",
      "0 1\n",
      "1 0\n",
      "1 1\n",
      "0 0\n",
      "0 1\n",
      "1 0\n",
      "1 1\n",
      "0 0\n",
      "0 1\n",
      "1 0\n",
      "1 1\n",
      "0 0\n",
      "0 1\n",
      "1 0\n",
      "1 1\n",
      "0 0\n",
      "0 1\n",
      "1 0\n",
      "1 1\n",
      "0 0\n",
      "0 1\n",
      "1 0\n",
      "1 1\n",
      "0 0\n",
      "0 1\n",
      "1 0\n",
      "1 1\n",
      "0 0\n",
      "0 1\n",
      "1 0\n",
      "1 1\n",
      "0 0\n",
      "0 1\n",
      "1 0\n",
      "1 1\n",
      "0 0\n",
      "0 1\n",
      "1 0\n",
      "1 1\n",
      "0 0\n",
      "0 1\n",
      "1 0\n",
      "1 1\n",
      "0 0\n",
      "0 1\n",
      "1 0\n",
      "1 1\n",
      "0 0\n",
      "0 1\n",
      "1 0\n",
      "1 1\n",
      "0 0\n",
      "0 1\n",
      "1 0\n",
      "1 1\n",
      "0 0\n",
      "0 1\n",
      "1 0\n",
      "1 1\n",
      "0 0\n",
      "0 1\n",
      "1 0\n",
      "1 1\n",
      "0 0\n",
      "0 1\n",
      "1 0\n",
      "1 1\n",
      "0 0\n",
      "0 1\n",
      "1 0\n",
      "1 1\n",
      "0 0\n",
      "0 1\n",
      "1 0\n",
      "1 1\n",
      "0 0\n",
      "0 1\n",
      "1 0\n",
      "1 1\n",
      "0 0\n",
      "0 1\n",
      "1 0\n",
      "1 1\n",
      "0 0\n",
      "0 1\n",
      "1 0\n",
      "1 1\n",
      "0 0\n",
      "0 1\n",
      "1 0\n",
      "1 1\n",
      "0 0\n",
      "0 1\n",
      "1 0\n",
      "1 1\n",
      "0 0\n",
      "0 1\n",
      "1 0\n",
      "1 1\n",
      "0 0\n",
      "0 1\n",
      "1 0\n",
      "1 1\n",
      "0 0\n",
      "0 1\n",
      "1 0\n",
      "1 1\n",
      "0 0\n",
      "0 1\n",
      "1 0\n",
      "1 1\n",
      "0 0\n",
      "0 1\n",
      "1 0\n",
      "1 1\n",
      "0 0\n",
      "0 1\n",
      "1 0\n",
      "1 1\n",
      "0 0\n",
      "0 1\n",
      "1 0\n",
      "1 1\n",
      "0 0\n",
      "0 1\n",
      "1 0\n",
      "1 1\n",
      "0 0\n",
      "0 1\n",
      "1 0\n",
      "1 1\n",
      "0 0\n",
      "0 1\n",
      "1 0\n",
      "1 1\n",
      "0 0\n",
      "0 1\n",
      "1 0\n",
      "1 1\n",
      "0 0\n",
      "0 1\n",
      "1 0\n",
      "1 1\n",
      "0 0\n",
      "0 1\n",
      "1 0\n",
      "1 1\n",
      "0 0\n",
      "0 1\n",
      "1 0\n",
      "1 1\n",
      "0 0\n",
      "0 1\n",
      "1 0\n",
      "1 1\n",
      "0 0\n",
      "0 1\n",
      "1 0\n",
      "1 1\n",
      "0 0\n",
      "0 1\n",
      "1 0\n",
      "1 1\n",
      "0 0\n",
      "0 1\n",
      "1 0\n",
      "1 1\n",
      "0 0\n",
      "0 1\n",
      "1 0\n",
      "1 1\n",
      "0 0\n",
      "0 1\n",
      "1 0\n",
      "1 1\n",
      "0 0\n",
      "0 1\n",
      "1 0\n",
      "1 1\n",
      "0 0\n",
      "0 1\n",
      "1 0\n",
      "1 1\n",
      "0 0\n",
      "0 1\n",
      "1 0\n",
      "1 1\n",
      "0 0\n",
      "0 1\n",
      "1 0\n",
      "1 1\n",
      "0 0\n",
      "0 1\n",
      "1 0\n",
      "1 1\n",
      "0 0\n",
      "0 1\n",
      "1 0\n",
      "1 1\n",
      "0 0\n",
      "0 1\n",
      "1 0\n",
      "1 1\n",
      "0 0\n",
      "0 1\n",
      "1 0\n",
      "1 1\n",
      "0 0\n",
      "0 1\n",
      "1 0\n",
      "1 1\n",
      "0 0\n",
      "0 1\n",
      "1 0\n",
      "1 1\n",
      "0 0\n",
      "0 1\n",
      "1 0\n",
      "1 1\n",
      "0 0\n",
      "0 1\n",
      "1 0\n",
      "1 1\n",
      "0 0\n",
      "0 1\n",
      "1 0\n",
      "1 1\n",
      "0 0\n",
      "0 1\n",
      "1 0\n",
      "1 1\n",
      "0 0\n",
      "0 1\n",
      "1 0\n",
      "1 1\n",
      "0 0\n",
      "0 1\n",
      "1 0\n",
      "1 1\n",
      "0 0\n",
      "0 1\n",
      "1 0\n",
      "1 1\n",
      "0 0\n",
      "0 1\n",
      "1 0\n",
      "1 1\n",
      "0 0\n",
      "0 1\n",
      "1 0\n",
      "1 1\n",
      "0 0\n",
      "0 1\n",
      "1 0\n",
      "1 1\n",
      "0 0\n",
      "0 1\n",
      "1 0\n",
      "1 1\n",
      "0 0\n",
      "0 1\n",
      "1 0\n",
      "1 1\n",
      "0 0\n",
      "0 1\n",
      "1 0\n",
      "1 1\n",
      "0 0\n",
      "0 1\n",
      "1 0\n",
      "1 1\n",
      "0 0\n",
      "0 1\n",
      "1 0\n",
      "1 1\n",
      "0 0\n",
      "0 1\n",
      "1 0\n",
      "1 1\n",
      "0 0\n",
      "0 1\n",
      "1 0\n",
      "1 1\n",
      "0 0\n",
      "0 1\n",
      "1 0\n",
      "1 1\n",
      "0 0\n",
      "0 1\n",
      "1 0\n",
      "1 1\n",
      "0 0\n",
      "0 1\n",
      "1 0\n",
      "1 1\n",
      "0 0\n",
      "0 1\n",
      "1 0\n",
      "1 1\n",
      "0 0\n",
      "0 1\n",
      "1 0\n",
      "1 1\n",
      "0 0\n",
      "0 1\n",
      "1 0\n",
      "1 1\n",
      "0 0\n",
      "0 1\n",
      "1 0\n",
      "1 1\n",
      "0 0\n",
      "0 1\n",
      "1 0\n",
      "1 1\n",
      "0 0\n",
      "0 1\n",
      "1 0\n",
      "1 1\n",
      "0 0\n",
      "0 1\n",
      "1 0\n",
      "1 1\n",
      "0 0\n",
      "0 1\n",
      "1 0\n",
      "1 1\n",
      "0 0\n",
      "0 1\n",
      "1 0\n",
      "1 1\n",
      "0 0\n",
      "0 1\n",
      "1 0\n",
      "1 1\n",
      "0 0\n",
      "0 1\n",
      "1 0\n",
      "1 1\n",
      "0 0\n",
      "0 1\n",
      "1 0\n",
      "1 1\n",
      "0 0\n",
      "0 1\n",
      "1 0\n",
      "1 1\n",
      "0 0\n",
      "0 1\n",
      "1 0\n",
      "1 1\n",
      "0 0\n",
      "0 1\n",
      "1 0\n",
      "1 1\n",
      "0 0\n",
      "0 1\n",
      "1 0\n",
      "1 1\n",
      "0 0\n",
      "0 1\n",
      "1 0\n",
      "1 1\n",
      "0 0\n",
      "0 1\n",
      "1 0\n",
      "1 1\n",
      "0 0\n",
      "0 1\n",
      "1 0\n",
      "1 1\n",
      "0 0\n",
      "0 1\n",
      "1 0\n",
      "1 1\n",
      "0 0\n",
      "0 1\n",
      "1 0\n",
      "1 1\n",
      "0 0\n",
      "0 1\n",
      "1 0\n",
      "1 1\n",
      "0 0\n",
      "0 1\n",
      "1 0\n",
      "1 1\n",
      "0 0\n",
      "0 1\n",
      "1 0\n",
      "1 1\n",
      "0 0\n",
      "0 1\n",
      "1 0\n",
      "1 1\n",
      "0 0\n",
      "0 1\n",
      "1 0\n",
      "1 1\n",
      "0 0\n",
      "0 1\n",
      "1 0\n",
      "1 1\n",
      "0 0\n",
      "0 1\n",
      "1 0\n",
      "1 1\n",
      "0 0\n",
      "0 1\n",
      "1 0\n",
      "1 1\n",
      "0 0\n",
      "0 1\n",
      "1 0\n",
      "1 1\n",
      "0 0\n",
      "0 1\n",
      "1 0\n",
      "1 1\n",
      "0 0\n",
      "0 1\n",
      "1 0\n",
      "1 1\n",
      "0 0\n",
      "0 1\n",
      "1 0\n",
      "1 1\n",
      "0 0\n",
      "0 1\n",
      "1 0\n",
      "1 1\n",
      "0 0\n",
      "0 1\n",
      "1 0\n",
      "1 1\n",
      "0 0\n",
      "0 1\n",
      "1 0\n",
      "1 1\n",
      "0 0\n",
      "0 1\n",
      "1 0\n",
      "1 1\n",
      "0 0\n",
      "0 1\n",
      "1 0\n",
      "1 1\n",
      "0 0\n",
      "0 1\n",
      "1 0\n",
      "1 1\n"
     ]
    }
   ],
   "source": [
    "a = np.array([[1, 2], [6, 4]])\n",
    "#for index, x in enumerate(a):\n",
    "    #print(index, x)\n",
    "\n",
    "for i, a_full in enumerate(basis_vectors):\n",
    "    a = a_full[n_qbits:] #all but the first two elements => [:n_qbits] all but last two elements perhaps -\n",
    "    \n",
    "    #print(a, \"\", basis_vectors[i])\n",
    "    for j, b_full in enumerate(basis_vectors):\n",
    "        b = b_full[n_qbits:] # only the site part\n",
    "        if i==j:\n",
    "            excited_in_both = (a.astype(bool) & b.astype(bool)).astype(int) #converts to boolean matrix\n",
    "            #print(excited_in_both, i, j, \" \", a)\n",
    "        for k, l in itertools.product(range(n_sites), repeat=2):  # equivalent to 2 nested loops over range(n)\n",
    "            print(k, l)\n",
    "            if a[k] and not b[k] and not a[l] and b[l]:\n",
    "                H_QN[i, j] += K[k, l]\n",
    "                "
   ]
  },
  {
   "cell_type": "code",
   "execution_count": 28,
   "id": "10b61622",
   "metadata": {},
   "outputs": [
    {
     "data": {
      "text/latex": [
       "$\\displaystyle \\left[\\begin{array}{cccccccccccccccc}0 & 0 & 0 & 0 & 0 & 0 & 0 & 0 & 0 & 0 & 0 & 0 & 0 & 0 & 0 & 0\\\\0 & 2 & K & 0 & 0 & 0 & K & 0 & 0 & 0 & K & 0 & 0 & 0 & K & 0\\\\0 & K & 1 & 0 & 0 & K & 0 & 0 & 0 & K & 0 & 0 & 0 & K & 0 & 0\\\\0 & 0 & 0 & 3 & 0 & 0 & 0 & 0 & 0 & 0 & 0 & 0 & 0 & 0 & 0 & 0\\\\0 & 0 & 0 & 0 & 0 & 0 & 0 & 0 & 0 & 0 & 0 & 0 & 0 & 0 & 0 & 0\\\\0 & 0 & K & 0 & 0 & 2 & K & 0 & 0 & 0 & K & 0 & 0 & 0 & K & 0\\\\0 & K & 0 & 0 & 0 & K & 1 & 0 & 0 & K & 0 & 0 & 0 & K & 0 & 0\\\\0 & 0 & 0 & 0 & 0 & 0 & 0 & 3 & 0 & 0 & 0 & 0 & 0 & 0 & 0 & 0\\\\0 & 0 & 0 & 0 & 0 & 0 & 0 & 0 & 0 & 0 & 0 & 0 & 0 & 0 & 0 & 0\\\\0 & 0 & K & 0 & 0 & 0 & K & 0 & 0 & 2 & K & 0 & 0 & 0 & K & 0\\\\0 & K & 0 & 0 & 0 & K & 0 & 0 & 0 & K & 1 & 0 & 0 & K & 0 & 0\\\\0 & 0 & 0 & 0 & 0 & 0 & 0 & 0 & 0 & 0 & 0 & 3 & 0 & 0 & 0 & 0\\\\0 & 0 & 0 & 0 & 0 & 0 & 0 & 0 & 0 & 0 & 0 & 0 & 0 & 0 & 0 & 0\\\\0 & 0 & K & 0 & 0 & 0 & K & 0 & 0 & 0 & K & 0 & 0 & 2 & K & 0\\\\0 & K & 0 & 0 & 0 & K & 0 & 0 & 0 & K & 0 & 0 & 0 & K & 1 & 0\\\\0 & 0 & 0 & 0 & 0 & 0 & 0 & 0 & 0 & 0 & 0 & 0 & 0 & 0 & 0 & 3\\end{array}\\right]$"
      ],
      "text/plain": [
       "Matrix([\n",
       "[0, 0, 0, 0, 0, 0, 0, 0, 0, 0, 0, 0, 0, 0, 0, 0],\n",
       "[0, 2, K, 0, 0, 0, K, 0, 0, 0, K, 0, 0, 0, K, 0],\n",
       "[0, K, 1, 0, 0, K, 0, 0, 0, K, 0, 0, 0, K, 0, 0],\n",
       "[0, 0, 0, 3, 0, 0, 0, 0, 0, 0, 0, 0, 0, 0, 0, 0],\n",
       "[0, 0, 0, 0, 0, 0, 0, 0, 0, 0, 0, 0, 0, 0, 0, 0],\n",
       "[0, 0, K, 0, 0, 2, K, 0, 0, 0, K, 0, 0, 0, K, 0],\n",
       "[0, K, 0, 0, 0, K, 1, 0, 0, K, 0, 0, 0, K, 0, 0],\n",
       "[0, 0, 0, 0, 0, 0, 0, 3, 0, 0, 0, 0, 0, 0, 0, 0],\n",
       "[0, 0, 0, 0, 0, 0, 0, 0, 0, 0, 0, 0, 0, 0, 0, 0],\n",
       "[0, 0, K, 0, 0, 0, K, 0, 0, 2, K, 0, 0, 0, K, 0],\n",
       "[0, K, 0, 0, 0, K, 0, 0, 0, K, 1, 0, 0, K, 0, 0],\n",
       "[0, 0, 0, 0, 0, 0, 0, 0, 0, 0, 0, 3, 0, 0, 0, 0],\n",
       "[0, 0, 0, 0, 0, 0, 0, 0, 0, 0, 0, 0, 0, 0, 0, 0],\n",
       "[0, 0, K, 0, 0, 0, K, 0, 0, 0, K, 0, 0, 2, K, 0],\n",
       "[0, K, 0, 0, 0, K, 0, 0, 0, K, 0, 0, 0, K, 1, 0],\n",
       "[0, 0, 0, 0, 0, 0, 0, 0, 0, 0, 0, 0, 0, 0, 0, 3]])"
      ]
     },
     "execution_count": 28,
     "metadata": {},
     "output_type": "execute_result"
    }
   ],
   "source": [
    "# since we're doing symbolic math, use a sympy matrix\n",
    "H_QN = sp.Matrix.zeros(2**n)\n",
    "for i, a_full in enumerate(basis_vectors):\n",
    "    a = a_full[n_qbits:] # only the site part\n",
    "    for j, b_full in enumerate(basis_vectors):\n",
    "        b = b_full[n_qbits:] # only the site part\n",
    "        \n",
    "        # we need to determine H_QN[i,j]\n",
    "        # It has three kinds of contributions\n",
    "        # first one is E_k when the kth position is excited in both, but only diagonally.\n",
    "        if i==j:\n",
    "            excited_in_both = (a.astype(bool) & b.astype(bool)).astype(int)\n",
    "            H_QN[i, j] += (E * excited_in_both).sum()\n",
    "        # second kind is K[k,l] when there's any \"transition\" where a[k] was 1, b[k] is 0, but a[l] was 0 and b[k] is 1.\n",
    "        # this can certainly be expressed as some numpy operation but it eludes my mind, so here's a dirty double Python loop for now:\n",
    "        for k, l in itertools.product(range(n_sites), repeat=2):  # equivalent to 2 nested loops over range(n)\n",
    "            if a[k] and not b[k] and not a[l] and b[l]:\n",
    "                H_QN[i, j] += K[k, l]\n",
    "H_QN   "
   ]
  },
  {
   "cell_type": "code",
   "execution_count": 17,
   "id": "9dde0075",
   "metadata": {},
   "outputs": [
    {
     "data": {
      "text/latex": [
       "$\\displaystyle \\left[\\begin{array}{cccccccccccccccc}0 & 0 & 0 & 0 & 0 & 0 & 0 & 0 & 0 & 0 & 0 & 0 & 0 & 0 & 0 & 0\\\\0 & 2 & K & 0 & 0 & 0 & K & 0 & 0 & 0 & K & 0 & 0 & 0 & K & 0\\\\0 & K & 1 & 0 & 0 & K & 0 & 0 & 0 & K & 0 & 0 & 0 & K & 0 & 0\\\\0 & 0 & 0 & 3 & 0 & 0 & 0 & 0 & 0 & 0 & 0 & 0 & 0 & 0 & 0 & 0\\\\0 & 0 & 0 & 0 & 0 & 0 & 0 & 0 & 0 & 0 & 0 & 0 & 0 & 0 & 0 & 0\\\\0 & 0 & K & 0 & 0 & 2 & K & 0 & 0 & 0 & K & 0 & 0 & 0 & K & 0\\\\0 & K & 0 & 0 & 0 & K & 1 & 0 & 0 & K & 0 & 0 & 0 & K & 0 & 0\\\\0 & 0 & 0 & 0 & 0 & 0 & 0 & 3 & 0 & 0 & 0 & 0 & 0 & 0 & 0 & 0\\\\0 & 0 & 0 & 0 & 0 & 0 & 0 & 0 & 0 & 0 & 0 & 0 & 0 & 0 & 0 & 0\\\\0 & 0 & K & 0 & 0 & 0 & K & 0 & 0 & 2 & K & 0 & 0 & 0 & K & 0\\\\0 & K & 0 & 0 & 0 & K & 0 & 0 & 0 & K & 1 & 0 & 0 & K & 0 & 0\\\\0 & 0 & 0 & 0 & 0 & 0 & 0 & 0 & 0 & 0 & 0 & 3 & 0 & 0 & 0 & 0\\\\0 & 0 & 0 & 0 & 0 & 0 & 0 & 0 & 0 & 0 & 0 & 0 & 0 & 0 & 0 & 0\\\\0 & 0 & K & 0 & 0 & 0 & K & 0 & 0 & 0 & K & 0 & 0 & 2 & K & 0\\\\0 & K & 0 & 0 & 0 & K & 0 & 0 & 0 & K & 0 & 0 & 0 & K & 1 & 0\\\\0 & 0 & 0 & 0 & 0 & 0 & 0 & 0 & 0 & 0 & 0 & 0 & 0 & 0 & 0 & 3\\end{array}\\right]$"
      ],
      "text/plain": [
       "Matrix([\n",
       "[0, 0, 0, 0, 0, 0, 0, 0, 0, 0, 0, 0, 0, 0, 0, 0],\n",
       "[0, 2, K, 0, 0, 0, K, 0, 0, 0, K, 0, 0, 0, K, 0],\n",
       "[0, K, 1, 0, 0, K, 0, 0, 0, K, 0, 0, 0, K, 0, 0],\n",
       "[0, 0, 0, 3, 0, 0, 0, 0, 0, 0, 0, 0, 0, 0, 0, 0],\n",
       "[0, 0, 0, 0, 0, 0, 0, 0, 0, 0, 0, 0, 0, 0, 0, 0],\n",
       "[0, 0, K, 0, 0, 2, K, 0, 0, 0, K, 0, 0, 0, K, 0],\n",
       "[0, K, 0, 0, 0, K, 1, 0, 0, K, 0, 0, 0, K, 0, 0],\n",
       "[0, 0, 0, 0, 0, 0, 0, 3, 0, 0, 0, 0, 0, 0, 0, 0],\n",
       "[0, 0, 0, 0, 0, 0, 0, 0, 0, 0, 0, 0, 0, 0, 0, 0],\n",
       "[0, 0, K, 0, 0, 0, K, 0, 0, 2, K, 0, 0, 0, K, 0],\n",
       "[0, K, 0, 0, 0, K, 0, 0, 0, K, 1, 0, 0, K, 0, 0],\n",
       "[0, 0, 0, 0, 0, 0, 0, 0, 0, 0, 0, 3, 0, 0, 0, 0],\n",
       "[0, 0, 0, 0, 0, 0, 0, 0, 0, 0, 0, 0, 0, 0, 0, 0],\n",
       "[0, 0, K, 0, 0, 0, K, 0, 0, 0, K, 0, 0, 2, K, 0],\n",
       "[0, K, 0, 0, 0, K, 0, 0, 0, K, 0, 0, 0, K, 1, 0],\n",
       "[0, 0, 0, 0, 0, 0, 0, 0, 0, 0, 0, 0, 0, 0, 0, 3]])"
      ]
     },
     "execution_count": 17,
     "metadata": {},
     "output_type": "execute_result"
    }
   ],
   "source": [
    "H_QN"
   ]
  },
  {
   "cell_type": "code",
   "execution_count": 16,
   "id": "4ff43d76",
   "metadata": {},
   "outputs": [
    {
     "data": {
      "text/latex": [
       "$\\displaystyle \\left[\\begin{matrix}0 & 0 & 0\\\\0 & 1 & 0\\\\0 & 0 & 2\\end{matrix}\\right]$"
      ],
      "text/plain": [
       "Matrix([\n",
       "[0, 0, 0],\n",
       "[0, 1, 0],\n",
       "[0, 0, 2]])"
      ]
     },
     "execution_count": 16,
     "metadata": {},
     "output_type": "execute_result"
    }
   ],
   "source": [
    "H_single = sp.Matrix.diag([0,1,2])\n",
    "H_single"
   ]
  },
  {
   "cell_type": "code",
   "execution_count": 13,
   "id": "433d0500",
   "metadata": {},
   "outputs": [
    {
     "data": {
      "text/latex": [
       "$\\displaystyle \\left[\\begin{matrix}1 & 0\\\\0 & 1\\end{matrix}\\right]$"
      ],
      "text/plain": [
       "Matrix([\n",
       "[1, 0],\n",
       "[0, 1]])"
      ]
     },
     "execution_count": 13,
     "metadata": {},
     "output_type": "execute_result"
    }
   ],
   "source": [
    "sp.eye(2)"
   ]
  },
  {
   "cell_type": "code",
   "execution_count": 14,
   "id": "3a8f0291",
   "metadata": {},
   "outputs": [],
   "source": [
    "from sympy.physics.quantum import TensorProduct"
   ]
  },
  {
   "cell_type": "code",
   "execution_count": 18,
   "id": "a9c23a52",
   "metadata": {},
   "outputs": [
    {
     "data": {
      "text/latex": [
       "$\\displaystyle \\left[\\begin{matrix}0 & 0 & 0 & 0 & 0 & 0\\\\0 & 1 & 0 & 0 & 0 & 0\\\\0 & 0 & 2 & 0 & 0 & 0\\\\0 & 0 & 0 & 0 & 0 & 0\\\\0 & 0 & 0 & 0 & 1 & 0\\\\0 & 0 & 0 & 0 & 0 & 2\\end{matrix}\\right]$"
      ],
      "text/plain": [
       "Matrix([\n",
       "[0, 0, 0, 0, 0, 0],\n",
       "[0, 1, 0, 0, 0, 0],\n",
       "[0, 0, 2, 0, 0, 0],\n",
       "[0, 0, 0, 0, 0, 0],\n",
       "[0, 0, 0, 0, 1, 0],\n",
       "[0, 0, 0, 0, 0, 2]])"
      ]
     },
     "execution_count": 18,
     "metadata": {},
     "output_type": "execute_result"
    }
   ],
   "source": [
    "TensorProduct(sp.eye(2), H_single )"
   ]
  },
  {
   "cell_type": "code",
   "execution_count": 19,
   "id": "b9951510",
   "metadata": {},
   "outputs": [
    {
     "data": {
      "text/latex": [
       "$\\displaystyle \\left[\\begin{matrix}0 & 0 & 0 & 0 & 0 & 0\\\\0 & 0 & 0 & 0 & 0 & 0\\\\0 & 0 & 1 & 0 & 0 & 0\\\\0 & 0 & 0 & 1 & 0 & 0\\\\0 & 0 & 0 & 0 & 2 & 0\\\\0 & 0 & 0 & 0 & 0 & 2\\end{matrix}\\right]$"
      ],
      "text/plain": [
       "Matrix([\n",
       "[0, 0, 0, 0, 0, 0],\n",
       "[0, 0, 0, 0, 0, 0],\n",
       "[0, 0, 1, 0, 0, 0],\n",
       "[0, 0, 0, 1, 0, 0],\n",
       "[0, 0, 0, 0, 2, 0],\n",
       "[0, 0, 0, 0, 0, 2]])"
      ]
     },
     "execution_count": 19,
     "metadata": {},
     "output_type": "execute_result"
    }
   ],
   "source": [
    "TensorProduct(H_single, sp.eye(2) )"
   ]
  },
  {
   "cell_type": "code",
   "execution_count": 22,
   "id": "0f62f636",
   "metadata": {},
   "outputs": [],
   "source": [
    "sp.init_printing()"
   ]
  },
  {
   "cell_type": "markdown",
   "id": "523da2d3",
   "metadata": {},
   "source": [
    "$$\n",
    "R =  R_1 \\otimes I + I \\otimes R_2 + K(a^\\dagger  \\otimes a + a  \\otimes a^\\dagger)\n",
    "$$"
   ]
  },
  {
   "cell_type": "code",
   "execution_count": 41,
   "id": "34416d25",
   "metadata": {},
   "outputs": [],
   "source": [
    "from sympy.physics.quantum import TensorProduct\n",
    "import sympy as sp"
   ]
  },
  {
   "cell_type": "code",
   "execution_count": 57,
   "id": "e79f5a4e",
   "metadata": {},
   "outputs": [
    {
     "data": {
      "image/png": "[encoded data removed]",
      "text/latex": [
       "$\\displaystyle \\left( \\left[\\begin{matrix}0 & \\overline{P_{1}}\\\\P_{1} & E_{1}\\end{matrix}\\right], \\  \\left[\\begin{matrix}0 & \\overline{P_{2}}\\\\P_{2} & E_{2}\\end{matrix}\\right], \\  \\left[\\begin{matrix}0 & 0\\\\1 & 0\\end{matrix}\\right], \\  \\left[\\begin{matrix}0 & 1\\\\0 & 0\\end{matrix}\\right]\\right)$"
      ],
      "text/plain": [
       "⎛⎡    __⎤  ⎡    __⎤                ⎞\n",
       "⎜⎢0   P₁⎥  ⎢0   P₂⎥  ⎡0  0⎤  ⎡0  1⎤⎟\n",
       "⎜⎢      ⎥, ⎢      ⎥, ⎢    ⎥, ⎢    ⎥⎟\n",
       "⎝⎣P₁  E₁⎦  ⎣P₂  E₂⎦  ⎣1  0⎦  ⎣0  0⎦⎠"
      ]
     },
     "execution_count": 57,
     "metadata": {},
     "output_type": "execute_result"
    }
   ],
   "source": [
    "E1,E2, K, P1, P2 = sp.symbols(\"E_1 E_2 K P_1 P_2\")\n",
    "R1 =  sp.Matrix([[0,P1.conjugate()],[P1, E1]])\n",
    "R2 =  sp.Matrix([[0,P2.conjugate()],[P2, E2]])\n",
    "\n",
    "a_dagger = sp.Matrix([[0,0],[1,0]])\n",
    "R1, R2, a_dagger , a_dagger.T"
   ]
  },
  {
   "cell_type": "code",
   "execution_count": 58,
   "id": "cbb94d27",
   "metadata": {},
   "outputs": [
    {
     "data": {
      "image/png": "[encoded data removed]",
      "text/latex": [
       "$\\displaystyle \\left[\\begin{matrix}0 & 0 & 0 & 0\\\\0 & 0 & 0 & 0\\\\0 & K & 0 & 0\\\\0 & 0 & 0 & 0\\end{matrix}\\right]$"
      ],
      "text/plain": [
       "⎡0  0  0  0⎤\n",
       "⎢          ⎥\n",
       "⎢0  0  0  0⎥\n",
       "⎢          ⎥\n",
       "⎢0  K  0  0⎥\n",
       "⎢          ⎥\n",
       "⎣0  0  0  0⎦"
      ]
     },
     "execution_count": 58,
     "metadata": {},
     "output_type": "execute_result"
    }
   ],
   "source": [
    "# a^\\dagger \\otensor a\n",
    "a_21 =  K *TensorProduct(a_dagger, a_dagger.T)\n",
    "a_21"
   ]
  },
  {
   "cell_type": "code",
   "execution_count": 59,
   "id": "5a371882",
   "metadata": {},
   "outputs": [
    {
     "data": {
      "image/png": "[encoded data removed]",
      "text/latex": [
       "$\\displaystyle \\left[\\begin{matrix}0 & \\overline{P_{2}} & \\overline{P_{1}} & 0\\\\P_{2} & E_{2} & \\overline{K} & \\overline{P_{1}}\\\\P_{1} & K & E_{1} & \\overline{P_{2}}\\\\0 & P_{1} & P_{2} & E_{1} + E_{2}\\end{matrix}\\right]$"
      ],
      "text/plain": [
       "⎡    __  __         ⎤\n",
       "⎢0   P₂  P₁     0   ⎥\n",
       "⎢                   ⎥\n",
       "⎢        _     __   ⎥\n",
       "⎢P₂  E₂  K     P₁   ⎥\n",
       "⎢                   ⎥\n",
       "⎢              __   ⎥\n",
       "⎢P₁  K   E₁    P₂   ⎥\n",
       "⎢                   ⎥\n",
       "⎣0   P₁  P₂  E₁ + E₂⎦"
      ]
     },
     "execution_count": 59,
     "metadata": {},
     "output_type": "execute_result"
    }
   ],
   "source": [
    "I_2 = sp.eye(2)\n",
    "R = TensorProduct(R1,I_2) + TensorProduct(I_2, R2) +  (a_21 + a_21.H)\n",
    "R"
   ]
  },
  {
   "cell_type": "code",
   "execution_count": 68,
   "id": "da9201dc",
   "metadata": {},
   "outputs": [
    {
     "data": {
      "image/png": "[encoded data removed]",
      "text/latex": [
       "$\\displaystyle \\left[\\begin{matrix}0 & 0 & 0 & 0\\\\0 & 0 & 0 & 0\\\\0 & 0 & 0 & 0\\\\0 & 0 & 0 & 0\\end{matrix}\\right]$"
      ],
      "text/plain": [
       "⎡0  0  0  0⎤\n",
       "⎢          ⎥\n",
       "⎢0  0  0  0⎥\n",
       "⎢          ⎥\n",
       "⎢0  0  0  0⎥\n",
       "⎢          ⎥\n",
       "⎣0  0  0  0⎦"
      ]
     },
     "execution_count": 68,
     "metadata": {},
     "output_type": "execute_result"
    }
   ],
   "source": [
    "C1 = sp.Matrix.diag([0,0])\n",
    "C2 = sp.Matrix.diag([0,0])\n",
    "CH = TensorProduct(C1 , I_2 ) + TensorProduct(I_2 , C2 )\n",
    "CH"
   ]
  },
  {
   "cell_type": "code",
   "execution_count": 69,
   "id": "6401a8b7",
   "metadata": {},
   "outputs": [
    {
     "data": {
      "image/png": "[encoded data removed]",
      "text/latex": [
       "$\\displaystyle \\left[\\begin{array}{cccccccccccccccc}0 & \\overline{P_{2}} & \\overline{P_{1}} & 0 & 0 & 0 & 0 & 0 & 0 & 0 & 0 & 0 & 0 & 0 & 0 & 0\\\\P_{2} & E_{2} & \\overline{K} & \\overline{P_{1}} & 0 & 0 & 0 & 0 & 0 & 0 & 0 & 0 & 0 & 0 & 0 & 0\\\\P_{1} & K & E_{1} & \\overline{P_{2}} & 0 & 0 & 0 & 0 & 0 & 0 & 0 & 0 & 0 & 0 & 0 & 0\\\\0 & P_{1} & P_{2} & E_{1} + E_{2} & 0 & 0 & 0 & 0 & 0 & 0 & 0 & 0 & 0 & 0 & 0 & 0\\\\0 & 0 & 0 & 0 & 0 & \\overline{P_{2}} & \\overline{P_{1}} & 0 & 0 & 0 & 0 & 0 & 0 & 0 & 0 & 0\\\\0 & 0 & 0 & 0 & P_{2} & E_{2} & \\overline{K} & \\overline{P_{1}} & 0 & 0 & 0 & 0 & 0 & 0 & 0 & 0\\\\0 & 0 & 0 & 0 & P_{1} & K & E_{1} & \\overline{P_{2}} & 0 & 0 & 0 & 0 & 0 & 0 & 0 & 0\\\\0 & 0 & 0 & 0 & 0 & P_{1} & P_{2} & E_{1} + E_{2} & 0 & 0 & 0 & 0 & 0 & 0 & 0 & 0\\\\0 & 0 & 0 & 0 & 0 & 0 & 0 & 0 & 0 & \\overline{P_{2}} & \\overline{P_{1}} & 0 & 0 & 0 & 0 & 0\\\\0 & 0 & 0 & 0 & 0 & 0 & 0 & 0 & P_{2} & E_{2} & \\overline{K} & \\overline{P_{1}} & 0 & 0 & 0 & 0\\\\0 & 0 & 0 & 0 & 0 & 0 & 0 & 0 & P_{1} & K & E_{1} & \\overline{P_{2}} & 0 & 0 & 0 & 0\\\\0 & 0 & 0 & 0 & 0 & 0 & 0 & 0 & 0 & P_{1} & P_{2} & E_{1} + E_{2} & 0 & 0 & 0 & 0\\\\0 & 0 & 0 & 0 & 0 & 0 & 0 & 0 & 0 & 0 & 0 & 0 & 0 & \\overline{P_{2}} & \\overline{P_{1}} & 0\\\\0 & 0 & 0 & 0 & 0 & 0 & 0 & 0 & 0 & 0 & 0 & 0 & P_{2} & E_{2} & \\overline{K} & \\overline{P_{1}}\\\\0 & 0 & 0 & 0 & 0 & 0 & 0 & 0 & 0 & 0 & 0 & 0 & P_{1} & K & E_{1} & \\overline{P_{2}}\\\\0 & 0 & 0 & 0 & 0 & 0 & 0 & 0 & 0 & 0 & 0 & 0 & 0 & P_{1} & P_{2} & E_{1} + E_{2}\\end{array}\\right]$"
      ],
      "text/plain": [
       "⎡    __  __                                                                        ⎤\n",
       "⎢0   P₂  P₁     0     0   0   0      0     0   0   0      0     0   0   0      0   ⎥\n",
       "⎢                                                                                  ⎥\n",
       "⎢        _     __                                                                  ⎥\n",
       "⎢P₂  E₂  K     P₁     0   0   0      0     0   0   0      0     0   0   0      0   ⎥\n",
       "⎢                                                                                  ⎥\n",
       "⎢              __                                                                  ⎥\n",
       "⎢P₁  K   E₁    P₂     0   0   0      0     0   0   0      0     0   0   0      0   ⎥\n",
       "⎢                                                                                  ⎥\n",
       "⎢0   P₁  P₂  E₁ + E₂  0   0   0      0     0   0   0      0     0   0   0      0   ⎥\n",
       "⎢                                                                                  ⎥\n",
       "⎢                         __  __                                                   ⎥\n",
       "⎢0   0   0      0     0   P₂  P₁     0     0   0   0      0     0   0   0      0   ⎥\n",
       "⎢                                                                                  ⎥\n",
       "⎢                             _     __                                             ⎥\n",
       "⎢0   0   0      0     P₂  E₂  K     P₁     0   0   0      0     0   0   0      0   ⎥\n",
       "⎢                                                                                  ⎥\n",
       "⎢                                   __                                             ⎥\n",
       "⎢0   0   0      0     P₁  K   E₁    P₂     0   0   0      0     0   0   0      0   ⎥\n",
       "⎢                                                                                  ⎥\n",
       "⎢0   0   0      0     0   P₁  P₂  E₁ + E₂  0   0   0      0     0   0   0      0   ⎥\n",
       "⎢                                                                                  ⎥\n",
       "⎢                                              __  __                              ⎥\n",
       "⎢0   0   0      0     0   0   0      0     0   P₂  P₁     0     0   0   0      0   ⎥\n",
       "⎢                                                                                  ⎥\n",
       "⎢                                                  _     __                        ⎥\n",
       "⎢0   0   0      0     0   0   0      0     P₂  E₂  K     P₁     0   0   0      0   ⎥\n",
       "⎢                                                                                  ⎥\n",
       "⎢                                                        __                        ⎥\n",
       "⎢0   0   0      0     0   0   0      0     P₁  K   E₁    P₂     0   0   0      0   ⎥\n",
       "⎢                                                                                  ⎥\n",
       "⎢0   0   0      0     0   0   0      0     0   P₁  P₂  E₁ + E₂  0   0   0      0   ⎥\n",
       "⎢                                                                                  ⎥\n",
       "⎢                                                                   __  __         ⎥\n",
       "⎢0   0   0      0     0   0   0      0     0   0   0      0     0   P₂  P₁     0   ⎥\n",
       "⎢                                                                                  ⎥\n",
       "⎢                                                                       _     __   ⎥\n",
       "⎢0   0   0      0     0   0   0      0     0   0   0      0     P₂  E₂  K     P₁   ⎥\n",
       "⎢                                                                                  ⎥\n",
       "⎢                                                                             __   ⎥\n",
       "⎢0   0   0      0     0   0   0      0     0   0   0      0     P₁  K   E₁    P₂   ⎥\n",
       "⎢                                                                                  ⎥\n",
       "⎣0   0   0      0     0   0   0      0     0   0   0      0     0   P₁  P₂  E₁ + E₂⎦"
      ]
     },
     "execution_count": 69,
     "metadata": {},
     "output_type": "execute_result"
    }
   ],
   "source": [
    "I_4 = TensorProduct(I_2, I_2)\n",
    "TensorProduct(CH , I_4) + TensorProduct(I_4, R)"
   ]
  },
  {
   "cell_type": "code",
   "execution_count": null,
   "id": "ab6de9cc",
   "metadata": {},
   "outputs": [],
   "source": []
  }
 ],
 "metadata": {
  "kernelspec": {
   "display_name": "Python 3 (ipykernel)",
   "language": "python",
   "name": "python3"
  },
  "language_info": {
   "codemirror_mode": {
    "name": "ipython",
    "version": 3
   },
   "file_extension": ".py",
   "mimetype": "text/x-python",
   "name": "python",
   "nbconvert_exporter": "python",
   "pygments_lexer": "ipython3",
   "version": "3.10.9"
  }
 },
 "nbformat": 4,
 "nbformat_minor": 5
}
