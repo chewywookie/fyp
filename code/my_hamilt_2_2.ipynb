{
 "cells": [
  {
   "cell_type": "code",
   "execution_count": 2,
   "id": "3ca726b4",
   "metadata": {},
   "outputs": [
    {
     "ename": "NameError",
     "evalue": "name 'jupyter' is not defined",
     "output_type": "error",
     "traceback": [
      "\u001b[1;31m---------------------------------------------------------------------------\u001b[0m",
      "\u001b[1;31mNameError\u001b[0m                                 Traceback (most recent call last)",
      "\u001b[1;32m~\\AppData\\Local\\Temp/ipykernel_20144/1313978504.py\u001b[0m in \u001b[0;36m<module>\u001b[1;34m\u001b[0m\n\u001b[1;32m----> 1\u001b[1;33m \u001b[0mjupyter\u001b[0m \u001b[1;33m-\u001b[0m\u001b[1;33m-\u001b[0m\u001b[0mpaths\u001b[0m\u001b[1;33m\u001b[0m\u001b[1;33m\u001b[0m\u001b[0m\n\u001b[0m",
      "\u001b[1;31mNameError\u001b[0m: name 'jupyter' is not defined"
     ]
    }
   ],
   "source": [
    "jupyter --paths"
   ]
  },
  {
   "cell_type": "code",
   "execution_count": 1,
   "id": "3d6d664b",
   "metadata": {},
   "outputs": [],
   "source": [
    "%matplotlib inline \n",
    "#outputs figures one cell below when called\n",
    "import numpy as np\n",
    "import matplotlib.pyplot as plt\n",
    "from IPython.display import display\n",
    "import sympy as sp \n",
    "from sympy.physics.quantum import TensorProduct\n",
    "sp.init_printing()\n"
   ]
  },
  {
   "cell_type": "markdown",
   "id": "601c3748",
   "metadata": {},
   "source": [
    "# The Hamiltonian Matrix of a 2+2 system\n",
    "A system, composed of two subsystems, the Quantum Network (QN) and the Computational Layer (CL), contains 2 reservoir qubits, coupled with eachother, interacting with computational qubits, through quantum tunneling. The general Hamiltonian of the QN of $l$ sites, is given as:\n",
    "$$\n",
    "\\begin{equation}\n",
    "\\hat{H}_{QN} = \\sum_lE_l\\hat{a}_l^\\dagger\\hat{a}_l + \\sum_{ll'}K_{ll'}(\\hat{a}_l^\\dagger\\hat{a}_{l'}+ \\hat{a}_{l'}^\\dagger\\hat{a}_l) + \\sum_l(P_l^*\\hat{a}_l + P_l\\hat{a}_l^\\dagger)\n",
    "%|\\psi_{qb}\\rangle $\\eqref{eq:hqn}$\n",
    "\\label{eq:hqn} \\tag{1}\n",
    "\\end{equation}\n",
    "$$\n"
   ]
  },
  {
   "cell_type": "markdown",
   "id": "3953f105",
   "metadata": {},
   "source": [
    "Where $E$ is the onsite energies of the states of the QN qubits. The $K$ terms define the so called hopping terms, which translates the state at one site to the other. Finally, the classical field excitation, $P$, is induced into the QN, which simulates a quantum operation. From $\\eqref{eq:hqn}$, we see $H_{QN}$ is hermitian."
   ]
  },
  {
   "cell_type": "markdown",
   "id": "8f848c25",
   "metadata": {},
   "source": [
    "For the CL subsystem, the general hermertian Hamiltonian, for the $k^{th}$ qubit acting on $l^{th}$ site, is represented as follows: \n",
    "$$\n",
    "\\begin{equation}\n",
    "\\hat{H}_{CL} = \\sum_{kl}(J_{kl}^*\\hat{\\sigma}_k^+\\hat{a}_l + J_{kl}\\hat{a}_l^\\dagger\\hat{\\sigma}_k^-) \n",
    "%|\\psi_{qb}\\rangle $\\eqref{eq:hqn}$\n",
    "\\label{eq:hcn} \\tag{2}\n",
    "\\end{equation}\n",
    "$$"
   ]
  },
  {
   "cell_type": "markdown",
   "id": "56bc3c01",
   "metadata": {},
   "source": [
    "Where the $J$ terms indicate the computational qubits (represented by $k$) entanglement between the QN qubits (represented by $l$). The pauli matrices are given as follows: \n",
    "\n",
    "$$\n",
    "\\begin{equation}\n",
    "\\sigma_k^{\\pm} = \\frac{1}{2}(\\sigma_k^x \\mp i\\sigma_k^y)\\newline\n",
    "\\sigma_k^{\\pm} = \\frac{1}{2}\\left(\\left(\\begin{array}{cc}\n",
    "0 & 1\\\\\n",
    "1 & 0\n",
    "\\end{array}\\right) \\mp i\\left(\\begin{array}{cc}\n",
    "0 & -i\\\\\n",
    "i & 0\n",
    "\\end{array}\\right)\\right)\\newline\n",
    "\\end{equation}\n",
    "$$\n",
    "where\n",
    "$$\n",
    "\\begin{equation}\n",
    "\\sigma_k^{-} = \\left(\\begin{array}{cc}\n",
    "0 & 1\\\\\n",
    "0 & 0\n",
    "\\end{array}\\right)\\newline\n",
    "\\&\\newline\n",
    "\\sigma_k^{+} = \\left(\\begin{array}{cc}\n",
    "0 & 0\\\\\n",
    "1 & 0\n",
    "\\end{array}\\right)\n",
    "%|\\psi_{qb}\\rangle $\\eqref{eq:hqn}$\n",
    "\\label{eq:pauli} \\tag{3}\n",
    "\\end{equation}\n",
    "$$\n"
   ]
  },
  {
   "cell_type": "markdown",
   "id": "0386eb31",
   "metadata": {},
   "source": [
    "where, the basis is taken as:\n",
    "$$\n",
    "\\begin{equation}\n",
    "\\newline\n",
    "|g\\rangle = \\left(\\begin{array}{cc}\n",
    "1\\\\\n",
    "0\n",
    "\\end{array}\\right)\n",
    "\\&\\\n",
    "|e\\rangle = \\left(\\begin{array}{cc}\n",
    "0\\\\\n",
    "1\n",
    "\\end{array}\\right)\n",
    "\\label{eq:adag} \\tag{4}\n",
    "\\end{equation}\n",
    "$$"
   ]
  },
  {
   "cell_type": "markdown",
   "id": "668a53ae",
   "metadata": {},
   "source": [
    "and the full wavefunction (total hamiltonian follows same property) of an N+N system is:\n",
    "$$\n",
    "\\begin{equation}\n",
    "\\newline\n",
    "|\\psi\\rangle = |Q_{c1}\\rangle \\otimes |Q_{c2}\\rangle \\otimes |Q_{c3}\\rangle \\otimes...|Q_{r1}\\rangle \\otimes |Q_{r2}\\rangle \\otimes |Q_{r3}\\rangle \\otimes ...|Q_{rN}\\rangle \n",
    "\\label{eq:wavefn} \\tag{5}\n",
    "\\end{equation}\n",
    "$$"
   ]
  },
  {
   "cell_type": "markdown",
   "id": "1ad81ffc",
   "metadata": {},
   "source": [
    "The total Hamiltonian of our system is then:\n",
    "$\n",
    "\\begin{equation}\n",
    "\\hat{H} = \\sum_lE_l\\hat{a}_l^\\dagger\\hat{a}_l + \\sum_{ll'}K_{ll'}(\\hat{a}_l^\\dagger\\hat{a}_{l'}+ \\hat{a}_{l'}^\\dagger\\hat{a}_l) + \\sum_l(P_l^*\\hat{a}_l + P_l\\hat{a}_l^\\dagger) + \\sum_{kl}(J_{kl}^*\\sigma_k^{+}\\hat{a}_l + J_{kl}\\hat{a}_l^\\dagger\\sigma_k^{-})\n",
    "\\label{eq:h}\n",
    "\\end{equation}\n",
    "$"
   ]
  },
  {
   "cell_type": "code",
   "execution_count": 4,
   "id": "8eea33a1",
   "metadata": {},
   "outputs": [
    {
     "data": {
      "text/latex": [
       "$\\displaystyle \\left[\\begin{matrix}0 & 0 & 0 & 0\\\\0 & 0 & 0 & 0\\\\0 & 0 & 0 & 0\\\\0 & 0 & 0 & 2\\end{matrix}\\right]$"
      ],
      "text/plain": [
       "⎡0  0  0  0⎤\n",
       "⎢          ⎥\n",
       "⎢0  0  0  0⎥\n",
       "⎢          ⎥\n",
       "⎢0  0  0  0⎥\n",
       "⎢          ⎥\n",
       "⎣0  0  0  2⎦"
      ]
     },
     "execution_count": 4,
     "metadata": {},
     "output_type": "execute_result"
    }
   ],
   "source": [
    "c = sp.Matrix([[0,0],\n",
    "          [0,1]])\n",
    "d = sp.Matrix([[0,0],\n",
    "          [0,2]])\n",
    "e = sp.Matrix([[1,0],\n",
    "          [0,2]])\n",
    "I = sp.eye(1)\n",
    "#TensorProduct(TensorProduct(c,I),TensorProduct(I,d))\n",
    "TensorProduct(TensorProduct(c,d))"
   ]
  },
  {
   "cell_type": "code",
   "execution_count": 5,
   "id": "5c478650",
   "metadata": {},
   "outputs": [
    {
     "data": {
      "text/latex": [
       "$\\displaystyle \\left( \\left[\\begin{matrix}0 & 0 & 0\\\\0 & 1 & 0\\\\0 & 0 & 2\\end{matrix}\\right], \\  \\left[\\begin{matrix}1 & 0 & 0 & 0\\\\0 & 1 & 0 & 0\\\\0 & 0 & 1 & 0\\\\0 & 0 & 0 & 1\\end{matrix}\\right]\\right)$"
      ],
      "text/plain": [
       "⎛           ⎡1  0  0  0⎤⎞\n",
       "⎜⎡0  0  0⎤  ⎢          ⎥⎟\n",
       "⎜⎢       ⎥  ⎢0  1  0  0⎥⎟\n",
       "⎜⎢0  1  0⎥, ⎢          ⎥⎟\n",
       "⎜⎢       ⎥  ⎢0  0  1  0⎥⎟\n",
       "⎜⎣0  0  2⎦  ⎢          ⎥⎟\n",
       "⎝           ⎣0  0  0  1⎦⎠"
      ]
     },
     "execution_count": 5,
     "metadata": {},
     "output_type": "execute_result"
    }
   ],
   "source": [
    "H_single = sp.Matrix.diag([0,1,2])\n",
    "I = sp.eye(2) #2+2 system\n",
    "def Id(n):\n",
    "    return sp.eye(n)\n",
    "H_single, Id(4)"
   ]
  },
  {
   "cell_type": "code",
   "execution_count": 6,
   "id": "494b62e1",
   "metadata": {},
   "outputs": [
    {
     "data": {
      "text/latex": [
       "$\\displaystyle \\left[\\begin{matrix}0 & 0 & 0 & 0 & 0 & 0\\\\0 & 1 & 0 & 0 & 0 & 0\\\\0 & 0 & 2 & 0 & 0 & 0\\\\0 & 0 & 0 & 0 & 0 & 0\\\\0 & 0 & 0 & 0 & 1 & 0\\\\0 & 0 & 0 & 0 & 0 & 2\\end{matrix}\\right]$"
      ],
      "text/plain": [
       "⎡0  0  0  0  0  0⎤\n",
       "⎢                ⎥\n",
       "⎢0  1  0  0  0  0⎥\n",
       "⎢                ⎥\n",
       "⎢0  0  2  0  0  0⎥\n",
       "⎢                ⎥\n",
       "⎢0  0  0  0  0  0⎥\n",
       "⎢                ⎥\n",
       "⎢0  0  0  0  1  0⎥\n",
       "⎢                ⎥\n",
       "⎣0  0  0  0  0  2⎦"
      ]
     },
     "execution_count": 6,
     "metadata": {},
     "output_type": "execute_result"
    }
   ],
   "source": [
    "TensorProduct(I,H_single)"
   ]
  },
  {
   "cell_type": "code",
   "execution_count": 7,
   "id": "44b68569",
   "metadata": {},
   "outputs": [
    {
     "data": {
      "text/latex": [
       "$\\displaystyle \\left[\\begin{matrix}0 & 0 & 0 & 0 & 0 & 0\\\\0 & 0 & 0 & 0 & 0 & 0\\\\0 & 0 & 1 & 0 & 0 & 0\\\\0 & 0 & 0 & 1 & 0 & 0\\\\0 & 0 & 0 & 0 & 2 & 0\\\\0 & 0 & 0 & 0 & 0 & 2\\end{matrix}\\right]$"
      ],
      "text/plain": [
       "⎡0  0  0  0  0  0⎤\n",
       "⎢                ⎥\n",
       "⎢0  0  0  0  0  0⎥\n",
       "⎢                ⎥\n",
       "⎢0  0  1  0  0  0⎥\n",
       "⎢                ⎥\n",
       "⎢0  0  0  1  0  0⎥\n",
       "⎢                ⎥\n",
       "⎢0  0  0  0  2  0⎥\n",
       "⎢                ⎥\n",
       "⎣0  0  0  0  0  2⎦"
      ]
     },
     "execution_count": 7,
     "metadata": {},
     "output_type": "execute_result"
    }
   ],
   "source": [
    "TensorProduct(H_single,I) #think like changing posn of basis vectros like 01 10"
   ]
  },
  {
   "cell_type": "markdown",
   "id": "5aa80f99",
   "metadata": {},
   "source": [
    "$$\n",
    "\\begin{equation}\n",
    "Rqubit = R_{qu1} \\otimes I + I \\otimes R_{qu2} + K(\\hat{a}^\\dagger \\otimes \\hat{a} + \\hat{a} \\otimes \\hat{a}^\\dagger) + P^*\\hat{a} + P\\hat{a}^\\dagger\n",
    "\\end{equation}\n",
    "$$\n",
    " "
   ]
  },
  {
   "cell_type": "code",
   "execution_count": 9,
   "id": "ac750e60",
   "metadata": {},
   "outputs": [
    {
     "data": {
      "text/latex": [
       "$\\displaystyle \\left( \\left[\\begin{matrix}0 & 0\\\\1 & 0\\end{matrix}\\right], \\  \\left[\\begin{matrix}0 & 1\\\\0 & 0\\end{matrix}\\right], \\  E_{1}, \\  E_{2}, \\  K_{21}, \\  P_{1}, \\  P_{2}\\right)$"
      ],
      "text/plain": [
       "⎛⎡0  0⎤  ⎡0  1⎤                        ⎞\n",
       "⎜⎢    ⎥, ⎢    ⎥, E₁, E₂, K_{21}, P₁, P₂⎟\n",
       "⎝⎣1  0⎦  ⎣0  0⎦                        ⎠"
      ]
     },
     "execution_count": 9,
     "metadata": {},
     "output_type": "execute_result"
    }
   ],
   "source": [
    "E1, E2, K, P1, P2 = sp.symbols(\"E_1 E_2 K_{21} P_1 P_2\")\n",
    "a_dag = sp.Matrix([[0,0],[1,0]]) #recheck theory \n",
    "a_dag,a_dag.T, E1, E2, K, P1, P2"
   ]
  },
  {
   "cell_type": "code",
   "execution_count": 10,
   "id": "68282e32",
   "metadata": {},
   "outputs": [
    {
     "data": {
      "text/latex": [
       "$\\displaystyle \\left( \\left[\\begin{matrix}0 & 0\\\\0 & E_{1}\\end{matrix}\\right], \\  \\left[\\begin{matrix}0 & 0\\\\0 & E_{2}\\end{matrix}\\right]\\right)$"
      ],
      "text/plain": [
       "⎛⎡0  0 ⎤  ⎡0  0 ⎤⎞\n",
       "⎜⎢     ⎥, ⎢     ⎥⎟\n",
       "⎝⎣0  E₁⎦  ⎣0  E₂⎦⎠"
      ]
     },
     "execution_count": 10,
     "metadata": {},
     "output_type": "execute_result"
    }
   ],
   "source": [
    "Rqu1 = sp.Matrix([[0,0],[0,E1]])\n",
    "Rqu2 = sp.Matrix([[0,0],[0,E2]])\n",
    "Rqu1, Rqu2"
   ]
  },
  {
   "cell_type": "code",
   "execution_count": 11,
   "id": "825837f1",
   "metadata": {
    "scrolled": true
   },
   "outputs": [
    {
     "data": {
      "text/latex": [
       "$\\displaystyle \\left[\\begin{matrix}0 & 0 & 0 & 0\\\\0 & 0 & 0 & 0\\\\0 & 1 & 0 & 0\\\\0 & 0 & 0 & 0\\end{matrix}\\right]$"
      ],
      "text/plain": [
       "⎡0  0  0  0⎤\n",
       "⎢          ⎥\n",
       "⎢0  0  0  0⎥\n",
       "⎢          ⎥\n",
       "⎢0  1  0  0⎥\n",
       "⎢          ⎥\n",
       "⎣0  0  0  0⎦"
      ]
     },
     "execution_count": 11,
     "metadata": {},
     "output_type": "execute_result"
    }
   ],
   "source": [
    "#2+2 system \n",
    "a_21 = (TensorProduct(a_dag, a_dag.T))\n",
    "a_21"
   ]
  },
  {
   "cell_type": "code",
   "execution_count": 15,
   "id": "873fccdf",
   "metadata": {},
   "outputs": [
    {
     "data": {
      "text/latex": [
       "$\\displaystyle \\left[\\begin{matrix}0 & 0 & 0 & 0\\\\0 & E_{2} & 0 & 0\\\\0 & 0 & E_{1} & 0\\\\0 & 0 & 0 & E_{1} + E_{2}\\end{matrix}\\right]$"
      ],
      "text/plain": [
       "⎡0  0   0      0   ⎤\n",
       "⎢                  ⎥\n",
       "⎢0  E₂  0      0   ⎥\n",
       "⎢                  ⎥\n",
       "⎢0  0   E₁     0   ⎥\n",
       "⎢                  ⎥\n",
       "⎣0  0   0   E₁ + E₂⎦"
      ]
     },
     "execution_count": 15,
     "metadata": {},
     "output_type": "execute_result"
    }
   ],
   "source": [
    "R = TensorProduct(Rqu1, Id(2)) + TensorProduct(Id(2),Rqu2)\n",
    "R"
   ]
  },
  {
   "cell_type": "code",
   "execution_count": 16,
   "id": "83767c9f",
   "metadata": {},
   "outputs": [
    {
     "data": {
      "text/latex": [
       "$\\displaystyle \\left[\\begin{matrix}0 & 0 & 0 & 0\\\\0 & E_{2} & 0 & 0\\\\0 & K_{21} & E_{1} & 0\\\\0 & 0 & 0 & E_{1} + E_{2}\\end{matrix}\\right]$"
      ],
      "text/plain": [
       "⎡0    0     0      0   ⎤\n",
       "⎢                      ⎥\n",
       "⎢0    E₂    0      0   ⎥\n",
       "⎢                      ⎥\n",
       "⎢0  K_{21}  E₁     0   ⎥\n",
       "⎢                      ⎥\n",
       "⎣0    0     0   E₁ + E₂⎦"
      ]
     },
     "execution_count": 16,
     "metadata": {},
     "output_type": "execute_result"
    }
   ],
   "source": [
    "R = TensorProduct(Rqu1, Id(2)) + TensorProduct(Id(2),Rqu2) + K*a_21\n",
    "R"
   ]
  },
  {
   "cell_type": "code",
   "execution_count": 17,
   "id": "a00fccc1",
   "metadata": {},
   "outputs": [],
   "source": [
    "a_21 = K*(TensorProduct(a_dag, a_dag.T))"
   ]
  },
  {
   "cell_type": "code",
   "execution_count": 18,
   "id": "f89f6f92",
   "metadata": {},
   "outputs": [
    {
     "data": {
      "text/latex": [
       "$\\displaystyle \\left[\\begin{matrix}0 & 0 & 0 & 0\\\\0 & E_{2} & K_{21} & 0\\\\0 & K_{21} & E_{1} & 0\\\\0 & 0 & 0 & E_{1} + E_{2}\\end{matrix}\\right]$"
      ],
      "text/plain": [
       "⎡0    0       0        0   ⎤\n",
       "⎢                          ⎥\n",
       "⎢0    E₂    K_{21}     0   ⎥\n",
       "⎢                          ⎥\n",
       "⎢0  K_{21}    E₁       0   ⎥\n",
       "⎢                          ⎥\n",
       "⎣0    0       0     E₁ + E₂⎦"
      ]
     },
     "execution_count": 18,
     "metadata": {},
     "output_type": "execute_result"
    }
   ],
   "source": [
    "R = TensorProduct(Rqu1, Id(2)) + TensorProduct(Id(2),Rqu2) + a_21.T + a_21\n",
    "R"
   ]
  },
  {
   "cell_type": "code",
   "execution_count": 19,
   "id": "00cd43e6",
   "metadata": {},
   "outputs": [
    {
     "data": {
      "text/latex": [
       "$\\displaystyle \\left( \\left[\\begin{matrix}0 & \\overline{P_{1}}\\\\P_{1} & E_{1}\\end{matrix}\\right], \\  \\left[\\begin{matrix}0 & \\overline{P_{2}}\\\\P_{2} & E_{2}\\end{matrix}\\right]\\right)$"
      ],
      "text/plain": [
       "⎛⎡    __⎤  ⎡    __⎤⎞\n",
       "⎜⎢0   P₁⎥  ⎢0   P₂⎥⎟\n",
       "⎜⎢      ⎥, ⎢      ⎥⎟\n",
       "⎝⎣P₁  E₁⎦  ⎣P₂  E₂⎦⎠"
      ]
     },
     "execution_count": 19,
     "metadata": {},
     "output_type": "execute_result"
    }
   ],
   "source": [
    "Rqu1 = sp.Matrix([[0,P1.conjugate()],[P1,E1]])\n",
    "Rqu2 = sp.Matrix([[0,P2.conjugate()],[P2,E2]])\n",
    "Rqu1, Rqu2"
   ]
  },
  {
   "cell_type": "code",
   "execution_count": 20,
   "id": "bdce07d1",
   "metadata": {},
   "outputs": [
    {
     "data": {
      "text/latex": [
       "$\\displaystyle \\left[\\begin{matrix}0 & \\overline{P_{2}} & \\overline{P_{1}} & 0\\\\P_{2} & E_{2} & \\overline{K_{21}} & \\overline{P_{1}}\\\\P_{1} & K_{21} & E_{1} & \\overline{P_{2}}\\\\0 & P_{1} & P_{2} & E_{1} + E_{2}\\end{matrix}\\right]$"
      ],
      "text/plain": [
       "⎡      __      __           ⎤\n",
       "⎢0     P₂      P₁       0   ⎥\n",
       "⎢                           ⎥\n",
       "⎢            ______    __   ⎥\n",
       "⎢P₂    E₂    K_{21}    P₁   ⎥\n",
       "⎢                           ⎥\n",
       "⎢                      __   ⎥\n",
       "⎢P₁  K_{21}    E₁      P₂   ⎥\n",
       "⎢                           ⎥\n",
       "⎣0     P₁      P₂    E₁ + E₂⎦"
      ]
     },
     "execution_count": 20,
     "metadata": {},
     "output_type": "execute_result"
    }
   ],
   "source": [
    "R = TensorProduct(Rqu1, Id(2)) + TensorProduct(Id(2),Rqu2) + (a_21.H + a_21)  \n",
    "R"
   ]
  },
  {
   "cell_type": "code",
   "execution_count": null,
   "id": "3a079132",
   "metadata": {},
   "outputs": [],
   "source": []
  },
  {
   "cell_type": "code",
   "execution_count": 21,
   "id": "0381e87a",
   "metadata": {
    "scrolled": true
   },
   "outputs": [
    {
     "data": {
      "text/latex": [
       "$\\displaystyle \\left( \\left[\\begin{matrix}E_{a0} + E_{b0} & 0 & 0 & 0\\\\0 & E_{a0} + E_{b1} & 0 & 0\\\\0 & 0 & E_{a1} + E_{b0} & 0\\\\0 & 0 & 0 & E_{a1} + E_{b1}\\end{matrix}\\right], \\  \\left[\\begin{matrix}E_{a0} & 0\\\\0 & E_{a1}\\end{matrix}\\right], \\  \\left[\\begin{matrix}E_{b0} & 0\\\\0 & E_{b1}\\end{matrix}\\right]\\right)$"
      ],
      "text/plain": [
       "⎛⎡E_{a0} + E_{b0}         0                0                0       ⎤         \n",
       "⎜⎢                                                                  ⎥         \n",
       "⎜⎢       0         E_{a0} + E_{b1}         0                0       ⎥  ⎡E_{a0}\n",
       "⎜⎢                                                                  ⎥, ⎢      \n",
       "⎜⎢       0                0         E_{a1} + E_{b0}         0       ⎥  ⎣  0   \n",
       "⎜⎢                                                                  ⎥         \n",
       "⎝⎣       0                0                0         E_{a1} + E_{b1}⎦         \n",
       "\n",
       "                           ⎞\n",
       "                           ⎟\n",
       "    0   ⎤  ⎡E_{b0}    0   ⎤⎟\n",
       "        ⎥, ⎢              ⎥⎟\n",
       "  E_{a1}⎦  ⎣  0     E_{b1}⎦⎟\n",
       "                           ⎟\n",
       "                           ⎠"
      ]
     },
     "execution_count": 21,
     "metadata": {},
     "output_type": "execute_result"
    }
   ],
   "source": [
    "Ea0, Ea1, Eb0, Eb1 = sp.symbols(\"E_{a0} E_{a1} E_{b0} E_{b1}\")\n",
    "c1 = sp.Matrix.diag([Ea0,Ea1]) #perhaps computational qubits defining no onsite V\n",
    "c2 = sp.Matrix.diag([Eb0,Eb1]) #hamil representing each qubit\n",
    "ch = TensorProduct(c1, I) + TensorProduct(I,c2) #ham of both qubits\n",
    "ch, c1, c2 #for computational "
   ]
  },
  {
   "cell_type": "code",
   "execution_count": 23,
   "id": "8f314aad",
   "metadata": {},
   "outputs": [],
   "source": [
    "ch =ch.subs({\"E_{a0}\":0, \"E_{a1}\":0,\"E_{b0}\":0,\"E_{b1}\":0})"
   ]
  },
  {
   "cell_type": "code",
   "execution_count": 24,
   "id": "1b066914",
   "metadata": {},
   "outputs": [
    {
     "data": {
      "text/latex": [
       "$\\displaystyle \\left[\\begin{matrix}0 & 0 & 0 & 0\\\\0 & 0 & 0 & 0\\\\0 & 0 & 0 & 0\\\\0 & 0 & 0 & 0\\end{matrix}\\right]$"
      ],
      "text/plain": [
       "⎡0  0  0  0⎤\n",
       "⎢          ⎥\n",
       "⎢0  0  0  0⎥\n",
       "⎢          ⎥\n",
       "⎢0  0  0  0⎥\n",
       "⎢          ⎥\n",
       "⎣0  0  0  0⎦"
      ]
     },
     "execution_count": 24,
     "metadata": {},
     "output_type": "execute_result"
    }
   ],
   "source": [
    "ch"
   ]
  },
  {
   "cell_type": "code",
   "execution_count": 25,
   "id": "7a68ebd7",
   "metadata": {
    "scrolled": true
   },
   "outputs": [
    {
     "data": {
      "text/latex": [
       "$\\displaystyle \\left( \\left[\\begin{matrix}E_{a0} & 0\\\\0 & E_{a1}\\end{matrix}\\right], \\  \\left[\\begin{matrix}E_{b0} & 0\\\\0 & E_{b1}\\end{matrix}\\right]\\right)$"
      ],
      "text/plain": [
       "⎛⎡E_{a0}    0   ⎤  ⎡E_{b0}    0   ⎤⎞\n",
       "⎜⎢              ⎥, ⎢              ⎥⎟\n",
       "⎝⎣  0     E_{a1}⎦  ⎣  0     E_{b1}⎦⎠"
      ]
     },
     "execution_count": 25,
     "metadata": {},
     "output_type": "execute_result"
    }
   ],
   "source": [
    "c1, c2 #hamil for each indiv qubit"
   ]
  },
  {
   "cell_type": "code",
   "execution_count": 26,
   "id": "0d5f83b5",
   "metadata": {},
   "outputs": [
    {
     "data": {
      "text/latex": [
       "$\\displaystyle \\left[\\begin{matrix}0 & \\overline{P_{2}} & \\overline{P_{1}} & 0\\\\P_{2} & E_{2} & \\overline{K_{21}} & \\overline{P_{1}}\\\\P_{1} & K_{21} & E_{1} & \\overline{P_{2}}\\\\0 & P_{1} & P_{2} & E_{1} + E_{2}\\end{matrix}\\right]$"
      ],
      "text/plain": [
       "⎡      __      __           ⎤\n",
       "⎢0     P₂      P₁       0   ⎥\n",
       "⎢                           ⎥\n",
       "⎢            ______    __   ⎥\n",
       "⎢P₂    E₂    K_{21}    P₁   ⎥\n",
       "⎢                           ⎥\n",
       "⎢                      __   ⎥\n",
       "⎢P₁  K_{21}    E₁      P₂   ⎥\n",
       "⎢                           ⎥\n",
       "⎣0     P₁      P₂    E₁ + E₂⎦"
      ]
     },
     "execution_count": 26,
     "metadata": {},
     "output_type": "execute_result"
    }
   ],
   "source": [
    "R"
   ]
  },
  {
   "cell_type": "code",
   "execution_count": 27,
   "id": "f2b9d343",
   "metadata": {},
   "outputs": [
    {
     "data": {
      "text/latex": [
       "$\\displaystyle \\left[\\begin{array}{cccccccccccccccc}0 & \\overline{P_{2}} & \\overline{P_{1}} & 0 & 0 & 0 & 0 & 0 & 0 & 0 & 0 & 0 & 0 & 0 & 0 & 0\\\\P_{2} & E_{2} & \\overline{K_{21}} & \\overline{P_{1}} & 0 & 0 & 0 & 0 & 0 & 0 & 0 & 0 & 0 & 0 & 0 & 0\\\\P_{1} & K_{21} & E_{1} & \\overline{P_{2}} & 0 & 0 & 0 & 0 & 0 & 0 & 0 & 0 & 0 & 0 & 0 & 0\\\\0 & P_{1} & P_{2} & E_{1} + E_{2} & 0 & 0 & 0 & 0 & 0 & 0 & 0 & 0 & 0 & 0 & 0 & 0\\\\0 & 0 & 0 & 0 & 0 & \\overline{P_{2}} & \\overline{P_{1}} & 0 & 0 & 0 & 0 & 0 & 0 & 0 & 0 & 0\\\\0 & 0 & 0 & 0 & P_{2} & E_{2} & \\overline{K_{21}} & \\overline{P_{1}} & 0 & 0 & 0 & 0 & 0 & 0 & 0 & 0\\\\0 & 0 & 0 & 0 & P_{1} & K_{21} & E_{1} & \\overline{P_{2}} & 0 & 0 & 0 & 0 & 0 & 0 & 0 & 0\\\\0 & 0 & 0 & 0 & 0 & P_{1} & P_{2} & E_{1} + E_{2} & 0 & 0 & 0 & 0 & 0 & 0 & 0 & 0\\\\0 & 0 & 0 & 0 & 0 & 0 & 0 & 0 & 0 & \\overline{P_{2}} & \\overline{P_{1}} & 0 & 0 & 0 & 0 & 0\\\\0 & 0 & 0 & 0 & 0 & 0 & 0 & 0 & P_{2} & E_{2} & \\overline{K_{21}} & \\overline{P_{1}} & 0 & 0 & 0 & 0\\\\0 & 0 & 0 & 0 & 0 & 0 & 0 & 0 & P_{1} & K_{21} & E_{1} & \\overline{P_{2}} & 0 & 0 & 0 & 0\\\\0 & 0 & 0 & 0 & 0 & 0 & 0 & 0 & 0 & P_{1} & P_{2} & E_{1} + E_{2} & 0 & 0 & 0 & 0\\\\0 & 0 & 0 & 0 & 0 & 0 & 0 & 0 & 0 & 0 & 0 & 0 & 0 & \\overline{P_{2}} & \\overline{P_{1}} & 0\\\\0 & 0 & 0 & 0 & 0 & 0 & 0 & 0 & 0 & 0 & 0 & 0 & P_{2} & E_{2} & \\overline{K_{21}} & \\overline{P_{1}}\\\\0 & 0 & 0 & 0 & 0 & 0 & 0 & 0 & 0 & 0 & 0 & 0 & P_{1} & K_{21} & E_{1} & \\overline{P_{2}}\\\\0 & 0 & 0 & 0 & 0 & 0 & 0 & 0 & 0 & 0 & 0 & 0 & 0 & P_{1} & P_{2} & E_{1} + E_{2}\\end{array}\\right]$"
      ],
      "text/plain": [
       "⎡      __      __                                                             \n",
       "⎢0     P₂      P₁       0     0     0       0        0     0     0       0    \n",
       "⎢                                                                             \n",
       "⎢            ______    __                                                     \n",
       "⎢P₂    E₂    K_{21}    P₁     0     0       0        0     0     0       0    \n",
       "⎢                                                                             \n",
       "⎢                      __                                                     \n",
       "⎢P₁  K_{21}    E₁      P₂     0     0       0        0     0     0       0    \n",
       "⎢                                                                             \n",
       "⎢0     P₁      P₂    E₁ + E₂  0     0       0        0     0     0       0    \n",
       "⎢                                                                             \n",
       "⎢                                   __      __                                \n",
       "⎢0     0       0        0     0     P₂      P₁       0     0     0       0    \n",
       "⎢                                                                             \n",
       "⎢                                         ______    __                        \n",
       "⎢0     0       0        0     P₂    E₂    K_{21}    P₁     0     0       0    \n",
       "⎢                                                                             \n",
       "⎢                                                   __                        \n",
       "⎢0     0       0        0     P₁  K_{21}    E₁      P₂     0     0       0    \n",
       "⎢                                                                             \n",
       "⎢0     0       0        0     0     P₁      P₂    E₁ + E₂  0     0       0    \n",
       "⎢                                                                             \n",
       "⎢                                                                __      __   \n",
       "⎢0     0       0        0     0     0       0        0     0     P₂      P₁   \n",
       "⎢                                                                             \n",
       "⎢                                                                      ______ \n",
       "⎢0     0       0        0     0     0       0        0     P₂    E₂    K_{21} \n",
       "⎢                                                                             \n",
       "⎢                                                                             \n",
       "⎢0     0       0        0     0     0       0        0     P₁  K_{21}    E₁   \n",
       "⎢                                                                             \n",
       "⎢0     0       0        0     0     0       0        0     0     P₁      P₂   \n",
       "⎢                                                                             \n",
       "⎢                                                                             \n",
       "⎢0     0       0        0     0     0       0        0     0     0       0    \n",
       "⎢                                                                             \n",
       "⎢                                                                             \n",
       "⎢0     0       0        0     0     0       0        0     0     0       0    \n",
       "⎢                                                                             \n",
       "⎢                                                                             \n",
       "⎢0     0       0        0     0     0       0        0     0     0       0    \n",
       "⎢                                                                             \n",
       "⎣0     0       0        0     0     0       0        0     0     0       0    \n",
       "\n",
       "                                     ⎤\n",
       "    0     0     0       0        0   ⎥\n",
       "                                     ⎥\n",
       "                                     ⎥\n",
       "    0     0     0       0        0   ⎥\n",
       "                                     ⎥\n",
       "                                     ⎥\n",
       "    0     0     0       0        0   ⎥\n",
       "                                     ⎥\n",
       "    0     0     0       0        0   ⎥\n",
       "                                     ⎥\n",
       "                                     ⎥\n",
       "    0     0     0       0        0   ⎥\n",
       "                                     ⎥\n",
       "                                     ⎥\n",
       "    0     0     0       0        0   ⎥\n",
       "                                     ⎥\n",
       "                                     ⎥\n",
       "    0     0     0       0        0   ⎥\n",
       "                                     ⎥\n",
       "    0     0     0       0        0   ⎥\n",
       "                                     ⎥\n",
       "                                     ⎥\n",
       "    0     0     0       0        0   ⎥\n",
       "                                     ⎥\n",
       "   __                                ⎥\n",
       "   P₁     0     0       0        0   ⎥\n",
       "                                     ⎥\n",
       "   __                                ⎥\n",
       "   P₂     0     0       0        0   ⎥\n",
       "                                     ⎥\n",
       " E₁ + E₂  0     0       0        0   ⎥\n",
       "                                     ⎥\n",
       "                __      __           ⎥\n",
       "    0     0     P₂      P₁       0   ⎥\n",
       "                                     ⎥\n",
       "                      ______    __   ⎥\n",
       "    0     P₂    E₂    K_{21}    P₁   ⎥\n",
       "                                     ⎥\n",
       "                                __   ⎥\n",
       "    0     P₁  K_{21}    E₁      P₂   ⎥\n",
       "                                     ⎥\n",
       "    0     0     P₁      P₂    E₁ + E₂⎦"
      ]
     },
     "execution_count": 27,
     "metadata": {},
     "output_type": "execute_result"
    }
   ],
   "source": [
    "I4 = TensorProduct(I, I) #so no interaction b/w qubits themselves but only between QN\n",
    "#H = H_!N + Hcl, so this H contains both computational and QN\n",
    "H_QN = TensorProduct(ch, I4)+TensorProduct(I4, R)\n",
    "H_QN"
   ]
  },
  {
   "cell_type": "code",
   "execution_count": 28,
   "id": "4ac4b356",
   "metadata": {},
   "outputs": [
    {
     "data": {
      "text/latex": [
       "$\\displaystyle \\left( \\left[\\begin{matrix}0 & 1\\\\0 & 0\\end{matrix}\\right], \\  \\left[\\begin{matrix}0 & 0\\\\1 & 0\\end{matrix}\\right], \\  E_{1}, \\  E_{2}, \\  K_{21}, \\  P_{1}, \\  P_{2}, \\  J_{11}, \\  J_{12}, \\  J_{21}, \\  J_{22}\\right)$"
      ],
      "text/plain": [
       "⎛⎡0  1⎤  ⎡0  0⎤                                                        ⎞\n",
       "⎜⎢    ⎥, ⎢    ⎥, E₁, E₂, K_{21}, P₁, P₂, J_{11}, J_{12}, J_{21}, J_{22}⎟\n",
       "⎝⎣0  0⎦  ⎣1  0⎦                                                        ⎠"
      ]
     },
     "execution_count": 28,
     "metadata": {},
     "output_type": "execute_result"
    }
   ],
   "source": [
    "E1, E2, K, P1, P2, J11, J12, J21, J22 = sp.symbols(\"E_1 E_2 K_{21} P_1 P_2 J_{11} J_{12} J_{21} J_{22}\")\n",
    "a_dag = sp.Matrix([[0,1],[0,0]])\n",
    "a_dag,a_dag.T, E1, E2, K, P1, P2, J11, J12, J21, J22"
   ]
  },
  {
   "cell_type": "code",
   "execution_count": 29,
   "id": "f677cf71",
   "metadata": {},
   "outputs": [
    {
     "data": {
      "text/latex": [
       "$\\displaystyle \\left( \\left[\\begin{matrix}0 & \\overline{P_{1}}\\\\P_{1} & E_{1}\\end{matrix}\\right], \\  \\left[\\begin{matrix}0 & \\overline{P_{2}}\\\\P_{2} & E_{2}\\end{matrix}\\right]\\right)$"
      ],
      "text/plain": [
       "⎛⎡    __⎤  ⎡    __⎤⎞\n",
       "⎜⎢0   P₁⎥  ⎢0   P₂⎥⎟\n",
       "⎜⎢      ⎥, ⎢      ⎥⎟\n",
       "⎝⎣P₁  E₁⎦  ⎣P₂  E₂⎦⎠"
      ]
     },
     "execution_count": 29,
     "metadata": {},
     "output_type": "execute_result"
    }
   ],
   "source": [
    "Rqu1 = sp.Matrix([[0,P1.conjugate()],[P1,E1]])\n",
    "Rqu2 = sp.Matrix([[0,P2.conjugate()],[P2,E2]])\n",
    "Rqu1, Rqu2"
   ]
  },
  {
   "cell_type": "markdown",
   "id": "ef84709a",
   "metadata": {},
   "source": [
    "$$\n",
    "\\begin{equation}\n",
    "ch = c_{1} \\otimes I + I \\otimes c_{2} + (J_{kl}^*\\sigma_k^{+}\\hat{a}_l + J_{kl}\\hat{a}_l^\\dagger\\sigma_k^{-}) \n",
    "\\end{equation}\n",
    "$$"
   ]
  },
  {
   "cell_type": "code",
   "execution_count": 30,
   "id": "230024fe",
   "metadata": {},
   "outputs": [
    {
     "data": {
      "text/latex": [
       "$\\displaystyle \\left( \\left[\\begin{matrix}0 & 0\\\\0 & 0\\end{matrix}\\right], \\  \\left[\\begin{matrix}0 & 0\\\\0 & 0\\end{matrix}\\right], \\  \\left[\\begin{matrix}0 & 0 & 0 & 0\\\\0 & 0 & 0 & 0\\\\0 & 0 & 0 & 0\\\\0 & 0 & 0 & 0\\end{matrix}\\right]\\right)$"
      ],
      "text/plain": [
       "⎛                ⎡0  0  0  0⎤⎞\n",
       "⎜                ⎢          ⎥⎟\n",
       "⎜⎡0  0⎤  ⎡0  0⎤  ⎢0  0  0  0⎥⎟\n",
       "⎜⎢    ⎥, ⎢    ⎥, ⎢          ⎥⎟\n",
       "⎜⎣0  0⎦  ⎣0  0⎦  ⎢0  0  0  0⎥⎟\n",
       "⎜                ⎢          ⎥⎟\n",
       "⎝                ⎣0  0  0  0⎦⎠"
      ]
     },
     "execution_count": 30,
     "metadata": {},
     "output_type": "execute_result"
    }
   ],
   "source": [
    "c2 =c2.subs({\"E_{b0}\":0,\"E_{b1}\":0}) \n",
    "c1 =c1.subs({\"E_{a0}\":0, \"E_{a1}\":0})\n",
    "ch =ch.subs({\"E_{a0}\":0, \"E_{a1}\":0,\"E_{b0}\":0,\"E_{b1}\":0})\n",
    "c1,c2, ch\n"
   ]
  },
  {
   "cell_type": "code",
   "execution_count": 31,
   "id": "cb6bd744",
   "metadata": {},
   "outputs": [],
   "source": [
    "def MTP(A,B,C,D):\n",
    "    return TensorProduct(A, TensorProduct(B, TensorProduct(C, TensorProduct(D))))\n",
    "def MTP1(A,B,C,D):\n",
    "    return TensorProduct(TensorProduct(A,B),TensorProduct(C,D))\n"
   ]
  },
  {
   "cell_type": "code",
   "execution_count": 32,
   "id": "f77b4a3d",
   "metadata": {},
   "outputs": [],
   "source": [
    "sigmap = sp.Matrix([[0,0],\n",
    "                  [1,0]])\n",
    "sigmam = sigmap.T\n",
    "a_dag = sp.Matrix([[0,0],[1,0]])"
   ]
  },
  {
   "cell_type": "code",
   "execution_count": 33,
   "id": "243f5b26",
   "metadata": {},
   "outputs": [
    {
     "data": {
      "text/latex": [
       "$\\displaystyle \\left( \\left[\\begin{matrix}0 & 0\\\\1 & 0\\end{matrix}\\right], \\  \\left[\\begin{matrix}0 & 1\\\\0 & 0\\end{matrix}\\right], \\  \\left[\\begin{matrix}0 & 0\\\\1 & 0\\end{matrix}\\right], \\  \\left[\\begin{matrix}0 & 1\\\\0 & 0\\end{matrix}\\right], \\  \\left[\\begin{matrix}1 & 0\\\\0 & 1\\end{matrix}\\right], \\  \\left[\\begin{matrix}0 & 0 & 0 & 0\\\\0 & 0 & 0 & 0\\\\0 & 0 & 0 & 0\\\\0 & 0 & 0 & 0\\end{matrix}\\right]\\right)$"
      ],
      "text/plain": [
       "⎛                                        ⎡0  0  0  0⎤⎞\n",
       "⎜                                        ⎢          ⎥⎟\n",
       "⎜⎡0  0⎤  ⎡0  1⎤  ⎡0  0⎤  ⎡0  1⎤  ⎡1  0⎤  ⎢0  0  0  0⎥⎟\n",
       "⎜⎢    ⎥, ⎢    ⎥, ⎢    ⎥, ⎢    ⎥, ⎢    ⎥, ⎢          ⎥⎟\n",
       "⎜⎣1  0⎦  ⎣0  0⎦  ⎣1  0⎦  ⎣0  0⎦  ⎣0  1⎦  ⎢0  0  0  0⎥⎟\n",
       "⎜                                        ⎢          ⎥⎟\n",
       "⎝                                        ⎣0  0  0  0⎦⎠"
      ]
     },
     "execution_count": 33,
     "metadata": {},
     "output_type": "execute_result"
    }
   ],
   "source": [
    "#redefining terms for reference\n",
    "# also can add more defn like Hfull = Hqc1 tensor Hqc2 tensor....Hqr1 tensor...\n",
    "# look at notes\n",
    "a_dag, a_dag.T,sigmap, sigmam, I, ch"
   ]
  },
  {
   "cell_type": "code",
   "execution_count": 34,
   "id": "ed38b150",
   "metadata": {},
   "outputs": [
    {
     "data": {
      "text/latex": [
       "$\\displaystyle \\left[\\begin{matrix}0 & 0 & 0 & 0\\\\0 & 0 & J_{11} & 0\\\\0 & \\overline{J_{11}} & 0 & 0\\\\0 & 0 & 0 & 0\\end{matrix}\\right]$"
      ],
      "text/plain": [
       "⎡0    0       0     0⎤\n",
       "⎢                    ⎥\n",
       "⎢0    0     J_{11}  0⎥\n",
       "⎢                    ⎥\n",
       "⎢   ______           ⎥\n",
       "⎢0  J_{11}    0     0⎥\n",
       "⎢                    ⎥\n",
       "⎣0    0       0     0⎦"
      ]
     },
     "execution_count": 34,
     "metadata": {},
     "output_type": "execute_result"
    }
   ],
   "source": [
    "#test junk code\n",
    "j11c = J11.conjugate() * (TensorProduct(sigmap,a_dag.T))\n",
    "j11r = j11c.H\n",
    "j11c + j11r"
   ]
  },
  {
   "cell_type": "code",
   "execution_count": 35,
   "id": "7ab9863a",
   "metadata": {},
   "outputs": [
    {
     "data": {
      "text/latex": [
       "$\\displaystyle \\left[\\begin{matrix}0 & 0 & 0 & 0\\\\0 & 0 & 0 & 0\\\\0 & J_{11} + \\overline{J_{11}} & 0 & 0\\\\0 & 0 & 0 & 0\\end{matrix}\\right]$"
      ],
      "text/plain": [
       "⎡0         0         0  0⎤\n",
       "⎢                        ⎥\n",
       "⎢0         0         0  0⎥\n",
       "⎢                        ⎥\n",
       "⎢            ______      ⎥\n",
       "⎢0  J_{11} + J_{11}  0  0⎥\n",
       "⎢                        ⎥\n",
       "⎣0         0         0  0⎦"
      ]
     },
     "execution_count": 35,
     "metadata": {},
     "output_type": "execute_result"
    }
   ],
   "source": [
    "# test; => ch + \n",
    "J11.conjugate() * (TensorProduct(sigmap,a_dag.T)) + J11 * (TensorProduct(a_dag, sigmam))"
   ]
  },
  {
   "cell_type": "code",
   "execution_count": 36,
   "id": "7fa8d3bf",
   "metadata": {},
   "outputs": [
    {
     "data": {
      "text/latex": [
       "$\\displaystyle \\left[\\begin{array}{cccccccccccccccc}0 & \\overline{P_{2}} & \\overline{P_{1}} & 0 & 0 & 0 & 0 & 0 & 0 & 0 & 0 & 0 & 0 & 0 & 0 & 0\\\\P_{2} & E_{2} & \\overline{K_{21}} & \\overline{P_{1}} & J_{22} & 0 & 0 & 0 & J_{12} & 0 & 0 & 0 & 0 & 0 & 0 & 0\\\\P_{1} & K_{21} & E_{1} & \\overline{P_{2}} & J_{21} & 0 & 0 & 0 & J_{11} & 0 & 0 & 0 & 0 & 0 & 0 & 0\\\\0 & P_{1} & P_{2} & E_{1} + E_{2} & 0 & J_{21} & J_{22} & 0 & 0 & J_{11} & J_{12} & 0 & 0 & 0 & 0 & 0\\\\0 & \\overline{J_{22}} & \\overline{J_{21}} & 0 & 0 & \\overline{P_{2}} & \\overline{P_{1}} & 0 & 0 & 0 & 0 & 0 & 0 & 0 & 0 & 0\\\\0 & 0 & 0 & \\overline{J_{21}} & P_{2} & E_{2} & \\overline{K_{21}} & \\overline{P_{1}} & 0 & 0 & 0 & 0 & J_{12} & 0 & 0 & 0\\\\0 & 0 & 0 & \\overline{J_{22}} & P_{1} & K_{21} & E_{1} & \\overline{P_{2}} & 0 & 0 & 0 & 0 & J_{11} & 0 & 0 & 0\\\\0 & 0 & 0 & 0 & 0 & P_{1} & P_{2} & E_{1} + E_{2} & 0 & 0 & 0 & 0 & 0 & J_{11} & J_{12} & 0\\\\0 & \\overline{J_{12}} & \\overline{J_{11}} & 0 & 0 & 0 & 0 & 0 & 0 & \\overline{P_{2}} & \\overline{P_{1}} & 0 & 0 & 0 & 0 & 0\\\\0 & 0 & 0 & \\overline{J_{11}} & 0 & 0 & 0 & 0 & P_{2} & E_{2} & \\overline{K_{21}} & \\overline{P_{1}} & J_{22} & 0 & 0 & 0\\\\0 & 0 & 0 & \\overline{J_{12}} & 0 & 0 & 0 & 0 & P_{1} & K_{21} & E_{1} & \\overline{P_{2}} & J_{21} & 0 & 0 & 0\\\\0 & 0 & 0 & 0 & 0 & 0 & 0 & 0 & 0 & P_{1} & P_{2} & E_{1} + E_{2} & 0 & J_{21} & J_{22} & 0\\\\0 & 0 & 0 & 0 & 0 & \\overline{J_{12}} & \\overline{J_{11}} & 0 & 0 & \\overline{J_{22}} & \\overline{J_{21}} & 0 & 0 & \\overline{P_{2}} & \\overline{P_{1}} & 0\\\\0 & 0 & 0 & 0 & 0 & 0 & 0 & \\overline{J_{11}} & 0 & 0 & 0 & \\overline{J_{21}} & P_{2} & E_{2} & \\overline{K_{21}} & \\overline{P_{1}}\\\\0 & 0 & 0 & 0 & 0 & 0 & 0 & \\overline{J_{12}} & 0 & 0 & 0 & \\overline{J_{22}} & P_{1} & K_{21} & E_{1} & \\overline{P_{2}}\\\\0 & 0 & 0 & 0 & 0 & 0 & 0 & 0 & 0 & 0 & 0 & 0 & 0 & P_{1} & P_{2} & E_{1} + E_{2}\\end{array}\\right]$"
      ],
      "text/plain": [
       "⎡      __      __                                                             \n",
       "⎢0     P₂      P₁       0       0       0       0        0       0       0    \n",
       "⎢                                                                             \n",
       "⎢            ______    __                                                     \n",
       "⎢P₂    E₂    K_{21}    P₁     J_{22}    0       0        0     J_{12}    0    \n",
       "⎢                                                                             \n",
       "⎢                      __                                                     \n",
       "⎢P₁  K_{21}    E₁      P₂     J_{21}    0       0        0     J_{11}    0    \n",
       "⎢                                                                             \n",
       "⎢0     P₁      P₂    E₁ + E₂    0     J_{21}  J_{22}     0       0     J_{11} \n",
       "⎢                                                                             \n",
       "⎢    ______  ______                     __      __                            \n",
       "⎢0   J_{22}  J_{21}     0       0       P₂      P₁       0       0       0    \n",
       "⎢                                                                             \n",
       "⎢                    ______                   ______    __                    \n",
       "⎢0     0       0     J_{21}     P₂      E₂    K_{21}    P₁       0       0    \n",
       "⎢                                                                             \n",
       "⎢                    ______                             __                    \n",
       "⎢0     0       0     J_{22}     P₁    K_{21}    E₁      P₂       0       0    \n",
       "⎢                                                                             \n",
       "⎢0     0       0        0       0       P₁      P₂    E₁ + E₂    0       0    \n",
       "⎢                                                                             \n",
       "⎢    ______  ______                                                      __   \n",
       "⎢0   J_{12}  J_{11}     0       0       0       0        0       0       P₂   \n",
       "⎢                                                                             \n",
       "⎢                    ______                                                   \n",
       "⎢0     0       0     J_{11}     0       0       0        0       P₂      E₂   \n",
       "⎢                                                                             \n",
       "⎢                    ______                                                   \n",
       "⎢0     0       0     J_{12}     0       0       0        0       P₁    K_{21} \n",
       "⎢                                                                             \n",
       "⎢0     0       0        0       0       0       0        0       0       P₁   \n",
       "⎢                                                                             \n",
       "⎢                                     ______  ______                   ______ \n",
       "⎢0     0       0        0       0     J_{12}  J_{11}     0       0     J_{22} \n",
       "⎢                                                                             \n",
       "⎢                                                     ______                  \n",
       "⎢0     0       0        0       0       0       0     J_{11}     0       0    \n",
       "⎢                                                                             \n",
       "⎢                                                     ______                  \n",
       "⎢0     0       0        0       0       0       0     J_{12}     0       0    \n",
       "⎢                                                                             \n",
       "⎣0     0       0        0       0       0       0        0       0       0    \n",
       "\n",
       "                                                 ⎤\n",
       "   0        0       0       0       0        0   ⎥\n",
       "                                                 ⎥\n",
       "                                                 ⎥\n",
       "   0        0       0       0       0        0   ⎥\n",
       "                                                 ⎥\n",
       "                                                 ⎥\n",
       "   0        0       0       0       0        0   ⎥\n",
       "                                                 ⎥\n",
       " J_{12}     0       0       0       0        0   ⎥\n",
       "                                                 ⎥\n",
       "                                                 ⎥\n",
       "   0        0       0       0       0        0   ⎥\n",
       "                                                 ⎥\n",
       "                                                 ⎥\n",
       "   0        0     J_{12}    0       0        0   ⎥\n",
       "                                                 ⎥\n",
       "                                                 ⎥\n",
       "   0        0     J_{11}    0       0        0   ⎥\n",
       "                                                 ⎥\n",
       "   0        0       0     J_{11}  J_{12}     0   ⎥\n",
       "                                                 ⎥\n",
       "   __                                            ⎥\n",
       "   P₁       0       0       0       0        0   ⎥\n",
       "                                                 ⎥\n",
       " ______    __                                    ⎥\n",
       " K_{21}    P₁     J_{22}    0       0        0   ⎥\n",
       "                                                 ⎥\n",
       "           __                                    ⎥\n",
       "   E₁      P₂     J_{21}    0       0        0   ⎥\n",
       "                                                 ⎥\n",
       "   P₂    E₁ + E₂    0     J_{21}  J_{22}     0   ⎥\n",
       "                                                 ⎥\n",
       " ______                     __      __           ⎥\n",
       " J_{21}     0       0       P₂      P₁       0   ⎥\n",
       "                                                 ⎥\n",
       "         ______                   ______    __   ⎥\n",
       "   0     J_{21}     P₂      E₂    K_{21}    P₁   ⎥\n",
       "                                                 ⎥\n",
       "         ______                             __   ⎥\n",
       "   0     J_{22}     P₁    K_{21}    E₁      P₂   ⎥\n",
       "                                                 ⎥\n",
       "   0        0       0       P₁      P₂    E₁ + E₂⎦"
      ]
     },
     "execution_count": 36,
     "metadata": {},
     "output_type": "execute_result"
    }
   ],
   "source": [
    "H = H_QN + J11.conjugate()*(MTP(sigmap,I,a_dag.T,I)) + J11*(MTP(sigmam,I,a_dag,I)) + J12.conjugate()*(MTP(sigmap,I,I,a_dag.T)) + J12*(MTP(sigmam,I,I,a_dag)) +J21.conjugate()*(MTP(I,sigmap,a_dag.T,I))+J21*(MTP(I,sigmam,a_dag,I)) + J22.conjugate()*(MTP(I,sigmap,I,a_dag.T))+J22*(MTP(I,sigmam,I,a_dag))\n",
    "H"
   ]
  },
  {
   "cell_type": "code",
   "execution_count": 37,
   "id": "3dbb729c",
   "metadata": {
    "collapsed": true
   },
   "outputs": [
    {
     "data": {
      "text/latex": [
       "$\\displaystyle \\left[\\begin{array}{cccccccccccccccc}0 & 0 & 0 & 0 & 0 & 0 & 0 & 0 & 1 & 0 & 0 & 0 & 0 & 0 & 0 & 0\\\\0 & 0 & 0 & 0 & 0 & 0 & 0 & 0 & 0 & 1 & 0 & 0 & 0 & 0 & 0 & 0\\\\0 & 0 & 0 & 0 & 0 & 0 & 0 & 0 & 0 & 0 & 1 & 0 & 0 & 0 & 0 & 0\\\\0 & 0 & 0 & 0 & 0 & 0 & 0 & 0 & 0 & 0 & 0 & 1 & 0 & 0 & 0 & 0\\\\0 & 0 & 0 & 0 & 0 & 0 & 0 & 0 & 0 & 0 & 0 & 0 & 1 & 0 & 0 & 0\\\\0 & 0 & 0 & 0 & 0 & 0 & 0 & 0 & 0 & 0 & 0 & 0 & 0 & 1 & 0 & 0\\\\0 & 0 & 0 & 0 & 0 & 0 & 0 & 0 & 0 & 0 & 0 & 0 & 0 & 0 & 1 & 0\\\\0 & 0 & 0 & 0 & 0 & 0 & 0 & 0 & 0 & 0 & 0 & 0 & 0 & 0 & 0 & 1\\\\1 & 0 & 0 & 0 & 0 & 0 & 0 & 0 & 0 & 0 & 0 & 0 & 0 & 0 & 0 & 0\\\\0 & 1 & 0 & 0 & 0 & 0 & 0 & 0 & 0 & 0 & 0 & 0 & 0 & 0 & 0 & 0\\\\0 & 0 & 1 & 0 & 0 & 0 & 0 & 0 & 0 & 0 & 0 & 0 & 0 & 0 & 0 & 0\\\\0 & 0 & 0 & 1 & 0 & 0 & 0 & 0 & 0 & 0 & 0 & 0 & 0 & 0 & 0 & 0\\\\0 & 0 & 0 & 0 & 1 & 0 & 0 & 0 & 0 & 0 & 0 & 0 & 0 & 0 & 0 & 0\\\\0 & 0 & 0 & 0 & 0 & 1 & 0 & 0 & 0 & 0 & 0 & 0 & 0 & 0 & 0 & 0\\\\0 & 0 & 0 & 0 & 0 & 0 & 1 & 0 & 0 & 0 & 0 & 0 & 0 & 0 & 0 & 0\\\\0 & 0 & 0 & 0 & 0 & 0 & 0 & 1 & 0 & 0 & 0 & 0 & 0 & 0 & 0 & 0\\end{array}\\right]$"
      ],
      "text/plain": [
       "⎡0  0  0  0  0  0  0  0  1  0  0  0  0  0  0  0⎤\n",
       "⎢                                              ⎥\n",
       "⎢0  0  0  0  0  0  0  0  0  1  0  0  0  0  0  0⎥\n",
       "⎢                                              ⎥\n",
       "⎢0  0  0  0  0  0  0  0  0  0  1  0  0  0  0  0⎥\n",
       "⎢                                              ⎥\n",
       "⎢0  0  0  0  0  0  0  0  0  0  0  1  0  0  0  0⎥\n",
       "⎢                                              ⎥\n",
       "⎢0  0  0  0  0  0  0  0  0  0  0  0  1  0  0  0⎥\n",
       "⎢                                              ⎥\n",
       "⎢0  0  0  0  0  0  0  0  0  0  0  0  0  1  0  0⎥\n",
       "⎢                                              ⎥\n",
       "⎢0  0  0  0  0  0  0  0  0  0  0  0  0  0  1  0⎥\n",
       "⎢                                              ⎥\n",
       "⎢0  0  0  0  0  0  0  0  0  0  0  0  0  0  0  1⎥\n",
       "⎢                                              ⎥\n",
       "⎢1  0  0  0  0  0  0  0  0  0  0  0  0  0  0  0⎥\n",
       "⎢                                              ⎥\n",
       "⎢0  1  0  0  0  0  0  0  0  0  0  0  0  0  0  0⎥\n",
       "⎢                                              ⎥\n",
       "⎢0  0  1  0  0  0  0  0  0  0  0  0  0  0  0  0⎥\n",
       "⎢                                              ⎥\n",
       "⎢0  0  0  1  0  0  0  0  0  0  0  0  0  0  0  0⎥\n",
       "⎢                                              ⎥\n",
       "⎢0  0  0  0  1  0  0  0  0  0  0  0  0  0  0  0⎥\n",
       "⎢                                              ⎥\n",
       "⎢0  0  0  0  0  1  0  0  0  0  0  0  0  0  0  0⎥\n",
       "⎢                                              ⎥\n",
       "⎢0  0  0  0  0  0  1  0  0  0  0  0  0  0  0  0⎥\n",
       "⎢                                              ⎥\n",
       "⎣0  0  0  0  0  0  0  1  0  0  0  0  0  0  0  0⎦"
      ]
     },
     "execution_count": 37,
     "metadata": {},
     "output_type": "execute_result"
    }
   ],
   "source": [
    "sp.Matrix(\n",
    "    sp.BlockMatrix(\n",
    "        [\n",
    "            [sp.zeros(8, 8), sp.eye(8)],\n",
    "            [sp.eye(8), sp.zeros(8, 8)],\n",
    "        ]\n",
    "    )\n",
    ")"
   ]
  },
  {
   "cell_type": "code",
   "execution_count": null,
   "id": "53cdca3e",
   "metadata": {},
   "outputs": [],
   "source": []
  },
  {
   "cell_type": "markdown",
   "id": "b121d6a5",
   "metadata": {},
   "source": [
    "## TIME EVOLUTION OPERATOR"
   ]
  },
  {
   "cell_type": "code",
   "execution_count": 88,
   "id": "3bbb62bd",
   "metadata": {},
   "outputs": [
    {
     "data": {
      "text/latex": [
       "$\\displaystyle \\left[\\begin{array}{cccccccccccccccc}0 & \\overline{P_{2}} & \\overline{P_{1}} & 0 & 0 & 0 & 0 & 0 & 0 & 0 & 0 & 0 & 0 & 0 & 0 & 0\\\\P_{2} & E_{2} & K_{21} & \\overline{P_{1}} & J_{22} & 0 & 0 & 0 & J_{12} & 0 & 0 & 0 & 0 & 0 & 0 & 0\\\\P_{1} & \\overline{K_{21}} & E_{1} & \\overline{P_{2}} & J_{21} & 0 & 0 & 0 & J_{11} & 0 & 0 & 0 & 0 & 0 & 0 & 0\\\\0 & P_{1} & P_{2} & E_{1} + E_{2} & 0 & J_{21} & J_{22} & 0 & 0 & J_{11} & J_{12} & 0 & 0 & 0 & 0 & 0\\\\0 & \\overline{J_{22}} & \\overline{J_{21}} & 0 & 0 & \\overline{P_{2}} & \\overline{P_{1}} & 0 & 0 & 0 & 0 & 0 & 0 & 0 & 0 & 0\\\\0 & 0 & 0 & \\overline{J_{21}} & P_{2} & E_{2} & K_{21} & \\overline{P_{1}} & 0 & 0 & 0 & 0 & J_{12} & 0 & 0 & 0\\\\0 & 0 & 0 & \\overline{J_{22}} & P_{1} & \\overline{K_{21}} & E_{1} & \\overline{P_{2}} & 0 & 0 & 0 & 0 & J_{11} & 0 & 0 & 0\\\\0 & 0 & 0 & 0 & 0 & P_{1} & P_{2} & E_{1} + E_{2} & 0 & 0 & 0 & 0 & 0 & J_{11} & J_{12} & 0\\\\0 & \\overline{J_{12}} & \\overline{J_{11}} & 0 & 0 & 0 & 0 & 0 & 0 & \\overline{P_{2}} & \\overline{P_{1}} & 0 & 0 & 0 & 0 & 0\\\\0 & 0 & 0 & \\overline{J_{11}} & 0 & 0 & 0 & 0 & P_{2} & E_{2} & K_{21} & \\overline{P_{1}} & J_{22} & 0 & 0 & 0\\\\0 & 0 & 0 & \\overline{J_{12}} & 0 & 0 & 0 & 0 & P_{1} & \\overline{K_{21}} & E_{1} & \\overline{P_{2}} & J_{21} & 0 & 0 & 0\\\\0 & 0 & 0 & 0 & 0 & 0 & 0 & 0 & 0 & P_{1} & P_{2} & E_{1} + E_{2} & 0 & J_{21} & J_{22} & 0\\\\0 & 0 & 0 & 0 & 0 & \\overline{J_{12}} & \\overline{J_{11}} & 0 & 0 & \\overline{J_{22}} & \\overline{J_{21}} & 0 & 0 & \\overline{P_{2}} & \\overline{P_{1}} & 0\\\\0 & 0 & 0 & 0 & 0 & 0 & 0 & \\overline{J_{11}} & 0 & 0 & 0 & \\overline{J_{21}} & P_{2} & E_{2} & K_{21} & \\overline{P_{1}}\\\\0 & 0 & 0 & 0 & 0 & 0 & 0 & \\overline{J_{12}} & 0 & 0 & 0 & \\overline{J_{22}} & P_{1} & \\overline{K_{21}} & E_{1} & \\overline{P_{2}}\\\\0 & 0 & 0 & 0 & 0 & 0 & 0 & 0 & 0 & 0 & 0 & 0 & 0 & P_{1} & P_{2} & E_{1} + E_{2}\\end{array}\\right]$"
      ],
      "text/plain": [
       "⎡      __      __                                                             \n",
       "⎢0     P₂      P₁       0       0       0       0        0       0       0    \n",
       "⎢                                                                             \n",
       "⎢                      __                                                     \n",
       "⎢P₂    E₂    K_{21}    P₁     J_{22}    0       0        0     J_{12}    0    \n",
       "⎢                                                                             \n",
       "⎢    ______            __                                                     \n",
       "⎢P₁  K_{21}    E₁      P₂     J_{21}    0       0        0     J_{11}    0    \n",
       "⎢                                                                             \n",
       "⎢0     P₁      P₂    E₁ + E₂    0     J_{21}  J_{22}     0       0     J_{11} \n",
       "⎢                                                                             \n",
       "⎢    ______  ______                     __      __                            \n",
       "⎢0   J_{22}  J_{21}     0       0       P₂      P₁       0       0       0    \n",
       "⎢                                                                             \n",
       "⎢                    ______                             __                    \n",
       "⎢0     0       0     J_{21}     P₂      E₂    K_{21}    P₁       0       0    \n",
       "⎢                                                                             \n",
       "⎢                    ______           ______            __                    \n",
       "⎢0     0       0     J_{22}     P₁    K_{21}    E₁      P₂       0       0    \n",
       "⎢                                                                             \n",
       "⎢0     0       0        0       0       P₁      P₂    E₁ + E₂    0       0    \n",
       "⎢                                                                             \n",
       "⎢    ______  ______                                                      __   \n",
       "⎢0   J_{12}  J_{11}     0       0       0       0        0       0       P₂   \n",
       "⎢                                                                             \n",
       "⎢                    ______                                                   \n",
       "⎢0     0       0     J_{11}     0       0       0        0       P₂      E₂   \n",
       "⎢                                                                             \n",
       "⎢                    ______                                            ______ \n",
       "⎢0     0       0     J_{12}     0       0       0        0       P₁    K_{21} \n",
       "⎢                                                                             \n",
       "⎢0     0       0        0       0       0       0        0       0       P₁   \n",
       "⎢                                                                             \n",
       "⎢                                     ______  ______                   ______ \n",
       "⎢0     0       0        0       0     J_{12}  J_{11}     0       0     J_{22} \n",
       "⎢                                                                             \n",
       "⎢                                                     ______                  \n",
       "⎢0     0       0        0       0       0       0     J_{11}     0       0    \n",
       "⎢                                                                             \n",
       "⎢                                                     ______                  \n",
       "⎢0     0       0        0       0       0       0     J_{12}     0       0    \n",
       "⎢                                                                             \n",
       "⎣0     0       0        0       0       0       0        0       0       0    \n",
       "\n",
       "                                                 ⎤\n",
       "   0        0       0       0       0        0   ⎥\n",
       "                                                 ⎥\n",
       "                                                 ⎥\n",
       "   0        0       0       0       0        0   ⎥\n",
       "                                                 ⎥\n",
       "                                                 ⎥\n",
       "   0        0       0       0       0        0   ⎥\n",
       "                                                 ⎥\n",
       " J_{12}     0       0       0       0        0   ⎥\n",
       "                                                 ⎥\n",
       "                                                 ⎥\n",
       "   0        0       0       0       0        0   ⎥\n",
       "                                                 ⎥\n",
       "                                                 ⎥\n",
       "   0        0     J_{12}    0       0        0   ⎥\n",
       "                                                 ⎥\n",
       "                                                 ⎥\n",
       "   0        0     J_{11}    0       0        0   ⎥\n",
       "                                                 ⎥\n",
       "   0        0       0     J_{11}  J_{12}     0   ⎥\n",
       "                                                 ⎥\n",
       "   __                                            ⎥\n",
       "   P₁       0       0       0       0        0   ⎥\n",
       "                                                 ⎥\n",
       "           __                                    ⎥\n",
       " K_{21}    P₁     J_{22}    0       0        0   ⎥\n",
       "                                                 ⎥\n",
       "           __                                    ⎥\n",
       "   E₁      P₂     J_{21}    0       0        0   ⎥\n",
       "                                                 ⎥\n",
       "   P₂    E₁ + E₂    0     J_{21}  J_{22}     0   ⎥\n",
       "                                                 ⎥\n",
       " ______                     __      __           ⎥\n",
       " J_{21}     0       0       P₂      P₁       0   ⎥\n",
       "                                                 ⎥\n",
       "         ______                             __   ⎥\n",
       "   0     J_{21}     P₂      E₂    K_{21}    P₁   ⎥\n",
       "                                                 ⎥\n",
       "         ______           ______            __   ⎥\n",
       "   0     J_{22}     P₁    K_{21}    E₁      P₂   ⎥\n",
       "                                                 ⎥\n",
       "   0        0       0       P₁      P₂    E₁ + E₂⎦"
      ]
     },
     "execution_count": 88,
     "metadata": {},
     "output_type": "execute_result"
    }
   ],
   "source": [
    "Hcopy = H\n",
    "Hcopy"
   ]
  },
  {
   "cell_type": "code",
   "execution_count": 78,
   "id": "7cb88380",
   "metadata": {},
   "outputs": [],
   "source": [
    "tauhbar=1"
   ]
  },
  {
   "cell_type": "code",
   "execution_count": 69,
   "id": "6f30125f",
   "metadata": {
    "scrolled": true
   },
   "outputs": [
    {
     "data": {
      "text/latex": [
       "$\\displaystyle \\left( \\left[\\begin{matrix}0 & 0\\\\1 & 0\\end{matrix}\\right], \\  \\left[\\begin{matrix}0 & 1\\\\0 & 0\\end{matrix}\\right], \\  E_{1}, \\  E_{2}, \\  K_{21}, \\  P_{1}, \\  P_{2}, \\  J_{11}, \\  J_{12}, \\  J_{21}, \\  J_{22}\\right)$"
      ],
      "text/plain": [
       "⎛⎡0  0⎤  ⎡0  1⎤                                                        ⎞\n",
       "⎜⎢    ⎥, ⎢    ⎥, E₁, E₂, K_{21}, P₁, P₂, J_{11}, J_{12}, J_{21}, J_{22}⎟\n",
       "⎝⎣1  0⎦  ⎣0  0⎦                                                        ⎠"
      ]
     },
     "execution_count": 69,
     "metadata": {},
     "output_type": "execute_result"
    }
   ],
   "source": [
    "E1, E2, K, P1, P2, J11, J12, J21, J22 = sp.symbols(\"E_1 E_2 K_{21} P_1 P_2 J_{11} J_{12} J_{21} J_{22}\")\n",
    "a_dag = sp.Matrix([[0,0],[1,0]])\n",
    "a_dag,a_dag.T, E1, E2, K, P1, P2, J11, J12, J21, J22"
   ]
  },
  {
   "cell_type": "code",
   "execution_count": 91,
   "id": "922fd2c0",
   "metadata": {},
   "outputs": [
    {
     "data": {
      "image/png": "[encoded data removed]",
      "text/latex": [
       "$\\displaystyle \\left( 1, \\  2, \\  1, \\  0.5, \\  0.5, \\  0.2, \\  0.23, \\  0.2, \\  0.2\\right)$"
      ],
      "text/plain": [
       "(1, 2, 1, 0.5, 0.5, 0.2, 0.23, 0.2, 0.2)"
      ]
     },
     "execution_count": 91,
     "metadata": {},
     "output_type": "execute_result"
    }
   ],
   "source": [
    "E1, E2, K, P1, P2, J11, J12, J21, J22 = (1, 2, 1, 0.5, 0.5, 0.2, 0.23, 0.2, 0.2)\n",
    "E1, E2, K, P1, P2, J11, J12, J21, J22"
   ]
  },
  {
   "cell_type": "code",
   "execution_count": 92,
   "id": "9c5604c0",
   "metadata": {},
   "outputs": [],
   "source": [
    "Hcopy = Hcopy.subs({\"E_1\":E1,\"E_2\":E2,\"K_{21}\":K,\"P_1\":P1,\"P_2\":P2,\"J_{11}\":J11,\"J_{12}\":J12,\"J_{21}\":J21,\"J_{22}\":J22})"
   ]
  },
  {
   "cell_type": "code",
   "execution_count": 93,
   "id": "ebc749e8",
   "metadata": {
    "scrolled": false
   },
   "outputs": [
    {
     "data": {
      "text/latex": [
       "$\\displaystyle \\left[\\begin{array}{cccccccccccccccc}0 & 0.5 & 0.5 & 0 & 0 & 0 & 0 & 0 & 0 & 0 & 0 & 0 & 0 & 0 & 0 & 0\\\\0.5 & 2 & 1 & 0.5 & 0.2 & 0 & 0 & 0 & 0.23 & 0 & 0 & 0 & 0 & 0 & 0 & 0\\\\0.5 & 1 & 1 & 0.5 & 0.2 & 0 & 0 & 0 & 0.2 & 0 & 0 & 0 & 0 & 0 & 0 & 0\\\\0 & 0.5 & 0.5 & 3 & 0 & 0.2 & 0.2 & 0 & 0 & 0.2 & 0.23 & 0 & 0 & 0 & 0 & 0\\\\0 & 0.2 & 0.2 & 0 & 0 & 0.5 & 0.5 & 0 & 0 & 0 & 0 & 0 & 0 & 0 & 0 & 0\\\\0 & 0 & 0 & 0.2 & 0.5 & 2 & 1 & 0.5 & 0 & 0 & 0 & 0 & 0.23 & 0 & 0 & 0\\\\0 & 0 & 0 & 0.2 & 0.5 & 1 & 1 & 0.5 & 0 & 0 & 0 & 0 & 0.2 & 0 & 0 & 0\\\\0 & 0 & 0 & 0 & 0 & 0.5 & 0.5 & 3 & 0 & 0 & 0 & 0 & 0 & 0.2 & 0.23 & 0\\\\0 & 0.23 & 0.2 & 0 & 0 & 0 & 0 & 0 & 0 & 0.5 & 0.5 & 0 & 0 & 0 & 0 & 0\\\\0 & 0 & 0 & 0.2 & 0 & 0 & 0 & 0 & 0.5 & 2 & 1 & 0.5 & 0.2 & 0 & 0 & 0\\\\0 & 0 & 0 & 0.23 & 0 & 0 & 0 & 0 & 0.5 & 1 & 1 & 0.5 & 0.2 & 0 & 0 & 0\\\\0 & 0 & 0 & 0 & 0 & 0 & 0 & 0 & 0 & 0.5 & 0.5 & 3 & 0 & 0.2 & 0.2 & 0\\\\0 & 0 & 0 & 0 & 0 & 0.23 & 0.2 & 0 & 0 & 0.2 & 0.2 & 0 & 0 & 0.5 & 0.5 & 0\\\\0 & 0 & 0 & 0 & 0 & 0 & 0 & 0.2 & 0 & 0 & 0 & 0.2 & 0.5 & 2 & 1 & 0.5\\\\0 & 0 & 0 & 0 & 0 & 0 & 0 & 0.23 & 0 & 0 & 0 & 0.2 & 0.5 & 1 & 1 & 0.5\\\\0 & 0 & 0 & 0 & 0 & 0 & 0 & 0 & 0 & 0 & 0 & 0 & 0 & 0.5 & 0.5 & 3\\end{array}\\right]$"
      ],
      "text/plain": [
       "⎡ 0   0.5   0.5   0     0    0     0    0     0     0    0     0    0     0   \n",
       "⎢                                                                             \n",
       "⎢0.5   2     1   0.5   0.2   0     0    0    0.23   0    0     0    0     0   \n",
       "⎢                                                                             \n",
       "⎢0.5   1     1   0.5   0.2   0     0    0    0.2    0    0     0    0     0   \n",
       "⎢                                                                             \n",
       "⎢ 0   0.5   0.5   3     0   0.2   0.2   0     0    0.2  0.23   0    0     0   \n",
       "⎢                                                                             \n",
       "⎢ 0   0.2   0.2   0     0   0.5   0.5   0     0     0    0     0    0     0   \n",
       "⎢                                                                             \n",
       "⎢ 0    0     0   0.2   0.5   2     1   0.5    0     0    0     0   0.23   0   \n",
       "⎢                                                                             \n",
       "⎢ 0    0     0   0.2   0.5   1     1   0.5    0     0    0     0   0.2    0   \n",
       "⎢                                                                             \n",
       "⎢ 0    0     0    0     0   0.5   0.5   3     0     0    0     0    0    0.2  \n",
       "⎢                                                                             \n",
       "⎢ 0   0.23  0.2   0     0    0     0    0     0    0.5  0.5    0    0     0   \n",
       "⎢                                                                             \n",
       "⎢ 0    0     0   0.2    0    0     0    0    0.5    2    1    0.5  0.2    0   \n",
       "⎢                                                                             \n",
       "⎢ 0    0     0   0.23   0    0     0    0    0.5    1    1    0.5  0.2    0   \n",
       "⎢                                                                             \n",
       "⎢ 0    0     0    0     0    0     0    0     0    0.5  0.5    3    0    0.2  \n",
       "⎢                                                                             \n",
       "⎢ 0    0     0    0     0   0.23  0.2   0     0    0.2  0.2    0    0    0.5  \n",
       "⎢                                                                             \n",
       "⎢ 0    0     0    0     0    0     0   0.2    0     0    0    0.2  0.5    2   \n",
       "⎢                                                                             \n",
       "⎢ 0    0     0    0     0    0     0   0.23   0     0    0    0.2  0.5    1   \n",
       "⎢                                                                             \n",
       "⎣ 0    0     0    0     0    0     0    0     0     0    0     0    0    0.5  \n",
       "\n",
       " 0     0 ⎤\n",
       "         ⎥\n",
       " 0     0 ⎥\n",
       "         ⎥\n",
       " 0     0 ⎥\n",
       "         ⎥\n",
       " 0     0 ⎥\n",
       "         ⎥\n",
       " 0     0 ⎥\n",
       "         ⎥\n",
       " 0     0 ⎥\n",
       "         ⎥\n",
       " 0     0 ⎥\n",
       "         ⎥\n",
       "0.23   0 ⎥\n",
       "         ⎥\n",
       " 0     0 ⎥\n",
       "         ⎥\n",
       " 0     0 ⎥\n",
       "         ⎥\n",
       " 0     0 ⎥\n",
       "         ⎥\n",
       "0.2    0 ⎥\n",
       "         ⎥\n",
       "0.5    0 ⎥\n",
       "         ⎥\n",
       " 1    0.5⎥\n",
       "         ⎥\n",
       " 1    0.5⎥\n",
       "         ⎥\n",
       "0.5    3 ⎦"
      ]
     },
     "execution_count": 93,
     "metadata": {},
     "output_type": "execute_result"
    }
   ],
   "source": [
    "Hcopy"
   ]
  },
  {
   "cell_type": "code",
   "execution_count": 94,
   "id": "a61d383b",
   "metadata": {
    "scrolled": true
   },
   "outputs": [
    {
     "data": {
      "text/latex": [
       "$\\displaystyle \\left[\\begin{array}{cccccccccccccccc}0 & - 0.5 i & - 0.5 i & 0 & 0 & 0 & 0 & 0 & 0 & 0 & 0 & 0 & 0 & 0 & 0 & 0\\\\- 0.5 i & - 2.0 i & - 1.0 i & - 0.5 i & - 0.2 i & 0 & 0 & 0 & - 0.23 i & 0 & 0 & 0 & 0 & 0 & 0 & 0\\\\- 0.5 i & - 1.0 i & - 1.0 i & - 0.5 i & - 0.2 i & 0 & 0 & 0 & - 0.2 i & 0 & 0 & 0 & 0 & 0 & 0 & 0\\\\0 & - 0.5 i & - 0.5 i & - 3.0 i & 0 & - 0.2 i & - 0.2 i & 0 & 0 & - 0.2 i & - 0.23 i & 0 & 0 & 0 & 0 & 0\\\\0 & - 0.2 i & - 0.2 i & 0 & 0 & - 0.5 i & - 0.5 i & 0 & 0 & 0 & 0 & 0 & 0 & 0 & 0 & 0\\\\0 & 0 & 0 & - 0.2 i & - 0.5 i & - 2.0 i & - 1.0 i & - 0.5 i & 0 & 0 & 0 & 0 & - 0.23 i & 0 & 0 & 0\\\\0 & 0 & 0 & - 0.2 i & - 0.5 i & - 1.0 i & - 1.0 i & - 0.5 i & 0 & 0 & 0 & 0 & - 0.2 i & 0 & 0 & 0\\\\0 & 0 & 0 & 0 & 0 & - 0.5 i & - 0.5 i & - 3.0 i & 0 & 0 & 0 & 0 & 0 & - 0.2 i & - 0.23 i & 0\\\\0 & - 0.23 i & - 0.2 i & 0 & 0 & 0 & 0 & 0 & 0 & - 0.5 i & - 0.5 i & 0 & 0 & 0 & 0 & 0\\\\0 & 0 & 0 & - 0.2 i & 0 & 0 & 0 & 0 & - 0.5 i & - 2.0 i & - 1.0 i & - 0.5 i & - 0.2 i & 0 & 0 & 0\\\\0 & 0 & 0 & - 0.23 i & 0 & 0 & 0 & 0 & - 0.5 i & - 1.0 i & - 1.0 i & - 0.5 i & - 0.2 i & 0 & 0 & 0\\\\0 & 0 & 0 & 0 & 0 & 0 & 0 & 0 & 0 & - 0.5 i & - 0.5 i & - 3.0 i & 0 & - 0.2 i & - 0.2 i & 0\\\\0 & 0 & 0 & 0 & 0 & - 0.23 i & - 0.2 i & 0 & 0 & - 0.2 i & - 0.2 i & 0 & 0 & - 0.5 i & - 0.5 i & 0\\\\0 & 0 & 0 & 0 & 0 & 0 & 0 & - 0.2 i & 0 & 0 & 0 & - 0.2 i & - 0.5 i & - 2.0 i & - 1.0 i & - 0.5 i\\\\0 & 0 & 0 & 0 & 0 & 0 & 0 & - 0.23 i & 0 & 0 & 0 & - 0.2 i & - 0.5 i & - 1.0 i & - 1.0 i & - 0.5 i\\\\0 & 0 & 0 & 0 & 0 & 0 & 0 & 0 & 0 & 0 & 0 & 0 & 0 & - 0.5 i & - 0.5 i & - 3.0 i\\end{array}\\right]$"
      ],
      "text/plain": [
       "⎡  0     -0.5⋅ⅈ   -0.5⋅ⅈ     0       0        0       0        0        0     \n",
       "⎢                                                                             \n",
       "⎢-0.5⋅ⅈ  -2.0⋅ⅈ   -1.0⋅ⅈ  -0.5⋅ⅈ   -0.2⋅ⅈ     0       0        0     -0.23⋅ⅈ  \n",
       "⎢                                                                             \n",
       "⎢-0.5⋅ⅈ  -1.0⋅ⅈ   -1.0⋅ⅈ  -0.5⋅ⅈ   -0.2⋅ⅈ     0       0        0     -0.2⋅ⅈ   \n",
       "⎢                                                                             \n",
       "⎢  0     -0.5⋅ⅈ   -0.5⋅ⅈ  -3.0⋅ⅈ     0     -0.2⋅ⅈ   -0.2⋅ⅈ     0        0     \n",
       "⎢                                                                             \n",
       "⎢  0     -0.2⋅ⅈ   -0.2⋅ⅈ     0       0     -0.5⋅ⅈ   -0.5⋅ⅈ     0        0     \n",
       "⎢                                                                             \n",
       "⎢  0        0       0     -0.2⋅ⅈ   -0.5⋅ⅈ  -2.0⋅ⅈ   -1.0⋅ⅈ  -0.5⋅ⅈ      0     \n",
       "⎢                                                                             \n",
       "⎢  0        0       0     -0.2⋅ⅈ   -0.5⋅ⅈ  -1.0⋅ⅈ   -1.0⋅ⅈ  -0.5⋅ⅈ      0     \n",
       "⎢                                                                             \n",
       "⎢  0        0       0        0       0     -0.5⋅ⅈ   -0.5⋅ⅈ  -3.0⋅ⅈ      0     \n",
       "⎢                                                                             \n",
       "⎢  0     -0.23⋅ⅈ  -0.2⋅ⅈ     0       0        0       0        0        0     \n",
       "⎢                                                                             \n",
       "⎢  0        0       0     -0.2⋅ⅈ     0        0       0        0     -0.5⋅ⅈ   \n",
       "⎢                                                                             \n",
       "⎢  0        0       0     -0.23⋅ⅈ    0        0       0        0     -0.5⋅ⅈ   \n",
       "⎢                                                                             \n",
       "⎢  0        0       0        0       0        0       0        0        0     \n",
       "⎢                                                                             \n",
       "⎢  0        0       0        0       0     -0.23⋅ⅈ  -0.2⋅ⅈ     0        0     \n",
       "⎢                                                                             \n",
       "⎢  0        0       0        0       0        0       0     -0.2⋅ⅈ      0     \n",
       "⎢                                                                             \n",
       "⎢  0        0       0        0       0        0       0     -0.23⋅ⅈ     0     \n",
       "⎢                                                                             \n",
       "⎣  0        0       0        0       0        0       0        0        0     \n",
       "\n",
       "  0        0       0        0       0        0       0   ⎤\n",
       "                                                         ⎥\n",
       "  0        0       0        0       0        0       0   ⎥\n",
       "                                                         ⎥\n",
       "  0        0       0        0       0        0       0   ⎥\n",
       "                                                         ⎥\n",
       "-0.2⋅ⅈ  -0.23⋅ⅈ    0        0       0        0       0   ⎥\n",
       "                                                         ⎥\n",
       "  0        0       0        0       0        0       0   ⎥\n",
       "                                                         ⎥\n",
       "  0        0       0     -0.23⋅ⅈ    0        0       0   ⎥\n",
       "                                                         ⎥\n",
       "  0        0       0     -0.2⋅ⅈ     0        0       0   ⎥\n",
       "                                                         ⎥\n",
       "  0        0       0        0     -0.2⋅ⅈ  -0.23⋅ⅈ    0   ⎥\n",
       "                                                         ⎥\n",
       "-0.5⋅ⅈ  -0.5⋅ⅈ     0        0       0        0       0   ⎥\n",
       "                                                         ⎥\n",
       "-2.0⋅ⅈ  -1.0⋅ⅈ   -0.5⋅ⅈ  -0.2⋅ⅈ     0        0       0   ⎥\n",
       "                                                         ⎥\n",
       "-1.0⋅ⅈ  -1.0⋅ⅈ   -0.5⋅ⅈ  -0.2⋅ⅈ     0        0       0   ⎥\n",
       "                                                         ⎥\n",
       "-0.5⋅ⅈ  -0.5⋅ⅈ   -3.0⋅ⅈ     0     -0.2⋅ⅈ  -0.2⋅ⅈ     0   ⎥\n",
       "                                                         ⎥\n",
       "-0.2⋅ⅈ  -0.2⋅ⅈ     0        0     -0.5⋅ⅈ  -0.5⋅ⅈ     0   ⎥\n",
       "                                                         ⎥\n",
       "  0        0     -0.2⋅ⅈ  -0.5⋅ⅈ   -2.0⋅ⅈ  -1.0⋅ⅈ   -0.5⋅ⅈ⎥\n",
       "                                                         ⎥\n",
       "  0        0     -0.2⋅ⅈ  -0.5⋅ⅈ   -1.0⋅ⅈ  -1.0⋅ⅈ   -0.5⋅ⅈ⎥\n",
       "                                                         ⎥\n",
       "  0        0       0        0     -0.5⋅ⅈ  -0.5⋅ⅈ   -3.0⋅ⅈ⎦"
      ]
     },
     "execution_count": 94,
     "metadata": {},
     "output_type": "execute_result"
    }
   ],
   "source": [
    "Hh = Hcopy*-1j*tauhbar \n",
    "Hh"
   ]
  },
  {
   "cell_type": "code",
   "execution_count": 97,
   "id": "a949661f",
   "metadata": {
    "scrolled": true
   },
   "outputs": [
    {
     "ename": "NotImplementedError",
     "evalue": "Exponentiation is implemented only for matrices for which the Jordan normal form can be computed",
     "output_type": "error",
     "traceback": [
      "\u001b[1;31m---------------------------------------------------------------------------\u001b[0m",
      "\u001b[1;31mNotImplementedError\u001b[0m                       Traceback (most recent call last)",
      "\u001b[1;32mD:\\User\\Rojar\\Documents\\Anaconda\\lib\\site-packages\\sympy\\matrices\\eigen.py\u001b[0m in \u001b[0;36m_eigenvals_dict\u001b[1;34m(M, error_when_incomplete, simplify, **flags)\u001b[0m\n\u001b[0;32m    260\u001b[0m             \u001b[1;32mtry\u001b[0m\u001b[1;33m:\u001b[0m\u001b[1;33m\u001b[0m\u001b[1;33m\u001b[0m\u001b[0m\n\u001b[1;32m--> 261\u001b[1;33m                 \u001b[0meigs\u001b[0m \u001b[1;33m=\u001b[0m \u001b[1;33m{\u001b[0m\u001b[0mCRootOf\u001b[0m\u001b[1;33m(\u001b[0m\u001b[0mf\u001b[0m\u001b[1;33m,\u001b[0m \u001b[0mx\u001b[0m\u001b[1;33m,\u001b[0m \u001b[0midx\u001b[0m\u001b[1;33m)\u001b[0m\u001b[1;33m:\u001b[0m \u001b[1;36m1\u001b[0m \u001b[1;32mfor\u001b[0m \u001b[0midx\u001b[0m \u001b[1;32min\u001b[0m \u001b[0mrange\u001b[0m\u001b[1;33m(\u001b[0m\u001b[0mdegree\u001b[0m\u001b[1;33m)\u001b[0m\u001b[1;33m}\u001b[0m\u001b[1;33m\u001b[0m\u001b[1;33m\u001b[0m\u001b[0m\n\u001b[0m\u001b[0;32m    262\u001b[0m             \u001b[1;32mexcept\u001b[0m \u001b[0mNotImplementedError\u001b[0m\u001b[1;33m:\u001b[0m\u001b[1;33m\u001b[0m\u001b[1;33m\u001b[0m\u001b[0m\n",
      "\u001b[1;32mD:\\User\\Rojar\\Documents\\Anaconda\\lib\\site-packages\\sympy\\matrices\\eigen.py\u001b[0m in \u001b[0;36m<dictcomp>\u001b[1;34m(.0)\u001b[0m\n\u001b[0;32m    260\u001b[0m             \u001b[1;32mtry\u001b[0m\u001b[1;33m:\u001b[0m\u001b[1;33m\u001b[0m\u001b[1;33m\u001b[0m\u001b[0m\n\u001b[1;32m--> 261\u001b[1;33m                 \u001b[0meigs\u001b[0m \u001b[1;33m=\u001b[0m \u001b[1;33m{\u001b[0m\u001b[0mCRootOf\u001b[0m\u001b[1;33m(\u001b[0m\u001b[0mf\u001b[0m\u001b[1;33m,\u001b[0m \u001b[0mx\u001b[0m\u001b[1;33m,\u001b[0m \u001b[0midx\u001b[0m\u001b[1;33m)\u001b[0m\u001b[1;33m:\u001b[0m \u001b[1;36m1\u001b[0m \u001b[1;32mfor\u001b[0m \u001b[0midx\u001b[0m \u001b[1;32min\u001b[0m \u001b[0mrange\u001b[0m\u001b[1;33m(\u001b[0m\u001b[0mdegree\u001b[0m\u001b[1;33m)\u001b[0m\u001b[1;33m}\u001b[0m\u001b[1;33m\u001b[0m\u001b[1;33m\u001b[0m\u001b[0m\n\u001b[0m\u001b[0;32m    262\u001b[0m             \u001b[1;32mexcept\u001b[0m \u001b[0mNotImplementedError\u001b[0m\u001b[1;33m:\u001b[0m\u001b[1;33m\u001b[0m\u001b[1;33m\u001b[0m\u001b[0m\n",
      "\u001b[1;32mD:\\User\\Rojar\\Documents\\Anaconda\\lib\\site-packages\\sympy\\polys\\rootoftools.py\u001b[0m in \u001b[0;36m__new__\u001b[1;34m(cls, f, x, index, radicals, expand)\u001b[0m\n\u001b[0;32m    351\u001b[0m         \u001b[1;32mif\u001b[0m \u001b[1;32mnot\u001b[0m \u001b[0mdom\u001b[0m\u001b[1;33m.\u001b[0m\u001b[0mis_ZZ\u001b[0m\u001b[1;33m:\u001b[0m\u001b[1;33m\u001b[0m\u001b[1;33m\u001b[0m\u001b[0m\n\u001b[1;32m--> 352\u001b[1;33m             \u001b[1;32mraise\u001b[0m \u001b[0mNotImplementedError\u001b[0m\u001b[1;33m(\u001b[0m\u001b[1;34m\"CRootOf is not supported over %s\"\u001b[0m \u001b[1;33m%\u001b[0m \u001b[0mdom\u001b[0m\u001b[1;33m)\u001b[0m\u001b[1;33m\u001b[0m\u001b[1;33m\u001b[0m\u001b[0m\n\u001b[0m\u001b[0;32m    353\u001b[0m \u001b[1;33m\u001b[0m\u001b[0m\n",
      "\u001b[1;31mNotImplementedError\u001b[0m: CRootOf is not supported over ZZ_I",
      "\nDuring handling of the above exception, another exception occurred:\n",
      "\u001b[1;31mMatrixError\u001b[0m                               Traceback (most recent call last)",
      "\u001b[1;32mD:\\User\\Rojar\\Documents\\Anaconda\\lib\\site-packages\\sympy\\matrices\\matrices.py\u001b[0m in \u001b[0;36mexp\u001b[1;34m(self)\u001b[0m\n\u001b[0;32m   1642\u001b[0m         \u001b[1;32mtry\u001b[0m\u001b[1;33m:\u001b[0m\u001b[1;33m\u001b[0m\u001b[1;33m\u001b[0m\u001b[0m\n\u001b[1;32m-> 1643\u001b[1;33m             \u001b[0mP\u001b[0m\u001b[1;33m,\u001b[0m \u001b[0mJ\u001b[0m \u001b[1;33m=\u001b[0m \u001b[0mself\u001b[0m\u001b[1;33m.\u001b[0m\u001b[0mjordan_form\u001b[0m\u001b[1;33m(\u001b[0m\u001b[1;33m)\u001b[0m\u001b[1;33m\u001b[0m\u001b[1;33m\u001b[0m\u001b[0m\n\u001b[0m\u001b[0;32m   1644\u001b[0m             \u001b[0mcells\u001b[0m \u001b[1;33m=\u001b[0m \u001b[0mJ\u001b[0m\u001b[1;33m.\u001b[0m\u001b[0mget_diag_blocks\u001b[0m\u001b[1;33m(\u001b[0m\u001b[1;33m)\u001b[0m\u001b[1;33m\u001b[0m\u001b[1;33m\u001b[0m\u001b[0m\n",
      "\u001b[1;32mD:\\User\\Rojar\\Documents\\Anaconda\\lib\\site-packages\\sympy\\matrices\\matrices.py\u001b[0m in \u001b[0;36mjordan_form\u001b[1;34m(self, calc_transform, **kwargs)\u001b[0m\n\u001b[0;32m    415\u001b[0m     \u001b[1;32mdef\u001b[0m \u001b[0mjordan_form\u001b[0m\u001b[1;33m(\u001b[0m\u001b[0mself\u001b[0m\u001b[1;33m,\u001b[0m \u001b[0mcalc_transform\u001b[0m\u001b[1;33m=\u001b[0m\u001b[1;32mTrue\u001b[0m\u001b[1;33m,\u001b[0m \u001b[1;33m**\u001b[0m\u001b[0mkwargs\u001b[0m\u001b[1;33m)\u001b[0m\u001b[1;33m:\u001b[0m\u001b[1;33m\u001b[0m\u001b[1;33m\u001b[0m\u001b[0m\n\u001b[1;32m--> 416\u001b[1;33m         \u001b[1;32mreturn\u001b[0m \u001b[0m_jordan_form\u001b[0m\u001b[1;33m(\u001b[0m\u001b[0mself\u001b[0m\u001b[1;33m,\u001b[0m \u001b[0mcalc_transform\u001b[0m\u001b[1;33m=\u001b[0m\u001b[0mcalc_transform\u001b[0m\u001b[1;33m,\u001b[0m \u001b[1;33m**\u001b[0m\u001b[0mkwargs\u001b[0m\u001b[1;33m)\u001b[0m\u001b[1;33m\u001b[0m\u001b[1;33m\u001b[0m\u001b[0m\n\u001b[0m\u001b[0;32m    417\u001b[0m \u001b[1;33m\u001b[0m\u001b[0m\n",
      "\u001b[1;32mD:\\User\\Rojar\\Documents\\Anaconda\\lib\\site-packages\\sympy\\matrices\\eigen.py\u001b[0m in \u001b[0;36m_jordan_form\u001b[1;34m(M, calc_transform, chop)\u001b[0m\n\u001b[0;32m   1189\u001b[0m     \u001b[1;31m# first calculate the jordan block structure\u001b[0m\u001b[1;33m\u001b[0m\u001b[1;33m\u001b[0m\u001b[0m\n\u001b[1;32m-> 1190\u001b[1;33m     \u001b[0meigs\u001b[0m \u001b[1;33m=\u001b[0m \u001b[0mmat\u001b[0m\u001b[1;33m.\u001b[0m\u001b[0meigenvals\u001b[0m\u001b[1;33m(\u001b[0m\u001b[1;33m)\u001b[0m\u001b[1;33m\u001b[0m\u001b[1;33m\u001b[0m\u001b[0m\n\u001b[0m\u001b[0;32m   1191\u001b[0m \u001b[1;33m\u001b[0m\u001b[0m\n",
      "\u001b[1;32mD:\\User\\Rojar\\Documents\\Anaconda\\lib\\site-packages\\sympy\\matrices\\matrices.py\u001b[0m in \u001b[0;36meigenvals\u001b[1;34m(self, error_when_incomplete, **flags)\u001b[0m\n\u001b[0;32m    375\u001b[0m     \u001b[1;32mdef\u001b[0m \u001b[0meigenvals\u001b[0m\u001b[1;33m(\u001b[0m\u001b[0mself\u001b[0m\u001b[1;33m,\u001b[0m \u001b[0merror_when_incomplete\u001b[0m\u001b[1;33m=\u001b[0m\u001b[1;32mTrue\u001b[0m\u001b[1;33m,\u001b[0m \u001b[1;33m**\u001b[0m\u001b[0mflags\u001b[0m\u001b[1;33m)\u001b[0m\u001b[1;33m:\u001b[0m\u001b[1;33m\u001b[0m\u001b[1;33m\u001b[0m\u001b[0m\n\u001b[1;32m--> 376\u001b[1;33m         \u001b[1;32mreturn\u001b[0m \u001b[0m_eigenvals\u001b[0m\u001b[1;33m(\u001b[0m\u001b[0mself\u001b[0m\u001b[1;33m,\u001b[0m \u001b[0merror_when_incomplete\u001b[0m\u001b[1;33m=\u001b[0m\u001b[0merror_when_incomplete\u001b[0m\u001b[1;33m,\u001b[0m \u001b[1;33m**\u001b[0m\u001b[0mflags\u001b[0m\u001b[1;33m)\u001b[0m\u001b[1;33m\u001b[0m\u001b[1;33m\u001b[0m\u001b[0m\n\u001b[0m\u001b[0;32m    377\u001b[0m \u001b[1;33m\u001b[0m\u001b[0m\n",
      "\u001b[1;32mD:\\User\\Rojar\\Documents\\Anaconda\\lib\\site-packages\\sympy\\matrices\\eigen.py\u001b[0m in \u001b[0;36m_eigenvals\u001b[1;34m(M, error_when_incomplete, simplify, multiple, rational, **flags)\u001b[0m\n\u001b[0;32m    172\u001b[0m             **flags)\n\u001b[1;32m--> 173\u001b[1;33m     return _eigenvals_dict(\n\u001b[0m\u001b[0;32m    174\u001b[0m         \u001b[0mM\u001b[0m\u001b[1;33m,\u001b[0m \u001b[0merror_when_incomplete\u001b[0m\u001b[1;33m=\u001b[0m\u001b[0merror_when_incomplete\u001b[0m\u001b[1;33m,\u001b[0m \u001b[0msimplify\u001b[0m\u001b[1;33m=\u001b[0m\u001b[0msimplify\u001b[0m\u001b[1;33m,\u001b[0m\u001b[1;33m\u001b[0m\u001b[1;33m\u001b[0m\u001b[0m\n",
      "\u001b[1;32mD:\\User\\Rojar\\Documents\\Anaconda\\lib\\site-packages\\sympy\\matrices\\eigen.py\u001b[0m in \u001b[0;36m_eigenvals_dict\u001b[1;34m(M, error_when_incomplete, simplify, **flags)\u001b[0m\n\u001b[0;32m    263\u001b[0m                 \u001b[1;32mif\u001b[0m \u001b[0merror_when_incomplete\u001b[0m\u001b[1;33m:\u001b[0m\u001b[1;33m\u001b[0m\u001b[1;33m\u001b[0m\u001b[0m\n\u001b[1;32m--> 264\u001b[1;33m                     \u001b[1;32mraise\u001b[0m \u001b[0mMatrixError\u001b[0m\u001b[1;33m(\u001b[0m\u001b[0meigenvals_error_message\u001b[0m\u001b[1;33m)\u001b[0m\u001b[1;33m\u001b[0m\u001b[1;33m\u001b[0m\u001b[0m\n\u001b[0m\u001b[0;32m    265\u001b[0m                 \u001b[1;32melse\u001b[0m\u001b[1;33m:\u001b[0m\u001b[1;33m\u001b[0m\u001b[1;33m\u001b[0m\u001b[0m\n",
      "\u001b[1;31mMatrixError\u001b[0m: It is not always possible to express the eigenvalues of a matrix of size 5x5 or higher in radicals. We have CRootOf, but domains other than the rationals are not currently supported. If there are no symbols in the matrix, it should still be possible to compute numeric approximations of the eigenvalues using M.evalf().eigenvals() or M.charpoly().nroots().",
      "\nDuring handling of the above exception, another exception occurred:\n",
      "\u001b[1;31mNotImplementedError\u001b[0m                       Traceback (most recent call last)",
      "\u001b[1;32m~\\AppData\\Local\\Temp/ipykernel_12360/573402047.py\u001b[0m in \u001b[0;36m<module>\u001b[1;34m\u001b[0m\n\u001b[1;32m----> 1\u001b[1;33m \u001b[0mU\u001b[0m \u001b[1;33m=\u001b[0m \u001b[0mHh\u001b[0m\u001b[1;33m.\u001b[0m\u001b[0mexp\u001b[0m\u001b[1;33m(\u001b[0m\u001b[1;33m)\u001b[0m\u001b[1;33m\u001b[0m\u001b[1;33m\u001b[0m\u001b[0m\n\u001b[0m\u001b[0;32m      2\u001b[0m \u001b[0mU\u001b[0m\u001b[1;33m\u001b[0m\u001b[1;33m\u001b[0m\u001b[0m\n",
      "\u001b[1;32mD:\\User\\Rojar\\Documents\\Anaconda\\lib\\site-packages\\sympy\\matrices\\matrices.py\u001b[0m in \u001b[0;36mexp\u001b[1;34m(self)\u001b[0m\n\u001b[0;32m   1644\u001b[0m             \u001b[0mcells\u001b[0m \u001b[1;33m=\u001b[0m \u001b[0mJ\u001b[0m\u001b[1;33m.\u001b[0m\u001b[0mget_diag_blocks\u001b[0m\u001b[1;33m(\u001b[0m\u001b[1;33m)\u001b[0m\u001b[1;33m\u001b[0m\u001b[1;33m\u001b[0m\u001b[0m\n\u001b[0;32m   1645\u001b[0m         \u001b[1;32mexcept\u001b[0m \u001b[0mMatrixError\u001b[0m\u001b[1;33m:\u001b[0m\u001b[1;33m\u001b[0m\u001b[1;33m\u001b[0m\u001b[0m\n\u001b[1;32m-> 1646\u001b[1;33m             raise NotImplementedError(\n\u001b[0m\u001b[0;32m   1647\u001b[0m                 \"Exponentiation is implemented only for matrices for which the Jordan normal form can be computed\")\n\u001b[0;32m   1648\u001b[0m \u001b[1;33m\u001b[0m\u001b[0m\n",
      "\u001b[1;31mNotImplementedError\u001b[0m: Exponentiation is implemented only for matrices for which the Jordan normal form can be computed"
     ]
    }
   ],
   "source": [
    "U = Hh.exp()\n",
    "U"
   ]
  },
  {
   "cell_type": "code",
   "execution_count": 100,
   "id": "8822657c",
   "metadata": {
    "scrolled": true
   },
   "outputs": [
    {
     "data": {
      "text/latex": [
       "$\\displaystyle \\left[\\begin{array}{cccccccccccccccc}0 & - 0.5 i & - 0.5 i & 0 & 0 & 0 & 0 & 0 & 0 & 0 & 0 & 0 & 0 & 0 & 0 & 0\\\\- 0.5 i & - 2.0 i & - 1.0 i & - 0.5 i & - 0.2 i & 0 & 0 & 0 & - 0.23 i & 0 & 0 & 0 & 0 & 0 & 0 & 0\\\\- 0.5 i & - 1.0 i & - 1.0 i & - 0.5 i & - 0.2 i & 0 & 0 & 0 & - 0.2 i & 0 & 0 & 0 & 0 & 0 & 0 & 0\\\\0 & - 0.5 i & - 0.5 i & - 3.0 i & 0 & - 0.2 i & - 0.2 i & 0 & 0 & - 0.2 i & - 0.23 i & 0 & 0 & 0 & 0 & 0\\\\0 & - 0.2 i & - 0.2 i & 0 & 0 & - 0.5 i & - 0.5 i & 0 & 0 & 0 & 0 & 0 & 0 & 0 & 0 & 0\\\\0 & 0 & 0 & - 0.2 i & - 0.5 i & - 2.0 i & - 1.0 i & - 0.5 i & 0 & 0 & 0 & 0 & - 0.23 i & 0 & 0 & 0\\\\0 & 0 & 0 & - 0.2 i & - 0.5 i & - 1.0 i & - 1.0 i & - 0.5 i & 0 & 0 & 0 & 0 & - 0.2 i & 0 & 0 & 0\\\\0 & 0 & 0 & 0 & 0 & - 0.5 i & - 0.5 i & - 3.0 i & 0 & 0 & 0 & 0 & 0 & - 0.2 i & - 0.23 i & 0\\\\0 & - 0.23 i & - 0.2 i & 0 & 0 & 0 & 0 & 0 & 0 & - 0.5 i & - 0.5 i & 0 & 0 & 0 & 0 & 0\\\\0 & 0 & 0 & - 0.2 i & 0 & 0 & 0 & 0 & - 0.5 i & - 2.0 i & - 1.0 i & - 0.5 i & - 0.2 i & 0 & 0 & 0\\\\0 & 0 & 0 & - 0.23 i & 0 & 0 & 0 & 0 & - 0.5 i & - 1.0 i & - 1.0 i & - 0.5 i & - 0.2 i & 0 & 0 & 0\\\\0 & 0 & 0 & 0 & 0 & 0 & 0 & 0 & 0 & - 0.5 i & - 0.5 i & - 3.0 i & 0 & - 0.2 i & - 0.2 i & 0\\\\0 & 0 & 0 & 0 & 0 & - 0.23 i & - 0.2 i & 0 & 0 & - 0.2 i & - 0.2 i & 0 & 0 & - 0.5 i & - 0.5 i & 0\\\\0 & 0 & 0 & 0 & 0 & 0 & 0 & - 0.2 i & 0 & 0 & 0 & - 0.2 i & - 0.5 i & - 2.0 i & - 1.0 i & - 0.5 i\\\\0 & 0 & 0 & 0 & 0 & 0 & 0 & - 0.23 i & 0 & 0 & 0 & - 0.2 i & - 0.5 i & - 1.0 i & - 1.0 i & - 0.5 i\\\\0 & 0 & 0 & 0 & 0 & 0 & 0 & 0 & 0 & 0 & 0 & 0 & 0 & - 0.5 i & - 0.5 i & - 3.0 i\\end{array}\\right]$"
      ],
      "text/plain": [
       "⎡  0     -0.5⋅ⅈ   -0.5⋅ⅈ     0       0        0       0        0        0     \n",
       "⎢                                                                             \n",
       "⎢-0.5⋅ⅈ  -2.0⋅ⅈ   -1.0⋅ⅈ  -0.5⋅ⅈ   -0.2⋅ⅈ     0       0        0     -0.23⋅ⅈ  \n",
       "⎢                                                                             \n",
       "⎢-0.5⋅ⅈ  -1.0⋅ⅈ   -1.0⋅ⅈ  -0.5⋅ⅈ   -0.2⋅ⅈ     0       0        0     -0.2⋅ⅈ   \n",
       "⎢                                                                             \n",
       "⎢  0     -0.5⋅ⅈ   -0.5⋅ⅈ  -3.0⋅ⅈ     0     -0.2⋅ⅈ   -0.2⋅ⅈ     0        0     \n",
       "⎢                                                                             \n",
       "⎢  0     -0.2⋅ⅈ   -0.2⋅ⅈ     0       0     -0.5⋅ⅈ   -0.5⋅ⅈ     0        0     \n",
       "⎢                                                                             \n",
       "⎢  0        0       0     -0.2⋅ⅈ   -0.5⋅ⅈ  -2.0⋅ⅈ   -1.0⋅ⅈ  -0.5⋅ⅈ      0     \n",
       "⎢                                                                             \n",
       "⎢  0        0       0     -0.2⋅ⅈ   -0.5⋅ⅈ  -1.0⋅ⅈ   -1.0⋅ⅈ  -0.5⋅ⅈ      0     \n",
       "⎢                                                                             \n",
       "⎢  0        0       0        0       0     -0.5⋅ⅈ   -0.5⋅ⅈ  -3.0⋅ⅈ      0     \n",
       "⎢                                                                             \n",
       "⎢  0     -0.23⋅ⅈ  -0.2⋅ⅈ     0       0        0       0        0        0     \n",
       "⎢                                                                             \n",
       "⎢  0        0       0     -0.2⋅ⅈ     0        0       0        0     -0.5⋅ⅈ   \n",
       "⎢                                                                             \n",
       "⎢  0        0       0     -0.23⋅ⅈ    0        0       0        0     -0.5⋅ⅈ   \n",
       "⎢                                                                             \n",
       "⎢  0        0       0        0       0        0       0        0        0     \n",
       "⎢                                                                             \n",
       "⎢  0        0       0        0       0     -0.23⋅ⅈ  -0.2⋅ⅈ     0        0     \n",
       "⎢                                                                             \n",
       "⎢  0        0       0        0       0        0       0     -0.2⋅ⅈ      0     \n",
       "⎢                                                                             \n",
       "⎢  0        0       0        0       0        0       0     -0.23⋅ⅈ     0     \n",
       "⎢                                                                             \n",
       "⎣  0        0       0        0       0        0       0        0        0     \n",
       "\n",
       "  0        0       0        0       0        0       0   ⎤\n",
       "                                                         ⎥\n",
       "  0        0       0        0       0        0       0   ⎥\n",
       "                                                         ⎥\n",
       "  0        0       0        0       0        0       0   ⎥\n",
       "                                                         ⎥\n",
       "-0.2⋅ⅈ  -0.23⋅ⅈ    0        0       0        0       0   ⎥\n",
       "                                                         ⎥\n",
       "  0        0       0        0       0        0       0   ⎥\n",
       "                                                         ⎥\n",
       "  0        0       0     -0.23⋅ⅈ    0        0       0   ⎥\n",
       "                                                         ⎥\n",
       "  0        0       0     -0.2⋅ⅈ     0        0       0   ⎥\n",
       "                                                         ⎥\n",
       "  0        0       0        0     -0.2⋅ⅈ  -0.23⋅ⅈ    0   ⎥\n",
       "                                                         ⎥\n",
       "-0.5⋅ⅈ  -0.5⋅ⅈ     0        0       0        0       0   ⎥\n",
       "                                                         ⎥\n",
       "-2.0⋅ⅈ  -1.0⋅ⅈ   -0.5⋅ⅈ  -0.2⋅ⅈ     0        0       0   ⎥\n",
       "                                                         ⎥\n",
       "-1.0⋅ⅈ  -1.0⋅ⅈ   -0.5⋅ⅈ  -0.2⋅ⅈ     0        0       0   ⎥\n",
       "                                                         ⎥\n",
       "-0.5⋅ⅈ  -0.5⋅ⅈ   -3.0⋅ⅈ     0     -0.2⋅ⅈ  -0.2⋅ⅈ     0   ⎥\n",
       "                                                         ⎥\n",
       "-0.2⋅ⅈ  -0.2⋅ⅈ     0        0     -0.5⋅ⅈ  -0.5⋅ⅈ     0   ⎥\n",
       "                                                         ⎥\n",
       "  0        0     -0.2⋅ⅈ  -0.5⋅ⅈ   -2.0⋅ⅈ  -1.0⋅ⅈ   -0.5⋅ⅈ⎥\n",
       "                                                         ⎥\n",
       "  0        0     -0.2⋅ⅈ  -0.5⋅ⅈ   -1.0⋅ⅈ  -1.0⋅ⅈ   -0.5⋅ⅈ⎥\n",
       "                                                         ⎥\n",
       "  0        0       0        0     -0.5⋅ⅈ  -0.5⋅ⅈ   -3.0⋅ⅈ⎦"
      ]
     },
     "execution_count": 100,
     "metadata": {},
     "output_type": "execute_result"
    }
   ],
   "source": [
    "Hh.simplify()\n",
    "Hh"
   ]
  },
  {
   "cell_type": "code",
   "execution_count": null,
   "id": "85185d7a",
   "metadata": {},
   "outputs": [],
   "source": []
  },
  {
   "cell_type": "code",
   "execution_count": 1,
   "id": "d345b388",
   "metadata": {},
   "outputs": [
    {
     "ename": "NameError",
     "evalue": "name 'np' is not defined",
     "output_type": "error",
     "traceback": [
      "\u001b[1;31m---------------------------------------------------------------------------\u001b[0m",
      "\u001b[1;31mNameError\u001b[0m                                 Traceback (most recent call last)",
      "\u001b[1;32m~\\AppData\\Local\\Temp/ipykernel_7764/3882665310.py\u001b[0m in \u001b[0;36m<module>\u001b[1;34m\u001b[0m\n\u001b[1;32m----> 1\u001b[1;33m psiinitial = np.array([1],[0],[0],[0],[0],[0],[0],[0],[0],[0],[0],[0],[0]\n\u001b[0m\u001b[0;32m      2\u001b[0m                      ,[0],[0],[0])\n",
      "\u001b[1;31mNameError\u001b[0m: name 'np' is not defined"
     ]
    }
   ],
   "source": [
    "psiinitial = np.array([1],[0],[0],[0],[0],[0],[0],[0],[0],[0],[0],[0],[0]\n",
    "                     ,[0],[0],[0])"
   ]
  },
  {
   "cell_type": "code",
   "execution_count": null,
   "id": "c8787fcc",
   "metadata": {},
   "outputs": [],
   "source": []
  }
 ],
 "metadata": {
  "kernelspec": {
   "display_name": "Python 3 (ipykernel)",
   "language": "python",
   "name": "python3"
  },
  "language_info": {
   "codemirror_mode": {
    "name": "ipython",
    "version": 3
   },
   "file_extension": ".py",
   "mimetype": "text/x-python",
   "name": "python",
   "nbconvert_exporter": "python",
   "pygments_lexer": "ipython3",
   "version": "3.9.7"
  }
 },
 "nbformat": 4,
 "nbformat_minor": 5
}
